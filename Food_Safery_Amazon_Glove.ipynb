{
  "nbformat": 4,
  "nbformat_minor": 0,
  "metadata": {
    "colab": {
      "name": "Food_Safery_Amazon_Glove.ipynb",
      "provenance": [],
      "mount_file_id": "1p2lsKUGpaeKdCyF2U3FFecH-clcRbk1o",
      "authorship_tag": "ABX9TyPNyA0wmPGB2HoQJGYif5Q9",
      "include_colab_link": true
    },
    "kernelspec": {
      "name": "python3",
      "display_name": "Python 3"
    }
  },
  "cells": [
    {
      "cell_type": "markdown",
      "metadata": {
        "id": "view-in-github",
        "colab_type": "text"
      },
      "source": [
        "<a href=\"https://colab.research.google.com/github/solharsh/Company_Project_Food_Safety/blob/master/Food_Safery_Amazon_Glove.ipynb\" target=\"_parent\"><img src=\"https://colab.research.google.com/assets/colab-badge.svg\" alt=\"Open In Colab\"/></a>"
      ]
    },
    {
      "cell_type": "code",
      "metadata": {
        "id": "FFuxscF0xuJ6",
        "colab_type": "code",
        "colab": {
          "base_uri": "https://localhost:8080/",
          "height": 70
        },
        "outputId": "7b1926cd-7b83-4691-dfd3-44b60f23317a"
      },
      "source": [
        "import pandas as pd\n",
        "import numpy as np\n",
        "pd.options.display.max_columns = 999\n",
        "import matplotlib\n",
        "import matplotlib.pyplot as plt\n",
        "import seaborn as sns\n",
        "%matplotlib inline\n",
        "import warnings\n",
        "import nltk\n",
        "import re\n",
        "warnings.filterwarnings('ignore')\n",
        "from sklearn.metrics import confusion_matrix\n",
        "from sklearn.metrics import average_precision_score\n",
        "from sklearn.metrics import precision_recall_curve\n",
        "from sklearn.metrics  import accuracy_score\n",
        "from sklearn.metrics import recall_score\n",
        "from sklearn.feature_extraction.text import TfidfVectorizer\n",
        "from sklearn.ensemble import RandomForestClassifier\n",
        "from sklearn.linear_model import LogisticRegression\n",
        "from sklearn.naive_bayes import GaussianNB\n",
        "from nltk.sentiment.vader import SentimentIntensityAnalyzer"
      ],
      "execution_count": 1,
      "outputs": [
        {
          "output_type": "stream",
          "text": [
            "/usr/local/lib/python3.6/dist-packages/statsmodels/tools/_testing.py:19: FutureWarning: pandas.util.testing is deprecated. Use the functions in the public API at pandas.testing instead.\n",
            "  import pandas.util.testing as tm\n"
          ],
          "name": "stderr"
        }
      ]
    },
    {
      "cell_type": "code",
      "metadata": {
        "id": "eGbKGTaGxz1T",
        "colab_type": "code",
        "colab": {}
      },
      "source": [
        "## Import GloVe\n",
        "\t\n",
        "with open(\"/content/drive/My Drive/Capstone Project - NLP/NLP-master/nlp-getting-started/glove.6B.100d.txt\", \"r\") as lines:\t\n",
        "    w2v = {line.split()[0]: np.array(map(float, line.split()[1:]))\n",
        "           for line in lines}"
      ],
      "execution_count": 0,
      "outputs": []
    },
    {
      "cell_type": "code",
      "metadata": {
        "id": "MGBWwMiwyev2",
        "colab_type": "code",
        "colab": {
          "base_uri": "https://localhost:8080/",
          "height": 50
        },
        "outputId": "d777b07d-0c94-4e10-c7b3-0d63ef083ccf"
      },
      "source": [
        "def loadGloveModel(gloveFile):\n",
        "    print (\"Loading Glove Model\")\n",
        "    f = open(gloveFile,'r')\n",
        "    model = {}\n",
        "    for line in f:\n",
        "        splitLine = line.split()\n",
        "        word = splitLine[0]\n",
        "        embedding = np.array([float(val) for val in splitLine[1:]])\n",
        "        model[word] = embedding\n",
        "    print( \"Done.\",len(model),\" words loaded!\")\n",
        "    return model\n",
        "w2v_v2 = loadGloveModel('/content/drive/My Drive/Capstone Project - NLP/NLP-master/nlp-getting-started/glove.6B.100d.txt')"
      ],
      "execution_count": 5,
      "outputs": [
        {
          "output_type": "stream",
          "text": [
            "Loading Glove Model\n",
            "Done. 400000  words loaded!\n"
          ],
          "name": "stdout"
        }
      ]
    },
    {
      "cell_type": "code",
      "metadata": {
        "id": "ytAf7rP0ylCF",
        "colab_type": "code",
        "colab": {
          "base_uri": "https://localhost:8080/",
          "height": 33
        },
        "outputId": "dafba7ed-0b8f-4144-9d21-163e54e5f5a8"
      },
      "source": [
        "len(w2v_v2['the'])"
      ],
      "execution_count": 6,
      "outputs": [
        {
          "output_type": "execute_result",
          "data": {
            "text/plain": [
              "100"
            ]
          },
          "metadata": {
            "tags": []
          },
          "execution_count": 6
        }
      ]
    },
    {
      "cell_type": "code",
      "metadata": {
        "id": "7sYU1qfLyr8j",
        "colab_type": "code",
        "colab": {}
      },
      "source": [
        "## Import Train and Test Data\n",
        "train = pd.read_csv('/content/drive/My Drive/Food_Safety_Amazon/training.csv',sep=None, header=0, index_col=False, parse_dates=['Timestamp'],engine='python')\n",
        "test = pd.read_csv('/content/drive/My Drive/Food_Safety_Amazon/public_test_features.csv',sep=None, header=0, index_col=False, parse_dates=['Timestamp'],engine='python')"
      ],
      "execution_count": 0,
      "outputs": []
    },
    {
      "cell_type": "code",
      "metadata": {
        "id": "1gGQVZ0_y23M",
        "colab_type": "code",
        "colab": {}
      },
      "source": [
        "## Special Characters \n",
        "regex = re.compile('[^a-zA-Z\\']')"
      ],
      "execution_count": 0,
      "outputs": []
    },
    {
      "cell_type": "code",
      "metadata": {
        "id": "yUa0Wv4FzOfF",
        "colab_type": "code",
        "colab": {
          "base_uri": "https://localhost:8080/",
          "height": 214
        },
        "outputId": "d6ea2558-c07b-4446-911a-66bb27cea888"
      },
      "source": [
        "train.head(1)"
      ],
      "execution_count": 12,
      "outputs": [
        {
          "output_type": "execute_result",
          "data": {
            "text/html": [
              "<div>\n",
              "<style scoped>\n",
              "    .dataframe tbody tr th:only-of-type {\n",
              "        vertical-align: middle;\n",
              "    }\n",
              "\n",
              "    .dataframe tbody tr th {\n",
              "        vertical-align: top;\n",
              "    }\n",
              "\n",
              "    .dataframe thead th {\n",
              "        text-align: right;\n",
              "    }\n",
              "</style>\n",
              "<table border=\"1\" class=\"dataframe\">\n",
              "  <thead>\n",
              "    <tr style=\"text-align: right;\">\n",
              "      <th></th>\n",
              "      <th>ID</th>\n",
              "      <th>Product ASIN</th>\n",
              "      <th>Review star rating</th>\n",
              "      <th>Food Safety Issue</th>\n",
              "      <th>Review Text</th>\n",
              "      <th>Review Title</th>\n",
              "      <th>@nlp.sentenceCount</th>\n",
              "      <th>@product.brand</th>\n",
              "      <th>@product.countryOfOrigin</th>\n",
              "      <th>Product Width</th>\n",
              "      <th>Product Length</th>\n",
              "      <th>Product Height</th>\n",
              "      <th>Timestamp</th>\n",
              "      <th>Product Title (Analyzed)</th>\n",
              "    </tr>\n",
              "  </thead>\n",
              "  <tbody>\n",
              "    <tr>\n",
              "      <th>0</th>\n",
              "      <td>2024</td>\n",
              "      <td>B004DSMGXE</td>\n",
              "      <td>1</td>\n",
              "      <td>1</td>\n",
              "      <td>very stale!  went into garbage....</td>\n",
              "      <td>went into garbage..</td>\n",
              "      <td>3</td>\n",
              "      <td>Ferrara</td>\n",
              "      <td>MX</td>\n",
              "      <td>NaN</td>\n",
              "      <td>NaN</td>\n",
              "      <td>NaN</td>\n",
              "      <td>2017-10-29 09:43:00</td>\n",
              "      <td>Wrapped Vanilla Caramel Squares 2lb, 2 Pound</td>\n",
              "    </tr>\n",
              "  </tbody>\n",
              "</table>\n",
              "</div>"
            ],
            "text/plain": [
              "     ID Product ASIN  Review star rating  Food Safety Issue  \\\n",
              "0  2024   B004DSMGXE                   1                  1   \n",
              "\n",
              "                          Review Text         Review Title  \\\n",
              "0  very stale!  went into garbage....  went into garbage..   \n",
              "\n",
              "   @nlp.sentenceCount @product.brand @product.countryOfOrigin  Product Width  \\\n",
              "0                   3        Ferrara                       MX            NaN   \n",
              "\n",
              "   Product Length  Product Height           Timestamp  \\\n",
              "0             NaN             NaN 2017-10-29 09:43:00   \n",
              "\n",
              "                       Product Title (Analyzed)  \n",
              "0  Wrapped Vanilla Caramel Squares 2lb, 2 Pound  "
            ]
          },
          "metadata": {
            "tags": []
          },
          "execution_count": 12
        }
      ]
    },
    {
      "cell_type": "code",
      "metadata": {
        "id": "iaJbVP7bzqQW",
        "colab_type": "code",
        "colab": {
          "base_uri": "https://localhost:8080/",
          "height": 50
        },
        "outputId": "af75ca6d-5c90-423f-eee2-a97630b2cbbc"
      },
      "source": [
        "## Import Stop Words\n",
        "nltk.download('stopwords')\n",
        "from nltk.corpus import stopwords\n",
        "stop_words = set(stopwords.words('english'))\n",
        "stop_words.remove('not')"
      ],
      "execution_count": 18,
      "outputs": [
        {
          "output_type": "stream",
          "text": [
            "[nltk_data] Downloading package stopwords to /root/nltk_data...\n",
            "[nltk_data]   Unzipping corpora/stopwords.zip.\n"
          ],
          "name": "stdout"
        }
      ]
    },
    {
      "cell_type": "code",
      "metadata": {
        "id": "dmASIW5dzGt_",
        "colab_type": "code",
        "colab": {}
      },
      "source": [
        "## Lower Case All Text Data \n",
        "\t\n",
        "train['Review Text'] = train['Review Text'].apply(lambda x:str(x).lower())\n",
        "train['Review Title'] = train['Review Title'].apply(lambda x:str(x).lower())\n",
        "train['@product.brand'] = train['@product.brand'].apply(lambda x:str(x).lower())\n",
        "train['Product Title (Analyzed)'] = train['Product Title (Analyzed)'].apply(lambda x:str(x).lower())\n",
        "test['Review Text'] = test['Review Text'].apply(lambda x:str(x).lower())\n",
        "test['Review Title'] = test['Review Title'].apply(lambda x:str(x).lower())\n",
        "test['@product.brand'] = test['@product.brand'].apply(lambda x:str(x).lower())\t\n",
        "test['Product Title (Analyzed)'] = test['Product Title (Analyzed)'].apply(lambda x:str(x).lower())\n",
        "\n",
        "## Remove Speical Characters\n",
        "train['Review Text'] = train['Review Text'].apply(lambda x:regex.sub(' ',str(x)))\n",
        "train['Review Title'] = train['Review Title'].apply(lambda x:regex.sub(' ',str(x)))\n",
        "train['@product.brand'] = train['@product.brand'].apply(lambda x:regex.sub(' ',str(x)))\n",
        "train['Product Title (Analyzed)'] = train['Product Title (Analyzed)'].apply(lambda x:regex.sub(' ',str(x)))\n",
        "test['Review Text'] = test['Review Text'].apply(lambda x:regex.sub(' ',str(x)))\n",
        "test['Review Title'] = test['Review Title'].apply(lambda x:regex.sub(' ',str(x)))\n",
        "test['@product.brand'] = test['@product.brand'].apply(lambda x:regex.sub(' ',str(x)))\n",
        "test['Product Title (Analyzed)'] = test['Product Title (Analyzed)'].apply(lambda x:regex.sub(' ',str(x)))"
      ],
      "execution_count": 0,
      "outputs": []
    },
    {
      "cell_type": "code",
      "metadata": {
        "id": "J9Wl9l9gzNN3",
        "colab_type": "code",
        "colab": {}
      },
      "source": [
        "## Stop Word Remover from tokenized list\n",
        "from nltk.tokenize import word_tokenize \n",
        "def removeStopWords(sentence):\n",
        "    tok = word_tokenize(sentence)\t\n",
        "    return [w for w in tok if w not in stop_words]\n",
        "\n",
        "## Adjective Tokenizer\n",
        "def adjToken(sentence):\n",
        "    return [e1 for (e1,e2) in nltk.pos_tag(nltk.word_tokenize(sentence)) if (e2 == 'JJ')|(e2=='JJS')|(e2=='JJR') ]"
      ],
      "execution_count": 0,
      "outputs": []
    },
    {
      "cell_type": "code",
      "metadata": {
        "id": "3kAHgoovzfVM",
        "colab_type": "code",
        "colab": {
          "base_uri": "https://localhost:8080/",
          "height": 100
        },
        "outputId": "687d6255-2cd7-4b33-9c96-b31cfaadd8af"
      },
      "source": [
        "## Tokenize Text and Remove Stop Words\n",
        "nltk.download('punkt')\t\n",
        "nltk.download('averaged_perceptron_tagger')\n",
        "train['text token'] = train['Review Text'].apply(lambda x:removeStopWords(str(x)))\n",
        "train['title token'] = train['Review Title'].apply(lambda x:removeStopWords(str(x)))\n",
        "train['brand token'] = train['@product.brand'].apply(lambda x:removeStopWords(str(x)))\n",
        "train['product title token'] = train['Product Title (Analyzed)'].apply(lambda x:removeStopWords(str(x)))\n",
        "test['text token'] = test['Review Text'].apply(lambda x:removeStopWords(str(x)))\n",
        "test['title token'] = test['Review Title'].apply(lambda x:removeStopWords(str(x)))\n",
        "test['brand token'] = test['@product.brand'].apply(lambda x:removeStopWords(str(x)))\n",
        "test['product title token'] = test['Product Title (Analyzed)'].apply(lambda x:removeStopWords(str(x)))\n",
        "\t\n",
        "## Adjectives Only ##\n",
        "train['adj token'] = train['Review Text'].apply(lambda x:adjToken(x))\n",
        "test['adj token'] = test['Review Text'].apply(lambda x:adjToken(x))"
      ],
      "execution_count": 21,
      "outputs": [
        {
          "output_type": "stream",
          "text": [
            "[nltk_data] Downloading package punkt to /root/nltk_data...\n",
            "[nltk_data]   Package punkt is already up-to-date!\n",
            "[nltk_data] Downloading package averaged_perceptron_tagger to\n",
            "[nltk_data]     /root/nltk_data...\n",
            "[nltk_data]   Unzipping taggers/averaged_perceptron_tagger.zip.\n"
          ],
          "name": "stdout"
        }
      ]
    },
    {
      "cell_type": "code",
      "metadata": {
        "id": "6aQWvKCxzjau",
        "colab_type": "code",
        "colab": {}
      },
      "source": [
        "## Has Words like Stale, Not, Disappointed, Good -- and combinations \n",
        "\t\n",
        "train['has stale'] = train['text token'].apply(lambda x:(1 if 'stale' in x else 0))\n",
        "train['has not'] = train['text token'].apply(lambda x:(1 if 'not' in x else 0))\n",
        "train['has disappointed'] = train['text token'].apply(lambda x:(1 if 'disappointed' in x else 0))\n",
        "train['has good'] = train['text token'].apply(lambda x:(1 if 'good' in x else 0))\n",
        "train['has great'] = train['text token'].apply(lambda x:(1 if 'great' in x else 0))\n",
        "\t\n",
        "test['has stale'] = test['text token'].apply(lambda x:(1 if 'stale' in x else 0))\n",
        "test['has not'] = test['text token'].apply(lambda x:(1 if 'not' in x else 0))\n",
        "test['has disappointed'] = test['text token'].apply(lambda x:(1 if 'disappointed' in x else 0))\n",
        "test['has good'] = test['text token'].apply(lambda x:(1 if 'good' in x else 0))\n",
        "test['has great'] = test['text token'].apply(lambda x:(1 if 'great' in x else 0))"
      ],
      "execution_count": 0,
      "outputs": []
    },
    {
      "cell_type": "code",
      "metadata": {
        "id": "kDpVr4sMz8Il",
        "colab_type": "code",
        "colab": {
          "base_uri": "https://localhost:8080/",
          "height": 33
        },
        "outputId": "2e73b2b2-00df-4393-cba1-9436a0433e62"
      },
      "source": [
        "## Vader Sentiment on Review title\n",
        "nltk.download('vader_lexicon')\n",
        "sid = SentimentIntensityAnalyzer()\n",
        "train['pos'] = train['Review Title'].apply(lambda x:sid.polarity_scores(x)['pos'])\n",
        "train['neg'] = train['Review Title'].apply(lambda x:sid.polarity_scores(x)['neg'])\t\n",
        "train['neu'] = train['Review Title'].apply(lambda x:sid.polarity_scores(x)['neu'])\n",
        "\n",
        "test['pos'] = test['Review Title'].apply(lambda x:sid.polarity_scores(x)['pos'])\n",
        "test['neg'] = test['Review Title'].apply(lambda x:sid.polarity_scores(x)['neg'])\n",
        "test['neu'] = test['Review Title'].apply(lambda x:sid.polarity_scores(x)['neu'])"
      ],
      "execution_count": 24,
      "outputs": [
        {
          "output_type": "stream",
          "text": [
            "[nltk_data] Downloading package vader_lexicon to /root/nltk_data...\n"
          ],
          "name": "stdout"
        }
      ]
    },
    {
      "cell_type": "code",
      "metadata": {
        "id": "fQ_-OkuO0Lmq",
        "colab_type": "code",
        "colab": {
          "base_uri": "https://localhost:8080/",
          "height": 197
        },
        "outputId": "b73b4587-b5c5-4a50-8b25-2208f9bcd59e"
      },
      "source": [
        "train.head(1)"
      ],
      "execution_count": 28,
      "outputs": [
        {
          "output_type": "execute_result",
          "data": {
            "text/html": [
              "<div>\n",
              "<style scoped>\n",
              "    .dataframe tbody tr th:only-of-type {\n",
              "        vertical-align: middle;\n",
              "    }\n",
              "\n",
              "    .dataframe tbody tr th {\n",
              "        vertical-align: top;\n",
              "    }\n",
              "\n",
              "    .dataframe thead th {\n",
              "        text-align: right;\n",
              "    }\n",
              "</style>\n",
              "<table border=\"1\" class=\"dataframe\">\n",
              "  <thead>\n",
              "    <tr style=\"text-align: right;\">\n",
              "      <th></th>\n",
              "      <th>ID</th>\n",
              "      <th>Product ASIN</th>\n",
              "      <th>Review star rating</th>\n",
              "      <th>Food Safety Issue</th>\n",
              "      <th>Review Text</th>\n",
              "      <th>Review Title</th>\n",
              "      <th>@nlp.sentenceCount</th>\n",
              "      <th>@product.brand</th>\n",
              "      <th>@product.countryOfOrigin</th>\n",
              "      <th>Product Width</th>\n",
              "      <th>Product Length</th>\n",
              "      <th>Product Height</th>\n",
              "      <th>Timestamp</th>\n",
              "      <th>Product Title (Analyzed)</th>\n",
              "      <th>text token</th>\n",
              "      <th>title token</th>\n",
              "      <th>brand token</th>\n",
              "      <th>product title token</th>\n",
              "      <th>adj token</th>\n",
              "      <th>has stale</th>\n",
              "      <th>has not</th>\n",
              "      <th>has disappointed</th>\n",
              "      <th>has good</th>\n",
              "      <th>has great</th>\n",
              "      <th>pos</th>\n",
              "      <th>neg</th>\n",
              "      <th>neu</th>\n",
              "    </tr>\n",
              "  </thead>\n",
              "  <tbody>\n",
              "    <tr>\n",
              "      <th>0</th>\n",
              "      <td>2024</td>\n",
              "      <td>B004DSMGXE</td>\n",
              "      <td>1</td>\n",
              "      <td>1</td>\n",
              "      <td>very stale   went into garbage</td>\n",
              "      <td>went into garbage</td>\n",
              "      <td>3</td>\n",
              "      <td>ferrara</td>\n",
              "      <td>MX</td>\n",
              "      <td>NaN</td>\n",
              "      <td>NaN</td>\n",
              "      <td>NaN</td>\n",
              "      <td>2017-10-29 09:43:00</td>\n",
              "      <td>wrapped vanilla caramel squares  lb    pound</td>\n",
              "      <td>[stale, went, garbage]</td>\n",
              "      <td>[went, garbage]</td>\n",
              "      <td>[ferrara]</td>\n",
              "      <td>[wrapped, vanilla, caramel, squares, lb, pound]</td>\n",
              "      <td>[stale]</td>\n",
              "      <td>1</td>\n",
              "      <td>0</td>\n",
              "      <td>0</td>\n",
              "      <td>0</td>\n",
              "      <td>0</td>\n",
              "      <td>0.0</td>\n",
              "      <td>0.0</td>\n",
              "      <td>1.0</td>\n",
              "    </tr>\n",
              "  </tbody>\n",
              "</table>\n",
              "</div>"
            ],
            "text/plain": [
              "     ID Product ASIN  Review star rating  Food Safety Issue  \\\n",
              "0  2024   B004DSMGXE                   1                  1   \n",
              "\n",
              "                          Review Text         Review Title  \\\n",
              "0  very stale   went into garbage      went into garbage     \n",
              "\n",
              "   @nlp.sentenceCount @product.brand @product.countryOfOrigin  Product Width  \\\n",
              "0                   3        ferrara                       MX            NaN   \n",
              "\n",
              "   Product Length  Product Height           Timestamp  \\\n",
              "0             NaN             NaN 2017-10-29 09:43:00   \n",
              "\n",
              "                       Product Title (Analyzed)              text token  \\\n",
              "0  wrapped vanilla caramel squares  lb    pound  [stale, went, garbage]   \n",
              "\n",
              "       title token brand token  \\\n",
              "0  [went, garbage]   [ferrara]   \n",
              "\n",
              "                               product title token adj token  has stale  \\\n",
              "0  [wrapped, vanilla, caramel, squares, lb, pound]   [stale]          1   \n",
              "\n",
              "   has not  has disappointed  has good  has great  pos  neg  neu  \n",
              "0        0                 0         0          0  0.0  0.0  1.0  "
            ]
          },
          "metadata": {
            "tags": []
          },
          "execution_count": 28
        }
      ]
    },
    {
      "cell_type": "code",
      "metadata": {
        "id": "c8aG0t6Uz_5c",
        "colab_type": "code",
        "colab": {}
      },
      "source": [
        "## Create full text\n",
        "full_text = []\t\n",
        "text_list = []\n",
        "\n",
        "for i in range(len(train['text token'])):\n",
        "    text_string = \"\"\n",
        "    row = train['text token'][i]\n",
        "    for j in range(len(row)):\n",
        "        text_string = text_string + row[j] + \" \"\n",
        "    text_list.append(text_string)\n",
        "    full_text.append(text_string)\t\n",
        "train['text string'] = text_list\n",
        "\n",
        "text_list = []\n",
        "\t\n",
        "for i in range(len(test['text token'])):\n",
        "    text_string = \"\"\n",
        "    row = test['text token'][i]\n",
        "    for j in range(len(row)):\n",
        "        text_string = text_string + row[j] + \" \"\n",
        "    text_list.append(text_string)\n",
        "    full_text.append(text_string)\n",
        "test['text string'] = text_list"
      ],
      "execution_count": 0,
      "outputs": []
    },
    {
      "cell_type": "code",
      "metadata": {
        "id": "rqpb_f100DiE",
        "colab_type": "code",
        "colab": {}
      },
      "source": [
        "class MeanEmbeddingVectorizer(object):\n",
        "    def __init__(self, word2vec, col):\n",
        "        self.word2vec = word2vec\n",
        "        # if a text is empty we should return a vector of zeros\n",
        "        # with the same dimensionality as all the other vectors\n",
        "        self.dim = len(word2vec['the'])\n",
        "        self.col = col\n",
        "\t\n",
        "    def fit(self, X, y):\t\n",
        "        return self\n",
        "\n",
        "    def transform(self, X):\n",
        "        return np.array([\n",
        "            np.mean([self.word2vec[w] for w in words if w in self.word2vec]\n",
        "                    or [np.zeros(self.dim)], axis=0)\n",
        "            for words in X[self.col]\n",
        "        ])"
      ],
      "execution_count": 0,
      "outputs": []
    },
    {
      "cell_type": "code",
      "metadata": {
        "id": "brP2_xQJ0nI0",
        "colab_type": "code",
        "colab": {}
      },
      "source": [
        "class nominalVectorizer(object):\n",
        "    def __init__(self,col):\n",
        "        self.col = col\n",
        "    def fit(self,X,y):\n",
        "        return self\n",
        "    def transform(self,X):\n",
        "        return np.array([X[self.col]])"
      ],
      "execution_count": 0,
      "outputs": []
    },
    {
      "cell_type": "code",
      "metadata": {
        "id": "Chq2pRUN0pq5",
        "colab_type": "code",
        "colab": {
          "base_uri": "https://localhost:8080/",
          "height": 133
        },
        "outputId": "425638d3-64d0-490c-f2a8-35b9ffd4370c"
      },
      "source": [
        "tfidf = TfidfVectorizer()\n",
        "tfidf.fit(full_text)"
      ],
      "execution_count": 32,
      "outputs": [
        {
          "output_type": "execute_result",
          "data": {
            "text/plain": [
              "TfidfVectorizer(analyzer='word', binary=False, decode_error='strict',\n",
              "                dtype=<class 'numpy.float64'>, encoding='utf-8',\n",
              "                input='content', lowercase=True, max_df=1.0, max_features=None,\n",
              "                min_df=1, ngram_range=(1, 1), norm='l2', preprocessor=None,\n",
              "                smooth_idf=True, stop_words=None, strip_accents=None,\n",
              "                sublinear_tf=False, token_pattern='(?u)\\\\b\\\\w\\\\w+\\\\b',\n",
              "                tokenizer=None, use_idf=True, vocabulary=None)"
            ]
          },
          "metadata": {
            "tags": []
          },
          "execution_count": 32
        }
      ]
    },
    {
      "cell_type": "code",
      "metadata": {
        "id": "u6NalxPp0rKh",
        "colab_type": "code",
        "colab": {}
      },
      "source": [
        "## Create Train and Test Set ##\n",
        "train = train.sample(frac=1).reset_index(drop=True)\n",
        "x_train, x_test = train[:3000], train[3000:]"
      ],
      "execution_count": 0,
      "outputs": []
    },
    {
      "cell_type": "code",
      "metadata": {
        "id": "VxWBw05v0tQf",
        "colab_type": "code",
        "colab": {
          "base_uri": "https://localhost:8080/",
          "height": 33
        },
        "outputId": "0597390a-3469-49ad-a6c1-6c389f2bb138"
      },
      "source": [
        "sum(x_train['Food Safety Issue']) / len(x_train)"
      ],
      "execution_count": 34,
      "outputs": [
        {
          "output_type": "execute_result",
          "data": {
            "text/plain": [
              "0.8633333333333333"
            ]
          },
          "metadata": {
            "tags": []
          },
          "execution_count": 34
        }
      ]
    },
    {
      "cell_type": "code",
      "metadata": {
        "id": "pc2uO7MG0un9",
        "colab_type": "code",
        "colab": {
          "base_uri": "https://localhost:8080/",
          "height": 247
        },
        "outputId": "ba639baa-878b-4bb9-bf86-09d5b5499f72"
      },
      "source": [
        "train.head(1)"
      ],
      "execution_count": 35,
      "outputs": [
        {
          "output_type": "execute_result",
          "data": {
            "text/html": [
              "<div>\n",
              "<style scoped>\n",
              "    .dataframe tbody tr th:only-of-type {\n",
              "        vertical-align: middle;\n",
              "    }\n",
              "\n",
              "    .dataframe tbody tr th {\n",
              "        vertical-align: top;\n",
              "    }\n",
              "\n",
              "    .dataframe thead th {\n",
              "        text-align: right;\n",
              "    }\n",
              "</style>\n",
              "<table border=\"1\" class=\"dataframe\">\n",
              "  <thead>\n",
              "    <tr style=\"text-align: right;\">\n",
              "      <th></th>\n",
              "      <th>ID</th>\n",
              "      <th>Product ASIN</th>\n",
              "      <th>Review star rating</th>\n",
              "      <th>Food Safety Issue</th>\n",
              "      <th>Review Text</th>\n",
              "      <th>Review Title</th>\n",
              "      <th>@nlp.sentenceCount</th>\n",
              "      <th>@product.brand</th>\n",
              "      <th>@product.countryOfOrigin</th>\n",
              "      <th>Product Width</th>\n",
              "      <th>Product Length</th>\n",
              "      <th>Product Height</th>\n",
              "      <th>Timestamp</th>\n",
              "      <th>Product Title (Analyzed)</th>\n",
              "      <th>text token</th>\n",
              "      <th>title token</th>\n",
              "      <th>brand token</th>\n",
              "      <th>product title token</th>\n",
              "      <th>adj token</th>\n",
              "      <th>has stale</th>\n",
              "      <th>has not</th>\n",
              "      <th>has disappointed</th>\n",
              "      <th>has good</th>\n",
              "      <th>has great</th>\n",
              "      <th>pos</th>\n",
              "      <th>neg</th>\n",
              "      <th>neu</th>\n",
              "      <th>text string</th>\n",
              "    </tr>\n",
              "  </thead>\n",
              "  <tbody>\n",
              "    <tr>\n",
              "      <th>0</th>\n",
              "      <td>2959</td>\n",
              "      <td>B016YOCSIC</td>\n",
              "      <td>1</td>\n",
              "      <td>1</td>\n",
              "      <td>yes  best brownie i ever had    sugar or no bu...</td>\n",
              "      <td>diabetics beware</td>\n",
              "      <td>8</td>\n",
              "      <td>diabetic kitchen</td>\n",
              "      <td>NaN</td>\n",
              "      <td>4.1</td>\n",
              "      <td>4.1</td>\n",
              "      <td>4.7</td>\n",
              "      <td>2017-11-12 14:04:00</td>\n",
              "      <td>diabetic kitchen gourmet chocolate brownie mix...</td>\n",
              "      <td>[yes, best, brownie, ever, sugar, really, rais...</td>\n",
              "      <td>[diabetics, beware]</td>\n",
              "      <td>[diabetic, kitchen]</td>\n",
              "      <td>[diabetic, kitchen, gourmet, chocolate, browni...</td>\n",
              "      <td>[best, type, diabetic, diet, low, higher, fat,...</td>\n",
              "      <td>0</td>\n",
              "      <td>1</td>\n",
              "      <td>0</td>\n",
              "      <td>0</td>\n",
              "      <td>0</td>\n",
              "      <td>0.0</td>\n",
              "      <td>0.0</td>\n",
              "      <td>1.0</td>\n",
              "      <td>yes best brownie ever sugar really raised bloo...</td>\n",
              "    </tr>\n",
              "  </tbody>\n",
              "</table>\n",
              "</div>"
            ],
            "text/plain": [
              "     ID Product ASIN  Review star rating  Food Safety Issue  \\\n",
              "0  2959   B016YOCSIC                   1                  1   \n",
              "\n",
              "                                         Review Text      Review Title  \\\n",
              "0  yes  best brownie i ever had    sugar or no bu...  diabetics beware   \n",
              "\n",
              "   @nlp.sentenceCount    @product.brand @product.countryOfOrigin  \\\n",
              "0                   8  diabetic kitchen                      NaN   \n",
              "\n",
              "   Product Width  Product Length  Product Height           Timestamp  \\\n",
              "0            4.1             4.1             4.7 2017-11-12 14:04:00   \n",
              "\n",
              "                            Product Title (Analyzed)  \\\n",
              "0  diabetic kitchen gourmet chocolate brownie mix...   \n",
              "\n",
              "                                          text token          title token  \\\n",
              "0  [yes, best, brownie, ever, sugar, really, rais...  [diabetics, beware]   \n",
              "\n",
              "           brand token                                product title token  \\\n",
              "0  [diabetic, kitchen]  [diabetic, kitchen, gourmet, chocolate, browni...   \n",
              "\n",
              "                                           adj token  has stale  has not  \\\n",
              "0  [best, type, diabetic, diet, low, higher, fat,...          0        1   \n",
              "\n",
              "   has disappointed  has good  has great  pos  neg  neu  \\\n",
              "0                 0         0          0  0.0  0.0  1.0   \n",
              "\n",
              "                                         text string  \n",
              "0  yes best brownie ever sugar really raised bloo...  "
            ]
          },
          "metadata": {
            "tags": []
          },
          "execution_count": 35
        }
      ]
    },
    {
      "cell_type": "code",
      "metadata": {
        "id": "tOtUxLBh0vm5",
        "colab_type": "code",
        "colab": {}
      },
      "source": [
        "#nominal_cols = ['Review star rating','nlp.sentenceCount','total_orders']\n",
        "\t\n",
        " \n",
        "\t\n",
        "nominal_cols = ['Review star rating',\n",
        "                'has stale','has not','has disappointed','has good','has great',\n",
        "                'pos','neg','neu'\n",
        "               # 'cust_avg_review_rating', 'cust_review_count'\n",
        "               #'retail_offers','reseller_offers','brand_offers','prime_offers','prime_ship_offers'\n",
        "               ]"
      ],
      "execution_count": 0,
      "outputs": []
    },
    {
      "cell_type": "code",
      "metadata": {
        "id": "NIFlsXjL0yam",
        "colab_type": "code",
        "colab": {}
      },
      "source": [
        "## Concatenating Features\n",
        "\t\n",
        "txt_vec = MeanEmbeddingVectorizer(w2v_v2,'text token').transform(x_train)\n",
        "title_vec = MeanEmbeddingVectorizer(w2v_v2,'title token').transform(x_train)\n",
        "prod_vec = MeanEmbeddingVectorizer(w2v_v2,'product title token').transform(x_train)\n",
        "adj_vec = MeanEmbeddingVectorizer(w2v_v2,'adj token').transform(x_train)\n",
        "nom_vec = np.array(x_train[nominal_cols])\n",
        "tdidf_vec = tfidf.transform(x_train['text string']).toarray()\n",
        "\t\n",
        "x_train_feat = np.concatenate((txt_vec, title_vec, prod_vec, adj_vec, nom_vec, tdidf_vec), axis = 1)"
      ],
      "execution_count": 0,
      "outputs": []
    },
    {
      "cell_type": "code",
      "metadata": {
        "id": "Wc5JevAN01zT",
        "colab_type": "code",
        "colab": {
          "base_uri": "https://localhost:8080/",
          "height": 150
        },
        "outputId": "3ee8a321-3e18-444b-aead-f69d22ec5fba"
      },
      "source": [
        "rfc_clf = RandomForestClassifier(n_estimators=500, class_weight = 'balanced', max_depth = 3, bootstrap = True)\n",
        "rfc_clf.fit(x_train_feat, x_train['Food Safety Issue'])"
      ],
      "execution_count": 42,
      "outputs": [
        {
          "output_type": "execute_result",
          "data": {
            "text/plain": [
              "RandomForestClassifier(bootstrap=True, ccp_alpha=0.0, class_weight='balanced',\n",
              "                       criterion='gini', max_depth=3, max_features='auto',\n",
              "                       max_leaf_nodes=None, max_samples=None,\n",
              "                       min_impurity_decrease=0.0, min_impurity_split=None,\n",
              "                       min_samples_leaf=1, min_samples_split=2,\n",
              "                       min_weight_fraction_leaf=0.0, n_estimators=500,\n",
              "                       n_jobs=None, oob_score=False, random_state=None,\n",
              "                       verbose=0, warm_start=False)"
            ]
          },
          "metadata": {
            "tags": []
          },
          "execution_count": 42
        }
      ]
    },
    {
      "cell_type": "code",
      "metadata": {
        "id": "fTqADev11MlY",
        "colab_type": "code",
        "colab": {}
      },
      "source": [
        "## Concatenating Features\n",
        "\t\n",
        "txt_vec_test = MeanEmbeddingVectorizer(w2v_v2,'text token').transform(x_test)\n",
        "title_vec_test = MeanEmbeddingVectorizer(w2v_v2,'title token').transform(x_test)\n",
        "prod_vec_test = MeanEmbeddingVectorizer(w2v_v2,'product title token').transform(x_test)\n",
        "adj_vec_test = MeanEmbeddingVectorizer(w2v_v2,'adj token').transform(x_test)\n",
        "nom_vec_test = np.array(x_test[nominal_cols])\t\n",
        "tdidf_vec_test = tfidf.transform(x_test['text string']).toarray()\n",
        "\n",
        "x_test_feat = np.concatenate((txt_vec_test, title_vec_test, prod_vec_test,adj_vec_test, nom_vec_test,tdidf_vec_test), axis = 1)"
      ],
      "execution_count": 0,
      "outputs": []
    },
    {
      "cell_type": "code",
      "metadata": {
        "id": "NVhZaTyv1PEF",
        "colab_type": "code",
        "colab": {}
      },
      "source": [
        "y_pred_test_rfc = rfc_clf.predict(x_test_feat)"
      ],
      "execution_count": 0,
      "outputs": []
    },
    {
      "cell_type": "code",
      "metadata": {
        "id": "iB9Seyby1QPG",
        "colab_type": "code",
        "colab": {
          "base_uri": "https://localhost:8080/",
          "height": 308
        },
        "outputId": "5c94d258-b684-4899-988b-51f3cd0f0b1b"
      },
      "source": [
        "cm = confusion_matrix(x_test['Food Safety Issue'],y_pred_test_rfc)\n",
        "plt.matshow(cm, cmap=plt.cm.gray)\n",
        "plt.show()\n",
        "print(cm)"
      ],
      "execution_count": 45,
      "outputs": [
        {
          "output_type": "display_data",
          "data": {
            "image/png": "[encoded data removed]",
            "text/plain": [
              "<Figure size 288x288 with 1 Axes>"
            ]
          },
          "metadata": {
            "tags": [],
            "needs_background": "light"
          }
        },
        {
          "output_type": "stream",
          "text": [
            "[[ 54  48]\n",
            " [236 431]]\n"
          ],
          "name": "stdout"
        }
      ]
    },
    {
      "cell_type": "code",
      "metadata": {
        "id": "kRBbZzp71R7D",
        "colab_type": "code",
        "colab": {
          "base_uri": "https://localhost:8080/",
          "height": 33
        },
        "outputId": "cfc6984f-d012-4edc-c587-7ec052c90334"
      },
      "source": [
        "from sklearn.metrics import roc_auc_score\n",
        "print(roc_auc_score(x_test['Food Safety Issue'],y_pred_test_rfc))"
      ],
      "execution_count": 46,
      "outputs": [
        {
          "output_type": "stream",
          "text": [
            "0.587794338125055\n"
          ],
          "name": "stdout"
        }
      ]
    },
    {
      "cell_type": "code",
      "metadata": {
        "id": "yIOkwII61T-N",
        "colab_type": "code",
        "colab": {}
      },
      "source": [
        "txt_vec_sub = MeanEmbeddingVectorizer(w2v_v2,'text token').transform(test)\n",
        "title_vec_sub = MeanEmbeddingVectorizer(w2v_v2,'title token').transform(test)\n",
        "prod_vec_sub = MeanEmbeddingVectorizer(w2v_v2,'product title token').transform(test)\n",
        "adj_vec_sub = MeanEmbeddingVectorizer(w2v_v2,'adj token').transform(test)\n",
        "nom_vec_sub = np.array(test[nominal_cols])\n",
        "tdidf_vec_sub = tfidf.transform(test['text string']).toarray()\n",
        "sub_feat = np.concatenate((txt_vec_sub, title_vec_sub, prod_vec_sub, adj_vec_sub, nom_vec_sub,tdidf_vec_sub), axis = 1)"
      ],
      "execution_count": 0,
      "outputs": []
    },
    {
      "cell_type": "code",
      "metadata": {
        "id": "-oxgZysC1W4Z",
        "colab_type": "code",
        "colab": {}
      },
      "source": [
        "######################### Optimization for RFC #########################################"
      ],
      "execution_count": 0,
      "outputs": []
    },
    {
      "cell_type": "code",
      "metadata": {
        "id": "x0Pog3t-1Yu9",
        "colab_type": "code",
        "colab": {
          "base_uri": "https://localhost:8080/",
          "height": 217
        },
        "outputId": "1b2c843a-7e7d-4f28-eb9f-bd2e44bf8903"
      },
      "source": [
        "max_feat_list = ['log2',None]\n",
        "depth_list = [3,5,7]\n",
        "for j in range(len(max_feat_list)):\n",
        "    for i in range(len(depth_list)):\n",
        "        rfc_clf = RandomForestClassifier(n_estimators=50, class_weight = 'balanced', max_depth = depth_list[i] \n",
        "                                         ,max_features = max_feat_list[j], bootstrap = True)\n",
        "        rfc_clf.fit(x_train_feat, x_train['Food Safety Issue'])\n",
        "        y_pred_test_rfc = rfc_clf.predict(x_test_feat)\n",
        "        print(max_feat_list[j],depth_list[i])\n",
        "        print(roc_auc_score(x_test['Food Safety Issue'],y_pred_test_rfc))"
      ],
      "execution_count": 49,
      "outputs": [
        {
          "output_type": "stream",
          "text": [
            "log2 3\n",
            "0.5705529588147102\n",
            "log2 5\n",
            "0.5626451480142282\n",
            "log2 7\n",
            "0.5820766087544463\n",
            "None 3\n",
            "0.6133403886292148\n",
            "None 5\n",
            "0.5797101449275364\n",
            "None 7\n",
            "0.5530029103095512\n"
          ],
          "name": "stdout"
        }
      ]
    },
    {
      "cell_type": "code",
      "metadata": {
        "id": "IwYOeKhw1byX",
        "colab_type": "code",
        "colab": {}
      },
      "source": [
        "########################### Optimization for Logit ############################################"
      ],
      "execution_count": 0,
      "outputs": []
    },
    {
      "cell_type": "code",
      "metadata": {
        "id": "1nYATfUS1dQS",
        "colab_type": "code",
        "colab": {
          "base_uri": "https://localhost:8080/",
          "height": 217
        },
        "outputId": "2debfcf6-ff6f-4775-bb43-ca22d0e5cded"
      },
      "source": [
        "c_list = [.001, .01, .1, 1.0, 10.0, 100.0]\n",
        "for i in range(len(c_list)):\n",
        "    log_clf = LogisticRegression(penalty = 'l2', C = c_list[i], class_weight = 'balanced')\n",
        "    log_clf.fit(x_train_feat, x_train['Food Safety Issue'])\n",
        "    y_pred_test_log = log_clf.predict(x_test_feat)\n",
        "    print(c_list[i])\n",
        "    print(roc_auc_score(x_test['Food Safety Issue'],y_pred_test_log))"
      ],
      "execution_count": 51,
      "outputs": [
        {
          "output_type": "stream",
          "text": [
            "0.001\n",
            "0.6282226533791928\n",
            "0.01\n",
            "0.5847370432430843\n",
            "0.1\n",
            "0.545058353176353\n",
            "1.0\n",
            "0.5305215039539054\n",
            "10.0\n",
            "0.50018373166358\n",
            "100.0\n",
            "0.4982214774965459\n"
          ],
          "name": "stdout"
        }
      ]
    },
    {
      "cell_type": "code",
      "metadata": {
        "id": "e5OaFr6_1ftJ",
        "colab_type": "code",
        "colab": {}
      },
      "source": [
        "################################# Final Prediction #######################################"
      ],
      "execution_count": 0,
      "outputs": []
    },
    {
      "cell_type": "code",
      "metadata": {
        "id": "GPeKFU2X1gsk",
        "colab_type": "code",
        "colab": {}
      },
      "source": [
        "txt_vec_full_train = MeanEmbeddingVectorizer(w2v_v2,'text token').transform(train)\n",
        "title_vec_full_train = MeanEmbeddingVectorizer(w2v_v2,'title token').transform(train)\n",
        "prod_vec_full_train = MeanEmbeddingVectorizer(w2v_v2,'product title token').transform(train)\n",
        "adj_vec_full_train = MeanEmbeddingVectorizer(w2v_v2,'adj token').transform(train)\n",
        "nom_vec_full_train = np.array(train[nominal_cols])\n",
        "tdidf_vec_full_train = tfidf.transform(train['text string']).toarray()\n",
        "train_feat = np.concatenate((txt_vec_full_train, title_vec_full_train, prod_vec_full_train, adj_vec_full_train, nom_vec_full_train, tdidf_vec_full_train), axis = 1)"
      ],
      "execution_count": 0,
      "outputs": []
    },
    {
      "cell_type": "code",
      "metadata": {
        "id": "VWFoKt4I1jhE",
        "colab_type": "code",
        "colab": {
          "base_uri": "https://localhost:8080/",
          "height": 150
        },
        "outputId": "0c63509c-29a1-4437-8beb-7e50e07739b6"
      },
      "source": [
        "rfc_clf = RandomForestClassifier(n_estimators=500, class_weight = 'balanced', max_depth = 3, max_features = None, bootstrap = True)\n",
        "rfc_clf.fit(train_feat,train['Food Safety Issue'])"
      ],
      "execution_count": 54,
      "outputs": [
        {
          "output_type": "execute_result",
          "data": {
            "text/plain": [
              "RandomForestClassifier(bootstrap=True, ccp_alpha=0.0, class_weight='balanced',\n",
              "                       criterion='gini', max_depth=3, max_features=None,\n",
              "                       max_leaf_nodes=None, max_samples=None,\n",
              "                       min_impurity_decrease=0.0, min_impurity_split=None,\n",
              "                       min_samples_leaf=1, min_samples_split=2,\n",
              "                       min_weight_fraction_leaf=0.0, n_estimators=500,\n",
              "                       n_jobs=None, oob_score=False, random_state=None,\n",
              "                       verbose=0, warm_start=False)"
            ]
          },
          "metadata": {
            "tags": []
          },
          "execution_count": 54
        }
      ]
    },
    {
      "cell_type": "code",
      "metadata": {
        "id": "DzjAoWvz1lXx",
        "colab_type": "code",
        "colab": {}
      },
      "source": [
        "submission_test_rfc = rfc_clf.predict(sub_feat)\n",
        "submission_test_rfc_prob = rfc_clf.predict_proba(sub_feat)"
      ],
      "execution_count": 0,
      "outputs": []
    },
    {
      "cell_type": "code",
      "metadata": {
        "id": "ybXUbvD01me8",
        "colab_type": "code",
        "colab": {}
      },
      "source": [
        "### Bootstrapping logit\n",
        "sub_test_log_list = []\n",
        "for i in range(0,100):\n",
        "    boot_train = train.sample(frac = 1.0, replace = True)\n",
        "    txt_vec_full_train = MeanEmbeddingVectorizer(w2v_v2,'text token').transform(boot_train)\n",
        "    title_vec_full_train = MeanEmbeddingVectorizer(w2v_v2,'title token').transform(boot_train)\n",
        "    prod_vec_full_train = MeanEmbeddingVectorizer(w2v_v2,'product title token').transform(boot_train)\n",
        "    adj_vec_full_train = MeanEmbeddingVectorizer(w2v_v2,'adj token').transform(boot_train)\n",
        "    nom_vec_full_train = np.array(boot_train[nominal_cols])\t\n",
        "    tdidf_vec_full_train = tfidf.transform(boot_train['text string']).toarray()\n",
        "\n",
        "    train_feat = np.concatenate((txt_vec_full_train, title_vec_full_train, prod_vec_full_train, adj_vec_full_train, nom_vec_full_train, tdidf_vec_full_train), axis = 1)\n",
        "    log_clf = LogisticRegression(penalty = 'l2', C = .01, class_weight = 'balanced')\n",
        "    log_clf.fit(train_feat,boot_train['Food Safety Issue'])\n",
        "    submission_test_log = log_clf.predict(sub_feat)\n",
        "    submission_test_log_prob = log_clf.predict_proba(sub_feat)\n",
        "    sub_test_log_list.append(submission_test_log_prob[:,1])"
      ],
      "execution_count": 0,
      "outputs": []
    },
    {
      "cell_type": "code",
      "metadata": {
        "id": "m4ytMISR1th4",
        "colab_type": "code",
        "colab": {}
      },
      "source": [
        "avg_logit_pred = np.mean(np.array(sub_test_log_list), axis = 0).tolist()"
      ],
      "execution_count": 0,
      "outputs": []
    },
    {
      "cell_type": "code",
      "metadata": {
        "id": "J3Xd0TCb1uf3",
        "colab_type": "code",
        "colab": {}
      },
      "source": [
        "submission_test_final = []\n",
        "for i in range(len(submission_test_rfc_prob)):\n",
        "    final_proba = submission_test_rfc_prob[i][1]*0.5 + avg_logit_pred[i]*0.5\n",
        "    if final_proba >= 0.5:\n",
        "        submission_test_final.append(1)\n",
        "    else:\n",
        "        submission_test_final.append(0)"
      ],
      "execution_count": 0,
      "outputs": []
    },
    {
      "cell_type": "code",
      "metadata": {
        "id": "ql-KbrL01xT3",
        "colab_type": "code",
        "colab": {}
      },
      "source": [
        "test['Food Safety Issue'] = submission_test_final\n",
        "test[['ID','Food Safety Issue']].to_csv('submission.csv')"
      ],
      "execution_count": 0,
      "outputs": []
    },
    {
      "cell_type": "code",
      "metadata": {
        "id": "5n0O7_pA1ysL",
        "colab_type": "code",
        "colab": {}
      },
      "source": [
        "######################################## Quick Test a few models to ensemble the RFC with #####################################"
      ],
      "execution_count": 0,
      "outputs": []
    },
    {
      "cell_type": "code",
      "metadata": {
        "id": "I-d0m09g1zxw",
        "colab_type": "code",
        "colab": {
          "base_uri": "https://localhost:8080/",
          "height": 325
        },
        "outputId": "0686b3fb-ff9b-47d1-f166-8ea8e21e8838"
      },
      "source": [
        "## logit works ##\n",
        "\n",
        "log_clf = LogisticRegression(penalty = 'l2', C = 1.0, class_weight = 'balanced')\n",
        "log_clf.fit(x_train_feat, x_train['Food Safety Issue'])\n",
        "y_pred_test_log = log_clf.predict(x_test_feat)\n",
        "cm = confusion_matrix(x_test['Food Safety Issue'],y_pred_test_log)\n",
        "plt.matshow(cm, cmap=plt.cm.gray)\n",
        "plt.show()\n",
        "print(cm)\n",
        "print(roc_auc_score(x_test['Food Safety Issue'],y_pred_test_log))"
      ],
      "execution_count": 61,
      "outputs": [
        {
          "output_type": "display_data",
          "data": {
            "image/png": "[encoded data removed]",
            "text/plain": [
              "<Figure size 288x288 with 1 Axes>"
            ]
          },
          "metadata": {
            "tags": [],
            "needs_background": "light"
          }
        },
        {
          "output_type": "stream",
          "text": [
            "[[ 31  71]\n",
            " [162 505]]\n",
            "0.5305215039539054\n"
          ],
          "name": "stdout"
        }
      ]
    },
    {
      "cell_type": "code",
      "metadata": {
        "id": "kGDDfFnB13Zq",
        "colab_type": "code",
        "colab": {
          "base_uri": "https://localhost:8080/",
          "height": 325
        },
        "outputId": "84197f4e-a612-41c1-9671-e36214f712d6"
      },
      "source": [
        "## NB is poop\n",
        "nb_clf = GaussianNB()\n",
        "nb_clf.fit(x_train_feat, x_train['Food Safety Issue'])\n",
        "y_pred_test_nb = nb_clf.predict(x_test_feat)\n",
        "cm = confusion_matrix(x_test['Food Safety Issue'],y_pred_test_nb)\n",
        "plt.matshow(cm, cmap=plt.cm.gray)\n",
        "plt.show()\n",
        "print(cm)\n",
        "print(roc_auc_score(x_test['Food Safety Issue'],y_pred_test_nb))"
      ],
      "execution_count": 62,
      "outputs": [
        {
          "output_type": "display_data",
          "data": {
            "image/png": "[encoded data removed]",
            "text/plain": [
              "<Figure size 288x288 with 1 Axes>"
            ]
          },
          "metadata": {
            "tags": [],
            "needs_background": "light"
          }
        },
        {
          "output_type": "stream",
          "text": [
            "[[ 33  69]\n",
            " [279 388]]\n",
            "0.4526192785959961\n"
          ],
          "name": "stdout"
        }
      ]
    },
    {
      "cell_type": "code",
      "metadata": {
        "id": "uuvWZ6mz17KJ",
        "colab_type": "code",
        "colab": {}
      },
      "source": [
        "########################################## Exploration Stuff ##################################################################"
      ],
      "execution_count": 0,
      "outputs": []
    },
    {
      "cell_type": "code",
      "metadata": {
        "id": "tR46Xplv18Kw",
        "colab_type": "code",
        "colab": {}
      },
      "source": [
        "## Create full text\n",
        "\t\n",
        "df_bad = train.loc[train['Food Safety Issue']==1]\n",
        "bad_text_list = []\n",
        "for i in range(len(df_bad['text token'])):\n",
        "    row = np.asarray(df_bad['text token'])[i]\n",
        "    for j in range(len(row)):\t\n",
        "        bad_text_list.append(row[j])\n",
        "\n",
        "df_good = train.loc[train['Food Safety Issue']==0]\n",
        "good_text_list = []\n",
        "for i in range(len(df_good['text token'])):\n",
        "    row = np.asarray(df_good['text token'])[i]\n",
        "    for j in range(len(row)):\n",
        "        good_text_list.append(row[j])"
      ],
      "execution_count": 0,
      "outputs": []
    },
    {
      "cell_type": "code",
      "metadata": {
        "id": "etlYuEWO2AUi",
        "colab_type": "code",
        "colab": {
          "base_uri": "https://localhost:8080/",
          "height": 33
        },
        "outputId": "46d50652-8b15-4730-b2a3-a1ff15a0f2ab"
      },
      "source": [
        "#### Using vader to see if sentiment on review title helps\n",
        "sid = SentimentIntensityAnalyzer()\n",
        "ss = sid.polarity_scores(train['Review Title'][0])\n",
        "print(ss)"
      ],
      "execution_count": 65,
      "outputs": [
        {
          "output_type": "stream",
          "text": [
            "{'neg': 0.0, 'neu': 1.0, 'pos': 0.0, 'compound': 0.0}\n"
          ],
          "name": "stdout"
        }
      ]
    },
    {
      "cell_type": "code",
      "metadata": {
        "id": "qBql2WZT2CRS",
        "colab_type": "code",
        "colab": {
          "base_uri": "https://localhost:8080/",
          "height": 53
        },
        "outputId": "ee1694fe-e034-477c-bfba-27edf9acfcd0"
      },
      "source": [
        "## Tuples of word counter -- I want to find the most common negative and positive words related to food safety issue\n",
        "## Include \"not\" so we can know not good --> bad, not stale --> good\n",
        "import collections\n",
        "counter = collections.Counter(bad_text_list)\n",
        "print(counter.most_common())"
      ],
      "execution_count": 66,
      "outputs": [
        {
          "output_type": "stream",
          "text": [
            "[('not', 1901), ('stale', 1289), ('br', 1116), (\"n't\", 899), ('product', 869), ('like', 710), ('taste', 631), ('one', 496), ('would', 418), ('good', 418), (\"'s\", 398), ('bag', 351), ('box', 344), ('tasted', 339), ('buy', 331), ('bad', 321), ('time', 304), ('received', 287), ('flavor', 277), ('disappointed', 276), ('old', 273), ('get', 267), ('date', 266), ('first', 259), ('really', 257), ('rancid', 252), ('got', 251), ('arrived', 251), ('could', 250), ('even', 245), ('package', 244), ('opened', 243), (\"'m\", 242), ('made', 237), ('order', 235), ('mold', 234), ('return', 233), ('bought', 232), ('hard', 228), ('also', 224), ('ordered', 222), ('amazon', 219), ('coffee', 217), ('never', 210), ('away', 204), ('sick', 202), ('tried', 200), ('use', 198), ('candy', 198), ('two', 197), ('eat', 196), ('broken', 194), ('money', 192), ('nuts', 189), ('love', 189), ('great', 187), ('fresh', 176), (\"'ve\", 174), ('food', 171), ('chocolate', 171), ('tastes', 171), ('however', 169), ('sure', 165), ('used', 163), ('quality', 163), ('tea', 163), ('know', 160), ('sealed', 159), ('came', 157), ('much', 155), ('smell', 153), ('seal', 152), ('allergic', 146), ('expiration', 145), ('moldy', 143), ('bags', 141), ('back', 139), ('make', 139), ('spoiled', 138), ('brand', 136), ('little', 135), ('purchased', 134), ('way', 133), ('sugar', 132), ('thought', 132), ('try', 131), ('stomach', 130), ('horrible', 130), ('think', 129), ('give', 129), ('throw', 125), ('better', 124), ('something', 124), ('last', 123), ('bars', 123), ('found', 122), ('almost', 119), ('purchase', 119), ('since', 119), ('find', 119), ('ca', 118), ('item', 118), ('see', 117), ('many', 117), ('eating', 114), ('day', 112), ('ingredients', 111), ('waste', 110), ('reviews', 110), ('still', 109), ('another', 109), ('rotten', 107), ('oil', 106), ('ever', 105), ('well', 105), ('batch', 105), ('maybe', 105), ('say', 104), ('awful', 103), ('open', 102), ('terrible', 102), ('may', 102), ('company', 101), ('bit', 100), ('milk', 100), ('threw', 100), ('different', 99), ('ones', 99), ('free', 99), ('unfortunately', 99), ('price', 98), ('though', 98), ('half', 96), ('store', 96), ('jar', 96), ('products', 94), ('days', 94), ('dry', 94), ('inside', 94), ('second', 94), ('going', 93), ('refund', 92), (\"'re\", 92), ('feel', 91), ('buying', 91), ('small', 90), ('says', 89), ('expired', 88), ('went', 87), ('want', 87), ('recommend', 86), ('put', 86), ('fine', 86), ('disgusting', 86), ('pack', 86), ('cookies', 86), ('every', 85), ('several', 83), ('took', 83), ('label', 83), ('times', 83), ('pretty', 82), ('seller', 82), ('white', 82), ('problem', 82), ('best', 81), ('full', 81), ('smelled', 81), ('tasting', 81), ('gave', 81), ('looked', 80), ('allergies', 80), ('boxes', 79), ('stars', 79), ('pieces', 79), ('star', 78), ('actually', 78), ('ate', 78), ('completely', 77), ('either', 76), ('whole', 76), ('cup', 76), ('years', 75), ('bugs', 75), ('bottle', 75), ('worst', 74), ('months', 74), ('lot', 73), ('packaging', 73), ('top', 72), ('work', 72), ('using', 72), ('said', 71), ('looking', 71), (\"'ll\", 71), ('review', 70), ('water', 70), ('allergy', 69), ('thing', 69), (\"'d\", 68), ('packages', 68), ('container', 68), ('wo', 67), ('go', 67), ('reaction', 67), ('drink', 66), ('three', 66), ('right', 66), ('today', 66), ('people', 65), ('plastic', 65), ('look', 64), ('worth', 64), ('trying', 63), ('read', 62), ('makes', 62), ('texture', 62), ('started', 62), ('kind', 62), ('past', 62), ('blood', 61), ('powder', 61), ('flavors', 61), ('less', 61), ('new', 61), ('ingredient', 60), ('able', 60), ('definitely', 60), ('disappointing', 60), ('excited', 60), ('week', 59), ('nothing', 59), ('around', 59), ('others', 59), ('popcorn', 59), ('coconut', 59), ('long', 59), ('stuff', 59), ('color', 58), ('soft', 58), ('dried', 58), ('year', 57), ('take', 57), ('must', 57), ('rice', 57), ('high', 57), ('bar', 57), ('ok', 57), ('else', 56), ('real', 56), ('noticed', 56), ('already', 55), ('enough', 55), ('instead', 55), ('green', 55), ('probably', 55), ('ordering', 55), ('cups', 55), ('expensive', 55), ('husband', 55), ('gross', 54), ('amount', 54), ('peanuts', 54), ('rest', 54), ('issue', 54), ('regular', 53), ('son', 53), ('help', 53), ('delicious', 53), ('size', 53), ('super', 53), ('least', 53), ('getting', 53), ('sweet', 52), ('trash', 52), ('salt', 52), ('far', 52), ('diarrhea', 52), ('usually', 52), ('peanut', 52), ('big', 52), ('poor', 52), ('chips', 52), ('next', 52), ('side', 51), ('hot', 51), ('anything', 51), ('quite', 51), ('wanted', 51), ('ago', 51), ('extremely', 51), ('seeds', 50), ('soy', 50), ('drinking', 50), ('protein', 50), ('seems', 50), ('felt', 50), ('gluten', 50), ('inedible', 50), ('lid', 50), ('absolutely', 49), ('always', 49), ('happy', 49), ('smells', 49), ('wheat', 49), ('dark', 49), ('melted', 49), ('guess', 49), ('supposed', 48), ('without', 48), ('believe', 48), ('gift', 48), ('low', 47), ('come', 47), ('mix', 47), ('honey', 47), ('contains', 47), ('please', 47), ('wish', 47), ('corn', 46), ('left', 46), ('due', 46), ('fruit', 46), ('cause', 46), ('weeks', 46), ('bottles', 46), ('picture', 46), ('natural', 46), ('save', 46), ('add', 46), ('butter', 46), ('ended', 46), ('bitter', 46), ('health', 46), ('seemed', 46), ('later', 45), ('beans', 45), ('within', 45), ('pods', 45), ('case', 45), ('entire', 45), ('opening', 44), ('everything', 44), ('packs', 44), ('might', 43), ('worse', 43), ('mouth', 43), ('properly', 43), ('someone', 42), ('sent', 42), ('bottom', 41), ('black', 41), ('customer', 41), ('gum', 41), ('edible', 41), ('let', 40), ('pain', 40), ('licorice', 40), ('expected', 40), ('looks', 40), ('almonds', 40), ('wrong', 40), ('keep', 40), ('life', 40), ('garbage', 39), ('us', 39), ('nauseous', 39), ('fact', 39), ('month', 39), ('taking', 39), ('returns', 39), ('description', 38), ('issues', 38), ('juice', 38), ('twice', 38), ('strong', 38), ('favorite', 38), ('organic', 38), ('delivered', 38), (\"'\", 38), ('tasty', 38), ('almond', 38), ('hours', 38), ('oz', 38), ('beware', 38), ('immediately', 38), ('maltodextrin', 38), ('added', 37), ('okay', 37), ('molded', 37), ('things', 37), ('brown', 37), ('nasty', 37), ('seem', 37), ('couple', 37), ('safety', 36), ('covered', 36), ('non', 36), ('rather', 36), ('local', 36), ('shipping', 36), ('candies', 36), ('returned', 36), ('send', 36), ('sorry', 35), ('gummy', 35), ('severe', 35), ('nut', 35), ('formula', 35), ('making', 35), ('items', 35), ('lb', 35), ('photo', 35), ('stored', 35), ('bread', 35), ('totally', 35), ('night', 35), ('perhaps', 35), ('eligible', 34), ('red', 34), ('part', 34), ('stuck', 34), ('kids', 34), ('gas', 34), ('list', 34), ('information', 34), ('grounds', 34), ('k', 34), ('together', 34), ('damaged', 34), ('bite', 34), ('experience', 34), ('chewy', 33), ('anyone', 33), ('point', 33), ('told', 33), ('decided', 33), ('chemical', 33), ('upon', 33), ('flour', 33), ('giving', 33), ('hope', 33), ('weird', 33), ('update', 33), ('dairy', 32), ('piece', 32), ('normally', 32), ('changed', 32), ('need', 32), ('throwing', 32), ('original', 31), ('especially', 31), ('baby', 31), ('quickly', 31), ('sauce', 31), ('cream', 31), ('heat', 31), ('sour', 31), ('individual', 31), ('called', 31), ('shelf', 31), ('thick', 31), ('foods', 31), ('end', 31), ('variety', 30), ('idea', 30), ('per', 30), ('loved', 30), ('brands', 30), ('purchasing', 30), ('saw', 30), ('mislabeled', 30), ('cashews', 30), ('returnable', 30), ('leaking', 30), ('wasted', 30), ('huge', 30), ('sell', 30), ('nice', 30), ('walnuts', 30), ('gone', 30), ('although', 30), ('eaten', 30), ('packaged', 29), ('upset', 29), ('air', 29), ('family', 29), ('stated', 29), ('grocery', 29), ('everywhere', 29), ('happened', 29), ('control', 29), ('zero', 29), ('yet', 29), ('vendor', 29), ('shipment', 29), ('stevia', 29), ('listed', 28), ('seals', 28), ('check', 28), ('slightly', 28), ('tasteless', 28), ('morning', 28), ('daughter', 28), ('reason', 28), ('policy', 28), ('plus', 28), ('jars', 28), ('total', 27), ('problems', 27), ('clearly', 27), ('feeling', 27), ('normal', 27), ('four', 27), ('warning', 27), ('cardboard', 27), ('chocolates', 27), ('turned', 27), ('checked', 27), ('service', 27), ('vanilla', 27), ('hoping', 27), ('forward', 27), ('bulk', 27), ('processed', 27), ('cookie', 27), ('contain', 27), ('paid', 27), ('mine', 27), ('nausea', 27), ('drank', 27), ('online', 27), ('type', 26), ('perfect', 26), ('thrown', 26), ('liked', 26), ('body', 26), ('enjoy', 26), ('serving', 26), ('risk', 26), ('gotten', 26), ('anymore', 26), ('crackers', 26), ('growing', 26), ('apparently', 26), ('syrup', 26), ('dates', 26), ('receive', 26), ('sold', 25), ('snack', 25), ('cheap', 25), ('shown', 25), ('unless', 25), ('sad', 25), ('caused', 25), ('rash', 25), ('cramps', 25), ('cans', 25), ('fat', 24), ('recipe', 24), ('snacks', 24), ('reading', 24), ('replacement', 24), ('pressure', 24), ('large', 24), ('delivery', 24), ('tiny', 24), ('effects', 24), ('deal', 24), ('jerky', 24), ('chew', 24), ('etc', 24), ('outside', 24), ('sort', 24), ('diet', 23), ('known', 23), ('avoid', 23), ('care', 23), ('single', 23), ('safe', 23), ('shipped', 23), ('wrapped', 23), ('christmas', 23), ('tell', 23), ('spit', 23), ('stick', 23), ('missing', 23), ('obviously', 23), ('disappointment', 23), ('cap', 23), ('including', 23), ('sitting', 23), ('live', 23), ('glad', 23), ('freshness', 23), ('eggs', 23), ('thinking', 23), ('home', 22), ('cacao', 22), ('vacuum', 22), ('mess', 22), ('note', 22), ('raw', 22), ('saying', 22), ('buyer', 22), ('soon', 22), ('glass', 22), ('minutes', 22), ('ants', 22), ('website', 22), ('putting', 22), ('stopped', 22), ('mixed', 22), ('machine', 22), ('anxiety', 22), ('highly', 22), ('hour', 22), ('everyone', 22), ('aftertaste', 22), ('spent', 22), ('notice', 22), ('easily', 22), ('often', 22), ('keto', 21), ('wonderful', 21), ('careful', 21), ('finally', 21), ('tree', 21), ('pure', 21), ('literally', 21), ('loose', 21), ('november', 21), ('likely', 21), ('hate', 21), ('bug', 21), ('contact', 21), ('warehouse', 21), ('healthy', 21), ('mind', 21), ('th', 21), ('shows', 21), ('lemon', 21), ('process', 21), ('tampered', 20), ('sticker', 20), ('pay', 20), ('mistake', 20), ('bears', 20), ('allergens', 20), ('pop', 20), ('sensitive', 20), ('particular', 20), ('wet', 20), ('facility', 20), ('longer', 20), ('based', 20), ('gets', 20), ('directly', 20), ('ice', 20), ('filled', 20), ('leaked', 20), ('friend', 20), ('expect', 20), ('expire', 20), ('certainly', 20), ('rock', 20), ('needs', 19), ('six', 19), ('simply', 19), ('orders', 19), ('break', 19), ('poisoning', 19), ('packed', 19), ('realized', 19), ('recently', 19), ('needed', 19), ('bloating', 19), ('anyway', 19), ('enjoyed', 19), ('amazing', 19), ('chance', 19), ('given', 19), ('arrival', 19), ('energy', 19), ('packets', 19), ('true', 19), ('house', 19), ('wife', 19), ('five', 19), ('actual', 19), ('pictures', 19), ('paper', 19), ('coming', 19), ('possible', 19), ('yuck', 19), ('smaller', 18), ('appears', 18), ('negative', 18), ('worms', 18), ('consistency', 18), ('discolored', 18), ('orange', 18), ('mostly', 18), ('strange', 18), ('comes', 18), ('number', 18), ('sticks', 18), ('vegan', 18), ('bland', 18), ('crunchy', 18), ('wonder', 18), ('pounds', 18), ('acid', 18), ('research', 18), ('rating', 18), ('clear', 18), ('cheese', 18), ('lots', 18), ('place', 18), ('listing', 18), ('seen', 18), ('fish', 18), ('cold', 18), ('easy', 18), ('ugh', 18), ('sodium', 18), ('cut', 18), ('benefits', 18), ('msg', 18), ('dead', 18), ('artificial', 18), ('rolls', 18), ('carb', 17), ('child', 17), ('odor', 17), ('refunded', 17), ('cost', 17), ('blend', 17), ('change', 17), ('kitchen', 17), ('states', 17), ('elsewhere', 17), ('version', 17), ('matter', 17), ('plain', 17), ('barely', 17), ('third', 17), ('suspect', 17), ('name', 17), ('leave', 17), ('thank', 17), ('contacted', 17), ('skin', 17), ('short', 17), ('sweetener', 17), ('coating', 17), ('compared', 17), ('exactly', 17), ('stores', 17), ('unacceptable', 17), ('decent', 17), ('liquid', 17), ('mean', 17), ('e', 17), ('nearly', 17), ('discovered', 17), ('kid', 17), ('became', 17), ('kinda', 17), ('sadly', 17), ('contained', 17), ('cheaper', 17), ('yes', 16), ('c', 16), ('means', 16), ('major', 16), ('honestly', 16), ('empty', 16), ('salty', 16), ('kept', 16), ('start', 16), ('fan', 16), ('b', 16), ('light', 16), ('egg', 16), ('shame', 16), ('seriously', 16), ('system', 16), ('contents', 16), ('knows', 16), ('treat', 16), ('roasted', 16), ('loves', 16), ('flavored', 16), ('pistachios', 16), ('advertised', 16), ('friends', 16), ('fast', 16), ('results', 16), ('works', 16), ('consuming', 16), ('pretzels', 16), ('unopened', 16), ('afraid', 16), ('broke', 16), ('meal', 16), ('show', 16), ('difficult', 16), ('effect', 16), ('weak', 16), ('market', 16), ('fault', 16), ('multiple', 16), ('remaining', 16), ('beef', 16), ('worked', 16), ('except', 16), ('grams', 16), ('nespresso', 16), ('ginger', 15), ('lbs', 15), ('mild', 15), ('allowed', 15), ('disgusted', 15), ('realize', 15), ('thanks', 15), ('prime', 15), ('stop', 15), ('none', 15), ('satisfied', 15), ('crap', 15), ('lost', 15), ('tough', 15), ('rocks', 15), ('december', 15), ('possibly', 15), ('asked', 15), ('selling', 15), ('become', 15), ('dog', 15), ('crushed', 15), ('pancakes', 15), ('along', 15), ('nutrition', 15), ('write', 15), ('unable', 15), ('prior', 15), ('happen', 15), ('late', 15), ('cinnamon', 15), ('granola', 15), ('fake', 15), ('bathroom', 15), ('beyond', 15), ('option', 15), ('remember', 15), ('person', 15), ('drinks', 15), ('leaves', 15), ('pollen', 15), ('cooking', 14), ('contamination', 14), ('noodles', 14), ('apart', 14), ('complete', 14), ('misleading', 14), ('blue', 14), ('cracked', 14), ('crisp', 14), ('g', 14), ('expecting', 14), ('matcha', 14), ('whether', 14), ('center', 14), ('yesterday', 14), ('individually', 14), ('course', 14), ('fiber', 14), ('odd', 14), ('separate', 14), ('powdery', 14), ('result', 14), ('filling', 14), ('similar', 14), ('pecans', 14), ('birthday', 14), ('hand', 14), ('calories', 14), ('despite', 14), ('sticky', 14), ('otherwise', 14), ('previously', 14), ('bacteria', 14), ('heart', 14), ('subscribe', 14), ('popped', 14), ('available', 14), ('containers', 14), ('wrap', 14), ('roast', 14), ('creamy', 14), ('cereal', 14), ('imagine', 14), ('heard', 14), ('accept', 14), ('headache', 14), ('wrapper', 14), ('difference', 14), ('understand', 14), ('shell', 14), ('baking', 14), ('oatmeal', 14), ('teas', 14), ('higher', 13), ('caramel', 13), ('vomiting', 13), ('closed', 13), ('adding', 13), ('burnt', 13), ('suggest', 13), ('ruined', 13), ('response', 13), ('larger', 13), ('handful', 13), ('developed', 13), ('contaminated', 13), ('bowl', 13), ('ounces', 13), ('mentioned', 13), ('returning', 13), ('spilled', 13), ('heavy', 13), ('nd', 13), ('experienced', 13), ('directions', 13), ('attached', 13), ('dont', 13), ('manufacturer', 13), ('cases', 13), ('previous', 13), ('sale', 13), ('spice', 13), ('im', 13), ('correctly', 13), ('sending', 13), ('customers', 13), ('soup', 13), ('gives', 13), ('choice', 13), ('throat', 13), ('appeared', 13), ('somewhat', 13), ('intact', 13), ('stay', 13), ('na', 13), ('meat', 13), ('separated', 13), ('chemicals', 13), ('anywhere', 13), ('extract', 13), ('bee', 13), ('site', 13), ('breakfast', 13), ('bummed', 13), ('clean', 13), ('fridge', 13), ('funny', 13), ('via', 13), ('suppose', 13), ('included', 13), ('potassium', 13), ('nauseated', 13), ('seed', 13), ('espresso', 13), ('spicy', 12), ('storage', 12), ('paying', 12), ('worm', 12), ('considering', 12), ('somewhere', 12), ('advertising', 12), ('pass', 12), ('foul', 12), ('goes', 12), ('therefore', 12), ('overall', 12), ('condition', 12), ('form', 12), ('showed', 12), ('shot', 12), ('dollars', 12), ('rich', 12), ('arrive', 12), ('cross', 12), ('baked', 12), ('allergen', 12), ('banana', 12), ('strawberry', 12), ('figured', 12), ('web', 12), ('post', 12), ('pains', 12), ('frozen', 12), ('future', 12), ('near', 12), ('chip', 12), ('warm', 12), ('recieved', 12), ('disease', 12), ('thin', 12), ('spend', 12), ('pot', 12), ('vomit', 12), ('finish', 12), ('serious', 12), ('refrigerated', 12), ('wrappers', 12), ('mushrooms', 12), ('nutritional', 12), ('receiving', 12), ('substitute', 12), ('ship', 12), ('set', 12), ('chews', 12), ('world', 12), ('gon', 12), ('june', 12), ('period', 12), ('moths', 12), ('double', 12), ('pasta', 12), ('alone', 12), ('dented', 12), ('gummies', 12), ('doubt', 12), ('call', 12), ('close', 12), ('fit', 12), ('knew', 12), ('whatever', 12), ('replace', 12), ('unfortunate', 12), ('slimy', 12), ('glucose', 11), ('french', 11), ('dangerous', 11), ('labeled', 11), ('positive', 11), ('poop', 11), ('sticking', 11), ('flavorless', 11), ('placed', 11), ('quick', 11), ('grew', 11), ('mg', 11), ('trust', 11), ('cooked', 11), ('correct', 11), ('pod', 11), ('causing', 11), ('hopefully', 11), ('embarrassed', 11), ('dust', 11), ('poured', 11), ('figure', 11), ('content', 11), ('gastrointestinal', 11), ('potato', 11), ('celiac', 11), ('helped', 11), ('bees', 11), ('consume', 11), ('pie', 11), ('line', 11), ('indicated', 11), ('aware', 11), ('ill', 11), ('shape', 11), ('middle', 11), ('recommended', 11), ('packet', 11), ('needless', 11), ('turn', 11), ('freezer', 11), ('fully', 11), ('common', 11), ('hole', 11), ('tight', 11), ('unhappy', 11), ('somehow', 11), ('amounts', 11), ('jelly', 11), ('carbs', 11), ('offer', 11), ('peach', 11), ('brought', 11), ('teeth', 11), ('rate', 11), ('nov', 11), ('levels', 11), ('noted', 11), ('overpriced', 11), ('film', 11), ('yummy', 11), ('state', 11), ('pleased', 11), ('exchange', 11), ('brewed', 11), ('gifts', 11), ('hazelnuts', 11), ('flat', 11), ('addition', 11), ('costco', 11), ('email', 11), ('bean', 11), ('diabetic', 10), ('attention', 10), ('april', 10), ('sip', 10), ('allow', 10), ('switched', 10), ('concerns', 10), ('unpleasant', 10), ('uneatable', 10), ('wanting', 10), ('sat', 10), ('labeling', 10), ('fun', 10), ('assortment', 10), ('fell', 10), ('labels', 10), ('maker', 10), ('consumption', 10), ('seasoning', 10), ('biscuits', 10), ('treats', 10), ('recent', 10), ('powdered', 10), ('smashed', 10), ('bother', 10), ('mail', 10), ('awesome', 10), ('sweetness', 10), ('substance', 10), ('pulled', 10), ('fall', 10), ('listened', 10), ('remove', 10), ('reactions', 10), ('mention', 10), ('appearance', 10), ('luck', 10), ('agree', 10), ('crunch', 10), ('drop', 10), ('cook', 10), ('surprised', 10), ('waffle', 10), ('cleaning', 10), ('bucks', 10), ('straight', 10), ('august', 10), ('september', 10), ('ask', 10), ('f', 10), ('hives', 10), ('weight', 10), ('expiry', 10), ('gut', 10), ('x', 10), ('cake', 10), ('concerned', 10), ('pleasant', 10), ('impossible', 10), ('subscription', 10), ('taken', 10), ('turkey', 10), ('tossed', 10), ('surprise', 10), ('solid', 10), ('sometimes', 10), ('assume', 10), ('turmeric', 10), ('complaint', 10), ('preservatives', 10), ('shells', 10), ('stinks', 10), ('fried', 10), ('party', 10), ('aroma', 10), ('info', 10), ('stating', 10), ('symptoms', 10), ('sit', 10), ('grandson', 10), ('keurig', 10), ('pretzel', 10), ('apple', 10), ('value', 10), ('reviewers', 10), ('unlike', 10), ('personally', 10), ('gums', 10), ('continue', 10), ('bits', 10), ('hopes', 10), ('supplier', 10), ('spices', 10), ('toss', 10), ('thus', 10), ('capsules', 10), ('paleo', 10), ('typically', 10), ('expires', 10), ('fair', 10), ('crumbly', 10), ('hi', 10), ('flaxseed', 10), ('pectin', 10), ('inulin', 9), ('knowing', 9), ('level', 9), ('mango', 9), ('horribly', 9), ('caution', 9), ('ghee', 9), ('melt', 9), ('consumed', 9), ('fairly', 9), ('cocoa', 9), ('smoothie', 9), ('halloween', 9), ('chunks', 9), ('plan', 9), ('immune', 9), ('ripped', 9), ('bloated', 9), ('spots', 9), ('impressed', 9), ('typical', 9), ('leaving', 9), ('garlic', 9), ('yellow', 9), ('certain', 9), ('opinion', 9), ('funky', 9), ('according', 9), ('thoroughly', 9), ('missed', 9), ('lucky', 9), ('bubble', 9), ('rd', 9), ('waffles', 9), ('burn', 9), ('october', 9), ('epic', 9), ('companies', 9), ('carton', 9), ('front', 9), ('claims', 9), ('smelling', 9), ('fruitcake', 9), ('sources', 9), ('following', 9), ('gritty', 9), ('envelope', 9), ('ran', 9), ('toilet', 9), ('hint', 9), ('juices', 9), ('children', 9), ('terribly', 9), ('pantry', 9), ('didnt', 9), ('wow', 9), ('prefer', 9), ('refrigerator', 9), ('story', 9), ('buyers', 9), ('wise', 9), ('done', 9), ('include', 9), ('office', 9), ('shakes', 9), ('head', 9), ('chewing', 9), ('stand', 9), ('psoriasis', 9), ('cashew', 9), ('slight', 9), ('usual', 9), ('hershey', 9), ('toffee', 9), ('sea', 9), ('growth', 9), ('incredibly', 9), ('chia', 9), ('test', 9), ('foil', 9), ('healthier', 9), ('reorder', 9), ('window', 9), ('oh', 9), ('premium', 9), ('gmo', 9), ('ratings', 9), ('stock', 9), ('page', 9), ('grass', 9), ('produced', 8), ('finding', 8), ('larabar', 8), ('potential', 8), ('manufactured', 8), ('unusable', 8), ('posted', 8), ('ridiculous', 8), ('poorly', 8), ('kernels', 8), ('sense', 8), ('trouble', 8), ('special', 8), ('specifically', 8), ('asin', 8), ('improve', 8), ('locally', 8), ('decaf', 8), ('older', 8), ('dec', 8), ('caffeine', 8), ('general', 8), ('shocked', 8), ('photos', 8), ('lack', 8), ('belly', 8), ('face', 8), ('mints', 8), ('planning', 8), ('lower', 8), ('match', 8), ('hair', 8), ('pictured', 8), ('followed', 8), ('filter', 8), ('colors', 8), ('processing', 8), ('mushy', 8), ('quantity', 8), ('loaf', 8), ('dyes', 8), ('grade', 8), ('cool', 8), ('woke', 8), ('sleep', 8), ('extra', 8), ('walmart', 8), ('dirt', 8), ('throughout', 8), ('vegetable', 8), ('cabinet', 8), ('wait', 8), ('across', 8), ('fruits', 8), ('earth', 8), ('dish', 8), ('area', 8), ('sincerely', 8), ('soggy', 8), ('pops', 8), ('sucralose', 8), ('yuk', 8), ('fructose', 8), ('respond', 8), ('truly', 8), ('suckers', 8), ('mad', 8), ('perfectly', 8), ('bear', 8), ('whey', 8), ('bc', 8), ('instantly', 8), ('containing', 8), ('bark', 8), ('dinner', 8), ('regularly', 8), ('cherry', 8), ('alternative', 8), ('packing', 8), ('creamer', 8), ('provide', 8), ('passed', 8), ('important', 8), ('indicates', 8), ('comparison', 8), ('meant', 8), ('walnut', 8), ('willing', 8), ('useless', 8), ('unsealed', 8), ('apples', 8), ('simple', 8), ('colored', 8), ('god', 8), ('consider', 8), ('gelatin', 8), ('bigger', 8), ('w', 8), ('tin', 8), ('bummer', 8), ('biggest', 8), ('root', 8), ('lumpy', 8), ('daily', 8), ('rid', 8), ('crawling', 8), ('glycyrrhizin', 8), ('alcohols', 8), ('carbohydrates', 8), ('saffron', 8), ('guar', 8), ('bone', 8), ('broth', 8), ('pesto', 8), ('raised', 7), ('familiar', 7), ('torn', 7), ('pepper', 7), ('kick', 7), ('loss', 7), ('pound', 7), ('raspberry', 7), ('doctor', 7), ('main', 7), ('target', 7), ('extreme', 7), ('attack', 7), ('law', 7), ('choose', 7), ('l', 7), ('folks', 7), ('carry', 7), ('favor', 7), ('certified', 7), ('olive', 7), ('oils', 7), ('teaspoon', 7), ('warnings', 7), ('effort', 7), ('allowing', 7), ('honest', 7), ('lime', 7), ('fermented', 7), ('sickness', 7), ('hawaii', 7), ('present', 7), ('significant', 7), ('account', 7), ('pickle', 7), ('acceptable', 7), ('ensure', 7), ('processes', 7), ('fluke', 7), ('code', 7), ('mother', 7), ('grow', 7), ('guests', 7), ('insect', 7), ('refundable', 7), ('sesame', 7), ('cheddar', 7), ('st', 7), ('affect', 7), ('limited', 7), ('fennel', 7), ('unbelievable', 7), ('berry', 7), ('rarely', 7), ('excellent', 7), ('vomited', 7), ('asleep', 7), ('unusual', 7), ('massive', 7), ('turns', 7), ('scoop', 7), ('hungry', 7), ('feed', 7), ('u', 7), ('compromised', 7), ('sink', 7), ('stink', 7), ('boost', 7), ('cant', 7), ('neither', 7), ('handle', 7), ('freeze', 7), ('dirty', 7), ('defective', 7), ('fresher', 7), ('agave', 7), ('dizzy', 7), ('ready', 7), ('clumpy', 7), ('badly', 7), ('hurt', 7), ('treated', 7), ('goodness', 7), ('nervous', 7), ('dissolve', 7), ('regret', 7), ('infested', 7), ('keeping', 7), ('increase', 7), ('spray', 7), ('counter', 7), ('ripoff', 7), ('working', 7), ('tooth', 7), ('fix', 7), ('posting', 7), ('instant', 7), ('brazil', 7), ('exposed', 7), ('dogs', 7), ('modified', 7), ('quarter', 7), ('earlier', 7), ('spending', 7), ('starter', 7), ('wondering', 7), ('curdled', 7), ('appear', 7), ('liver', 7), ('sprinkles', 7), ('blame', 7), ('printed', 7), ('probiotics', 7), ('tongue', 7), ('webs', 7), ('july', 7), ('nose', 7), ('spider', 7), ('lunch', 7), ('run', 7), ('inferior', 7), ('hardly', 7), ('bites', 7), ('behind', 7), ('ahead', 7), ('ounce', 7), ('intolerance', 7), ('absolute', 7), ('picked', 7), ('repackaged', 7), ('guys', 7), ('shop', 7), ('guarantee', 7), ('weather', 7), ('exp', 7), ('count', 7), ('various', 7), ('soap', 7), ('friendly', 7), ('insects', 7), ('itchy', 7), ('natrel', 7), ('indicate', 7), ('sellers', 7), ('hrs', 6), ('usa', 6), ('layer', 6), ('flakes', 6), ('generally', 6), ('aug', 6), ('false', 6), ('talked', 6), ('poops', 6), ('entirely', 6), ('gourmet', 6), ('chalky', 6), ('twelve', 6), ('zip', 6), ('tolerate', 6), ('unsweetened', 6), ('finger', 6), ('basis', 6), ('stamped', 6), ('kill', 6), ('points', 6), ('girlfriend', 6), ('holes', 6), ('smooth', 6), ('spike', 6), ('grossed', 6), ('cover', 6), ('lived', 6), ('crumbs', 6), ('consumer', 6), ('haribo', 6), ('consistent', 6), ('carefully', 6), ('calorie', 6), ('stinking', 6), ('raisins', 6), ('lactose', 6), ('leaf', 6), ('row', 6), ('convenient', 6), ('figs', 6), ('nauseating', 6), ('cautious', 6), ('california', 6), ('currently', 6), ('marked', 6), ('cleanse', 6), ('knife', 6), ('slices', 6), ('shots', 6), ('ground', 6), ('lacked', 6), ('bottled', 6), ('inner', 6), ('removed', 6), ('inconsistent', 6), ('suffer', 6), ('tossing', 6), ('supplement', 6), ('ramen', 6), ('toxic', 6), ('pancake', 6), ('attempt', 6), ('batter', 6), ('eventually', 6), ('dated', 6), ('alive', 6), ('advise', 6), ('dissatisfied', 6), ('room', 6), ('pouches', 6), ('videoid', 6), ('airtight', 6), ('batches', 6), ('exact', 6), ('brittle', 6), ('strip', 6), ('tape', 6), ('tie', 6), ('approximately', 6), ('complaining', 6), ('moist', 6), ('flavorful', 6), ('hospital', 6), ('ring', 6), ('tsp', 6), ('hit', 6), ('prepared', 6), ('source', 6), ('thanksgiving', 6), ('majority', 6), ('friday', 6), ('busted', 6), ('brick', 6), ('jittery', 6), ('print', 6), ('laxative', 6), ('door', 6), ('necessary', 6), ('bowel', 6), ('temperature', 6), ('takes', 6), ('bran', 6), ('ends', 6), ('discard', 6), ('deep', 6), ('advice', 6), ('glue', 6), ('roll', 6), ('naturally', 6), ('portions', 6), ('news', 6), ('mayo', 6), ('soda', 6), ('craving', 6), ('mini', 6), ('rated', 6), ('spiked', 6), ('lasted', 6), ('numerous', 6), ('drops', 6), ('recipes', 6), ('hemp', 6), ('summer', 6), ('drying', 6), ('sized', 6), ('thrilled', 6), ('nope', 6), ('priced', 6), ('share', 6), ('substitutes', 6), ('partially', 6), ('medium', 6), ('miss', 6), ('seaweed', 6), ('cramping', 6), ('sons', 6), ('purchases', 6), ('replaced', 6), ('equipment', 6), ('pick', 6), ('quot', 6), ('aluminum', 6), ('versions', 6), ('damage', 6), ('causes', 6), ('production', 6), ('tootsie', 6), ('golden', 6), ('dip', 6), ('household', 6), ('instructions', 6), ('section', 6), ('scones', 6), ('watching', 6), ('responded', 6), ('homemade', 6), ('taffy', 6), ('molasses', 6), ('prices', 6), ('pero', 6), ('blah', 6), ('hydrolyzed', 6), ('feels', 6), ('amp', 6), ('study', 6), ('mint', 6), ('strips', 6), ('genetically', 6), ('vitamin', 6), ('crust', 6), ('english', 6), ('agent', 6), ('carmine', 6), ('dare', 5), ('reasons', 5), ('thru', 5), ('harder', 5), ('press', 5), ('drip', 5), ('vinegar', 5), ('ashamed', 5), ('gagged', 5), ('mixing', 5), ('tolerable', 5), ('discomfort', 5), ('grey', 5), ('cheesy', 5), ('interior', 5), ('pies', 5), ('strongly', 5), ('larabars', 5), ('dangers', 5), ('toxins', 5), ('putrid', 5), ('shaking', 5), ('washed', 5), ('tops', 5), ('notes', 5), ('bake', 5), ('concept', 5), ('lead', 5), ('stocking', 5), ('trip', 5), ('described', 5), ('images', 5), ('expectations', 5), ('puke', 5), ('burned', 5), ('burning', 5), ('oranges', 5), ('allulose', 5), ('waiting', 5), ('worried', 5), ('job', 5), ('sweeter', 5), ('manufacture', 5), ('closer', 5), ('father', 5), ('hive', 5), ('handling', 5), ('resealable', 5), ('eats', 5), ('yucky', 5), ('intake', 5), ('tangerine', 5), ('eight', 5), ('tend', 5), ('resolved', 5), ('lacking', 5), ('depression', 5), ('talk', 5), ('barcode', 5), ('tomorrow', 5), ('oily', 5), ('boyfriend', 5), ('bed', 5), ('ingesting', 5), ('shake', 5), ('recipient', 5), ('mixes', 5), ('degrees', 5), ('initially', 5), ('dose', 5), ('sister', 5), ('iron', 5), ('cellophane', 5), ('bent', 5), ('fantastic', 5), ('nutty', 5), ('cleaned', 5), ('thankfully', 5), ('created', 5), ('benefit', 5), ('hey', 5), ('choke', 5), ('continued', 5), ('servings', 5), ('kcups', 5), ('pouring', 5), ('hands', 5), ('removing', 5), ('thicker', 5), ('cranberries', 5), ('unsanitary', 5), ('sides', 5), ('tomatoes', 5), ('pecan', 5), ('march', 5), ('learned', 5), ('poisoned', 5), ('began', 5), ('facts', 5), ('rip', 5), ('intestinal', 5), ('cancel', 5), ('watch', 5), ('beat', 5), ('malt', 5), ('identical', 5), ('larvae', 5), ('collagen', 5), ('edit', 5), ('offered', 5), ('seat', 5), ('resulting', 5), ('peppercorns', 5), ('incredible', 5), ('floor', 5), ('junk', 5), ('move', 5), ('salted', 5), ('manuka', 5), ('protective', 5), ('musty', 5), ('florida', 5), ('requested', 5), ('winter', 5), ('outer', 5), ('covering', 5), ('starch', 5), ('wax', 5), ('peel', 5), ('accurate', 5), ('factory', 5), ('childhood', 5), ('creamers', 5), ('punctured', 5), ('feedback', 5), ('clumps', 5), ('age', 5), ('bunch', 5), ('yeast', 5), ('vendors', 5), ('omg', 5), ('starting', 5), ('search', 5), ('silk', 5), ('grainy', 5), ('effective', 5), ('citric', 5), ('teriyaki', 5), ('cherries', 5), ('mars', 5), ('pb', 5), ('fear', 5), ('split', 5), ('berries', 5), ('puffs', 5), ('gel', 5), ('latest', 5), ('brew', 5), ('significantly', 5), ('hear', 5), ('nobody', 5), ('writing', 5), ('skittles', 5), ('held', 5), ('describe', 5), ('purpose', 5), ('spoil', 5), ('sunflower', 5), ('parts', 5), ('resistance', 5), ('compare', 5), ('frequently', 5), ('spewing', 5), ('sample', 5), ('provided', 5), ('paint', 5), ('formulation', 5), ('cartons', 5), ('boiling', 5), ('turkish', 5), ('updated', 5), ('marmalade', 5), ('muscle', 5), ('mushroom', 5), ('southern', 5), ('buds', 5), ('adverse', 5), ('waited', 5), ('monthly', 5), ('ache', 5), ('alternatives', 5), ('grapefruit', 5), ('blender', 5), ('card', 5), ('ham', 5), ('credit', 5), ('sound', 5), ('scoby', 5), ('manufacturers', 5), ('macadamia', 5), ('oct', 5), ('lids', 5), ('obvious', 5), ('spring', 5), ('degree', 5), ('whatsoever', 5), ('cracker', 5), ('touch', 5), ('helpful', 5), ('runs', 5), ('canes', 5), ('blow', 5), ('vegetarian', 5), ('freshly', 5), ('prompt', 5), ('headaches', 5), ('lose', 5), ('smoothies', 5), ('basically', 5), ('failed', 5), ('orgain', 5), ('muffin', 5), ('supplements', 5), ('chicory', 5), ('pears', 5), ('soybean', 5), ('drug', 5), ('require', 5), ('standard', 5), ('beginning', 5), ('herb', 5), ('constipation', 5), ('retail', 5), ('serve', 5), ('goods', 5), ('google', 5), ('medications', 5), ('regarding', 5), ('rinse', 5), ('alot', 5), ('soylent', 5), ('emailed', 5), ('comments', 5), ('waxy', 5), ('digestive', 5), ('floating', 5), ('dozens', 5), ('seconds', 5), ('minute', 5), ('canned', 5), ('blends', 5), ('btw', 5), ('table', 5), ('sweeteners', 5), ('anticipated', 4), ('holding', 4), ('generic', 4), ('assumed', 4), ('tomato', 4), ('parents', 4), ('gerber', 4), ('ease', 4), ('improved', 4), ('painful', 4), ('sugary', 4), ('truffle', 4), ('lock', 4), ('favourite', 4), ('curry', 4), ('favorites', 4), ('trail', 4), ('personal', 4), ('usda', 4), ('whenever', 4), ('gag', 4), ('clumped', 4), ('pull', 4), ('kosher', 4), ('telling', 4), ('holiday', 4), ('directed', 4), ('crumbled', 4), ('oops', 4), ('key', 4), ('spain', 4), ('flu', 4), ('aweful', 4), ('usable', 4), ('marshmallows', 4), ('carmel', 4), ('cane', 4), ('kelp', 4), ('bitterness', 4), ('disclosed', 4), ('splurge', 4), ('wrote', 4), ('ziplock', 4), ('inspection', 4), ('hated', 4), ('outdated', 4), ('net', 4), ('heaven', 4), ('refused', 4), ('wine', 4), ('regardless', 4), ('build', 4), ('pumpkin', 4), ('fortunately', 4), ('brewing', 4), ('overly', 4), ('gooey', 4), ('puffed', 4), ('specific', 4), ('reasonable', 4), ('easier', 4), ('lately', 4), ('turning', 4), ('success', 4), ('latte', 4), ('inaccurate', 4), ('finely', 4), ('paste', 4), ('complained', 4), ('spoke', 4), ('city', 4), ('violently', 4), ('fyi', 4), ('squirrels', 4), ('admit', 4), ('practice', 4), ('confirmed', 4), ('pulling', 4), ('comfortable', 4), ('spread', 4), ('space', 4), ('touched', 4), ('attempted', 4), ('pissed', 4), ('undrinkable', 4), ('mid', 4), ('impression', 4), ('mom', 4), ('salmon', 4), ('loaded', 4), ('error', 4), ('yr', 4), ('scared', 4), ('soaked', 4), ('aspect', 4), ('tonight', 4), ('puked', 4), ('listen', 4), ('complain', 4), ('refunding', 4), ('talking', 4), ('sensitivity', 4), ('word', 4), ('tub', 4), ('twist', 4), ('till', 4), ('bring', 4), ('r', 4), ('material', 4), ('bakery', 4), ('early', 4), ('chunky', 4), ('lesson', 4), ('nectar', 4), ('nectevia', 4), ('reduced', 4), ('hoped', 4), ('palpitations', 4), ('cancelled', 4), ('bagels', 4), ('silly', 4), ('wrapping', 4), ('dehydrated', 4), ('transit', 4), ('cricket', 4), ('marks', 4), ('faded', 4), ('dissapointed', 4), ('drain', 4), ('bleeding', 4), ('butt', 4), ('gummi', 4), ('pouch', 4), ('gold', 4), ('anaphylactic', 4), ('pregnant', 4), ('running', 4), ('finished', 4), ('solution', 4), ('preservative', 4), ('produce', 4), ('cracking', 4), ('tightly', 4), ('death', 4), ('dropped', 4), ('cones', 4), ('frustrated', 4), ('assuming', 4), ('proper', 4), ('temperatures', 4), ('distributors', 4), ('deceptive', 4), ('purse', 4), ('loving', 4), ('pine', 4), ('faint', 4), ('saving', 4), ('damp', 4), ('school', 4), ('stories', 4), ('surface', 4), ('salame', 4), ('awhile', 4), ('block', 4), ('promptly', 4), ('pink', 4), ('ive', 4), ('wipe', 4), ('man', 4), ('subject', 4), ('feeding', 4), ('acidic', 4), ('bloody', 4), ('diaper', 4), ('ruining', 4), ('cheated', 4), ('noticing', 4), ('convenience', 4), ('grape', 4), ('yum', 4), ('heads', 4), ('swelling', 4), ('spoonful', 4), ('vs', 4), ('monday', 4), ('unbearable', 4), ('peppermint', 4), ('embarrassing', 4), ('road', 4), ('changing', 4), ('dosage', 4), ('sourdough', 4), ('pineapple', 4), ('twix', 4), ('reluctant', 4), ('constipated', 4), ('mixture', 4), ('kinds', 4), ('sounds', 4), ('believed', 4), ('arrowroot', 4), ('plant', 4), ('portion', 4), ('grain', 4), ('standards', 4), ('method', 4), ('pulp', 4), ('burns', 4), ('popping', 4), ('reminded', 4), ('donuts', 4), ('moving', 4), ('wondered', 4), ('force', 4), ('semi', 4), ('beautiful', 4), ('squished', 4), ('coworkers', 4), ('afternoon', 4), ('watery', 4), ('sausages', 4), ('lists', 4), ('additives', 4), ('intended', 4), ('horrid', 4), ('pricey', 4), ('arrives', 4), ('teavana', 4), ('tests', 4), ('samples', 4), ('feb', 4), ('whopping', 4), ('halves', 4), ('dishes', 4), ('aches', 4), ('eye', 4), ('warned', 4), ('rim', 4), ('meaning', 4), ('hazelnut', 4), ('country', 4), ('lecithin', 4), ('sounded', 4), ('dozen', 4), ('leg', 4), ('sensitivities', 4), ('reply', 4), ('helps', 4), ('timing', 4), ('kirkland', 4), ('granddaughter', 4), ('manage', 4), ('molds', 4), ('microwave', 4), ('wafers', 4), ('shared', 4), ('warn', 4), ('january', 4), ('scam', 4), ('cons', 4), ('pin', 4), ('joke', 4), ('closely', 4), ('burst', 4), ('situation', 4), ('shady', 4), ('raise', 4), ('formed', 4), ('distress', 4), ('dough', 4), ('intense', 4), ('saved', 4), ('refuse', 4), ('leads', 4), ('places', 4), ('conclusion', 4), ('algae', 4), ('sub', 4), ('par', 4), ('discarded', 4), ('appreciate', 4), ('mangoes', 4), ('organics', 4), ('approx', 4), ('sulfur', 4), ('severely', 4), ('konjac', 4), ('cupboard', 4), ('happens', 4), ('com', 4), ('raising', 4), ('restaurants', 4), ('cadbury', 4), ('easter', 4), ('porcini', 4), ('passing', 4), ('thinner', 4), ('affects', 4), ('thereby', 4), ('giant', 4), ('vegetables', 4), ('reviewer', 4), ('panic', 4), ('attacks', 4), ('falling', 4), ('repeat', 4), ('business', 4), ('fuzzy', 4), ('percentage', 4), ('filler', 4), ('young', 4), ('marketing', 4), ('blueberry', 4), ('harmful', 4), ('fda', 4), ('harsh', 4), ('leak', 4), ('flaky', 4), ('irritated', 4), ('rare', 4), ('affected', 4), ('partial', 4), ('related', 4), ('butterfinger', 4), ('originally', 4), ('compound', 4), ('concern', 4), ('shellfish', 4), ('title', 4), ('illness', 4), ('trashed', 4), ('seeing', 4), ('reach', 4), ('harm', 4), ('reduce', 4), ('grease', 4), ('tract', 4), ('asking', 4), ('pea', 4), ('bob', 4), ('eyes', 4), ('picky', 4), ('absorbed', 4), ('dr', 4), ('lifespan', 4), ('crumpets', 4), ('superior', 4), ('evening', 4), ('nutrients', 4), ('kefir', 4), ('farmers', 4), ('poi', 4), ('prone', 4), ('glycemic', 4), ('science', 4), ('chicken', 4), ('includes', 4), ('botulism', 4), ('chili', 4), ('calling', 4), ('boiled', 4), ('additionally', 4), ('speak', 4), ('probiotic', 4), ('signs', 4), ('rambutans', 4), ('wontons', 4), ('calcium', 4), ('straws', 4), ('undesirable', 4), ('listings', 4), ('bottling', 4), ('inward', 4), ('brownie', 3), ('shut', 3), ('beetles', 3), ('kimchi', 3), ('pushed', 3), ('blown', 3), ('uses', 3), ('lollipops', 3), ('unsafe', 3), ('noxious', 3), ('doused', 3), ('bagged', 3), ('members', 3), ('moon', 3), ('gain', 3), ('robust', 3), ('wood', 3), ('tamper', 3), ('practically', 3), ('coloring', 3), ('overpowers', 3), ('origin', 3), ('earned', 3), ('nowadays', 3), ('bullet', 3), ('details', 3), ('destroyed', 3), ('mystery', 3), ('pour', 3), ('fail', 3), ('boo', 3), ('intention', 3), ('poisonous', 3), ('charging', 3), ('tins', 3), ('sketchy', 3), ('metallic', 3), ('japan', 3), ('image', 3), ('profit', 3), ('dollar', 3), ('american', 3), ('strict', 3), ('member', 3), ('greatly', 3), ('angry', 3), ('ton', 3), ('messy', 3), ('sift', 3), ('earthy', 3), ('airport', 3), ('p', 3), ('confusing', 3), ('mediocre', 3), ('enjoylife', 3), ('ziploc', 3), ('follow', 3), ('grocer', 3), ('reports', 3), ('sugars', 3), ('altered', 3), ('swelled', 3), ('cheat', 3), ('concerning', 3), ('sleeping', 3), ('sign', 3), ('shock', 3), ('statement', 3), ('sourwood', 3), ('brother', 3), ('purchaser', 3), ('sells', 3), ('served', 3), ('expiring', 3), ('derived', 3), ('gastric', 3), ('consumers', 3), ('roasting', 3), ('decide', 3), ('reordered', 3), ('user', 3), ('purposes', 3), ('decision', 3), ('dusty', 3), ('threatening', 3), ('forgot', 3), ('unique', 3), ('heating', 3), ('tears', 3), ('flush', 3), ('nine', 3), ('discounted', 3), ('asap', 3), ('shortly', 3), ('bright', 3), ('rx', 3), ('handy', 3), ('wave', 3), ('nights', 3), ('culprit', 3), ('stomachache', 3), ('utterly', 3), ('loaves', 3), ('travel', 3), ('mug', 3), ('bubbles', 3), ('mainly', 3), ('adjust', 3), ('darn', 3), ('consistently', 3), ('scratch', 3), ('focus', 3), ('sharp', 3), ('krave', 3), ('eastern', 3), ('desserts', 3), ('insult', 3), ('progressively', 3), ('cooker', 3), ('minimum', 3), ('bagel', 3), ('draw', 3), ('improper', 3), ('sucks', 3), ('bbq', 3), ('appetite', 3), ('aid', 3), ('connection', 3), ('becoming', 3), ('sizes', 3), ('vitamins', 3), ('watered', 3), ('tries', 3), ('shipments', 3), ('decrease', 3), ('leaks', 3), ('raises', 3), ('question', 3), ('tampering', 3), ('pity', 3), ('dislike', 3), ('pleasure', 3), ('markings', 3), ('wrinkled', 3), ('stays', 3), ('tune', 3), ('meh', 3), ('trick', 3), ('edges', 3), ('heavily', 3), ('doesnt', 3), ('snacking', 3), ('depending', 3), ('globs', 3), ('sicker', 3), ('gulp', 3), ('glob', 3), ('perishable', 3), ('timely', 3), ('manner', 3), ('wedding', 3), ('explanation', 3), ('equal', 3), ('evidence', 3), ('dishonest', 3), ('measuring', 3), ('ceylon', 3), ('rough', 3), ('carrier', 3), ('brine', 3), ('resealed', 3), ('seemingly', 3), ('wasting', 3), ('discoloration', 3), ('letting', 3), ('blank', 3), ('ms', 3), ('kidding', 3), ('button', 3), ('discover', 3), ('slowly', 3), ('onion', 3), ('suddenly', 3), ('cakes', 3), ('questions', 3), ('excuse', 3), ('eve', 3), ('nicely', 3), ('caffeinated', 3), ('moth', 3), ('cute', 3), ('icing', 3), ('julian', 3), ('delivering', 3), ('finishing', 3), ('fingers', 3), ('itching', 3), ('goodies', 3), ('physically', 3), ('integrity', 3), ('spiders', 3), ('materials', 3), ('guaranteed', 3), ('qc', 3), ('reported', 3), ('frustrating', 3), ('holds', 3), ('sprayed', 3), ('confirm', 3), ('prunes', 3), ('traces', 3), ('raisin', 3), ('vanillin', 3), ('disapointed', 3), ('pan', 3), ('besides', 3), ('inn', 3), ('distributor', 3), ('brazilian', 3), (\"'best\", 3), ('dietary', 3), ('sept', 3), ('co', 3), ('hulls', 3), ('gallo', 3), ('recall', 3), ('handled', 3), ('diabetes', 3), ('xylitol', 3), ('towards', 3), ('suck', 3), ('improvement', 3), ('treenuts', 3), ('resulted', 3), ('clumping', 3), ('wide', 3), ('detail', 3), ('bothered', 3), ('message', 3), ('outstanding', 3), ('beverage', 3), ('infection', 3), ('sores', 3), ('pediatrician', 3), ('reeked', 3), ('agreed', 3), ('daughters', 3), ('watermelon', 3), ('laffy', 3), ('crispy', 3), ('lets', 3), ('breaks', 3), ('centers', 3), ('stuffed', 3), ('increased', 3), ('eatable', 3), ('ant', 3), ('fragrance', 3), ('dad', 3), ('pimples', 3), ('discontinued', 3), ('rainbow', 3), ('maple', 3), ('mar', 3), ('ignore', 3), ('clients', 3), ('sooo', 3), ('frosting', 3), ('passion', 3), ('sun', 3), ('equally', 3), ('particularly', 3), ('environment', 3), ('movement', 3), ('repurchase', 3), ('assorted', 3), ('luckily', 3), ('asian', 3), ('sandwiches', 3), ('comfort', 3), ('tapioca', 3), ('wraps', 3), ('sometime', 3), ('sausage', 3), ('shelves', 3), ('markets', 3), ('requires', 3), ('moisture', 3), ('inspected', 3), ('access', 3), ('halfway', 3), ('final', 3), ('liking', 3), ('nettle', 3), ('plenty', 3), ('handles', 3), ('disgustingly', 3), ('nutiva', 3), ('tablespoon', 3), ('ride', 3), ('texas', 3), ('produces', 3), ('enclosed', 3), ('icky', 3), ('wash', 3), ('greasy', 3), ('ick', 3), ('saturated', 3), ('porch', 3), ('farm', 3), ('synthetic', 3), ('migraine', 3), ('pear', 3), ('factor', 3), ('brings', 3), ('newmans', 3), ('jasmine', 3), ('abdominal', 3), ('report', 3), ('difficulty', 3), ('enjoying', 3), ('thistle', 3), ('gaps', 3), ('rush', 3), ('stain', 3), ('sufficiently', 3), ('fishy', 3), ('twisted', 3), ('appeal', 3), ('dump', 3), ('occurred', 3), ('ketosis', 3), ('deserve', 3), ('monk', 3), ('tender', 3), ('animal', 3), ('oddly', 3), ('car', 3), ('injury', 3), ('basmati', 3), ('nori', 3), ('rise', 3), ('steak', 3), ('rotting', 3), ('forced', 3), ('laces', 3), ('dull', 3), ('alcohol', 3), ('explosive', 3), ('glowing', 3), ('hearing', 3), ('extent', 3), ('create', 3), ('mousse', 3), ('dessert', 3), ('ps', 3), ('runa', 3), ('noticeable', 3), ('nibs', 3), ('wholesome', 3), ('irritation', 3), ('er', 3), ('id', 3), ('die', 3), ('marijuana', 3), ('pros', 3), ('soak', 3), ('hibiscus', 3), ('curious', 3), ('bloom', 3), ('dental', 3), ('pizza', 3), ('bs', 3), ('project', 3), ('experiences', 3), ('heated', 3), ('miso', 3), ('halvah', 3), ('wherever', 3), ('inventory', 3), ('responsible', 3), ('learn', 3), ('chunk', 3), ('crema', 3), ('concentration', 3), ('subscribing', 3), ('realizing', 3), ('authentic', 3), ('percent', 3), ('lie', 3), ('prevent', 3), ('sawdust', 3), ('experiment', 3), ('soooo', 3), ('foreign', 3), ('medley', 3), ('ingest', 3), ('types', 3), ('spot', 3), ('suffered', 3), ('traditional', 3), ('combination', 3), ('visible', 3), ('direct', 3), ('edge', 3), ('rotted', 3), ('selected', 3), ('overripe', 3), ('jello', 3), ('dioxide', 3), ('macadamias', 3), ('useful', 3), ('aged', 3), ('metal', 3), ('iced', 3), ('clotted', 3), ('mass', 3), ('jewel', 3), ('kombucha', 3), ('pallet', 3), ('tested', 3), ('diseases', 3), ('feature', 3), ('boston', 3), ('satisfying', 3), ('vile', 3), ('overnight', 3), ('crumbling', 3), ('hundreds', 3), ('un', 3), ('bm', 3), ('muffins', 3), ('nevertheless', 3), ('garden', 3), ('ordinary', 3), ('wouldnt', 3), ('ways', 3), ('canada', 3), ('round', 3), ('humidity', 3), ('humid', 3), ('increasing', 3), ('china', 3), ('capsule', 3), ('example', 3), ('tilda', 3), ('barley', 3), ('guilt', 3), ('india', 3), ('power', 3), ('fed', 3), ('importantly', 3), ('blueberries', 3), ('relaxed', 3), ('sleepy', 3), ('links', 3), ('cancer', 3), ('reality', 3), ('quantities', 3), ('enhancer', 3), ('lowered', 3), ('crazy', 3), ('mental', 3), ('padding', 3), ('aspartame', 3), ('rep', 3), ('wal', 3), ('mart', 3), ('required', 3), ('subtle', 3), ('associated', 3), ('terms', 3), ('unappetizing', 3), ('thats', 3), ('n', 3), ('peptides', 3), ('contacting', 3), ('originals', 3), ('classic', 3), ('gmos', 3), ('proteins', 3), ('reviewed', 3), ('official', 3), ('club', 3), ('settled', 3), ('exceptionally', 3), ('medicine', 3), ('ummc', 3), ('medical', 3), ('allsorts', 3), ('flies', 3), ('salami', 3), ('chipped', 3), ('guessing', 3), ('selections', 3), ('benadryl', 3), ('scary', 3), ('twizzlers', 3), ('apologize', 3), ('likes', 3), ('pre', 3), ('context', 3), ('lady', 3), ('movie', 3), ('confused', 3), ('infusio', 3), ('incorrect', 3), ('froze', 3), ('yogurt', 3), ('advent', 3), ('calendar', 3), ('trans', 3), ('fats', 3), ('hydrogenated', 3), ('range', 3), ('humans', 3), ('stable', 3), ('milks', 3), ('cow', 3), ('qualities', 3), ('rosemary', 3), ('marketed', 3), ('tad', 3), ('vision', 3), ('questionable', 3), ('bath', 3), ('laying', 3), ('safely', 3), ('security', 3), ('changes', 3), ('design', 3), ('exception', 3), ('afghan', 3), ('relief', 3), ('transport', 3), ('sideways', 3), ('cliff', 3), ('hanger', 3), ('oro', 3), ('supply', 3), ('disliked', 3), ('steel', 3), ('testing', 3), ('webbing', 3), ('wont', 3), ('flimsy', 3), ('conditions', 3), ('terrasoul', 3), ('fungus', 3), ('strength', 3), ('genuine', 3), ('incorrectly', 3), ('maggots', 3), ('spikes', 3), ('index', 3), ('disorders', 3), ('promotes', 3), ('organs', 3), ('glycogen', 3), ('thickening', 3), ('soluble', 3), ('binding', 3), ('leaky', 3), ('promised', 3), ('moment', 3), ('rye', 3), ('suspicious', 3), ('trader', 3), ('pungent', 3), ('ou', 3), ('mislabeling', 3), ('owner', 3), ('dropper', 3), ('chai', 3), ('tired', 3), ('allison', 3), ('nature', 3), ('replied', 3), ('sweetner', 3), ('scent', 3), ('words', 3), ('eacute', 3), ('wonton', 3), ('chinese', 3), ('chow', 3), ('mein', 3), ('charge', 3), ('mustard', 3), ('sifted', 3), ('boba', 3), ('veggie', 3), ('indigestion', 3), ('caps', 3), ('indeed', 3), ('dimpling', 3), ('presence', 3), ('producer', 3), ('reeds', 3), ('chestnut', 3), ('measures', 2), ('flake', 2), ('balloon', 2), ('albanese', 2), ('nowhere', 2), ('lemonade', 2), ('punch', 2), ('react', 2), ('similac', 2), ('reacted', 2), ('supplied', 2), ('understanding', 2), ('fabulous', 2), ('offerings', 2), ('depth', 2), ('breathing', 2), ('individuals', 2), ('stinger', 2), ('flag', 2), ('powders', 2), ('reminds', 2), ('countries', 2), ('storing', 2), ('protect', 2), ('prize', 2), ('flashes', 2), ('boil', 2), ('penny', 2), ('hopeful', 2), ('developing', 2), ('poppy', 2), ('action', 2), ('attempting', 2), ('purple', 2), ('scattered', 2), ('taco', 2), ('namaste', 2), ('replacer', 2), ('substituting', 2), ('heavenly', 2), ('dermatitis', 2), ('triggered', 2), ('messed', 2), ('proceed', 2), ('aficionado', 2), ('slow', 2), ('bargain', 2), ('settle', 2), ('hue', 2), (\"'midges\", 2), ('holy', 2), ('credited', 2), ('dill', 2), ('catch', 2), ('morsels', 2), ('occur', 2), ('inspect', 2), ('lactaid', 2), ('pill', 2), ('forms', 2), ('tuna', 2), ('develop', 2), ('sensation', 2), ('scalp', 2), ('accompanied', 2), ('died', 2), ('shuffled', 2), ('weevils', 2), ('gray', 2), ('fl', 2), ('nickel', 2), ('funyuns', 2), ('gather', 2), ('colorless', 2), ('vietnam', 2), ('papers', 2), ('verified', 2), ('coffees', 2), ('stunk', 2), ('drinkers', 2), ('stage', 2), ('wind', 2), ('rapidly', 2), ('xantham', 2), ('sunbest', 2), ('overwhelming', 2), ('staleness', 2), ('upsetting', 2), ('reviewing', 2), ('maintain', 2), ('plants', 2), ('absolutly', 2), ('meats', 2), ('liquorice', 2), ('engineering', 2), ('team', 2), ('cobalt', 2), ('offering', 2), ('reishi', 2), ('loud', 2), ('horrendous', 2), ('ceremonial', 2), ('contrary', 2), ('sumac', 2), ('tiger', 2), ('accident', 2), ('soured', 2), ('stress', 2), ('pm', 2), ('freaking', 2), ('york', 2), ('ugly', 2), ('inexcusable', 2), ('salon', 2), ('budge', 2), ('oven', 2), ('doughy', 2), ('kicker', 2), ('neck', 2), ('play', 2), ('written', 2), ('welcome', 2), ('frustration', 2), ('brownies', 2), ('mask', 2), ('stamp', 2), ('baklava', 2), ('east', 2), ('sampled', 2), ('kona', 2), ('bigfoot', 2), ('flavoring', 2), ('mistakenly', 2), ('bouquet', 2), ('fastest', 2), ('ruin', 2), ('chrysanthemum', 2), ('thinks', 2), ('unwanted', 2), ('charlotte', 2), ('tons', 2), ('eb', 2), ('cho', 2), ('fu', 2), ('meals', 2), ('cuts', 2), ('wake', 2), ('hype', 2), ('sprouting', 2), ('eagerly', 2), ('corrected', 2), ('taped', 2), ('cat', 2), ('quinoa', 2), ('placing', 2), ('cells', 2), ('canister', 2), ('darker', 2), ('faster', 2), ('ridges', 2), ('support', 2), ('lining', 2), ('scooped', 2), ('address', 2), ('rubbed', 2), ('happily', 2), ('reccomend', 2), ('truvia', 2), ('dissapointing', 2), ('liquor', 2), ('holidays', 2), ('baffled', 2), ('event', 2), ('discrepancy', 2), ('explained', 2), ('repeating', 2), ('pointed', 2), ('comparing', 2), ('furthermore', 2), ('prove', 2), ('spitting', 2), ('distributed', 2), ('answer', 2), ('bubbled', 2), ('protection', 2), ('consequently', 2), ('disposal', 2), ('sam', 2), ('minus', 2), ('headaces', 2), ('stoped', 2), ('sucker', 2), ('fillers', 2), ('afterwards', 2), ('lunches', 2), ('kneaded', 2), ('migraines', 2), ('sliced', 2), ('bird', 2), ('feather', 2), ('tale', 2), ('hotel', 2), ('digestion', 2), ('ears', 2), ('leakage', 2), ('swell', 2), ('dismay', 2), ('sake', 2), ('stomachs', 2), ('tag', 2), ('slept', 2), ('disturbed', 2), ('greatest', 2), ('mins', 2), ('isolate', 2), ('unicorn', 2), ('kiddo', 2), ('emails', 2), ('rectify', 2), ('mission', 2), ('flared', 2), ('suffering', 2), ('trade', 2), ('ignored', 2), ('potent', 2), ('evil', 2), ('posing', 2), ('nuclear', 2), ('intestines', 2), ('gurgling', 2), ('intensity', 2), ('impending', 2), ('commode', 2), ('grasp', 2), ('exhaust', 2), ('fate', 2), ('dampened', 2), ('towel', 2), ('gap', 2), ('grabbing', 2), ('prescription', 2), ('colonoscopy', 2), ('evacuation', 2), ('colon', 2), ('enemy', 2), ('scheduled', 2), ('bowels', 2), ('keebler', 2), ('accordingly', 2), ('inch', 2), ('pregnancy', 2), ('lol', 2), ('garage', 2), ('minis', 2), ('shredded', 2), ('social', 2), ('chosen', 2), ('occasions', 2), ('isnt', 2), ('somebody', 2), ('remembered', 2), ('glycerin', 2), ('runny', 2), ('dating', 2), ('lenny', 2), ('larry', 2), ('liability', 2), ('incident', 2), ('stew', 2), ('carnation', 2), ('disabled', 2), ('vet', 2), ('essentials', 2), ('reduction', 2), ('dolmas', 2), ('guest', 2), ('mailbox', 2), ('coriander', 2), ('excess', 2), ('unusually', 2), ('chub', 2), ('ought', 2), ('autoimmune', 2), ('havoc', 2), ('locked', 2), ('debilitating', 2), ('mark', 2), ('behold', 2), ('bb', 2), ('ass', 2), ('scottie', 2), ('outlets', 2), ('london', 2), ('natures', 2), ('kamut', 2), ('connoisseur', 2), ('hits', 2), ('recourse', 2), ('indication', 2), ('webby', 2), ('fibers', 2), ('unnecessary', 2), ('model', 2), ('accomplished', 2), ('respect', 2), ('admittedly', 2), ('navy', 2), ('wounds', 2), ('denial', 2), ('antibiotic', 2), ('treatment', 2), ('exclusively', 2), ('breastfed', 2), ('stopping', 2), ('lo', 2), ('rinsing', 2), ('sandwich', 2), ('couscous', 2), ('yrs', 2), ('sooner', 2), ('alert', 2), ('potatoe', 2), ('book', 2), ('toddler', 2), ('pirate', 2), ('booty', 2), ('oreo', 2), ('coupon', 2), ('building', 2), ('fudge', 2), ('inquired', 2), ('walked', 2), ('pores', 2), ('orderd', 2), ('fries', 2), ('managed', 2), ('unreturnable', 2), ('shopping', 2), ('diagnosed', 2), ('skip', 2), ('rubber', 2), ('fooled', 2), ('misunderstanding', 2), ('grower', 2), ('ratio', 2), ('initial', 2), ('cbd', 2), ('immediate', 2), ('ol', 2), ('snake', 2), ('yeah', 2), ('cheetos', 2), ('species', 2), ('ragweed', 2), ('refrigerant', 2), ('insulated', 2), ('cooling', 2), ('corners', 2), ('vaccuum', 2), ('numbness', 2), ('fatty', 2), ('smelly', 2), ('indian', 2), ('tumeric', 2), ('gf', 2), ('surgery', 2), ('smarties', 2), (\"'new\", 2), ('keeps', 2), ('flipped', 2), ('sturdy', 2), ('slowest', 2), ('faked', 2), ('starbucks', 2), ('pistachio', 2), ('lefse', 2), ('hello', 2), ('downright', 2), ('makers', 2), ('bananas', 2), ('skeptical', 2), ('alfalfa', 2), ('hay', 2), ('glaze', 2), ('spoon', 2), ('alright', 2), ('occasionally', 2), ('disappoint', 2), ('students', 2), ('requesting', 2), ('oozing', 2), ('happening', 2), ('roller', 2), ('coaster', 2), ('fluffy', 2), ('clouds', 2), ('lovely', 2), ('presented', 2), ('wiped', 2), ('defeats', 2), ('occasional', 2), ('counterfeit', 2), ('coworker', 2), ('annoying', 2), ('tighten', 2), ('strawberries', 2), ('digesting', 2), ('advised', 2), ('depicted', 2), ('disodium', 2), ('firmly', 2), ('valentine', 2), ('ghirardelli', 2), ('imported', 2), ('essentially', 2), ('suffers', 2), ('stinky', 2), ('sips', 2), ('kit', 2), ('artificially', 2), ('illy', 2), ('sahale', 2), ('impulse', 2), ('rowntree', 2), ('unreliable', 2), ('sales', 2), ('deformed', 2), ('hardened', 2), ('bizarre', 2), ('choked', 2), ('pearl', 2), ('tablespoons', 2), ('ambulance', 2), ('brewer', 2), ('deter', 2), ('exploded', 2), ('drag', 2), ('stuffer', 2), ('mealy', 2), ('crown', 2), ('ethiopian', 2), ('alvita', 2), ('bundle', 2), ('hooked', 2), ('marker', 2), ('unsaturated', 2), ('oxidize', 2), ('exposure', 2), ('seven', 2), ('clinic', 2), ('river', 2), ('bubbling', 2), ('peoples', 2), ('splattered', 2), ('underside', 2), ('canning', 2), ('compromises', 2), ('entered', 2), ('oxidation', 2), ('sealing', 2), ('machines', 2), ('producing', 2), ('closest', 2), ('palate', 2), ('deprive', 2), ('intolerant', 2), ('mccann', 2), ('passable', 2), ('dipping', 2), ('challenge', 2), ('hence', 2), ('kicked', 2), ('jolly', 2), ('rancher', 2), ('fans', 2), ('led', 2), ('blob', 2), ('soapy', 2), ('begin', 2), ('dots', 2), ('trolli', 2), ('brite', 2), ('crawlers', 2), ('gnawing', 2), ('chewed', 2), ('track', 2), ('livid', 2), ('handfuls', 2), ('ball', 2), ('professional', 2), ('cemented', 2), ('thumbs', 2), ('taiwan', 2), ('acting', 2), ('handed', 2), ('repeatedly', 2), ('meantime', 2), ('savings', 2), ('damn', 2), ('devil', 2), ('mccormick', 2), ('kernals', 2), ('community', 2), ('varieties', 2), ('couch', 2), ('supermarket', 2), ('cravings', 2), ('graham', 2), ('rubbing', 2), ('evident', 2), ('trusted', 2), ('tart', 2), ('mis', 2), ('critical', 2), ('presumably', 2), ('cheesecake', 2), ('base', 2), ('harney', 2), ('becomes', 2), ('instructed', 2), ('anyways', 2), ('mocha', 2), ('secondary', 2), ('training', 2), ('appalled', 2), ('stickers', 2), ('corner', 2), ('pickles', 2), ('attractive', 2), ('amazed', 2), ('preparation', 2), ('inducing', 2), ('prepare', 2), ('clamshell', 2), ('grab', 2), ('dealt', 2), ('fig', 2), ('bleed', 2), ('facial', 2), ('crumble', 2), ('pez', 2), ('accepted', 2), ('wants', 2), ('judging', 2), ('fodmap', 2), ('nestle', 2), ('miles', 2), ('pk', 2), ('employee', 2), ('beer', 2), ('inhale', 2), ('odorless', 2), ('square', 2), ('thawed', 2), ('coated', 2), ('terrific', 2), ('ale', 2), ('insanely', 2), ('diluted', 2), ('sore', 2), ('troll', 2), ('homeless', 2), ('pile', 2), ('brain', 2), ('forget', 2), ('cry', 2), ('underlying', 2), ('dedicated', 2), ('persons', 2), ('pose', 2), ('appropriately', 2), ('breaking', 2), ('potatoes', 2), ('perfume', 2), ('crumpet', 2), ('pomegranate', 2), ('seeped', 2), ('rose', 2), ('spectacular', 2), ('thankful', 2), ('warheads', 2), ('tast', 2), ('pics', 2), ('sulfites', 2), ('toothpick', 2), ('objects', 2), ('upper', 2), ('fourth', 2), ('object', 2), ('lips', 2), ('obsessed', 2), ('combined', 2), ('dumping', 2), ('clearance', 2), ('reese', 2), ('grains', 2), ('hummus', 2), ('sandy', 2), ('forever', 2), ('wiping', 2), ('quit', 2), ('interesting', 2), ('citrus', 2), ('separation', 2), ('anomaly', 2), ('ideal', 2), ('ten', 2), ('sanpellegrino', 2), ('isolated', 2), ('truck', 2), ('begun', 2), ('dehydrating', 2), ('ultimately', 2), ('ripe', 2), ('stringy', 2), ('indus', 2), ('sep', 2), ('unsatisfied', 2), ('hazard', 2), ('biting', 2), ('anxious', 2), ('glued', 2), ('silicon', 2), ('connected', 2), ('rolling', 2), ('dealing', 2), ('clinical', 2), ('thyroid', 2), ('preventing', 2), ('trace', 2), ('residue', 2), ('mary', 2), ('conventional', 2), ('stool', 2), ('lay', 2), ('neurotoxin', 2), ('residing', 2), ('molding', 2), ('oj', 2), ('tropicana', 2), ('squeeze', 2), ('chickpea', 2), ('ranch', 2), ('assured', 2), ('newer', 2), ('england', 2), ('shook', 2), ('scrape', 2), ('crumb', 2), ('melting', 2), ('gallon', 2), ('jug', 2), ('released', 2), ('plague', 2), ('italy', 2), ('spew', 2), ('calendars', 2), ('delish', 2), ('curds', 2), ('chances', 2), ('reordering', 2), ('solids', 2), ('husks', 2), ('lindt', 2), ('twists', 2), ('sheet', 2), ('sweating', 2), ('specified', 2), ('aside', 2), ('debating', 2), ('preparing', 2), ('planned', 2), ('sends', 2), ('unsure', 2), ('unimpressed', 2), ('onions', 2), ('video', 2), ('showing', 2), ('stood', 2), ('gram', 2), ('frankly', 2), ('stronger', 2), ('shark', 2), ('tank', 2), ('caught', 2), ('provides', 2), ('journal', 2), ('claim', 2), ('critters', 2), ('sits', 2), ('buck', 2), ('cents', 2), ('technically', 2), ('ad', 2), ('morinaga', 2), ('imitation', 2), ('knock', 2), ('swiss', 2), ('induced', 2), ('teaspoons', 2), ('triple', 2), ('alcoholic', 2), ('coconuts', 2), ('gulkanda', 2), ('snow', 2), ('pasture', 2), ('adult', 2), ('industry', 2), ('unhealthy', 2), ('industrial', 2), ('reproductive', 2), ('tmi', 2), ('excessive', 2), ('stinging', 2), ('jack', 2), ('dextrose', 2), ('monosodium', 2), ('glutamate', 2), ('administration', 2), ('regulations', 2), ('requirement', 2), ('cares', 2), ('roaster', 2), ('smokey', 2), ('honesty', 2), ('octane', 2), ('cash', 2), ('comparable', 2), ('shower', 2), ('remover', 2), ('snickers', 2), ('cough', 2), ('helping', 2), ('release', 2), ('infants', 2), ('upside', 2), ('cooler', 2), ('coat', 2), ('shards', 2), ('noticeably', 2), ('artisana', 2), ('tapped', 2), ('responsibility', 2), ('tamarind', 2), ('caramelized', 2), ('buttery', 2), ('refilled', 2), ('motivated', 2), ('yogi', 2), ('loot', 2), ('dash', 2), ('bonus', 2), ('float', 2), ('profile', 2), ('greenbow', 2), ('allows', 2), ('lowest', 2), ('oral', 2), ('lounge', 2), ('scientific', 2), ('juan', 2), ('valdez', 2), ('costly', 2), ('reflux', 2), ('projectile', 2), ('trashing', 2), ('arabica', 2), ('tear', 2), ('accidentally', 2), ('kroger', 2), ('cascade', 2), ('dysfunction', 2), ('math', 2), ('sparingly', 2), ('bout', 2), ('sliding', 2), ('shameful', 2), ('lowering', 2), ('national', 2), ('active', 2), ('enzyme', 2), ('sfgate', 2), ('fatigue', 2), ('doses', 2), ('risks', 2), ('buildup', 2), ('women', 2), ('roommate', 2), ('everytime', 2), ('lazy', 2), ('afterward', 2), ('thorough', 2), ('peppermints', 2), ('promise', 2), ('grandmother', 2), ('switching', 2), ('crumbles', 2), ('carrageenan', 2), ('hides', 2), ('dreadful', 2), ('fungi', 2), ('afford', 2), ('sorbate', 2), ('refunds', 2), ('mouse', 2), ('text', 2), ('horror', 2), ('greens', 2), ('fd', 2), ('relabeled', 2), ('fancy', 2), ('digest', 2), ('worry', 2), ('carries', 2), ('kettle', 2), ('peeled', 2), ('charms', 2), ('merchandise', 2), ('intent', 2), ('buns', 2), ('shall', 2), ('disgust', 2), ('refuses', 2), ('unmarked', 2), ('pic', 2), ('atrocious', 2), ('currant', 2), ('masked', 2), ('resalable', 2), ('hikes', 2), ('diabetics', 2), ('popper', 2), ('unused', 2), ('moved', 2), ('gelatinous', 2), ('dutch', 2), ('remainder', 2), ('manufacturing', 2), ('swedish', 2), ('deeply', 2), ('fry', 2), ('fryer', 2), ('indicating', 2), ('chaff', 2), ('fuel', 2), ('soaking', 2), ('race', 2), ('switch', 2), ('bun', 2), ('cupcakes', 2), ('treenut', 2), ('bold', 2), ('cassia', 2), ('kidney', 2), ('allergenic', 2), ('preface', 2), ('swear', 2), ('sprout', 2), ('frequent', 2), ('filtered', 2), ('winged', 2), ('former', 2), ('monkfruit', 2), ('jump', 2), ('fellow', 2), ('compost', 2), ('bf', 2), ('sunday', 2), ('begins', 2), ('chronic', 2), ('sprouts', 2), ('pacific', 2), ('scenario', 2), ('blending', 2), ('milkshake', 2), ('textures', 2), ('parm', 2), ('hormone', 2), ('displayed', 2), ('conveniently', 2), ('withheld', 2), ('upload', 2), ('categories', 2), ('stands', 2), ('coco', 2), ('glaucoma', 2), ('chaga', 2), ('puking', 2), ('guts', 2), ('de', 2), ('nutritionist', 2), ('february', 2), ('nastiness', 2), ('discount', 2), ('legs', 2), ('breathe', 2), ('inquiring', 2), ('curt', 2), ('obligation', 2), ('guidelines', 2), ('foresee', 2), ('component', 2), ('belief', 2), ('crawled', 2), ('fortune', 2), ('baskets', 2), ('oat', 2), ('babies', 2), ('drained', 2), ('procedures', 2), ('deals', 2), ('inc', 2), ('lasting', 2), ('peanot', 2), ('sprinkling', 2), ('distinct', 2), ('permanent', 2), ('dd', 2), ('indulge', 2), ('kurig', 2), ('forcing', 2), ('balls', 2), ('preference', 2), ('wedderspoon', 2), ('ineffective', 2), ('introduce', 2), ('infant', 2), ('lavazza', 2), ('usps', 2), ('filberts', 2), ('fragrant', 2), ('crystallized', 2), ('unsalted', 2), ('refillable', 2), ('lighter', 2), ('thaw', 2), ('complaints', 2), ('nephew', 2), ('repel', 2), ('spoilage', 2), ('balance', 2), ('click', 2), ('vary', 2), ('horse', 2), ('bagging', 2), ('basics', 2), ('justify', 2), ('cancelling', 2), ('presents', 2), ('considered', 2), ('limit', 2), ('crush', 2), ('caramels', 2), ('current', 2), ('shriveled', 2), ('insulin', 2), ('complex', 2), ('suppresses', 2), ('beneficial', 2), ('conducted', 2), ('polysaccharides', 2), ('linked', 2), ('adhesion', 2), ('broad', 2), ('inflammatory', 2), ('biology', 2), ('responses', 2), ('defense', 2), ('axe', 2), ('published', 2), ('toxically', 2), ('bodily', 2), ('systems', 2), ('enzymes', 2), ('nutritious', 2), ('devoid', 2), ('choosing', 2), ('bind', 2), ('rats', 2), ('carbohydrate', 2), ('substances', 2), ('cholesterol', 2), ('digested', 2), ('metabolize', 2), ('surprising', 2), ('antioxidants', 2), ('boosting', 2), ('improves', 2), ('webinar', 2), ('swallow', 2), ('methods', 2), ('wings', 2), ('delayed', 2), ('delay', 2), ('temporarily', 2), ('informed', 2), ('sauces', 2), ('dumpster', 2), ('eclair', 2), ('style', 2), ('mill', 2), ('hold', 2), ('coffe', 2), ('reminiscent', 2), ('joe', 2), ('tells', 2), ('phone', 2), ('mammal', 2), ('lobster', 2), ('urgent', 2), ('oats', 2), ('cringe', 2), ('unpalatable', 2), ('defect', 2), ('unwrapped', 2), ('pup', 2), ('scroll', 2), ('falsely', 2), ('basket', 2), ('tummy', 2), ('pooping', 2), ('grandma', 2), ('aroy', 2), ('erythritol', 2), ('uncommon', 2), ('tube', 2), ('breath', 2), ('breads', 2), ('sleeve', 2), ('scd', 2), ('edward', 2), ('answers', 2), ('flew', 2), ('goji', 2), ('ruins', 2), ('sting', 2), ('dave', 2), ('mexico', 2), ('wary', 2), ('idk', 2), ('melissa', 2), ('matt', 2), ('munchies', 2), ('mislabel', 2), ('bet', 2), ('steer', 2), ('letters', 2), ('feelings', 2), ('watchers', 2), ('loosely', 2), ('rinsed', 2), ('slipped', 2), ('additional', 2), ('casing', 2), ('peas', 2), ('battle', 2), ('traffic', 2), ('pressed', 2), ('solely', 2), ('reads', 2), ('fatter', 2), ('soups', 2), ('stupid', 2), ('seek', 2), ('jam', 2), ('chocolately', 2), ('cardamon', 2), ('smeared', 2), ('lavender', 2), ('ashwaganda', 2), ('overlooked', 2), ('sensible', 2), ('naseaus', 2), ('remained', 2), ('picante', 2), ('caffein', 2), ('equivalency', 2), ('jerkies', 2), ('keyword', 2), ('trappists', 2), ('carrying', 2), ('thursday', 2), ('master', 2), ('dosha', 2), ('rooibos', 2), ('screen', 2), ('tastier', 2), ('flavorings', 2), ('drinkable', 2), ('expand', 2), ('exterior', 2), ('mm', 2), ('unexpected', 2), ('reached', 2), ('worthless', 2), ('lightly', 2), ('pours', 2), ('atkins', 2), ('pudding', 2), ('clarity', 2), ('gorgojos', 2), ('barrel', 2), ('evian', 2), ('waist', 2), ('tic', 2), ('tacs', 2), ('absence', 2), ('grassfed', 2), ('yay', 2), ('scientist', 2), ('consultant', 2), ('airspace', 2), ('subsequent', 2), ('la', 2), ('favorita', 2), ('tab', 2), ('snapping', 2), ('biscuit', 2), ('bobo', 2), ('pablo', 2), ('tolerance', 2), ('staled', 1), ('chile', 1), ('rom', 1), ('america', 1), ('furry', 1), ('moister', 1), ('gases', 1), ('hmmm', 1), ('softest', 1), ('jumbo', 1), ('optimal', 1), ('backwards', 1), ('forwards', 1), ('deceived', 1), ('bhb', 1), ('swallowed', 1), ('pruvit', 1), ('tigers', 1), ('ketoned', 1), ('xylatol', 1), ('soothe', 1), ('shriek', 1), ('clay', 1), ('excruciatingly', 1), ('cries', 1), ('scotties', 1), ('gimbal', 1), ('slide', 1), ('drizzle', 1), ('forgive', 1), ('promo', 1), ('theory', 1), ('executed', 1), ('penetrated', 1), ('pale', 1), ('twenty', 1), ('campfire', 1), ('twinings', 1), ('lacks', 1), ('wheezing', 1), ('moise', 1), ('unconsumed', 1), ('dv', 1), ('ejy', 1), ('miracles', 1), ('lifeless', 1), ('soil', 1), ('peru', 1), ('indonesia', 1), ('ecuador', 1), ('windex', 1), ('recurring', 1), ('overstated', 1), ('scare', 1), ('toy', 1), ('opted', 1), ('tice', 1), ('prominent', 1), ('features', 1), ('joy', 1), ('uneaten', 1), ('embed', 1), ('embeded', 1), ('elbows', 1), ('tenth', 1), ('stab', 1), ('areas', 1), ('microwaving', 1), ('grosses', 1), ('peril', 1), ('ensued', 1), ('proof', 1), ('tricking', 1), ('legal', 1), ('thei', 1), ('squashed', 1), ('ample', 1), ('hills', 1), ('sorts', 1), ('gravy', 1), ('notch', 1), ('dismayed', 1), ('neighbors', 1), ('eventhough', 1), ('colorful', 1), ('spearmints', 1), ('chiclets', 1), ('circle', 1), ('buys', 1), ('splits', 1), ('osaka', 1), ('boring', 1), ('herpetiformis', 1), ('buckwheat', 1), ('pair', 1), ('marinade', 1), ('tared', 1), ('tightness', 1), ('chest', 1), ('cr', 1), ('clueless', 1), ('woukd', 1), ('namesake', 1), ('ahhh', 1), ('stapled', 1), ('muesli', 1), ('appealing', 1), ('understandably', 1), ('variations', 1), ('buttermile', 1), ('amino', 1), ('theanine', 1), ('offsets', 1), ('tannins', 1), ('iodine', 1), ('rashes', 1), ('healing', 1), ('discontinuing', 1), ('substituted', 1), ('awesomely', 1), ('weekly', 1), ('critter', 1), ('letter', 1), ('informing', 1), ('discovery', 1), ('molecular', 1), ('structure', 1), ('ee', 1), ('qualifies', 1), ('textured', 1), ('boy', 1), ('insisted', 1), ('declare', 1), ('braid', 1), ('bulbs', 1), ('cigarettes', 1), ('rrip', 1), ('mortified', 1), ('faces', 1), ('kumujohn', 1), ('repellent', 1), ('driede', 1), ('goldfish', 1), ('welch', 1), ('derivatives', 1), ('specifics', 1), ('plainly', 1), ('crumpled', 1), ('instance', 1), ('inadequately', 1), ('neglected', 1), ('narrow', 1), ('rescue', 1), ('recommendation', 1), ('facebook', 1), ('deli', 1), ('verge', 1), ('mimic', 1), ('barbecue', 1), ('z', 1), ('drawer', 1), ('protected', 1), ('potentially', 1), ('choices', 1), ('gained', 1), ('strar', 1), ('bavarian', 1), ('artisanal', 1), ('boule', 1), ('handcrafted', 1), ('ups', 1), ('parallelogram', 1), ('amaranth', 1), ('niacin', 1), ('redness', 1), ('outbreak', 1), ('declined', 1), ('regulate', 1), ('increasingly', 1), ('hiss', 1), ('noise', 1), ('guayaki', 1), ('recover', 1), ('shit', 1), ('succumbe', 1), ('slice', 1), ('corresponded', 1), ('anthony', 1), ('bloodline', 1), ('ahi', 1), ('posti', 1), ('combats', 1), ('brushed', 1), ('routine', 1), ('waking', 1), ('dorm', 1), ('thins', 1), ('disturbs', 1), ('vote', 1), ('conniption', 1), ('browned', 1), ('failure', 1), ('signal', 1), ('suggestions', 1), ('jones', 1), ('shade', 1), ('layering', 1), ('flaking', 1), ('germany', 1), ('uninitiated', 1), ('approve', 1), ('charlatans', 1), ('travesty', 1), ('taught', 1), ('hygiene', 1), ('reproduces', 1), ('chewey', 1), ('min', 1), ('swept', 1), ('moped', 1), ('sheets', 1), ('roaches', 1), ('sini', 1), ('win', 1), ('crappy', 1), ('browning', 1), ('southwest', 1), ('incinerator', 1), ('broodlyn', 1), ('emergency', 1), ('ah', 1), ('poison', 1), ('ppl', 1), ('abnormal', 1), ('bison', 1), ('limes', 1), ('lives', 1), ('nc', 1), ('sented', 1), ('visit', 1), ('compulsive', 1), ('beet', 1), ('cee', 1), ('limp', 1), ('backpack', 1), ('ohhh', 1), ('puff', 1), ('pineapples', 1), ('pearls', 1), ('replaceable', 1), ('scoops', 1), ('survive', 1), ('guy', 1), ('eoe', 1), ('musky', 1), ('efficient', 1), ('bats', 1), ('avengers', 1), ('symbols', 1), ('thor', 1), ('hammer', 1), ('stops', 1), ('shifted', 1), ('truthfully', 1), ('nails', 1), ('lakes', 1), ('al', 1), ('plasic', 1), ('mout', 1), ('gaxthz', 1), ('hubby', 1), ('filthy', 1), ('applied', 1), ('insure', 1), ('pint', 1), ('splenda', 1), ('zing', 1), ('sundried', 1), ('roma', 1), (\"'bond\", 1), ('insignificant', 1), ('aloe', 1), ('glow', 1), ('outa', 1), ('adjusting', 1), ('hr', 1), ('noah', 1), ('ark', 1), ('cordials', 1), ('disappointedly', 1), ('bucket', 1), ('pest', 1), ('versus', 1), ('conclude', 1), ('concentrated', 1), ('blackened', 1), ('holed', 1), ('rejects', 1), (\"'glucose\", 1), ('attributed', 1), ('measurement', 1), ('uniform', 1), ('inquiries', 1), ('colonies', 1), ('warrants', 1), ('lined', 1), ('liner', 1), ('self', 1), ('sevear', 1), ('awfull', 1), ('electrolytes', 1), ('headace', 1), ('finaly', 1), ('downed', 1), ('dizzyness', 1), ('smartest', 1), ('tacos', 1), ('dpo', 1), ('intensely', 1), ('dismissable', 1), ('disturbingly', 1), ('regretfully', 1), ('v', 1), ('knead', 1), ('heartburn', 1), ('regulated', 1), ('marsipan', 1), ('albenese', 1), ('delivers', 1), ('torture', 1), ('living', 1), ('vacation', 1), ('diminished', 1), ('pockets', 1), ('implies', 1), ('wizard', 1), ('cards', 1), ('spongy', 1), ('medal', 1), ('scratchy', 1), ('studied', 1), ('chiseling', 1), ('unanswered', 1), ('tertible', 1), ('ipa', 1), ('mayan', 1), ('brooklyn', 1), ('husbands', 1), ('gristle', 1), ('unedible', 1), ('reboot', 1), ('dred', 1), ('tj', 1), ('maxx', 1), ('bi', 1), ('cobwebs', 1), ('primal', 1), ('truely', 1), ('plumper', 1), ('goodie', 1), ('hv', 1), ('nonstop', 1), ('benzoate', 1), ('desire', 1), ('interested', 1), ('ompany', 1), ('succeed', 1), ('failing', 1), ('miserably', 1), ('exema', 1), ('peeling', 1), ('chooses', 1), (\"'sugar\", 1), ('foolishly', 1), ('apparitions', 1), ('delectably', 1), ('rumblings', 1), ('protest', 1), ('escalated', 1), ('surging', 1), ('grotesque', 1), ('duration', 1), ('volume', 1), ('alerted', 1), ('explosion', 1), ('sphincter', 1), ('clenched', 1), ('urgently', 1), ('awkward', 1), ('hurried', 1), ('hobbling', 1), ('walk', 1), ('propulsion', 1), ('cataract', 1), ('lifted', 1), ('forcefully', 1), ('shudder', 1), ('scope', 1), ('destruction', 1), ('explosiveness', 1), ('stench', 1), ('overcame', 1), ('passive', 1), ('freshener', 1), ('aerosol', 1), ('risked', 1), ('waddling', 1), ('explosions', 1), ('futilely', 1), ('unnoticed', 1), ('housing', 1), ('stone', 1), ('doors', 1), ('slammed', 1), ('refugees', 1), ('hats', 1), ('coats', 1), ('fled', 1), ('seeking', 1), ('breathable', 1), ('abandoned', 1), ('peculiar', 1), ('penetrating', 1), ('alleged', 1), ('scoping', 1), ('visibly', 1), ('exciting', 1), ('countdown', 1), ('consumable', 1), ('fenugreek', 1), ('contaminates', 1), ('difficulties', 1), ('szechuan', 1), ('numbing', 1), ('undetectable', 1), ('reproduced', 1), ('multiplied', 1), ('horrific', 1), ('grasses', 1), ('lychees', 1), ('acrid', 1), ('varied', 1), ('terry', 1), ('speedy', 1), ('wheaties', 1), ('cousin', 1), ('recalls', 1), ('remedy', 1), ('elligible', 1), ('clove', 1), ('lignin', 1), ('cocoanut', 1), ('outfit', 1), ('someones', 1), ('blog', 1), ('tahi', 1), ('birds', 1), ('zealand', 1), ('confidence', 1), ('illegal', 1), ('tball', 1), ('metabisulfite', 1), ('advertisement', 1), ('fleshy', 1), ('uff', 1), ('citing', 1), ('ashtray', 1), ('caffinated', 1), ('transferring', 1), ('mottled', 1), ('lou', 1), ('barf', 1), ('abjectly', 1), ('hideous', 1), ('umm', 1), ('aggravate', 1), ('poising', 1), ('players', 1), ('playing', 1), ('scant', 1), ('met', 1), ('colder', 1), ('chubs', 1), ('phoned', 1), ('puts', 1), ('ships', 1), ('oxidized', 1), ('wreaked', 1), ('excruciating', 1), ('ongoing', 1), ('stabbing', 1), ('recalled', 1), ('fondly', 1), ('accomplish', 1), ('dab', 1), ('freak', 1), ('mfr', 1), ('scotty', 1), ('invoice', 1), ('differs', 1), ('distinctly', 1), ('carnauba', 1), ('soursop', 1), ('nutrtional', 1), ('gourmands', 1), ('glueten', 1), ('avail', 1), ('yep', 1), (\"'inflated\", 1), ('pillows', 1), ('odds', 1), ('se', 1), ('distributes', 1), ('nationwide', 1), ('fonder', 1), ('memories', 1), ('fla', 1), ('path', 1), ('glues', 1), ('separates', 1), ('spews', 1), ('counters', 1), ('claiming', 1), ('reactive', 1), ('ymmv', 1), ('syrupy', 1), ('whereas', 1), ('inches', 1), ('clung', 1), ('characteristic', 1), ('clamp', 1), ('crawly', 1), ('crippling', 1), ('retrospect', 1), ('unsatisfactory', 1), ('overrode', 1), ('inherent', 1), ('laziness', 1), ('drove', 1), ('annoyingly', 1), ('roughly', 1), ('apologies', 1), ('spell', 1), ('prompts', 1), ('lines', 1), ('liberties', 1), ('mouthfuls', 1), ('infused', 1), ('thirdly', 1), ('conditioning', 1), ('billy', 1), ('goat', 1), ('argentina', 1), ('confidently', 1), ('substandard', 1), ('mo', 1), ('obtained', 1), ('heal', 1), ('reoccur', 1), ('cleared', 1), ('mama', 1), ('daddy', 1), ('jujyfruits', 1), ('speckled', 1), ('gunk', 1), ('availability', 1), ('overpowering', 1), ('shrink', 1), ('mushed', 1), ('excuses', 1), ('neg', 1), ('saver', 1), ('allergin', 1), ('compact', 1), ('equip', 1), ('airheads', 1), ('fulfilled', 1), ('taft', 1), ('eaters', 1), ('peppers', 1), ('leis', 1), ('mud', 1), ('unload', 1), ('cheek', 1), ('outsides', 1), ('eay', 1), ('tofu', 1), ('lolly', 1), ('tootie', 1), ('cod', 1), ('ti', 1), ('sugarless', 1), ('regrettably', 1), ('sediment', 1), ('chocolatey', 1), ('acne', 1), ('blocked', 1), ('pimple', 1), ('outrageously', 1), ('passover', 1), ('tuesday', 1), ('sprint', 1), ('gear', 1), ('contract', 1), ('minded', 1), ('leary', 1), ('amazonprime', 1), ('wrvgzwj', 1), ('crisps', 1), ('decor', 1), ('hurricanes', 1), ('chat', 1), ('tme', 1), ('infuriating', 1), ('carob', 1), ('glance', 1), ('sand', 1), ('thailand', 1), ('thais', 1), ('explain', 1), ('ta', 1), ('semblance', 1), ('slime', 1), ('firm', 1), ('treatemnt', 1), ('natuarlly', 1), ('softer', 1), ('steam', 1), ('pasterization', 1), ('politely', 1), ('complimentary', 1), ('knowledge', 1), ('calculated', 1), ('droppers', 1), ('shayla', 1), ('sleeplessness', 1), ('fashioned', 1), ('molars', 1), ('descriptionsay', 1), ('ave', 1), ('bah', 1), ('humbug', 1), ('twigs', 1), ('steeping', 1), ('creaminess', 1), ('internet', 1), ('happier', 1), ('endangered', 1), ('bilton', 1), ('insulation', 1), ('evaporated', 1), ('evaxoint', 1), ('consolidates', 1), ('firmer', 1), ('dying', 1), ('pricy', 1), ('wayyy', 1), ('consequences', 1), ('random', 1), ('blowing', 1), ('dissappointed', 1), ('jumped', 1), ('turnoff', 1), ('grilled', 1), ('grill', 1), ('gripe', 1), ('hurting', 1), ('sweaty', 1), ('prayed', 1), ('disappeared', 1), ('monstrous', 1), ('focused', 1), ('upc', 1), ('internationally', 1), ('heartache', 1), ('upcoming', 1), ('cheer', 1), ('alerts', 1), (\"'maranta\", 1), ('arundinacea', 1), ('manihot', 1), ('esculenta', 1), ('cassava', 1), ('manufactures', 1), ('silica', 1), ('pliable', 1), ('cheapest', 1), ('transition', 1), ('mould', 1), ('stinked', 1), ('plug', 1), ('angelino', 1), ('proves', 1), ('suffice', 1), ('squirrel', 1), ('precious', 1), ('emerald', 1), ('coloration', 1), ('phenomenal', 1), ('kiss', 1), ('alkaline', 1), ('moistness', 1), ('oozed', 1), (\"'grassy\", 1), ('tastey', 1), ('quad', 1), ('weirdly', 1), ('micro', 1), ('jittering', 1), ('rewards', 1), ('fav', 1), ('chucking', 1), ('orgainic', 1), ('differents', 1), ('grossest', 1), ('clogged', 1), ('seeping', 1), ('dulled', 1), ('tahini', 1), ('edta', 1), ('scrambled', 1), ('gamey', 1), ('ensures', 1), ('bulletproof', 1), ('stash', 1), ('enabled', 1), ('excepting', 1), ('claimed', 1), ('oskri', 1), ('qvc', 1), ('curley', 1), ('cucumber', 1), ('ml', 1), ('monin', 1), ('patients', 1), ('operatively', 1), ('mason', 1), ('caleries', 1), ('stains', 1), ('negligible', 1), ('shaken', 1), ('spraying', 1), ('connects', 1), ('lisa', 1), ('martin', 1), ('cinammon', 1), ('ribonucleotide', 1), ('succinate', 1), ('unfair', 1), ('furikake', 1), ('puerto', 1), ('rico', 1), ('toothpicks', 1), ('positively', 1), ('buttermilk', 1), ('reveal', 1), ('hardness', 1), ('thouroughly', 1), ('macro', 1), ('david', 1), ('regard', 1), ('disposed', 1), ('validated', 1), ('appointment', 1), ('vomitted', 1), ('tartness', 1), ('pots', 1), ('amsterdam', 1), ('extreamly', 1), ('engulf', 1), ('stentch', 1), ('cecil', 1), ('hunley', 1), ('kats', 1), ('flowery', 1), ('panetone', 1), ('irresistibly', 1), ('imho', 1), ('tango', 1), ('excessively', 1), ('misled', 1), ('stuffers', 1), ('scrap', 1), ('compatible', 1), ('nesspresso', 1), ('lightening', 1), ('diehard', 1), ('wherein', 1), ('shaped', 1), ('represent', 1), ('juicy', 1), ('carbou', 1), ('offee', 1), ('heading', 1), ('discusting', 1), ('randomly', 1), ('dragon', 1), ('fentanyl', 1), ('caviar', 1), ('retract', 1), ('indiana', 1), ('pa', 1), ('ecstatic', 1), ('qa', 1), ('quicos', 1), ('macaroons', 1), ('scott', 1), ('pita', 1), ('poducts', 1), ('units', 1), ('nonreturnable', 1), ('minestrone', 1), ('macaroni', 1), ('novel', 1), ('unicornucopia', 1), ('ladder', 1), ('blonde', 1), ('aab', 1), ('rad', 1), ('addicted', 1), ('senna', 1), ('alloy', 1), ('beauty', 1), ('bundles', 1), ('erewhon', 1), ('weho', 1), ('fill', 1), ('beloved', 1), ('formulated', 1), ('officially', 1), ('hickory', 1), ('farms', 1), ('fabric', 1), ('surfaces', 1), ('companion', 1), ('websites', 1), ('cleveland', 1), ('perspectives', 1), ('promenade', 1), ('walks', 1), ('robert', 1), ('ross', 1), ('degraded', 1), ('unsavory', 1), ('undertaste', 1), ('clump', 1), ('muted', 1), ('bled', 1), ('resealible', 1), ('ponzu', 1), ('dent', 1), ('careless', 1), ('stream', 1), ('macros', 1), ('resort', 1), ('wasteful', 1), ('relocate', 1), ('hurriedly', 1), ('mentions', 1), ('cocomels', 1), ('irish', 1), ('ghirardhelli', 1), ('tatse', 1), ('apparent', 1), ('yo', 1), ('miraculously', 1), ('spendy', 1), ('quart', 1), ('bocadillos', 1), ('arriving', 1), ('climate', 1), ('controled', 1), ('jollies', 1), ('unmelted', 1), ('nt', 1), ('lentil', 1), ('basic', 1), ('diff', 1), ('delightful', 1), ('amplified', 1), ('churn', 1), ('grind', 1), ('manageable', 1), ('mouthful', 1), ('joints', 1), ('inflamed', 1), ('caters', 1), ('vegans', 1), ('nougat', 1), ('questioning', 1), ('disclaimers', 1), ('mailed', 1), ('verify', 1), ('praline', 1), ('orleans', 1), ('rawhide', 1), ('lifelong', 1), ('firmest', 1), ('shoe', 1), ('leather', 1), ('lash', 1), ('belt', 1), ('deteriorate', 1), ('soften', 1), ('simon', 1), ('cowell', 1), ('dropping', 1), ('toward', 1), ('mc', 1), ('va', 1), ('reluctantly', 1), ('amusing', 1), (\"'bulletproof\", 1), ('roasteries', 1), ('drama', 1), ('remain', 1), ('imperfection', 1), ('bouts', 1), ('ranchid', 1), ('unfit', 1), ('utz', 1), ('gardetto', 1), ('apr', 1), ('marinading', 1), ('fiancee', 1), ('rummaging', 1), ('sayce', 1), ('stirfried', 1), ('veggies', 1), ('hem', 1), ('underneath', 1), ('puffy', 1), ('pushes', 1), ('holder', 1), ('mochi', 1), ('neatly', 1), ('ver', 1), ('eell', 1), ('quest', 1), ('intentions', 1), ('peeps', 1), ('girlfriends', 1), ('cloudy', 1), ('yank', 1), ('panettone', 1), ('redemption', 1), ('begged', 1), ('imagined', 1), ('suggested', 1), ('ortho', 1), ('logo', 1), ('outlet', 1), ('judge', 1), ('brackish', 1), ('tip', 1), ('whipping', 1), ('flash', 1), ('freezing', 1), ('sachets', 1), ('mealworms', 1), ('guayusa', 1), ('heed', 1), ('compliant', 1), ('requirements', 1), ('withdrawn', 1), ('rehardened', 1), ('barry', 1), ('overtones', 1), ('arid', 1), ('potty', 1), ('agrees', 1), ('separating', 1), ('collectable', 1), ('stickum', 1), ('treaters', 1), ('preferred', 1), ('marshmallow', 1), ('unattractive', 1), ('hanging', 1), ('chewier', 1), ('hospitalized', 1), ('memory', 1), ('revealed', 1), ('curing', 1), ('perceived', 1), ('padded', 1), ('squishes', 1), ('hfcs', 1), ('resemble', 1), ('hammentaschen', 1), ('raspberries', 1), ('dominant', 1), ('opposite', 1), ('achy', 1), ('starvation', 1), ('substantial', 1), ('splinter', 1), ('sharply', 1), ('flavorable', 1), ('subscibe', 1), ('reluctently', 1), ('everywere', 1), ('papertowels', 1), ('jerkey', 1), ('ultra', 1), ('stings', 1), ('hmm', 1), ('employees', 1), ('backside', 1), ('discloses', 1), ('ibsd', 1), ('ibsc', 1), ('exacerbate', 1), ('unbroken', 1), ('cruel', 1), ('practical', 1), ('pizzas', 1), ('kg', 1), ('boys', 1), ('krispie', 1), ('compensate', 1), ('extensively', 1), ('butterscotch', 1), ('guzzle', 1), ('chase', 1), ('yak', 1), ('rheaw', 1), ('j', 1), ('tbeaw', 1), ('tarts', 1), ('warehousing', 1), ('yolk', 1), ('tortillas', 1), ('shutdown', 1), ('reversal', 1), ('deflated', 1), ('backorder', 1), ('downfall', 1), ('shakers', 1), ('mtodextrin', 1), ('mailing', 1), ('secondly', 1), ('rave', 1), ('braggs', 1), ('cider', 1), ('suit', 1), ('readings', 1), ('unflavored', 1), ('retro', 1), ('satellite', 1), ('beads', 1), (\"'marble\", 1), ('understatement', 1), ('forewarned', 1), ('hide', 1), ('cheeseburger', 1), ('throws', 1), ('onto', 1), ('steamy', 1), ('elixir', 1), ('bile', 1), ('chaser', 1), ('menu', 1), ('adjustments', 1), ('conisure', 1), ('folk', 1), ('avtually', 1), ('newsflash', 1), ('plaster', 1), ('wall', 1), ('displays', 1), ('sequence', 1), ('sensativity', 1), ('yt', 1), ('placement', 1), ('unknown', 1), ('jeopardy', 1), ('host', 1), ('entryway', 1), ('chuckles', 1), ('popsicle', 1), ('popsicles', 1), ('freakin', 1), ('favors', 1), ('presentable', 1), ('diabeedees', 1), ('wonderfull', 1), ('strelize', 1), ('fused', 1), ('bricks', 1), ('indisputable', 1), ('houston', 1), ('remarkably', 1), ('eggplant', 1), ('shares', 1), ('faculty', 1), ('crispiness', 1), ('swarming', 1), ('compares', 1), ('gathered', 1), ('waate', 1), ('nutivia', 1), ('payed', 1), ('breville', 1), ('discerned', 1), ('carbon', 1), ('malted', 1), ('among', 1), ('consumables', 1), ('generous', 1), ('wears', 1), ('lile', 1), ('linoleum', 1), ('nibble', 1), ('palatable', 1), ('licking', 1), ('canola', 1), ('scrolling', 1), ('decayed', 1), ('pickled', 1), ('twizzler', 1), ('holland', 1), ('stroopwafels', 1), ('whats', 1), ('faith', 1), ('daelmans', 1), ('donut', 1), ('satisfaction', 1), ('tinge', 1), ('tarragon', 1), ('unsorted', 1), ('varying', 1), ('closeup', 1), ('glitter', 1), ('fragment', 1), ('reader', 1), ('breading', 1), ('breadiness', 1), (\"pu'erh\", 1), ('curls', 1), ('spearmint', 1), ('pu', 1), ('erh', 1), ('tealyra', 1), ('tinged', 1), ('embarrassingly', 1), ('youth', 1), ('weekend', 1), ('bin', 1), ('unexpectedly', 1), ('europeans', 1), ('kisses', 1), ('silkworm', 1), ('nostalgic', 1), ('stressed', 1), ('caribou', 1), ('heb', 1), ('amd', 1), ('dehydrates', 1), ('kat', 1), ('bjs', 1), ('gluteny', 1), ('ii', 1), ('girls', 1), ('pits', 1), ('cramp', 1), ('cobweb', 1), ('anus', 1), ('pat', 1), ('colander', 1), ('exotic', 1), ('floral', 1), ('stepped', 1), ('foremost', 1), ('rxbar', 1), ('blew', 1), ('banged', 1), ('ink', 1), ('limonata', 1), ('wv', 1), ('ferment', 1), ('symptomatic', 1), ('selection', 1), ('ut', 1), ('dq', 1), ('sulfite', 1), ('tug', 1), ('choking', 1), ('staple', 1), ('stones', 1), ('irks', 1), ('spoils', 1), ('liqueur', 1), ('trolls', 1), ('irl', 1), ('minions', 1), ('greasing', 1), ('asthma', 1), ('apricots', 1), ('sulfides', 1), ('mollusks', 1), ('sufferers', 1), ('ginkgo', 1), ('odorous', 1), ('nolt', 1), ('elsedoes', 1), ('restaurant', 1), ('responsive', 1), ('org', 1), ('balm', 1), ('flyers', 1), ('atmospheric', 1), ('radiation', 1), ('trials', 1), ('protects', 1), ('dna', 1), ('generalized', 1), ('medication', 1), ('meds', 1), ('function', 1), ('shoppers', 1), ('resisting', 1), ('specification', 1), ('mike', 1), (\"'soy\", 1), ('amma', 1), ('hat', 1), ('shocking', 1), ('represents', 1), ('milano', 1), ('bigelow', 1), ('thes', 1), ('thyobromine', 1), ('caco', 1), ('yeild', 1), ('affordable', 1), ('spells', 1), ('communicated', 1), ('bill', 1), ('profuct', 1), ('figures', 1), ('tainted', 1), ('greyed', 1), ('receipt', 1), ('converse', 1), ('amazingly', 1), ('logically', 1), ('biena', 1), ('rockin', 1), ('maximum', 1), ('enjoyment', 1), ('fam', 1), ('caseinate', 1), ('allepo', 1), ('chill', 1), ('spreadable', 1), ('combine', 1), ('shavings', 1), ('scone', 1), ('cubes', 1), ('whipped', 1), ('carried', 1), ('osco', 1), ('meijer', 1), ('eafbf', 1), ('fbf', 1), ('dbfb', 1), ('texturel', 1), ('poseymom', 1), ('navigate', 1), ('insipid', 1), ('modify', 1), ('chunked', 1), ('combines', 1), ('mct', 1), ('ninja', 1), ('sludge', 1), ('cafe', 1), ('redo', 1), ('appetizing', 1), ('maggot', 1), ('rodent', 1), ('urine', 1), ('unborn', 1), ('repackage', 1), ('festering', 1), ('bithe', 1), ('unfortately', 1), ('defenitly', 1), ('downgrading', 1), ('fills', 1), ('swigging', 1), ('russian', 1), ('roulette', 1), ('elecrtic', 1), ('apocalypse', 1), ('raggedy', 1), ('survived', 1), ('believing', 1), ('obscure', 1), ('throughly', 1), ('unsuccessfully', 1), ('synder', 1), ('lance', 1), ('subpar', 1), (\"nor'easter\", 1), ('blizzard', 1), ('emailing', 1), ('yumearth', 1), ('hassle', 1), ('recommending', 1), ('born', 1), ('indicative', 1), ('rattling', 1), ('yard', 1), ('confuse', 1), ('tempted', 1), ('professionally', 1), ('researched', 1), ('surprisingly', 1), ('prob', 1), ('hopin', 1), ('stiil', 1), ('discontinue', 1), ('maca', 1), ('reduces', 1), ('ironically', 1), ('disclose', 1), ('photographed', 1), ('poses', 1), ('stinkiest', 1), ('crying', 1), ('pushing', 1), ('push', 1), ('opposed', 1), ('killed', 1), ('internal', 1), ('plumbing', 1), ('impolite', 1), ('handing', 1), ('circled', 1), ('accustomed', 1), ('represented', 1), ('photographs', 1), ('brownish', 1), ('defying', 1), ('stupidity', 1), ('overdrive', 1), ('engaged', 1), ('merits', 1), ('harvesting', 1), ('biggie', 1), ('impeccably', 1), ('patio', 1), ('reindeer', 1), ('gramma', 1), ('edged', 1), ('brach', 1), ('pays', 1), ('sauna', 1), ('unripe', 1), ('convinced', 1), ('chocholate', 1), ('nauseatingly', 1), ('potentia', 1), ('vitamines', 1), ('copious', 1), ('orthodontics', 1), ('martini', 1), ('spiced', 1), ('alarmed', 1), ('stimulating', 1), ('spasms', 1), ('racing', 1), ('uncomfortable', 1), ('disassociated', 1), ('scariest', 1), ('krispies', 1), ('desk', 1), ('nevermind', 1), ('ungiftable', 1), ('insane', 1), ('juicing', 1), ('solar', 1), ('juiced', 1), ('raves', 1), ('irppu', 1), ('hawkins', 1), ('cheezies', 1), ('sprinkle', 1), ('cereals', 1), ('lionsmane', 1), ('godfather', 1), ('biproducts', 1), ('ethical', 1), ('gym', 1), ('gnc', 1), ('brue', 1), ('af', 1), ('prebiotic', 1), ('teabag', 1), ('population', 1), ('caroline', 1), ('teeccino', 1), ('advising', 1), ('um', 1), ('slightest', 1), ('rehydrated', 1), ('starters', 1), ('kindly', 1), ('wouldve', 1), ('dipped', 1), ('sublime', 1), ('step', 1), ('legato', 1), ('prospective', 1), ('purchasers', 1), ('pdz', 1), ('tropical', 1), ('sours', 1), ('melon', 1), ('dws', 1), ('adore', 1), ('postum', 1), ('ovaltine', 1), ('cal', 1), ('favorably', 1), ('wretch', 1), ('accordance', 1), ('tripled', 1), ('booze', 1), ('whiskey', 1), ('describes', 1), ('essence', 1), ('repulsive', 1), ('sickening', 1), ('pitch', 1), ('stellar', 1), ('dahlias', 1), ('fertilizer', 1), ('blooms', 1), ('lustrous', 1), ('gulkand', 1), ('mre', 1), ('storm', 1), ('entree', 1), ('sarcasm', 1), ('cows', 1), ('intentionally', 1), ('cultured', 1), ('ghees', 1), ('valley', 1), ('investment', 1), ('conned', 1), ('mills', 1), ('planet', 1), ('calm', 1), ('endless', 1), ('wipes', 1), ('mildewed', 1), ('pause', 1), ('monsanto', 1), ('glyphosate', 1), ('congested', 1), ('tricalcium', 1), ('phosphate', 1), ('chloride', 1), ('malic', 1), ('disguise', 1), ('livestrong', 1), ('hydrolyzation', 1), ('compounds', 1), ('excitotoxins', 1), ('kills', 1), ('slit', 1), ('hopped', 1), ('display', 1), ('uneven', 1), ('roasts', 1), ('clone', 1), ('exceeded', 1), ('crystals', 1), ('proved', 1), ('extraordinarily', 1), ('instruction', 1), ('refrigerate', 1), ('periods', 1), ('youtuber', 1), ('application', 1), ('lessen', 1), ('frequency', 1), ('scratching', 1), ('resist', 1), ('wan', 1), ('shooting', 1), ('pillow', 1), ('strongest', 1), ('cloth', 1), ('bothering', 1), ('splurging', 1), ('sets', 1), ('immunity', 1), ('lethargic', 1), ('cipro', 1), ('nitrofurantoin', 1), ('fog', 1), ('neuropathy', 1), ('tact', 1), ('minimal', 1), ('jave', 1), ('saaad', 1), ('lable', 1), ('wasabi', 1), ('spoilt', 1), ('constantly', 1), ('squeezed', 1), ('pounded', 1), ('unwelcome', 1), ('comtained', 1), ('sweetened', 1), ('unsweet', 1), ('kentucky', 1), ('natives', 1), ('monks', 1), ('accommodating', 1), ('fulfill', 1), ('submit', 1), ('zachary', 1), ('muskie', 1), ('cranberry', 1), ('mojito', 1), ('q', 1), ('handmade', 1), ('lovethe', 1), ('refer', 1), ('bha', 1), ('bht', 1), ('tbhq', 1), ('eczema', 1), ('guava', 1), (\"'peanut\", 1), ('teeming', 1), (\"'rancid\", 1), ('swarm', 1), ('myst', 1), ('religiously', 1), ('bedtime', 1), ('disregarded', 1), ('blindly', 1), ('herbs', 1), ('unjust', 1), ('vaping', 1), ('vg', 1), ('desperately', 1), ('gems', 1), ('sorta', 1), ('season', 1), ('cheez', 1), ('boxed', 1), ('thawing', 1), ('trips', 1), ('subside', 1), ('replacements', 1), ('shorted', 1), ('xmas', 1), ('correspondence', 1), ('sickly', 1), ('diamond', 1), ('irritating', 1), ('refill', 1), ('charges', 1), ('homework', 1), ('exspiration', 1), ('displeased', 1), ('pitifully', 1), ('sponges', 1), ('sandwiched', 1), ('tang', 1), ('remind', 1), ('prognosis', 1), ('maximize', 1), ('profits', 1), ('reducing', 1), ('frankenfood', 1), ('buzz', 1), ('canker', 1), ('observation', 1), ('crisper', 1), ('jan', 1), ('williamsburg', 1), ('grad', 1), ('student', 1), ('necessarily', 1), ('gentle', 1), ('tummies', 1), ('pesky', 1), ('stitched', 1), ('string', 1), ('migrate', 1), ('chippies', 1), ('loyal', 1), ('bizzy', 1), ('chock', 1), ('blackberry', 1), ('landed', 1), ('cart', 1), ('safest', 1), ('autonomic', 1), ('rapsberry', 1), ('parties', 1), ('gouge', 1), ('deodorant', 1), ('cycle', 1), ('boycott', 1), ('blanching', 1), ('cubed', 1), ('anethole', 1), ('crunched', 1), ('spat', 1), ('crusty', 1), ('disrespected', 1), ('clense', 1), ('hearts', 1), ('raved', 1), ('average', 1), ('nyc', 1), ('snappers', 1), ('mommy', 1), ('newborn', 1), ('deathly', 1), ('albeit', 1), ('spelled', 1), ('entailz', 1), ('observed', 1), ('etailz', 1), ('gummis', 1), ('miniature', 1), ('minty', 1), ('squishy', 1), ('wtf', 1), ('decorations', 1), ('educational', 1), ('resubmitting', 1), ('arrhythmia', 1), ('celestial', 1), ('seasonings', 1), ('deglycyrrhized', 1), ('excerpts', 1), ('warrant', 1), ('detailed', 1), ('library', 1), ('institutes', 1), ('abuse', 1), ('glycyrrhetic', 1), ('metabolite', 1), ('inhibits', 1), ('hydroxysteroid', 1), ('dehydrogenase', 1), ('resultant', 1), ('cortisol', 1), ('mineralocorticoid', 1), ('tendency', 1), ('elevation', 1), ('dot', 1), ('hearst', 1), ('owned', 1), ('san', 1), ('francisco', 1), ('chronicle', 1), ('university', 1), ('mississippi', 1), ('hormonal', 1), ('retention', 1), ('lesser', 1), ('arm', 1), ('interactions', 1), ('interfere', 1), ('corticosteroid', 1), ('antidepressants', 1), ('mao', 1), ('inhibitors', 1), ('drugs', 1), ('effectively', 1), ('worsen', 1), ('digoxin', 1), ('heartbeat', 1), ('abnormalities', 1), ('contraceptives', 1), ('discussing', 1), ('worthy', 1), ('gunky', 1), ('giddy', 1), ('waaay', 1), ('buuuuut', 1), ('bday', 1), ('pinch', 1), ('leaning', 1), ('mcdonald', 1), ('tartar', 1), ('domestic', 1), ('fairy', 1), ('smacking', 1), ('desired', 1), ('ashy', 1), ('finishes', 1), ('investigation', 1), ('ferrero', 1), ('raffaello', 1), ('mercantile', 1), ('investigates', 1), ('fool', 1), ('climbing', 1), ('strainer', 1), ('scrambling', 1), ('direction', 1), ('coupons', 1), ('ticker', 1), ('inflammation', 1), ('irritable', 1), ('syndrome', 1), ('fro', 1), ('milky', 1), ('singles', 1), ('compensation', 1), ('undeniably', 1), ('nibbled', 1), ('balled', 1), ('globbed', 1), ('hilarious', 1), ('poo', 1), ('poro', 1), ('marichino', 1), ('fave', 1), ('coz', 1), ('moringa', 1), ('aaea', 1), ('afaef', 1), ('adhesive', 1), ('spout', 1), ('urge', 1), ('ew', 1), ('college', 1), ('sorted', 1), ('swollen', 1), ('gasses', 1), ('preserve', 1), ('emulsified', 1), ('mildew', 1), ('dances', 1), ('ahem', 1), ('doritos', 1), ('sharing', 1), ('salsa', 1), ('queso', 1), ('fondue', 1), ('ketchup', 1), ('welts', 1), ('throut', 1), ('hyperemesis', 1), ('rices', 1), ('yh', 1), ('ck', 1), ('sise', 1), ('hsve', 1), ('straw', 1), ('excitement', 1), ('starve', 1), (\"'not\", 1), ('thetootsie', 1), ('dunkaroos', 1), ('entitled', 1), ('editable', 1), ('digusting', 1), ('witht', 1), ('deadline', 1), ('slim', 1), ('jims', 1), ('ostrich', 1), ('elk', 1), ('nay', 1), ('sayer', 1), ('glasses', 1), ('psyllium', 1), ('extensive', 1), ('intolerances', 1), ('ndles', 1), ('carmelo', 1), ('delight', 1), ('aiva', 1), ('grande', 1), ('smile', 1), ('begging', 1), ('unrefundable', 1), ('insufficiently', 1), ('jolt', 1), ('malitol', 1), ('goo', 1), ('teal', 1), ('costa', 1), ('rica', 1), ('peets', 1), ('primarily', 1), ('toast', 1), ('extend', 1), ('undamaged', 1), ('draining', 1), ('birth', 1), ('sky', 1), ('sinfully', 1), ('supposedly', 1), ('impact', 1), ('ingrediants', 1), ('hates', 1), ('hf', 1), ('progranola', 1), ('trauma', 1), ('hurts', 1), ('lease', 1), ('battling', 1), ('pebbles', 1), ('uncertain', 1), ('dispersing', 1), ('housed', 1), ('condensation', 1), ('lara', 1), ('vehicles', 1), ('resolidifying', 1), ('heartbreaking', 1), ('sickeningly', 1), ('abut', 1), ('stacked', 1), ('pyure', 1), ('trivia', 1), ('polite', 1), ('humiliated', 1), (\"'fresh\", 1), ('termed', 1), ('releasing', 1), ('forbidden', 1), ('freash', 1), ('dissolves', 1), ('koolaid', 1), ('ito', 1), ('en', 1), ('circumstances', 1), ('deeper', 1), ('zatarain', 1), ('smashmellow', 1), ('aka', 1), ('gasoline', 1), ('jet', 1), ('marshmellows', 1), ('exaggeration', 1), ('nutra', 1), ('rhe', 1), ('puppy', 1), ('tenderizer', 1), ('mths', 1), ('porcinis', 1), ('phony', 1), ('sheridan', 1), ('ankle', 1), ('publix', 1), ('unfiaxably', 1), ('choco', 1), ('rubbery', 1), ('pursuing', 1), ('staying', 1), ('suppliers', 1), ('cottonseed', 1), ('genetic', 1), ('thalia', 1), ('dusgusted', 1), ('arent', 1), ('south', 1), ('ladyfinger', 1), ('wth', 1), ('avoiding', 1), ('milder', 1), ('couramin', 1), ('sprinkled', 1), ('adulterated', 1), ('protiens', 1), ('resealing', 1), ('crack', 1), ('conitive', 1), ('improvements', 1), ('bounced', 1), ('grabbed', 1), ('remaking', 1), ('understood', 1), ('sacrificed', 1), ('killer', 1), ('wicked', 1), ('vom', 1), ('beg', 1), ('rancide', 1), ('inadvertently', 1), ('poloku', 1), ('singapore', 1), ('guanylate', 1), ('conjunction', 1), ('infers', 1), ('ketone', 1), ('fading', 1), ('dieters', 1), ('apt', 1), ('rxbars', 1), ('foodborne', 1), ('styrofoam', 1), ('blech', 1), ('merchant', 1), ('saturday', 1), ('cranked', 1), ('fridges', 1), ('vons', 1), ('ralph', 1), ('albertsons', 1), ('milkshakes', 1), ('twitch', 1), ('settling', 1), ('palmitate', 1), ('horizon', 1), ('nesquik', 1), ('rank', 1), ('powerful', 1), ('offensive', 1), ('regurgitated', 1), ('vigorously', 1), ('stirring', 1), ('cottage', 1), ('ringed', 1), ('extended', 1), ('redeeming', 1), ('perfumed', 1), ('insecticides', 1), ('perfumes', 1), ('touching', 1), ('lied', 1), ('frauds', 1), ('bj', 1), ('steered', 1), ('mercolas', 1), ('haha', 1), ('unbeatable', 1), ('fight', 1), ('anyday', 1), ('centuries', 1), ('heaped', 1), ('delicate', 1), ('stimulation', 1), ('mood', 1), (\"grove'rs\", 1), ('auto', 1), ('overpay', 1), ('alway', 1), ('jujubes', 1), ('flip', 1), ('lights', 1), ('thereafter', 1), ('evaluation', 1), ('gals', 1), ('fisher', 1), ('masses', 1), ('skins', 1), ('knowingly', 1), ('perishables', 1), ('abbfa', 1), ('abrasive', 1), ('imbues', 1), ('iberian', 1), ('jamon', 1), ('tan', 1), ('comment', 1), ('mountain', 1), ('retailers', 1), ('begrudgingly', 1), ('retailer', 1), ('aspiring', 1), ('vine', 1), ('compensated', 1), ('unbiased', 1), ('accord', 1), ('proceeded', 1), ('clinging', 1), ('cofee', 1), ('upgrade', 1), ('whoever', 1), ('pertained', 1), ('dies', 1), ('fetal', 1), ('position', 1), ('amish', 1), ('communion', 1), ('wafer', 1), ('greater', 1), ('ish', 1), ('moderation', 1), ('unlikely', 1), ('novelty', 1), ('fragments', 1), ('ai', 1), ('rings', 1), ('cautionary', 1), ('dice', 1), ('lemony', 1), ('readily', 1), ('pitched', 1), ('simmilar', 1), ('fortunes', 1), ('history', 1), ('suction', 1), ('effortlessly', 1), ('hesitant', 1), ('properties', 1), ('overrated', 1), ('clued', 1), ('sorely', 1), ('rethink', 1), ('howecer', 1), ('seens', 1), ('shirt', 1), ('pit', 1), ('plum', 1), ('puchase', 1), ('wholesale', 1), ('rechilled', 1), ('calls', 1), ('inspite', 1), ('tated', 1), ('producct', 1), ('thier', 1), ('proposed', 1), ('agin', 1), ('thios', 1), ('cporn', 1), ('poppinf', 1), ('arenas', 1), ('tween', 1), ('pricing', 1), ('reg', 1), ('snackimals', 1), ('beabs', 1), ('cello', 1), ('securing', 1), ('dulce', 1), ('leche', 1), ('sorghum', 1), ('flours', 1), ('newly', 1), ('redesigned', 1), ('attuned', 1), ('bundled', 1), ('vines', 1), ('sorting', 1), ('wheatgrass', 1), ('slamming', 1), ('grit', 1), ('adhering', 1), ('tap', 1), ('spirulina', 1), ('chlorella', 1), ('affecting', 1), ('adversely', 1), ('values', 1), ('percentages', 1), ('cultures', 1), ('peices', 1), ('guessed', 1), ('greece', 1), ('originated', 1), ('iran', 1), ('middlemen', 1), ('redsaff', 1), ('afghanistan', 1), ('transparent', 1), ('falls', 1), ('waayyyy', 1), ('grocers', 1), ('warfarin', 1), ('inr', 1), ('adjusted', 1), ('db', 1), ('cce', 1), ('adef', 1), ('particles', 1), ('repacked', 1), ('boxing', 1), ('travelled', 1), ('knockoffs', 1), ('brachs', 1), ('labelled', 1), ('floated', 1), ('attach', 1), ('figuring', 1), ('vintage', 1), ('gumball', 1), ('hefty', 1), ('smazon', 1), ('catagory', 1), ('imply', 1), ('centimeter', 1), ('puncture', 1), ('reverting', 1), ('techniques', 1), ('promises', 1), ('backed', 1), ('moreover', 1), ('laboratory', 1), ('certification', 1), ('ritz', 1), ('sams', 1), ('layers', 1), ('bobs', 1), ('nutz', 1), ('processor', 1), ('dependable', 1), ('gradually', 1), ('field', 1), ('mongolian', 1), ('steps', 1), ('asia', 1), ('argument', 1), ('paneling', 1), ('hairy', 1), ('discerning', 1), ('postage', 1), ('locallly', 1), ('priority', 1), ('swerve', 1), ('subscribed', 1), ('dug', 1), ('truth', 1), ('vodka', 1), ('pool', 1), ('chlorine', 1), ('lubricant', 1), ('worste', 1), ('dressing', 1), ('balsamic', 1), ('culinary', 1), ('treasures', 1), ('buuuut', 1), ('dang', 1), ('budget', 1), ('ristretto', 1), ('lungo', 1), ('verona', 1), ('theones', 1), ('partly', 1), ('stainless', 1), ('capsul', 1), ('papua', 1), ('alchemy', 1), ('allifiation', 1), ('prevention', 1), ('disappoinment', 1), ('wile', 1), ('overroasted', 1), ('concerningly', 1), ('arthritic', 1), ('wierd', 1), ('blueprint', 1), ('cottony', 1), ('insides', 1), ('stake', 1), ('rec', 1), ('capers', 1), ('jalepenos', 1), ('cubbard', 1), ('chop', 1), ('spreading', 1), ('satisfy', 1), ('dries', 1), ('brag', 1), ('flop', 1), ('melts', 1), ('vacuumed', 1), ('sinus', 1), ('uo', 1), ('manila', 1), ('hang', 1), ('outrageous', 1), ('heck', 1), ('soo', 1), ('drawn', 1), ('lindor', 1), ('truffles', 1), ('disfigured', 1), ('conference', 1), ('rental', 1), ('beach', 1), ('sachet', 1), ('granules', 1), ('mesh', 1), ('seeps', 1), ('sachetsl', 1), ('nu', 1), ('lima', 1), ('aspirin', 1), ('tablet', 1), ('toffifay', 1), ('solf', 1), ('shaky', 1), ('xyletol', 1), ('oit', 1), ('catches', 1), ('purveyors', 1), ('caveat', 1), ('collecting', 1), ('collection', 1), ('asks', 1), ('disposing', 1), ('pastures', 1), ('solved', 1), ('prescriptions', 1), ('chamoy', 1), ('combo', 1), ('involving', 1), ('callebaut', 1), ('imagination', 1), ('callets', 1), ('creamier', 1), ('applies', 1), ('plush', 1), ('recommed', 1), ('grayish', 1), ('declares', 1), ('greyish', 1), ('beaten', 1), ('events', 1), ('redmill', 1), ('treatments', 1), ('prohibited', 1), ('wonders', 1), ('jawbreakers', 1), ('granulated', 1), ('temps', 1), ('vending', 1), ('steroids', 1), ('rolo', 1), ('gad', 1), ('highlight', 1), ('ranging', 1), ('bloodstream', 1), ('energized', 1), ('composition', 1), ('suppressing', 1), ('lerner', 1), ('institute', 1), ('ohio', 1), ('relays', 1), ('researchers', 1), ('escalating', 1), ('western', 1), ('diets', 1), ('parallels', 1), ('incidence', 1), ('crohn', 1), ('century', 1), ('bacterial', 1), ('human', 1), ('epithelial', 1), ('enhanced', 1), ('coli', 1), ('survival', 1), ('salmonella', 1), ('mucosal', 1), ('immunology', 1), ('impairs', 1), ('cellular', 1), ('antibacterial', 1), ('antimicrobial', 1), ('mechanisms', 1), ('leading', 1), ('arise', 1), ('inappropriate', 1), ('organisms', 1), ('independent', 1), ('alzheimer', 1), ('reproduction', 1), ('pancreatic', 1), ('renal', 1), ('immunologic', 1), ('parameters', 1), ('united', 1), ('department', 1), ('agriculture', 1), ('planted', 1), ('tolerant', 1), ('herbicides', 1), ('vitaminology', 1), ('irritations', 1), ('promote', 1), ('binders', 1), ('bulking', 1), ('agents', 1), ('safer', 1), ('managing', 1), ('restore', 1), ('extracts', 1), ('fasting', 1), ('caloric', 1), ('extracted', 1), ('guavas', 1), ('quince', 1), ('plums', 1), ('gelling', 1), ('stabilizer', 1), ('notably', 1), ('elimination', 1), ('detoxifying', 1), ('regulating', 1), ('copper', 1), ('manganese', 1), ('magnesium', 1), ('suggests', 1), ('medicinal', 1), ('medjool', 1), ('replenish', 1), ('unfiltered', 1), ('unpasteurized', 1), ('powers', 1), ('exercise', 1), ('promoting', 1), ('preventative', 1), ('antidiabetic', 1), ('uniformly', 1), ('sherbet', 1), ('slows', 1), ('absorption', 1), ('prediabetes', 1), ('thoughts', 1), ('thickener', 1), ('enzymatically', 1), ('commonly', 1), ('athletes', 1), ('bodybuilders', 1), ('ability', 1), ('suppress', 1), ('nutrient', 1), ('dense', 1), ('enigma', 1), ('burners', 1), ('standing', 1), ('uncovers', 1), ('solidsis', 1), ('freemaltodextrinmaltodextrin', 1), ('dangerswhat', 1), ('vibrant', 1), ('debris', 1), ('stomache', 1), ('uncured', 1), ('bacon', 1), ('pork', 1), ('wagyu', 1), ('migration', 1), ('patches', 1), ('northern', 1), ('seam', 1), ('enter', 1), ('lethal', 1), ('russell', 1), ('stover', 1), ('creams', 1), ('suspiciously', 1), ('pro', 1), ('leans', 1), ('ingestion', 1), ('spiciness', 1), ('sampling', 1), ('gaining', 1), ('courage', 1), ('porcelain', 1), ('throne', 1), ('blacked', 1), ('paramedics', 1), ('kneeling', 1), ('performing', 1), ('stabilize', 1), ('revived', 1), ('invade', 1), ('anti', 1), ('rechecking', 1), ('illustrate', 1), ('fallen', 1), ('victim', 1), ('extortion', 1), ('knocked', 1), ('fearmongers', 1), ('nongmo', 1), ('disappears', 1), ('whitish', 1), ('subjected', 1), ('extremes', 1), ('external', 1), ('pollutants', 1), ('dissatisfaction', 1), ('bazooka', 1), ('ars', 1), ('haphazardly', 1), ('contribute', 1), ('webmd', 1), ('disress', 1), ('atom', 1), ('bomb', 1), ('losing', 1), ('voucher', 1), ('options', 1), ('nighttime', 1), ('guard', 1), ('epidemic', 1), ('commend', 1), ('prenatal', 1), ('deliver', 1), ('miserable', 1), ('blues', 1), ('popchips', 1), ('waisted', 1), ('chose', 1), ('headed', 1), ('formulas', 1), ('earths', 1), ('caked', 1), ('conscious', 1), ('intentional', 1), ('avoided', 1), ('specks', 1), ('decorated', 1), ('biscotti', 1), ('upgrading', 1), ('board', 1), ('anemic', 1), ('wished', 1), ('furious', 1), ('marginally', 1), ('shill', 1), ('crawl', 1), ('stroopwaffles', 1), ('buttered', 1), ('culturally', 1), ('repurchasing', 1), ('whch', 1), ('salvage', 1), ('drive', 1), ('prop', 1), ('hazordous', 1), ('proposition', 1), ('nonetheless', 1), ('rule', 1), ('delicioso', 1), ('millennial', 1), ('group', 1), ('sparkling', 1), ('twp', 1), ('pf', 1), ('mechanism', 1), ('sealable', 1), (\"'in\", 1), ('globby', 1), ('hotter', 1), ('dissolved', 1), ('remeniscent', 1), ('casings', 1), ('requiring', 1), ('incurred', 1), ('expenses', 1), ('complication', 1), ('gerbs', 1), ('infestation', 1), ('variation', 1), ('manfuactored', 1), ('clever', 1), ('cornstarch', 1), ('alas', 1), ('altitude', 1), ('blamed', 1), ('lawn', 1), ('clippings', 1), ('plantain', 1), ('herbal', 1), ('sampler', 1), ('snoop', 1), ('snickerdoodle', 1), ('belgian', 1), ('debit', 1), ('cococut', 1), ('administered', 1), ('fire', 1), ('dept', 1), ('ting', 1), ('extraction', 1), ('solvent', 1), ('vinager', 1), ('teabags', 1), ('adequate', 1), ('weaker', 1), ('gerald', 1), ('cothran', 1), ('desperation', 1), ('named', 1), ('afixed', 1), ('render', 1), ('sufficient', 1), ('dispensing', 1), ('played', 1), ('dispense', 1), ('pepperminty', 1), ('mulled', 1), ('tucked', 1), ('agonizing', 1), ('consulted', 1), ('hip', 1), ('displasia', 1), ('adults', 1), ('hunt', 1), ('speed', 1), ('kibble', 1), ('nougats', 1), ('burlap', 1), ('sizzle', 1), ('lover', 1), ('arrrived', 1), ('rubbish', 1), ('keen', 1), ('yellowish', 1), ('app', 1), ('reimbursed', 1), ('sole', 1), ('grinded', 1), ('highley', 1), ('scramble', 1), ('weighed', 1), ('seaied', 1), ('resolution', 1), ('lectured', 1), ('astigmatism', 1), ('cell', 1), ('troubles', 1), ('fussy', 1), ('virus', 1), ('utensil', 1), ('liquids', 1), ('rite', 1), ('receivng', 1), ('slashed', 1), ('thowing', 1), ('prevelant', 1), ('apricot', 1), ('amygdalin', 1), ('referred', 1), ('laetrile', 1), ('essential', 1), ('converted', 1), ('cyanide', 1), ('tingle', 1), ('denied', 1), ('bancha', 1), ('hojicha', 1), ('suspicion', 1), ('davinci', 1), ('soymilk', 1), ('gassy', 1), ('jif', 1), ('suisse', 1), ('petit', 1), ('yearly', 1), ('fuming', 1), ('nac', 1), ('reasoning', 1), ('potency', 1), ('grown', 1), ('ewwwwww', 1), ('bending', 1), ('pants', 1), ('meringue', 1), ('laxatives', 1), ('oregon', 1), ('mitning', 1), ('unaware', 1), ('baba', 1), ('spits', 1), ('hvnt', 1), ('stockings', 1), ('woody', 1), ('tobacco', 1), ('substitutions', 1), ('glucometer', 1), ('misery', 1), ('likened', 1), ('million', 1), ('addictive', 1), ('thrid', 1), ('slides', 1), ('evidently', 1), ('dispose', 1), ('rubberbands', 1), ('abaolutely', 1), ('ww', 1), ('offputting', 1), ('exceedingly', 1), ('eleven', 1), ('squeamish', 1), ('honeyville', 1), ('sifting', 1), ('tbsp', 1), ('collectively', 1), ('grinding', 1), ('forgiving', 1), ('milling', 1), ('define', 1), ('hitting', 1), ('fixed', 1), ('carbquik', 1), ('insist', 1), ('snarfed', 1), ('wiener', 1), ('couldnt', 1), ('raging', 1), ('stiffness', 1), (\"'rough\", 1), ('tho', 1), ('emulsifier', 1), ('additive', 1), ('enquire', 1), ('voicemail', 1), (\"''does\", 1), ('homogenizing', 1), ('produc', 1), (\"''\", 1), ('brian', 1), (\"'non\", 1), ('homogenization', 1), ('staff', 1), ('gifting', 1), ('plans', 1), ('skinny', 1), ('shrimp', 1), ('malfunction', 1), ('costumer', 1), ('bpa', 1), ('emphasis', 1), ('seasonal', 1), ('detox', 1), ('scorched', 1), ('thymoquinone', 1), ('determines', 1), ('effectiveness', 1), ('bso', 1), ('risking', 1), ('purposely', 1), ('pertinent', 1), ('shoot', 1), ('learnt', 1), ('lessons', 1), ('komi', 1), ('gi', 1), ('visits', 1), ('rabbit', 1), ('punctuated', 1), ('burps', 1), ('durian', 1), ('sluggish', 1), ('allured', 1), ('mayonnaise', 1), ('moderate', 1), ('composted', 1), ('caste', 1), ('traveling', 1), ('reconstitute', 1), ('leftovers', 1), ('henrys', 1), ('assembled', 1), ('bouquets', 1), ('noodle', 1), ('drastically', 1), ('international', 1), ('lift', 1), ('weights', 1), ('cardio', 1), ('bang', 1), ('doodoo', 1), ('boom', 1), ('absorbing', 1), ('blessing', 1), ('shiny', 1), ('score', 1), ('invested', 1), ('excused', 1), ('displeasure', 1), ('quiet', 1), ('encourages', 1), ('kc', 1), ('moose', 1), ('munch', 1), ('flagship', 1), ('mistaken', 1), ('leakers', 1), ('permitted', 1), ('hairs', 1), ('cckies', 1), ('reasonably', 1), ('gogis', 1), ('reference', 1), ('distribution', 1), ('rheumatoid', 1), ('arthritis', 1), ('fibromyalgia', 1), ('ra', 1), ('fibro', 1), ('attribute', 1), ('toasted', 1), ('boarder', 1), ('spotty', 1), ('borderline', 1), ('frugal', 1), ('whispers', 1), ('portioned', 1), ('flaver', 1), ('teath', 1), ('miotoxin', 1), ('harbor', 1), ('toxin', 1), ('thousands', 1), ('exaggerating', 1), ('cleverly', 1), ('designed', 1), ('delightfull', 1), ('weigh', 1), ('valid', 1), ('thay', 1), ('merely', 1), ('blaming', 1), ('baggie', 1), ('skittle', 1), ('refers', 1), ('wrigley', 1), ('pleasingly', 1), ('cartilage', 1), ('saut', 1), ('ed', 1), ('faintly', 1), ('pad', 1), ('thai', 1), ('retaped', 1), ('refrigerating', 1), ('periodically', 1), ('takeover', 1), ('public', 1), ('allay', 1), ('fears', 1), ('hurry', 1), ('erroneous', 1), ('assumption', 1), ('transported', 1), ('mozzarella', 1), ('cauliflower', 1), ('undesired', 1), ('ould', 1), ('bruised', 1), ('repurchased', 1), ('starts', 1), ('palm', 1), ('improver', 1), ('pyrophosphate', 1), ('polyphoshate', 1), ('obscuring', 1), ('cleanses', 1), ('noble', 1), ('coded', 1), ('purity', 1), ('cylinder', 1), ('dexterity', 1), ('slip', 1), ('wih', 1), ('disctributor', 1), ('fluid', 1), ('uneasy', 1), ('duck', 1), ('pringles', 1), ('wider', 1), ('width', 1), ('shockingly', 1), ('cigarette', 1), ('ash', 1), ('fianc', 1), ('spewed', 1), ('dreamt', 1), ('stabilizing', 1), ('erythrritol', 1), ('biome', 1), ('reeks', 1), ('rot', 1), ('misshapen', 1), ('nutcracker', 1), ('theme', 1), ('unseal', 1), ('wast', 1), ('tolerated', 1), ('allegens', 1), ('reputable', 1), ('merchants', 1), ('patch', 1), ('onil', 1), ('setting', 1), ('circus', 1), ('eek', 1), ('toe', 1), ('fibrous', 1), ('lebanese', 1), ('aloevera', 1), ('hoosier', 1), ('hill', 1), ('fowl', 1), ('thry', 1), ('definelty', 1), ('worries', 1), ('frosted', 1), ('pointy', 1), ('elevated', 1), ('antibiotics', 1), ('iv', 1), ('clock', 1), ('reas', 1), ('longs', 1), ('improperly', 1), ('edibility', 1), ('ordeted', 1), ('verieties', 1), ('spill', 1), ('depressed', 1), ('mode', 1), ('cero', 1), ('popular', 1), ('refreshing', 1), ('drastic', 1), ('occurs', 1), ('unwrapping', 1), ('bay', 1), ('spiny', 1), ('vermin', 1), ('stews', 1), ('cbtl', 1), ('panama', 1), ('delighted', 1), ('italian', 1), ('expresso', 1), ('enhances', 1), ('visceral', 1), ('sriracha', 1), ('almsot', 1), ('attempts', 1), ('diaherria', 1), ('dissaponted', 1), ('overcooked', 1), ('tomatoe', 1), ('pur', 1), ('hypertension', 1), ('chilis', 1), ('alike', 1), ('rejected', 1), ('joining', 1), ('sandpaper', 1), ('commented', 1), ('remotely', 1), ('vast', 1), ('dumped', 1), ('alarming', 1), ('intermingled', 1), ('japanese', 1), ('blurry', 1), ('hydroxide', 1), ('persisted', 1), ('slippery', 1), ('bigly', 1), (\"'natural\", 1), ('chomp', 1), ('wincing', 1), ('kidneys', 1), ('zesty', 1), ('wayyyy', 1), ('digits', 1), ('vent', 1), ('dictated', 1), ('aussie', 1), ('tore', 1), ('chalk', 1), ('firstly', 1), ('bride', 1), ('kissing', 1), ('distance', 1), ('duplicate', 1), ('advantage', 1), ('injesting', 1), ('competitors', 1), ('digestions', 1), ('zoom', 1), ('miffin', 1), ('intestional', 1), ('unfortunatly', 1), ('weigjy', 1), ('legitimate', 1), ('goyas', 1), ('adobo', 1), ('evencwentahead', 1), ('irritates', 1), ('cools', 1), ('fuzz', 1), ('resold', 1), ('flood', 1), ('bunnies', 1), ('tempering', 1), ('rumble', 1), ('commercial', 1), ('habanero', 1), ('lawless', 1), ('pho', 1), ('savage', 1), ('mojo', 1), ('jalerrano', 1), ('slantshack', 1), ('spiracha', 1), ('bojerky', 1), ('uzso', 1), ('trappist', 1), ('abbey', 1), ('monastery', 1), ('advance', 1), ('benefited', 1), ('moneys', 1), ('adidict', 1), ('tiesta', 1), ('steeepd', 1), ('youtube', 1), ('bedroom', 1), ('rang', 1), ('bell', 1), ('amazons', 1), ('loudly', 1), ('investigate', 1), ('limits', 1), ('refrigeration', 1), ('unami', 1), ('disclosure', 1), ('hesitate', 1), ('stupidly', 1), ('finer', 1), ('measly', 1), ('vaguely', 1), ('candied', 1), ('sugared', 1), ('huh', 1), ('seafood', 1), ('kneading', 1), ('goats', 1), ('oriental', 1), ('dunkin', 1), ('horizons', 1), ('goal', 1), ('palet', 1), ('mighty', 1), ('boooo', 1), ('whilst', 1), ('tv', 1), ('dumb', 1), ('opportunity', 1), ('herby', 1), ('savory', 1), ('category', 1), ('knocking', 1), ('leveled', 1), ('thinnest', 1), ('ima', 1), ('brighter', 1), ('washing', 1), ('ripping', 1), ('covers', 1), ('bolted', 1), ('punish', 1), ('soybeans', 1), ('stripped', 1), ('googled', 1), ('satisfactory', 1), ('occasion', 1), ('ditching', 1), ('disgruntled', 1), ('worker', 1), ('anyhow', 1), ('pretending', 1), ('smiley', 1), ('unpacked', 1), ('gerd', 1), ('mgs', 1), ('sweeten', 1), ('defeated', 1), ('dew', 1), ('crash', 1), ('shouldnt', 1), ('maby', 1), ('printing', 1), ('inappropriately', 1), ('ribbon', 1), ('choc', 1), ('devoured', 1), ('debug', 1), ('repaint', 1), ('tastless', 1), ('definately', 1), ('spite', 1), ('raving', 1), ('rolled', 1), ('bank', 1), ('joes', 1), ('soooooo', 1), ('tastiest', 1), ('pond', 1), ('hermetically', 1), ('differences', 1), ('synonymous', 1), ('charcoal', 1), ('briquettes', 1), ('chagrin', 1), ('workers', 1), ('joked', 1), ('blondie', 1), ('magnificent', 1), ('bleu', 1), ('fudgy', 1), ('excepted', 1), ('dandelion', 1), ('wines', 1), ('chilled', 1), ('powered', 1), ('swapped', 1), ('deterred', 1), ('relative', 1), ('newcomer', 1), ('deteriorated', 1), ('motions', 1), ('smear', 1), ('unappealing', 1), ('continuous', 1), ('sneezing', 1), ('coughing', 1), ('anytime', 1), ('woman', 1), ('scrapings', 1), ('inclusions', 1), ('useable', 1), ('propolis', 1), ('wholes', 1), ('ages', 1), ('ineligible', 1), ('marathon', 1), ('triathlon', 1), ('train', 1), ('dismal', 1), ('germination', 1), ('todd', 1), ('canisters', 1), ('sports', 1), ('horrified', 1), ('cotton', 1), ('ehealth', 1), ('numbers', 1), ('hahah', 1), ('punched', 1), ('blackstrap', 1), ('advertise', 1), ('responds', 1), ('explains', 1), ('corrects', 1), ('mistakes', 1), ('js', 1), ('pulverized', 1), ('overtone', 1), ('cheers', 1), ('deserves', 1), ('aptly', 1), ('notable', 1), ('irony', 1), (\"'dry\", 1), ('lawsuits', 1), ('aforementioned', 1), ('pleasantly', 1), ('outta', 1), ('loses', 1), ('typing', 1), ('peace', 1), ('wrongly', 1), ('suitcase', 1), ('grandmas', 1), ('attic', 1), ('acquired', 1), ('cast', 1), ('macs', 1), ('flooring', 1), ('defrosted', 1), ('aunt', 1), ('unexpired', 1), ('briefly', 1), ('permits', 1), ('revision', 1), ('graduate', 1), ('sciences', 1), ('researcher', 1), ('producers', 1), ('matters', 1), ('realms', 1), ('follows', 1), ('defrauded', 1), ('ph', 1), ('dimple', 1), ('differential', 1), ('readers', 1), ('alla', 1), ('genovese', 1), ('reassure', 1), ('dimpled', 1), ('loosened', 1), ('reseller', 1), ('european', 1), ('detected', 1), ('outlined', 1), ('microbes', 1), ('botulinum', 1), ('ingested', 1), ('europe', 1), ('url', 1), ('addressed', 1), ('bulleted', 1), ('fashion', 1), ('bulging', 1), ('microbial', 1), ('odors', 1), ('visual', 1), ('olfactory', 1), ('vigilant', 1), ('deficiencies', 1), ('arrogant', 1), ('undeserved', 1), ('detect', 1), ('certainty', 1), ('closing', 1), ('illustration', 1), ('magnified', 1), ('view', 1), ('magnification', 1), ('blackmailed', 1), ('core', 1), ('protector', 1), ('array', 1), ('panacea', 1), ('duped', 1), ('drier', 1), ('confirmation', 1), ('imprint', 1), ('decades', 1), ('beared', 1), ('kicks', 1), ('unprofessionally', 1), ('haze', 1), ('belong', 1), ('surf', 1), ('sweets', 1), ('autolyzed', 1), ('hidden', 1), ('bumbed', 1), ('fruitcakes', 1), ('turpentine', 1), ('lingering', 1), ('dissapoinred', 1), ('treasured', 1), ('deceased', 1), ('heirloom', 1), ('elderly', 1), ('nah', 1), ('pete', 1), ('snyder', 1), ('disclaimer', 1), ('lousy', 1), ('eater', 1), ('anger', 1), ('crimson', 1), ('sjogrens', 1), ('newsletters', 1), ('lollipop', 1), ('arcor', 1), ('lulo', 1), ('stalkings', 1), ('drinker', 1), ('experimenting', 1), ('decafs', 1), ('lured', 1), ('morgue', 1), ('sterile', 1), ('kicking', 1), ('peet', 1), ('affordability', 1), ('coffeehouse', 1), ('rick', 1), ('doubled', 1), ('strained', 1), ('sabdariffa', 1), ('searched', 1), ('prezels', 1), ('anticipating', 1), ('unnatural', 1), ('ths', 1), ('notified', 1), ('xcellent', 1), ('disaster', 1), ('clabbered', 1), ('conceals', 1), ('stir', 1), ('wound', 1), ('granted', 1), ('ignorance', 1), ('profound', 1), ('equate', 1), ('convincing', 1), ('nasal', 1), ('cavity', 1), ('trial', 1), ('chestnuts', 1), ('pretzes', 1), ('bloaty', 1), ('hotten', 1), ('smelt', 1), ('sharpie', 1), ('ref', 1), ('experation', 1), ('petrified', 1), ('zazzle', 1), ('dint', 1), ('salzburg', 1), ('anonymous', 1), ('rumored', 1), ('dusted', 1), ('caramelly', 1), ('dole', 1), ('reliable', 1), ('celiacs', 1), ('kernel', 1), ('epipen', 1), ('alleviate', 1), ('peppered', 1), ('forst', 1), ('disarray', 1), ('resume', 1), ('gfb', 1), ('cvs', 1)]\n"
          ],
          "name": "stdout"
        }
      ]
    },
    {
      "cell_type": "code",
      "metadata": {
        "id": "olrADrnE2E2X",
        "colab_type": "code",
        "colab": {
          "base_uri": "https://localhost:8080/",
          "height": 53
        },
        "outputId": "63008ed1-6978-4231-86d9-c67f1226925a"
      },
      "source": [
        "counter = collections.Counter(good_text_list)\n",
        "print(counter.most_common())"
      ],
      "execution_count": 67,
      "outputs": [
        {
          "output_type": "stream",
          "text": [
            "[('not', 408), ('br', 325), (\"n't\", 232), ('stale', 167), ('like', 163), ('taste', 138), ('product', 124), ('one', 123), (\"'s\", 123), ('good', 116), ('would', 102), (\"'m\", 84), ('coffee', 83), ('get', 80), ('bag', 80), ('flavor', 70), ('amazon', 70), ('box', 66), ('time', 65), ('even', 64), (\"'ve\", 61), ('bought', 61), ('first', 60), ('much', 59), ('tea', 56), ('use', 55), ('could', 55), ('buy', 53), ('disappointed', 52), ('really', 52), ('sugar', 51), ('order', 51), ('also', 50), ('got', 50), ('love', 49), ('tried', 48), ('great', 48), ('tasted', 48), ('sealed', 48), ('bad', 47), ('used', 46), ('package', 44), ('ordered', 44), ('eat', 42), ('chocolate', 42), ('price', 42), ('try', 41), ('fresh', 41), ('received', 40), ('make', 40), ('better', 40), ('little', 40), ('made', 39), ('never', 39), ('oil', 39), ('broken', 38), ('two', 38), ('know', 37), ('purchased', 37), ('money', 37), ('ca', 36), ('came', 36), ('candy', 36), ('old', 36), ('item', 34), ('arrived', 34), ('nuts', 34), ('opened', 33), ('find', 33), ('hard', 32), ('think', 32), ('stars', 32), ('however', 31), ('food', 31), ('open', 31), ('many', 30), ('sure', 30), ('return', 30), ('since', 29), ('bags', 29), ('something', 29), ('away', 29), ('quality', 29), ('water', 29), ('blood', 28), ('company', 28), ('rancid', 28), ('maybe', 28), ('days', 27), ('still', 27), ('way', 27), ('thought', 27), ('ones', 27), ('beans', 27), ('see', 26), ('buying', 26), ('well', 26), ('different', 26), ('brand', 26), ('going', 26), ('waste', 26), ('new', 25), ('fine', 25), ('awful', 25), ('date', 25), ('say', 25), ('may', 25), ('last', 25), ('tasting', 25), ('free', 24), ('using', 24), ('thing', 24), ('tastes', 24), ('found', 24), ('mold', 24), ('recommend', 24), ('back', 23), ('though', 23), ('kind', 23), ('small', 23), ('flavors', 23), ('another', 23), ('batch', 23), ('pack', 22), ('actually', 22), ('nothing', 22), ('organic', 22), ('sick', 21), ('lot', 21), ('cookies', 21), ('seal', 21), ('allergic', 21), ('instead', 21), ('bit', 21), ('unfortunately', 21), ('mix', 21), ('give', 21), ('wo', 21), ('every', 20), ('high', 20), ('jar', 20), ('said', 20), ('happy', 20), ('reviews', 20), ('looking', 20), ('shipping', 20), ('second', 20), (\"'ll\", 20), ('work', 20), ('packaging', 20), ('half', 20), ('stuff', 20), (\"'d\", 20), ('cup', 19), ('want', 19), ('purchase', 19), ('store', 19), ('horrible', 19), ('black', 19), ('ok', 19), ('trying', 18), ('vanilla', 18), ('go', 18), ('seller', 18), ('fruit', 18), ('past', 18), ('experience', 18), ('put', 18), ('review', 18), ('hot', 18), ('bars', 18), ('products', 18), ('best', 17), ('eating', 17), ('years', 17), ('ever', 17), ('flavored', 17), ('sweet', 17), ('probably', 17), ('people', 17), ('look', 17), ('whole', 17), ('big', 17), ('looked', 17), ('definitely', 17), ('year', 16), (\"'\", 16), ('right', 16), ('guess', 16), ('top', 16), ('expiration', 16), ('milk', 16), ('makes', 16), ('dry', 16), ('gift', 16), ('honey', 16), ('refund', 16), ('wanted', 16), ('low', 16), ('bacon', 16), ('cups', 15), ('far', 15), ('almost', 15), ('without', 15), ('us', 15), ('take', 15), ('others', 15), ('stomach', 15), ('read', 15), ('moldy', 15), ('keep', 15), ('white', 15), ('smell', 15), ('anything', 15), ('added', 15), ('disappointing', 15), ('worth', 15), ('ate', 15), ('day', 15), ('wish', 15), ('things', 15), ('says', 15), ('powder', 15), ('months', 14), ('month', 14), ('around', 14), ('reason', 14), ('went', 14), ('ended', 14), ('items', 14), ('several', 14), ('raw', 14), ('dog', 14), ('boxes', 14), ('terrible', 14), ('green', 14), ('feel', 14), ('gave', 13), ('large', 13), ('star', 13), ('couple', 13), ('next', 13), ('loved', 13), ('enough', 13), ('ingredients', 13), ('natural', 13), ('gross', 13), ('threw', 13), ('customer', 13), ('butter', 13), ('rotten', 13), ('pretty', 13), ('bottles', 13), ('completely', 13), ('k', 13), ('properly', 13), ('cookie', 13), ('dried', 13), ('smells', 13), ('less', 13), ('today', 13), ('caffeine', 13), ('least', 12), ('bite', 12), ('machine', 12), ('mouth', 12), (\"'re\", 12), ('rest', 12), ('always', 12), ('decided', 12), ('problem', 12), ('nice', 12), ('label', 12), ('cardboard', 12), ('blend', 12), ('seem', 12), ('delicious', 12), ('fact', 12), ('quite', 12), ('cost', 12), ('seeds', 12), ('grocery', 12), ('plastic', 12), ('bottom', 12), ('kombucha', 12), ('replacement', 12), ('brew', 11), ('needed', 11), ('times', 11), ('might', 11), ('single', 11), ('giving', 11), ('edible', 11), ('bottle', 11), ('long', 11), ('need', 11), ('health', 11), ('gluten', 11), ('morning', 11), ('let', 11), ('tiny', 11), ('service', 11), ('quickly', 11), ('amount', 11), ('part', 11), ('goes', 11), ('corn', 11), ('believe', 11), ('spoiled', 11), ('size', 11), ('normal', 11), ('real', 11), ('coconut', 11), ('extremely', 11), ('excited', 11), ('seems', 11), ('pieces', 11), ('inside', 11), ('bitter', 11), ('especially', 11), ('pay', 11), ('packs', 11), ('grounds', 10), ('anyway', 10), ('worse', 10), ('ago', 10), ('rather', 10), ('drink', 10), ('allergies', 10), ('weeks', 10), ('able', 10), ('glass', 10), ('dark', 10), ('container', 10), ('expensive', 10), ('poop', 10), ('normally', 10), ('packages', 10), ('imagine', 10), ('lid', 10), ('someone', 10), ('opening', 10), ('three', 10), ('took', 10), ('cheese', 10), ('sauce', 10), ('update', 10), ('getting', 10), ('possibly', 10), ('looks', 10), ('aftertaste', 10), ('purchasing', 10), ('liked', 10), ('vegan', 10), ('local', 10), ('fudge', 10), ('issue', 9), ('point', 9), ('must', 9), ('plain', 9), ('description', 9), ('started', 9), ('actual', 9), ('allergy', 9), ('calories', 9), ('drinking', 9), ('nasty', 9), ('per', 9), ('everything', 9), ('brands', 9), ('salt', 9), ('perhaps', 9), ('daughter', 9), ('jars', 9), ('recipe', 9), ('hoping', 9), ('dextrose', 9), ('care', 9), ('based', 9), ('case', 9), ('sent', 9), ('left', 9), ('prime', 9), ('piece', 9), ('husband', 9), ('strong', 9), ('ceremonial', 9), ('later', 9), ('else', 9), ('cake', 9), ('extract', 9), ('upon', 9), ('pods', 9), ('saw', 8), ('pain', 8), ('plus', 8), ('throw', 8), ('quot', 8), ('heart', 8), ('ingredient', 8), ('home', 8), ('vacuum', 8), ('super', 8), ('contain', 8), ('manufacturer', 8), ('stevia', 8), ('life', 8), ('original', 8), ('come', 8), ('sprouted', 8), ('almonds', 8), ('healthy', 8), ('due', 8), ('usually', 8), ('worst', 8), ('sort', 8), ('favorite', 8), ('tasty', 8), ('expected', 8), ('full', 8), ('excellent', 8), ('anyone', 8), ('wrapped', 8), ('stop', 8), ('immediately', 8), ('everywhere', 8), ('cat', 8), ('comes', 8), ('grade', 8), ('poor', 8), ('seemed', 8), ('hours', 8), ('noticed', 8), ('available', 8), ('lots', 8), ('paper', 8), ('stuck', 8), ('brewing', 8), ('difference', 8), ('picture', 8), ('enjoy', 8), ('changed', 8), ('protein', 8), ('either', 8), ('hemp', 8), ('rock', 7), ('particular', 7), ('chew', 7), ('thinking', 7), ('whatever', 7), ('shelf', 7), ('christmas', 7), ('expired', 7), ('cause', 7), ('diet', 7), ('idea', 7), ('disappointment', 7), ('ordering', 7), ('almond', 7), ('previous', 7), ('mixed', 7), ('soft', 7), ('slightly', 7), ('end', 7), ('hope', 7), ('yet', 7), ('syrup', 7), ('glucose', 7), ('total', 7), ('foods', 7), ('carb', 7), ('crumbly', 7), ('nearly', 7), ('cool', 7), ('companies', 7), ('online', 7), ('chewy', 7), ('change', 7), ('okay', 7), ('texture', 7), ('lemon', 7), ('gas', 7), ('bread', 7), ('locally', 7), ('popcorn', 7), ('four', 7), ('making', 7), ('compared', 7), ('cut', 7), ('resealable', 7), ('light', 7), ('peppermint', 7), ('fast', 7), ('expecting', 7), ('throwing', 7), ('anxiety', 7), ('entire', 7), ('party', 7), ('center', 7), ('together', 7), ('absolutely', 7), ('scoby', 7), ('set', 7), ('week', 7), ('skin', 7), ('wrong', 7), ('otherwise', 7), ('gummy', 7), ('diarrhea', 7), ('peanut', 7), ('awesome', 7), ('nut', 7), ('keurig', 6), ('snack', 6), ('deal', 6), ('save', 6), ('th', 6), ('felt', 6), ('none', 6), ('oh', 6), ('disease', 6), ('night', 6), ('hand', 6), ('person', 6), ('treat', 6), ('stick', 6), ('erythritol', 6), ('given', 6), ('jerky', 6), ('b', 6), ('overpriced', 6), ('five', 6), ('benefits', 6), ('forward', 6), ('leaked', 6), ('orange', 6), ('shipment', 6), ('late', 6), ('web', 6), ('sitting', 6), ('sorry', 6), ('vendor', 6), ('spent', 6), ('version', 6), ('substitute', 6), ('cocoa', 6), ('discovered', 6), ('olive', 6), ('bug', 6), ('zero', 6), ('chose', 6), ('sweetener', 6), ('chemicals', 6), ('diabetes', 6), ('alternative', 6), ('brown', 6), ('showed', 6), ('stored', 6), ('call', 6), ('contacted', 6), ('gone', 6), ('fell', 6), ('carbs', 6), ('kids', 6), ('garbage', 6), ('smelled', 6), ('third', 6), ('formula', 6), ('son', 6), ('molds', 6), ('amazing', 6), ('overall', 6), ('unless', 6), ('chewing', 6), ('thick', 6), ('disgusting', 6), ('delivered', 6), ('supposed', 6), ('wasted', 6), ('leaves', 6), ('simply', 6), ('stay', 6), ('variety', 6), ('expect', 6), ('trash', 6), ('twice', 6), ('extra', 6), ('candies', 6), ('help', 6), ('note', 6), ('cherry', 6), ('dehydrated', 6), ('pu', 6), ('erh', 6), ('vinegar', 6), ('warm', 6), ('course', 6), ('stated', 6), ('birthday', 6), ('possible', 6), ('color', 6), ('sprout', 6), ('non', 6), ('taking', 6), ('weird', 6), ('mean', 6), ('process', 6), ('mail', 6), ('etc', 6), ('shipped', 6), ('regular', 6), ('l', 6), ('bar', 6), ('vosges', 6), ('happened', 5), ('previously', 5), ('suspect', 5), ('although', 5), ('rating', 5), ('teeth', 5), ('combination', 5), ('prefer', 5), ('add', 5), ('already', 5), ('returned', 5), ('issues', 5), ('kit', 5), ('show', 5), ('sold', 5), ('crackers', 5), ('apple', 5), ('told', 5), ('maltitol', 5), ('avoid', 5), ('diabetic', 5), ('needs', 5), ('nervous', 5), ('xylitol', 5), ('everyone', 5), ('samples', 5), ('inedible', 5), ('code', 5), ('provide', 5), ('truly', 5), ('ice', 5), ('unable', 5), ('culture', 5), ('sad', 5), ('bean', 5), ('checked', 5), ('roast', 5), ('send', 5), ('complete', 5), ('wrap', 5), ('mess', 5), ('fan', 5), ('fridge', 5), ('monk', 5), ('basically', 5), ('negative', 5), ('levels', 5), ('costco', 5), ('totally', 5), ('house', 5), ('tin', 5), ('within', 5), ('melted', 5), ('stores', 5), ('macadamia', 5), ('sensitive', 5), ('snacks', 5), ('sun', 5), ('directly', 5), ('dairy', 5), ('dont', 5), ('g', 5), ('means', 5), ('control', 5), ('literally', 5), ('certain', 5), ('putting', 5), ('effects', 5), ('kept', 5), ('air', 5), ('contents', 5), ('offered', 5), ('often', 5), ('holiday', 5), ('labeling', 5), ('contained', 5), ('thrown', 5), ('gum', 5), ('bring', 5), ('worms', 5), ('across', 5), ('covered', 5), ('nausea', 5), ('wrapper', 5), ('bother', 5), ('opinion', 5), ('receive', 5), ('chance', 5), ('soon', 5), ('stinks', 5), ('understand', 5), ('awhile', 5), ('pumpkin', 5), ('spice', 5), ('tops', 5), ('highly', 5), ('clear', 5), ('lower', 5), ('dirty', 5), ('coming', 5), ('site', 5), ('coating', 5), ('red', 5), ('reading', 5), ('cheap', 5), ('beware', 5), ('roasted', 5), ('paid', 5), ('bears', 5), ('cooking', 5), ('wife', 5), ('trader', 5), ('im', 5), ('mini', 5), ('spilled', 5), ('basket', 5), ('incredibly', 5), ('known', 5), ('damaged', 5), ('e', 5), ('happen', 4), ('coffees', 4), ('tight', 4), ('print', 4), ('subscription', 4), ('tell', 4), ('folks', 4), ('decent', 4), ('stock', 4), ('contains', 4), ('page', 4), ('recipes', 4), ('cramps', 4), ('positive', 4), ('weak', 4), ('tasteless', 4), ('reaction', 4), ('special', 4), ('true', 4), ('accurate', 4), ('news', 4), ('anymore', 4), ('contact', 4), ('sample', 4), ('start', 4), ('pleased', 4), ('body', 4), ('easily', 4), ('instructions', 4), ('exactly', 4), ('adding', 4), ('touch', 4), ('chips', 4), ('bugs', 4), ('worm', 4), ('assortment', 4), ('sumatra', 4), ('starbucks', 4), ('risk', 4), ('hopefully', 4), ('wasting', 4), ('yesterday', 4), ('packed', 4), ('bubble', 4), ('option', 4), ('nope', 4), ('bland', 4), ('shopping', 4), ('chemical', 4), ('medicine', 4), ('consumption', 4), ('processed', 4), ('originally', 4), ('chip', 4), ('form', 4), ('broke', 4), ('sesame', 4), ('except', 4), ('pasta', 4), ('spices', 4), ('fault', 4), ('regularly', 4), ('treats', 4), ('sale', 4), ('noodles', 4), ('certainly', 4), ('gotten', 4), ('side', 4), ('mostly', 4), ('eggs', 4), ('mild', 4), ('fair', 4), ('packing', 4), ('place', 4), ('particularly', 4), ('drank', 4), ('options', 4), ('leaving', 4), ('maple', 4), ('baby', 4), ('rice', 4), ('cracked', 4), ('complaints', 4), ('higher', 4), ('tampered', 4), ('please', 4), ('pure', 4), ('bc', 4), ('advertised', 4), ('wonderful', 4), ('roots', 4), ('close', 4), ('cheaper', 4), ('willing', 4), ('number', 4), ('plant', 4), ('became', 4), ('likely', 4), ('mind', 4), ('figure', 4), ('afraid', 4), ('leave', 4), ('salted', 4), ('eaten', 4), ('waiting', 4), ('msg', 4), ('returnable', 4), ('delivery', 4), ('bulk', 4), ('knows', 4), ('live', 4), ('individual', 4), ('causing', 4), ('caps', 4), ('feeling', 4), ('wash', 4), ('hate', 4), ('test', 4), ('serving', 4), ('trail', 4), ('ready', 4), ('search', 4), ('mulberries', 4), ('crunchy', 4), ('poppy', 4), ('fun', 4), ('impressed', 4), ('run', 4), ('notice', 4), ('finally', 4), ('market', 4), ('lb', 4), ('baking', 4), ('egg', 4), ('bites', 4), ('lollipops', 4), ('outer', 4), ('bits', 4), ('kinder', 4), ('satisfied', 4), ('sour', 4), ('wait', 4), ('longer', 4), ('clean', 4), ('palm', 4), ('appears', 4), ('marshmallows', 4), ('source', 4), ('daily', 4), ('seeing', 4), ('resulting', 4), ('smaller', 4), ('nights', 4), ('lose', 4), ('weight', 4), ('cold', 4), ('cooked', 4), ('coop', 4), ('recent', 3), ('kid', 3), ('printed', 3), ('prior', 3), ('visible', 3), ('soylent', 3), ('nectar', 3), ('flavoring', 3), ('supposedly', 3), ('crystallized', 3), ('medication', 3), ('waking', 3), ('middle', 3), ('tested', 3), ('strips', 3), ('tough', 3), ('brain', 3), ('diabetics', 3), ('shows', 3), ('gastrointestinal', 3), ('yummy', 3), ('asin', 3), ('surprised', 3), ('email', 3), ('finish', 3), ('aware', 3), ('reached', 3), ('replaced', 3), ('finding', 3), ('wow', 3), ('varieties', 3), ('cream', 3), ('thank', 3), ('speak', 3), ('bummed', 3), ('followed', 3), ('suspicious', 3), ('heat', 3), ('pass', 3), ('counter', 3), ('written', 3), ('buyer', 3), ('decaf', 3), ('packet', 3), ('returns', 3), ('listed', 3), ('leaking', 3), ('reminded', 3), ('attached', 3), ('sticky', 3), ('rocks', 3), ('unusable', 3), ('ship', 3), ('pantry', 3), ('huge', 3), ('term', 3), ('enjoyed', 3), ('transport', 3), ('somewhat', 3), ('cereal', 3), ('packets', 3), ('steeped', 3), ('american', 3), ('grams', 3), ('juice', 3), ('perfect', 3), ('funny', 3), ('aroma', 3), ('liquid', 3), ('insects', 3), ('safe', 3), ('co', 3), ('neither', 3), ('recommended', 3), ('sell', 3), ('friend', 3), ('sweeteners', 3), ('dates', 3), ('wrappers', 3), ('unwrapped', 3), ('worked', 3), ('filled', 3), ('concerned', 3), ('face', 3), ('heads', 3), ('cheesy', 3), ('rubber', 3), ('wine', 3), ('name', 3), ('absolute', 3), ('cholula', 3), ('jerkey', 3), ('deep', 3), ('hint', 3), ('seasoning', 3), ('tub', 3), ('barely', 3), ('clumps', 3), ('uses', 3), ('straight', 3), ('living', 3), ('mixing', 3), ('play', 3), ('claims', 3), ('various', 3), ('mine', 3), ('matcha', 3), ('culinary', 3), ('pound', 3), ('usps', 3), ('tape', 3), ('department', 3), ('elsewhere', 3), ('alone', 3), ('transfer', 3), ('appreciate', 3), ('refreshing', 3), ('write', 3), ('benefit', 3), ('doubt', 3), ('flat', 3), ('honestly', 3), ('misleading', 3), ('share', 3), ('child', 3), ('round', 3), ('wheat', 3), ('saved', 3), ('eligible', 3), ('hassle', 3), ('matchas', 3), ('leaf', 3), ('grace', 3), ('encha', 3), ('afford', 3), ('jittery', 3), ('searching', 3), ('photos', 3), ('mint', 3), ('crust', 3), ('helps', 3), ('described', 3), ('warning', 3), ('ridiculous', 3), ('title', 3), ('gooey', 3), ('fit', 3), ('seriously', 3), ('halloween', 3), ('surprise', 3), ('joke', 3), ('walnuts', 3), ('agreed', 3), ('along', 3), ('listing', 3), ('photo', 3), ('double', 3), ('sticks', 3), ('cinnamon', 3), ('sometimes', 3), ('effect', 3), ('glad', 3), ('pop', 3), ('reply', 3), ('seals', 3), ('scobys', 3), ('distilled', 3), ('quart', 3), ('correct', 3), ('rd', 3), ('rate', 3), ('apparently', 3), ('realize', 3), ('placed', 3), ('mailing', 3), ('indication', 3), ('via', 3), ('realized', 3), ('lipton', 3), ('hopes', 3), ('returning', 3), ('faint', 3), ('individually', 3), ('foil', 3), ('value', 3), ('peach', 3), ('soap', 3), ('family', 3), ('spend', 3), ('ratings', 3), ('tossed', 3), ('figured', 3), ('office', 3), ('slices', 3), ('squeeze', 3), ('shape', 3), ('unlike', 3), ('personally', 3), ('anchovies', 3), ('fruitcake', 3), ('thin', 3), ('grease', 3), ('unfortunate', 3), ('turn', 3), ('capsules', 3), ('brewer', 3), ('ill', 3), ('takes', 3), ('blue', 3), ('floating', 3), ('joy', 3), ('places', 3), ('clump', 3), ('design', 3), ('calendar', 3), ('called', 3), ('taken', 3), ('clearly', 3), ('substance', 3), ('nespresso', 3), ('bigger', 3), ('buyers', 3), ('pounds', 3), ('reach', 3), ('hands', 3), ('lightly', 3), ('appearance', 3), ('coloring', 3), ('support', 3), ('beverages', 3), ('target', 3), ('x', 3), ('type', 3), ('traditional', 3), ('consume', 3), ('compare', 3), ('joes', 3), ('annie', 3), ('minutes', 3), ('dust', 3), ('empty', 3), ('drinks', 3), ('generally', 3), ('puffed', 3), ('u', 3), ('gingerbread', 3), ('sweets', 3), ('ginger', 3), ('sickness', 3), ('pie', 3), ('rated', 3), ('quantity', 3), ('frozen', 3), ('whether', 3), ('phone', 3), ('insulated', 3), ('inner', 3), ('ups', 3), ('consumed', 3), ('check', 3), ('rash', 3), ('supply', 3), ('ensure', 3), ('manufactured', 3), ('future', 3), ('nauseous', 3), ('correctly', 3), ('vitamin', 3), ('cbd', 3), ('growth', 3), ('mistake', 3), ('odd', 3), ('zip', 3), ('odor', 3), ('kcup', 3), ('cycle', 3), ('slight', 3), ('themed', 3), ('flavacol', 3), ('ground', 3), ('filling', 3), ('break', 3), ('running', 3), ('soy', 3), ('powdered', 3), ('antep', 3), ('cupcake', 3), ('cupcakes', 3), ('event', 2), ('subscribe', 2), ('regret', 2), ('november', 2), ('jan', 2), ('doable', 2), ('jaw', 2), ('tooth', 2), ('damage', 2), ('pleasure', 2), ('attempt', 2), ('impossible', 2), (\"'not\", 2), ('believed', 2), ('additional', 2), ('gag', 2), ('chalk', 2), ('numerous', 2), ('appear', 2), ('example', 2), ('pressure', 2), ('bye', 2), ('labeled', 2), ('diagnosed', 2), ('harm', 2), ('posting', 2), ('content', 2), ('carbonation', 2), ('dented', 2), ('areas', 2), ('agree', 2), ('nephew', 2), ('wild', 2), ('acai', 2), ('thicker', 2), ('technically', 2), ('glycemic', 2), ('alcohol', 2), ('spike', 2), ('reduced', 2), ('occasional', 2), ('discomfort', 2), ('pregnant', 2), ('dogs', 2), ('careful', 2), ('sandwich', 2), ('toxic', 2), ('beyond', 2), ('spread', 2), ('stoked', 2), ('omg', 2), ('oberto', 2), ('ounce', 2), ('talking', 2), ('soooo', 2), ('coupon', 2), ('guy', 2), ('pleasant', 2), ('fake', 2), ('updated', 2), ('consistency', 2), ('digest', 2), ('absorb', 2), ('yogurt', 2), ('burnt', 2), ('layer', 2), ('developed', 2), ('anywhere', 2), ('loves', 2), ('pretzels', 2), ('parts', 2), ('direct', 2), ('suitable', 2), ('varied', 2), ('strongly', 2), ('world', 2), ('scrapings', 2), ('eats', 2), ('turkey', 2), ('including', 2), ('vacuumed', 2), ('honest', 2), ('allow', 2), ('minus', 2), ('fear', 2), ('hurting', 2), ('feelings', 2), ('children', 2), ('nature', 2), ('crisp', 2), ('spray', 2), ('force', 2), ('scottish', 2), ('pictures', 2), ('separated', 2), ('condition', 2), ('youth', 2), ('childhood', 2), ('breakfast', 2), ('table', 2), ('saturday', 2), ('sweetness', 2), ('gmo', 2), ('noted', 2), ('solutions', 2), ('internal', 2), ('link', 2), ('sugars', 2), ('association', 2), ('teaspoons', 2), ('molasses', 2), ('fructose', 2), ('lactose', 2), ('aged', 2), ('larger', 2), ('indicate', 2), ('addition', 2), ('station', 2), ('baked', 2), ('dump', 2), ('explode', 2), ('recommendation', 2), ('december', 2), ('impact', 2), ('watch', 2), ('happens', 2), ('pizza', 2), ('cleared', 2), ('eater', 2), ('pot', 2), ('meal', 2), ('pains', 2), ('min', 2), ('fried', 2), ('hold', 2), ('soak', 2), ('rubbery', 2), ('dangerous', 2), ('harmful', 2), ('suppose', 2), ('experienced', 2), ('leather', 2), ('reddish', 2), ('softer', 2), ('crap', 2), ('fourth', 2), ('deserves', 2), ('jack', 2), ('edit', 2), ('nov', 2), ('grief', 2), ('done', 2), ('salsa', 2), ('putrid', 2), ('maker', 2), ('wont', 2), ('jello', 2), ('hits', 2), ('affect', 2), ('pitas', 2), ('chicago', 2), ('inconsistent', 2), ('judging', 2), ('floor', 2), ('suggest', 2), ('choices', 2), ('intact', 2), ('moved', 2), ('heartbroken', 2), ('shipments', 2), ('flowers', 2), ('jelly', 2), ('fish', 2), ('paying', 2), ('cent', 2), ('sauces', 2), ('heavy', 2), ('soup', 2), ('mask', 2), ('stocking', 2), ('kenko', 2), ('smoothies', 2), ('adverse', 2), ('tear', 2), ('suddenly', 2), ('stems', 2), ('throughout', 2), ('limited', 2), ('question', 2), ('mocha', 2), ('began', 2), ('maktodextrin', 2), ('signs', 2), ('distress', 2), ('upset', 2), ('differently', 2), ('avoided', 2), ('ribbon', 2), ('wedding', 2), ('nestle', 2), ('kats', 2), ('wet', 2), ('expectations', 2), ('personal', 2), ('preference', 2), ('olives', 2), ('unit', 2), ('sells', 2), ('reviewers', 2), ('jade', 2), ('uncomfortable', 2), ('increased', 2), ('containers', 2), ('scent', 2), ('fantastic', 2), ('goo', 2), ('beginning', 2), ('rot', 2), ('spots', 2), ('bjs', 2), ('stopped', 2), ('updating', 2), ('deserve', 2), ('wonder', 2), ('selling', 2), ('partially', 2), ('scrub', 2), ('mud', 2), ('turned', 2), ('die', 2), ('luckily', 2), ('emoji', 2), ('dispenser', 2), ('walnut', 2), ('talked', 2), ('quit', 2), ('stink', 2), ('helped', 2), ('till', 2), ('bowl', 2), ('slow', 2), ('cooker', 2), ('needless', 2), ('calling', 2), ('excess', 2), ('liking', 2), ('artificial', 2), ('butterscotch', 2), ('reasons', 2), ('yeah', 2), ('hit', 2), ('miss', 2), ('strange', 2), ('interesting', 2), ('ahead', 2), ('research', 2), ('cheesecloth', 2), ('towel', 2), ('ish', 2), ('c', 2), ('favor', 2), ('slimy', 2), ('batches', 2), ('worried', 2), ('door', 2), ('become', 2), ('ripped', 2), ('suitcase', 2), ('spiked', 2), ('sense', 2), ('beauty', 2), ('evening', 2), ('yellow', 2), ('requires', 2), ('garden', 2), ('keeps', 2), ('lol', 2), ('loss', 2), ('raise', 2), ('retail', 2), ('gold', 2), ('snob', 2), ('net', 2), ('teas', 2), ('feels', 2), ('swallowed', 2), ('sticking', 2), ('stand', 2), ('belly', 2), ('salty', 2), ('knew', 2), ('syrups', 2), ('pouring', 2), ('shame', 2), ('thrilled', 2), ('short', 2), ('choke', 2), ('bothered', 2), ('mom', 2), ('state', 2), ('girls', 2), ('self', 2), ('overly', 2), ('hungry', 2), ('seaweed', 2), ('earth', 2), ('lenny', 2), ('larry', 2), ('cleaning', 2), ('reminds', 2), ('slice', 2), ('ball', 2), ('jumping', 2), ('burning', 2), ('soaked', 2), ('create', 2), ('walking', 2), ('industry', 2), ('grand', 2), ('wanting', 2), ('agostino', 2), ('recca', 2), ('rinsing', 2), ('italian', 2), ('street', 2), ('luck', 2), ('eventually', 2), ('mineral', 2), ('occasion', 2), ('count', 2), ('meet', 2), ('hidden', 2), ('include', 2), ('effort', 2), ('lying', 2), ('customers', 2), ('arrival', 2), ('adds', 2), ('metal', 2), ('strainer', 2), ('bagged', 2), ('wrote', 2), ('response', 2), ('loose', 2), ('pile', 2), ('dandelion', 2), ('spoon', 2), ('initial', 2), ('advent', 2), ('mislabeled', 2), ('ugh', 2), ('maltodextrin', 2), ('poison', 2), ('containing', 2), ('silicon', 2), ('dioxide', 2), ('fight', 2), ('grow', 2), ('presentable', 2), ('style', 2), ('level', 2), ('weaker', 2), ('vomit', 2), ('hardly', 2), ('restaurants', 2), ('keeping', 2), ('guys', 2), ('holding', 2), ('coated', 2), ('scoop', 2), ('mac', 2), ('learned', 2), ('lesson', 2), ('cacao', 2), ('sometime', 2), ('reordered', 2), ('friendly', 2), ('rings', 2), ('exact', 2), ('dinner', 2), ('appetite', 2), ('system', 2), ('fuel', 2), ('twenty', 2), ('embarrassed', 2), ('forever', 2), ('sending', 2), ('bitterness', 2), ('comments', 2), ('leak', 2), ('homes', 2), ('formed', 2), ('colored', 2), ('reviewer', 2), ('joe', 2), ('suppliers', 2), ('spewing', 2), ('horror', 2), ('pouch', 2), ('granola', 2), ('brownie', 2), ('cross', 2), ('contamination', 2), ('bestseller', 2), ('bees', 2), ('hive', 2), ('lined', 2), ('usual', 2), ('trade', 2), ('carpet', 2), ('couldnt', 2), ('line', 2), ('gives', 2), ('storage', 2), ('runa', 2), ('boost', 2), ('amino', 2), ('acids', 2), ('sounds', 2), ('cubes', 2), ('lunch', 2), ('dose', 2), ('cube', 2), ('yuck', 2), ('spit', 2), ('textures', 2), ('cholesterol', 2), ('prescription', 2), ('searched', 2), ('results', 2), ('points', 2), ('severe', 2), ('allergen', 2), ('grinds', 2), ('pre', 2), ('doesnt', 2), ('carry', 2), ('gf', 2), ('ton', 2), ('mentioned', 2), ('tamper', 2), ('curry', 2), ('recently', 2), ('follow', 2), ('thanks', 2), ('dollar', 2), ('disclaimer', 2), ('false', 2), ('advertising', 2), ('pears', 2), ('fruits', 2), ('lids', 2), ('shattered', 2), ('useless', 2), ('rectify', 2), ('situation', 2), ('app', 2), ('tablet', 2), ('walk', 2), ('wand', 2), ('seconds', 2), ('monster', 2), ('seen', 2), ('removing', 2), ('protect', 2), ('tampering', 2), ('instant', 2), ('outside', 2), ('oily', 2), ('pics', 2), ('avocado', 2), ('demon', 2), ('meaning', 2), ('goody', 2), ('difficult', 2), ('researching', 2), ('flavorful', 2), ('subscribed', 2), ('main', 2), ('arrive', 2), ('licorice', 2), ('solid', 2), ('unpleasant', 2), ('carrier', 2), ('sat', 2), ('checking', 2), ('kidney', 2), ('secondary', 2), ('foodstuff', 2), ('industrial', 2), ('omega', 2), ('cancer', 2), ('chronic', 2), ('scented', 2), ('brother', 2), ('wax', 2), ('sorta', 2), ('duds', 2), ('wondered', 2), ('travel', 2), ('chunky', 2), ('breaks', 2), ('rifle', 2), ('technique', 2), ('promptly', 2), ('irregular', 2), ('jawbreakers', 2), ('jawbreaker', 2), ('metallic', 2), ('pod', 2), ('flax', 2), ('trailer', 2), ('breath', 2), ('sodium', 2), ('raised', 2), ('peanuts', 2), ('tree', 2), ('major', 2), ('refunded', 2), ('closed', 2), ('berries', 2), ('finger', 2), ('lover', 2), ('smooth', 2), ('president', 2), ('sea', 2), ('works', 2), ('sooo', 2), ('drops', 2), ('rid', 2), ('beat', 2), ('considering', 2), ('questionable', 2), ('nose', 2), ('thus', 2), ('image', 2), ('serious', 2), ('reflect', 2), ('roca', 2), ('assuming', 2), ('purported', 2), ('kefir', 2), ('pulled', 2), ('prep', 2), ('scram', 2), ('religiously', 2), ('generous', 2), ('cage', 2), ('hipster', 2), ('fall', 2), ('warehouse', 2), ('mongolia', 2), ('bunker', 2), ('employees', 2), ('chunks', 2), ('cravings', 2), ('alert', 2), ('thoroughly', 2), ('unwashed', 2), ('chia', 2), ('senna', 2), ('pictured', 2), ('pear', 2), ('pistacios', 2), ('sunbest', 2), ('damn', 2), ('kirkland', 2), ('cap', 2), ('bakers', 2), ('abc', 2), ('ruining', 2), ('blow', 2), ('kiddo', 2), ('usa', 2), ('receiving', 2), ('neighbor', 2), ('purple', 2), ('canabis', 2), ('w', 2), ('leprechaun', 2), ('sounded', 2), ('front', 2), ('melting', 2), ('spewed', 1), ('message', 1), ('needle', 1), ('maintenance', 1), ('deeply', 1), ('impulse', 1), ('deliberately', 1), ('hurts', 1), ('swear', 1), ('chipped', 1), ('cheetos', 1), (\"'crunchy\", 1), ('thousands', 1), ('vending', 1), ('painfully', 1), ('status', 1), ('chore', 1), ('guilty', 1), ('cancelled', 1), ('recurring', 1), ('lost', 1), ('nooo', 1), ('caf', 1), ('eacute', 1), ('combo', 1), ('economic', 1), ('cancel', 1), ('piled', 1), ('enhancers', 1), ('calorie', 1), ('strawberry', 1), ('ecstatic', 1), ('warmed', 1), ('betty', 1), ('covey', 1), ('warnings', 1), ('drug', 1), ('therefore', 1), ('celiac', 1), ('producer', 1), ('gochujang', 1), ('testing', 1), ('ppm', 1), ('celiacs', 1), ('metaretail', 1), ('jones', 1), ('circulation', 1), ('fizz', 1), ('multiple', 1), ('revved', 1), ('april', 1), ('lieu', 1), ('blueberry', 1), ('pull', 1), ('apart', 1), ('softens', 1), ('index', 1), ('closely', 1), ('related', 1), ('considered', 1), ('insulin', 1), ('lead', 1), ('episode', 1), ('stating', 1), ('substituting', 1), ('indulgence', 1), ('toilet', 1), ('nearby', 1), ('accessible', 1), ('munching', 1), ('miscarriage', 1), ('early', 1), ('ingest', 1), ('exposure', 1), ('animals', 1), ('consuming', 1), ('agave', 1), ('household', 1), ('likes', 1), ('sampler', 1), ('fqaqjo', 1), ('beef', 1), ('sounding', 1), ('names', 1), ('freaked', 1), ('wondering', 1), ('fakespot', 1), ('com', 1), ('founder', 1), ('unpasteurized', 1), ('toasted', 1), ('toast', 1), ('quick', 1), ('timely', 1), ('arriving', 1), ('starter', 1), ('thickening', 1), ('degrees', 1), ('cooling', 1), ('temperature', 1), ('gourmet', 1), ('forgers', 1), ('toffees', 1), ('cakey', 1), ('wood', 1), ('parade', 1), ('lists', 1), ('compatible', 1), ('ware', 1), ('cricket', 1), ('suckers', 1), ('recieved', 1), ('father', 1), ('law', 1), ('philadelphia', 1), ('grinding', 1), ('infinite', 1), ('wisdom', 1), ('dropped', 1), ('shelves', 1), ('btw', 1), ('grind', 1), (\"'essence\", 1), ('pallets', 1), ('stacked', 1), ('puffy', 1), ('kimbo', 1), ('supplement', 1), ('spritzer', 1), ('young', 1), ('mother', 1), ('truth', 1), ('dismay', 1), ('discoved', 1), ('involved', 1), ('expriation', 1), ('valley', 1), ('crisps', 1), ('spite', 1), ('trough', 1), ('cameron', 1), ('step', 1), ('hated', 1), ('unsettling', 1), ('shudder', 1), ('runny', 1), ('frustrating', 1), ('desert', 1), ('drove', 1), ('appropriate', 1), ('cockroaches', 1), ('san', 1), ('marco', 1), ('patron', 1), ('saint', 1), (\"'foo\", 1), ('foo', 1), ('hubby', 1), ('suicide', 1), ('punch', 1), ('raucous', 1), ('boozes', 1), ('oddly', 1), ('marshmellow', 1), ('youthful', 1), ('ol', 1), ('campfire', 1), ('cardboardish', 1), ('overdue', 1), ('kiddie', 1), ('crack', 1), ('loaded', 1), (\"'marshmallows\", 1), ('imagination', 1), ('drawing', 1), ('board', 1), ('saints', 1), ('swallow', 1), ('fully', 1), ('derived', 1), ('associations', 1), ('rightfully', 1), ('article', 1), ('published', 1), ('hospitals', 1), ('ivs', 1), ('difficulty', 1), ('controlling', 1), ('jama', 1), ('increase', 1), ('americans', 1), ('average', 1), ('percent', 1), ('recommends', 1), ('limiting', 1), ('women', 1), ('men', 1), ('includes', 1), ('concentrates', 1), ('maltose', 1), ('sucrose', 1), ('oatmeal', 1), ('hunks', 1), ('conflicted', 1), ('expires', 1), ('location', 1), ('xx', 1), ('somehow', 1), ('dizzy', 1), ('fruitiness', 1), ('overpowered', 1), ('disgustingly', 1), ('cassava', 1), ('flour', 1), ('specifically', 1), ('deals', 1), ('wise', 1), ('stands', 1), ('behind', 1), ('seed', 1), ('request', 1), ('deaf', 1), ('ears', 1), ('toffee', 1), ('sunflower', 1), ('wants', 1), ('feedback', 1), ('nutritious', 1), ('satisfying', 1), ('bananas', 1), ('spirulina', 1), ('allcookies', 1), ('ba', 1), ('hum', 1), ('cals', 1), ('desire', 1), ('bs', 1), ('doc', 1), ('meter', 1), ('consistent', 1), ('bands', 1), ('complaining', 1), ('abdominal', 1), ('blockages', 1), ('rinsed', 1), ('boiled', 1), ('garlic', 1), ('shallots', 1), ('tomatoes', 1), ('saving', 1), ('skinny', 1), ('dying', 1), ('insides', 1), ('laxative', 1), ('horrendous', 1), ('remembered', 1), ('hooked', 1), ('tint', 1), ('catfish', 1), ('bait', 1), ('sh', 1), ('feeding', 1), ('hell', 1), ('links', 1), ('space', 1), ('mucousy', 1), ('move', 1), ('similac', 1), ('alimentum', 1), ('caked', 1), ('swept', 1), ('moped', 1), ('kitchen', 1), ('sheet', 1), ('intentions', 1), ('ants', 1), ('roach', 1), ('rat', 1), ('nibbled', 1), ('thats', 1), ('creating', 1), ('regulation', 1), ('maldextrose', 1), ('healthier', 1), ('switched', 1), ('downhill', 1), ('n', 1), ('mos', 1), ('feed', 1), ('thinks', 1), ('begs', 1), ('h', 1), ('cretors', 1), ('fishing', 1), ('hole', 1), ('aldi', 1), ('million', 1), ('younger', 1), ('lady', 1), ('florida', 1), ('cuban', 1), ('espresso', 1), ('texas', 1), ('trust', 1), ('domestic', 1), ('foreign', 1), ('lubbock', 1), ('wake', 1), ('plan', 1), ('accordingly', 1), ('knocking', 1), ('consider', 1), ('freshness', 1), ('papers', 1), ('gardenia', 1), ('overpowering', 1), ('iced', 1), ('missing', 1), ('rounds', 1), ('mixture', 1), ('mimicing', 1), ('hear', 1), ('hazorous', 1), ('ruined', 1), ('straws', 1), ('safety', 1), ('boba', 1), ('attractive', 1), ('base', 1), ('chemically', 1), ('stuffers', 1), ('cashew', 1), ('lacks', 1), ('zing', 1), ('sumac', 1), ('thyme', 1), ('zippy', 1), ('er', 1), ('exclusively', 1), ('pleasantly', 1), ('jitteriness', 1), ('nervousness', 1), ('substandard', 1), ('evenly', 1), ('reseal', 1), ('lip', 1), ('external', 1), ('amateur', 1), ('hour', 1), ('exorbitant', 1), ('certification', 1), ('amazed', 1), ('millimeter', 1), ('whooshed', 1), ('provides', 1), ('airtight', 1), ('detail', 1), ('pajamas', 1), ('unusual', 1), ('medium', 1), ('barrel', 1), ('opted', 1), ('himalayan', 1), ('harrass', 1), ('english', 1), ('bundle', 1), ('antibiotics', 1), ('reacting', 1), ('hunted', 1), ('weaning', 1), ('snuffles', 1), ('tummy', 1), ('transitioned', 1), ('indicated', 1), ('fondant', 1), ('bleed', 1), ('basic', 1), ('rum', 1), ('citron', 1), ('crammed', 1), ('birch', 1), ('suck', 1), ('queen', 1), ('leaks', 1), ('subject', 1), ('born', 1), ('viruses', 1), ('premium', 1), ('reordering', 1), ('anxious', 1), ('irritable', 1), ('midori', 1), ('agitation', 1), ('tolerate', 1), ('refrigerator', 1), ('tealyra', 1), ('kosher', 1), ('comparable', 1), ('rich', 1), ('koffee', 1), ('kult', 1), ('lavazza', 1), ('pablo', 1), ('citrus', 1), ('defect', 1), ('breville', 1), ('expresso', 1), ('settings', 1), ('improve', 1), ('crema', 1), ('braid', 1), ('bulbs', 1), ('cloves', 1), ('bamboozled', 1), ('heavenly', 1), ('begrudgingly', 1), ('ruin', 1), ('ewww', 1), ('handful', 1), ('heeded', 1), ('vibrant', 1), ('purely', 1), ('recognition', 1), ('mile', 1), ('deadline', 1), ('handfuls', 1), ('salads', 1), ('golden', 1), ('owns', 1), ('poisoned', 1), ('bouquet', 1), ('veterinarian', 1), ('survive', 1), ('bill', 1), ('vet', 1), ('shell', 1), ('cracking', 1), ('rinds', 1), ('crispy', 1), ('spoil', 1), ('states', 1), ('toys', 1), ('adult', 1), ('adults', 1), ('webs', 1), ('whip', 1), ('colleague', 1), ('smoke', 1), ('standpoint', 1), ('boyfriend', 1), ('infusion', 1), ('edge', 1), ('blech', 1), ('nauseating', 1), ('nicely', 1), ('slowly', 1), ('crazy', 1), ('dumped', 1), ('dead', 1), ('knorr', 1), ('sister', 1), ('glued', 1), ('affixed', 1), ('crunch', 1), ('sensitivity', 1), ('asthma', 1), ('jordan', 1), ('machines', 1), ('malfunctioned', 1), ('pops', 1), ('shut', 1), ('didnt', 1), ('replace', 1), ('gamble', 1), ('buds', 1), ('gritty', 1), ('carber', 1), ('reacts', 1), ('strictly', 1), ('oddball', 1), ('preferences', 1), ('shortly', 1), ('massachusetts', 1), ('knowing', 1), ('fifth', 1), ('powerbar', 1), ('assume', 1), ('glj', 1), ('trading', 1), ('honeys', 1), ('whim', 1), ('experiment', 1), ('bottled', 1), ('letting', 1), ('escape', 1), ('stirred', 1), ('topped', 1), ('cloth', 1), ('layers', 1), ('problems', 1), ('layered', 1), ('spritzed', 1), ('encouraged', 1), ('continue', 1), ('mass', 1), ('hanging', 1), ('afterwards', 1), ('diversity', 1), ('microbial', 1), ('untrained', 1), ('eye', 1), ('roll', 1), ('oolong', 1), ('reserved', 1), ('accidentally', 1), ('averages', 1), ('sweeter', 1), ('vrs', 1), ('ferment', 1), ('flavorings', 1), ('kamp', 1), ('shout', 1), ('helpful', 1), ('informative', 1), ('continuous', 1), ('cb', 1), ('tap', 1), ('continuing', 1), ('experiments', 1), ('following', 1), ('rehydrate', 1), ('icky', 1), ('hair', 1), ('success', 1), ('acidic', 1), ('environment', 1), ('pathogens', 1), ('contributed', 1), ('organisms', 1), ('fail', 1), ('hi', 1), ('arrowroot', 1), ('blew', 1), ('important', 1), ('rippable', 1), ('messy', 1), ('claim', 1), ('fat', 1), ('lightening', 1), ('stained', 1), ('tanned', 1), ('toned', 1), ('pungent', 1), ('amp', 1), ('similar', 1), ('retailer', 1), ('yorkshire', 1), ('yorkie', 1), ('cheaply', 1), ('saffron', 1), ('undergo', 1), ('cork', 1), ('misrepresenting', 1), ('ketoconnect', 1), ('video', 1), ('proving', 1), ('pts', 1), ('consumers', 1), ('tricked', 1), ('hide', 1), ('pricey', 1), (\"'sorry\", 1), ('charlie', 1), ('shower', 1), ('hersey', 1), ('kisses', 1), ('rewrappes', 1), ('intended', 1), ('favors', 1), ('decor', 1), ('distance', 1), ('potatoes', 1), ('starting', 1), ('desserts', 1), ('satisfy', 1), ('splenda', 1), ('nonstandard', 1), ('popping', 1), ('timer', 1), ('microwave', 1), ('monitor', 1), ('burns', 1), ('spoils', 1), ('tore', 1), ('watering', 1), ('delightfully', 1), ('ut', 1), ('pallet', 1), ('counted', 1), ('sink', 1), ('monin', 1), ('heard', 1), ('excitement', 1), ('lived', 1), ('starve', 1), ('gnawing', 1), ('shredded', 1), ('chickens', 1), ('occasionally', 1), ('ahi', 1), ('tuna', 1), ('chef', 1), ('foodies', 1), ('focus', 1), ('complex', 1), ('sweetly', 1), ('picky', 1), ('pickier', 1), ('brami', 1), ('lupini', 1), ('hippeas', 1), ('brads', 1), ('kale', 1), ('balance', 1), ('puffs', 1), ('barnanas', 1), ('expand', 1), ('snacking', 1), ('repertoire', 1), ('occassionaly', 1), ('growing', 1), ('toss', 1), ('leapt', 1), ('inclusion', 1), ('sadly', 1), ('surprising', 1), ('suffer', 1), ('seek', 1), ('suited', 1), ('sponge', 1), ('joking', 1), ('playing', 1), ('punishment', 1), ('wall', 1), ('folding', 1), ('pressing', 1), ('destroy', 1), ('harden', 1), ('facet', 1), ('boom', 1), ('magic', 1), ('cushioned', 1), ('insoles', 1), ('mat', 1), ('quietest', 1), ('swallowing', 1), ('convinced', 1), ('makers', 1), ('automotive', 1), ('manufacturing', 1), ('shock', 1), ('absorption', 1), ('seat', 1), ('cushions', 1), ('failed', 1), ('sucker', 1), ('laugh', 1), ('loaf', 1), ('steer', 1), ('eta', 1), ('xfm', 1), ('fillets', 1), ('tins', 1), ('king', 1), ('oscar', 1), ('thorough', 1), ('soybean', 1), ('ordinary', 1), ('paler', 1), ('deli', 1), ('superb', 1), ('marinated', 1), ('collin', 1), ('priced', 1), ('brach', 1), ('maid', 1), ('royals', 1), ('discard', 1), ('rip', 1), ('li', 1), ('idk', 1), ('disinfect', 1), ('develope', 1), ('putured', 1), ('rl', 1), ('business', 1), ('practice', 1), ('harvesting', 1), ('guality', 1), ('grown', 1), ('carma', 1), ('spraying', 1), ('easier', 1), ('decision', 1), ('addressing', 1), ('injest', 1), ('marzipan', 1), ('creamy', 1), ('naively', 1), ('believing', 1), ('sanpellegrino', 1), ('cases', 1), ('sunkist', 1), ('soda', 1), ('shakey', 1), ('season', 1), ('ppl', 1), ('expire', 1), ('lucky', 1), ('posts', 1), ('disappoint', 1), ('pic', 1), ('coca', 1), ('gycyy', 1), ('barrie', 1), ('hawaiian', 1), ('kona', 1), ('hapa', 1), ('definition', 1), ('mystery', 1), ('fda', 1), ('approved', 1), ('lab', 1), ('organism', 1), ('list', 1), ('wad', 1), ('ripoff', 1), ('blu', 1), ('raspberry', 1), ('parents', 1), ('xmas', 1), ('cane', 1), ('teeccino', 1), ('dozen', 1), ('significant', 1), ('freely', 1), ('settles', 1), ('toward', 1), ('caught', 1), ('describing', 1), ('abomination', 1), ('classic', 1), ('hollow', 1), ('halves', 1), ('toy', 1), ('lumps', 1), ('bird', 1), ('torn', 1), ('placement', 1), ('tears', 1), ('msrp', 1), ('tab', 1), ('asking', 1), ('changing', 1), ('tray', 1), ('embarassing', 1), ('parent', 1), ('volume', 1), ('seeking', 1), ('despite', 1), ('clumped', 1), ('consisted', 1), ('chiseled', 1), ('kernel', 1), ('mortified', 1), ('included', 1), ('bake', 1), ('deceiving', 1), ('listened', 1), ('rattling', 1), ('silly', 1), ('cheddar', 1), ('anytime', 1), ('pharmacist', 1), ('patients', 1), ('frontier', 1), ('maltodextin', 1), ('legs', 1), ('tongue', 1), ('oct', 1), ('acceptable', 1), ('disarray', 1), ('accept', 1), ('stinging', 1), ('nettles', 1), ('naturally', 1), ('vary', 1), ('swanson', 1), ('answered', 1), ('lovely', 1), ('intensity', 1), ('expiry', 1), ('rosso', 1), ('website', 1), ('turron', 1), ('curious', 1), ('cover', 1), ('job', 1), ('peoples', 1), ('bucks', 1), ('sulfites', 1), ('bell', 1), ('pepper', 1), ('duck', 1), ('similiar', 1), ('summer', 1), ('clogs', 1), ('ant', 1), ('kenya', 1), ('mention', 1), ('information', 1), ('grossly', 1), ('wrists', 1), ('fingers', 1), ('arms', 1), ('unappetizing', 1), ('unappealing', 1), ('untouched', 1), ('unscathed', 1), ('unheated', 1), ('human', 1), ('allowing', 1), ('tastebuds', 1), ('mildew', 1), ('entirety', 1), ('sits', 1), ('fulled', 1), ('tounge', 1), ('diahrea', 1), ('organically', 1), ('shop', 1), ('op', 1), ('northern', 1), ('california', 1), ('delightful', 1), ('kicker', 1), ('cans', 1), ('defeated', 1), ('albanes', 1), ('wallet', 1), ('curb', 1), ('sugary', 1), ('darn', 1), ('continued', 1), ('moments', 1), ('churning', 1), ('explosives', 1), ('preffer', 1), ('chamber', 1), ('learn', 1), ('fluke', 1), ('ten', 1), ('fold', 1), ('fire', 1), ('comfortable', 1), ('matter', 1), ('aftermath', 1), ('dislike', 1), ('reduction', 1), ('chamomile', 1), ('yogi', 1), ('ewe', 1), ('history', 1), ('archived', 1), ('bah', 1), ('humbug', 1), ('gumballs', 1), ('outdated', 1), ('offer', 1), ('gumball', 1), ('spam', 1), ('clog', 1), ('inbox', 1), ('rude', 1), ('emails', 1), ('aeropress', 1), ('methods', 1), ('noticing', 1), ('june', 1), ('moment', 1), ('nigella', 1), ('sativa', 1), ('medicinally', 1), ('harsh', 1), ('minor', 1), ('inexperienced', 1), ('relocated', 1), ('lapse', 1), ('troubleshooting', 1), ('tonyou', 1), ('normals', 1), ('untrustworthy', 1), ('potential', 1), ('spores', 1), ('bubbly', 1), ('beautiful', 1), ('amber', 1), ('proper', 1), ('temp', 1), ('upnto', 1), ('cultures', 1), ('radiating', 1), ('heating', 1), ('birds', 1), ('homemade', 1), ('sellers', 1), ('brittle', 1), ('anyways', 1), ('bunch', 1), ('vodka', 1), ('exploded', 1), ('worrying', 1), ('anaphylatically', 1), ('rabbit', 1), ('head', 1), ('movie', 1), ('girl', 1), ('easter', 1), ('attactched', 1), ('mug', 1), ('terribly', 1), ('general', 1), ('mills', 1), ('random', 1), ('kick', 1), ('addeed', 1), ('newest', 1), ('boxed', 1), ('dessert', 1), ('mixes', 1), ('unnecessary', 1), ('oils', 1), ('roughly', 1), ('dollars', 1), ('habe', 1), ('dumb', 1), ('unknowledgeable', 1), ('placebo', 1), ('packaged', 1), ('unclear', 1), ('ziploc', 1), ('offerings', 1), ('costa', 1), ('rican', 1), ('disapointed', 1), ('behold', 1), ('suffered', 1), ('poisoning', 1), ('planet', 1), ('loving', 1), ('sex', 1), ('fighting', 1), ('japanese', 1), ('blendy', 1), ('vile', 1), ('express', 1), ('liquefied', 1), ('fermenting', 1), ('swamp', 1), ('marinate', 1), ('bath', 1), ('kerosene', 1), ('sprinkle', 1), ('mildly', 1), ('sweetish', 1), ('pseudo', 1), ('tons', 1), ('energy', 1), ('caffeinated', 1), ('complelty', 1), ('nauseated', 1), ('sips', 1), ('pushes', 1), ('alot', 1), ('asap', 1), ('latose', 1), ('intolerant', 1), ('typical', 1), ('incident', 1), ('ranch', 1), ('nearest', 1), ('thankfully', 1), ('cooler', 1), ('reclosable', 1), ('zipper', 1), ('gain', 1), ('moisture', 1), ('pleasing', 1), ('foam', 1), ('marshmellows', 1), ('unuseable', 1), ('tumeric', 1), ('sucks', 1), ('scones', 1), ('biscuits', 1), ('scone', 1), ('mental', 1), ('guayusa', 1), ('nutrients', 1), ('nonexistent', 1), ('actuallyl', 1), ('absoluetly', 1), ('ritchie', 1), ('stray', 1), ('asides', 1), ('paramount', 1), ('unbeknownst', 1), ('unpacked', 1), ('houses', 1), ('village', 1), ('horrid', 1), ('pros', 1), ('theanine', 1), ('busy', 1), ('tired', 1), ('reducing', 1), ('extent', 1), ('booster', 1), ('cons', 1), ('latte', 1), ('deciding', 1), ('creeping', 1), ('determined', 1), ('draw', 1), ('whopping', 1), ('piday', 1), ('hotel', 1), ('lobby', 1), ('bali', 1), ('accustomed', 1), ('salad', 1), ('palaak', 1), ('paneer', 1), ('indian', 1), ('towns', 1), ('vs', 1), ('puke', 1), ('vegetables', 1), ('akin', 1), ('sore', 1), ('scored', 1), ('reassurance', 1), ('conpany', 1), ('confident', 1), ('weary', 1), (\"'keep\", 1), ('priority', 1), ('teque', 1), ('ntilde', 1), ('os', 1), ('book', 1), ('stain', 1), ('spillage', 1), ('waters', 1), ('tend', 1), ('stricter', 1), ('protocols', 1), ('rethink', 1), ('caused', 1), ('ph', 1), ('edited', 1), ('whipped', 1), ('confused', 1), ('prompt', 1), ('replying', 1), ('lemons', 1), ('fiance', 1), ('welcome', 1), ('entirely', 1), ('pringles', 1), ('majority', 1), ('canceling', 1), ('cardamom', 1), ('secondly', 1), ('bright', 1), ('pale', 1), ('plants', 1), ('immature', 1), ('z', 1), ('mothers', 1), ('sip', 1), ('embarrassing', 1), ('sealing', 1), ('allowed', 1), ('frustrated', 1), ('molded', 1), ('somewhere', 1), ('require', 1), ('android', 1), ('phones', 1), ('kindle', 1), ('ignorant', 1), ('requirement', 1), ('tries', 1), ('setup', 1), ('crashes', 1), ('finds', 1), ('managed', 1), ('installing', 1), ('apk', 1), ('google', 1), ('newer', 1), ('tablets', 1), ('revising', 1), ('promised', 1), ('picked', 1), ('unpacking', 1), ('cart', 1), ('alexa', 1), ('explosive', 1), ('immune', 1), ('gummi', 1), ('causes', 1), ('tightly', 1), ('struggled', 1), ('monkey', 1), ('wrench', 1), ('unscrew', 1), ('jamaican', 1), ('mountain', 1), ('french', 1), ('press', 1), ('worn', 1), ('shropshire', 1), ('protected', 1), ('nonni', 1), ('biscotti', 1), ('repeated', 1), ('lemonheads', 1), ('lemonhead', 1), ('sizes', 1), ('inspection', 1), ('bear', 1), ('nutiva', 1), ('orders', 1), ('preparing', 1), ('fare', 1), ('resort', 1), ('reliable', 1), ('dash', 1), ('proved', 1), ('craving', 1), ('september', 1), ('ganache', 1), ('modify', 1), ('trashble', 1), ('authorized', 1), ('standard', 1), ('unlawful', 1), ('rely', 1), ('relabeled', 1), ('october', 1), ('borderline', 1), ('hazard', 1), ('kpods', 1), ('holder', 1), ('mayo', 1), ('sprouts', 1), ('summary', 1), ('details', 1), ('indeed', 1), ('marginally', 1), ('waited', 1), ('nine', 1), ('truffles', 1), ('perfectly', 1), ('inexplicably', 1), ('horrifying', 1), ('unrecognizable', 1), ('compression', 1), ('nuclear', 1), ('blast', 1), ('centrifugal', 1), ('easy', 1), ('intermittently', 1), ('reported', 1), ('marginal', 1), ('nightmare', 1), ('kindly', 1), ('arguably', 1), ('passing', 1), ('perplexed', 1), ('conclusion', 1), ('discounted', 1), ('compromised', 1), ('ack', 1), ('obviously', 1), ('unicorn', 1), ('tail', 1), ('section', 1), ('seahorse', 1), ('awake', 1), ('badly', 1), ('sleep', 1), ('restlessness', 1), ('continues', 1), ('probiotics', 1), ('aspartame', 1), ('discarding', 1), ('oz', 1), ('tiniest', 1), ('sweeten', 1), ('oats', 1), ('bonus', 1), ('monthly', 1), ('biggie', 1), ('afternoon', 1), ('frankly', 1), ('investigation', 1), ('concentrate', 1), ('pea', 1), ('nd', 1), ('filtered', 1), ('slightest', 1), ('happening', 1), ('pumped', 1), ('busted', 1), ('bummer', 1), ('shake', 1), ('homeless', 1), ('pharma', 1), ('stones', 1), ('mil', 1), ('discolored', 1), ('junk', 1), ('unhelpful', 1), ('enable', 1), ('rep', 1), ('applications', 1), ('publicly', 1), ('posted', 1), ('iphone', 1), ('everyday', 1), ('tying', 1), ('older', 1), ('produced', 1), ('selected', 1), ('remove', 1), ('blame', 1), ('usp', 1), ('postal', 1), ('deliver', 1), ('padded', 1), ('envelope', 1), ('fed', 1), ('ex', 1), ('block', 1), ('locate', 1), ('contribute', 1), ('minimal', 1), ('kidneys', 1), ('filtering', 1), ('urine', 1), ('autoimmune', 1), ('brought', 1), ('contributing', 1), ('factors', 1), ('supplements', 1), ('nephrologist', 1), ('collagen', 1), ('safer', 1), ('primarily', 1), ('polyunsaturated', 1), ('fats', 1), ('potassium', 1), ('magnesium', 1), ('purposes', 1), ('production', 1), ('shampoo', 1), ('lotions', 1), ('soaps', 1), ('bio', 1), ('diesel', 1), ('plastics', 1), ('paint', 1), ('foremost', 1), ('legion', 1), ('treatments', 1), ('bone', 1), ('cell', 1), ('bacteria', 1), ('artery', 1), ('blockage', 1), ('psoriasis', 1), ('degeneration', 1), ('insomnia', 1), ('seizures', 1), ('convulsions', 1), ('muscle', 1), ('spasms', 1), ('psychoses', 1), ('vomiting', 1), ('inflammation', 1), ('highlights', 1), ('importance', 1), ('dispensary', 1), ('ask', 1), ('intent', 1), ('relieving', 1), ('united', 1), ('airlines', 1), ('rose', 1), ('flower', 1), ('jeopardize', 1), ('wide', 1), ('calendars', 1), ('unhappy', 1), ('ng', 1), ('p', 1), ('hunting', 1), ('hershey', 1), ('refuses', 1), ('paleo', 1), ('desk', 1), ('drawer', 1), ('emergencies', 1), ('gets', 1), ('pour', 1), ('respect', 1), ('owned', 1), ('operated', 1), ('veterans', 1), ('lacking', 1), ('equates', 1), ('knock', 1), ('socks', 1), ('lesser', 1), ('trick', 1), ('heats', 1), ('produces', 1), ('hotter', 1), ('ending', 1), ('cutting', 1), ('tablespoons', 1), ('ounces', 1), ('stovetop', 1), ('percolator', 1), ('presented', 1), ('member', 1), ('costs', 1), ('kcups', 1), ('peet', 1), ('columbia', 1), ('luminosa', 1), ('irregularities', 1), ('fortunes', 1), ('fringed', 1), ('yes', 1), ('explain', 1), ('lock', 1), ('chili', 1), ('dishes', 1), ('stickers', 1), ('clarifying', 1), ('agent', 1), ('skip', 1), ('clarifier', 1), ('kits', 1), ('slimed', 1), ('taller', 1), ('compartment', 1), ('strain', 1), ('powdery', 1), ('caution', 1), ('god', 1), ('gagging', 1), ('harry', 1), ('potter', 1), ('theme', 1), ('friends', 1), ('contest', 1), ('yucky', 1), ('practically', 1), ('overjoyed', 1), ('greatest', 1), ('hey', 1), ('mark', 1), ('dull', 1), ('bet', 1), ('happier', 1), ('reefer', 1), ('van', 1), ('created', 1), ('condensation', 1), ('turning', 1), ('importantly', 1), ('assist', 1), ('needing', 1), ('overnight', 1), ('softened', 1), ('pick', 1), ('dispose', 1), ('remember', 1), ('buttery', 1), ('ithas', 1), ('overwhelming', 1), ('junky', 1), ('prize', 1), ('tatoo', 1), ('gummies', 1), (\"'melt\", 1), ('moth', 1), ('marks', 1), ('spencers', 1), ('turkish', 1), ('delight', 1), ('british', 1), ('maggots', 1), ('versions', 1), ('refundable', 1), ('adhesive', 1), ('finishing', 1), ('dumping', 1), ('remainder', 1), ('refused', 1), ('whenever', 1), ('jostled', 1), ('decorations', 1), ('cakes', 1), ('nilla', 1), ('wafers', 1), ('polyglucitol', 1), ('bloating', 1), ('substitutes', 1), ('bud', 1), ('meringue', 1), ('pomergrant', 1), ('suds', 1), ('pomegranate', 1), ('affordable', 1), ('ethiopian', 1), ('desired', 1), ('nitrogen', 1), ('exposed', 1), ('planning', 1), ('reverting', 1), ('choice', 1), ('lingonberries', 1), ('watery', 1), ('slim', 1), ('film', 1), ('knowledge', 1), ('hives', 1), ('somebody', 1), ('helt', 1), ('room', 1), ('word', 1), (\"'glass\", 1), ('sait', 1), ('rattle', 1), ('disabled', 1), ('pkgs', 1), ('hundred', 1), ('cleaned', 1), ('pinch', 1), ('yep', 1), ('huh', 1), ('shard', 1), (\"'i\", 1), ('geeeeeeez', 1), ('flavour', 1), ('minute', 1), ('headed', 1), ('motor', 1), ('sons', 1), ('ran', 1), ('smart', 1), ('mins', 1), ('bg', 1), ('shot', 1), ('alarming', 1), ('staying', 1), ('tapioca', 1), ('fibre', 1), ('imo', 1), ('disgusted', 1), ('apologized', 1), ('defective', 1), ('cordial', 1), ('professional', 1), ('enjoying', 1), ('swiftly', 1), ('appropriately', 1), ('faults', 1), ('hickory', 1), ('smoked', 1), ('divine', 1), ('umami', 1), ('reads', 1), ('overhaul', 1), ('objects', 1), ('insect', 1), ('dirt', 1), ('rope', 1), ('impatient', 1), ('shifting', 1), ('anticipating', 1), ('dipped', 1), ('combined', 1), ('pumping', 1), ('natal', 1), ('nourish', 1), ('watered', 1), ('diamond', 1), ('chapulines', 1), ('ends', 1), ('shrimp', 1), ('johnson', 1), ('rinse', 1), ('videoid', 1), ('ce', 1), ('ac', 1), ('ae', 1), ('appeared', 1), ('retaped', 1), ('unbelievable', 1), ('smashed', 1), ('cramed', 1), ('six', 1), ('method', 1), ('todlers', 1), ('mediocre', 1), ('rule', 1), ('central', 1), ('south', 1), ('america', 1), ('africa', 1), ('conflicting', 1), ('eyes', 1), ('chocolates', 1), ('sales', 1), ('soooooo', 1), ('freak', 1), ('occurrence', 1), ('tazo', 1), ('milky', 1), ('transit', 1), ('cautious', 1), ('decomposes', 1), ('leading', 1), ('temptation', 1), ('crunching', 1), ('prone', 1), ('acid', 1), ('gunk', 1), ('throat', 1), ('brick', 1), ('squished', 1), ('blob', 1), ('wrapping', 1), ('preserve', 1), ('irder', 1), ('aswell', 1), ('compleatly', 1), ('bussiness', 1), ('upcoming', 1), ('misrepresented', 1), ('cornstarch', 1), ('powders', 1), ('reflected', 1), ('questions', 1), ('heated', 1), ('consumer', 1), ('taco', 1), ('breadtopia', 1), ('eaasy', 1), ('sucked', 1), ('stone', 1), ('informed', 1), ('removed', 1), ('oversized', 1), ('funky', 1), ('mentions', 1), ('cleanse', 1), ('breathe', 1), ('canes', 1), ('dripping', 1), ('sliver', 1), ('unresponsive', 1), ('bestpresso', 1), ('seven', 1), ('responded', 1), ('bragg', 1), ('aminos', 1), ('underneath', 1), ('peel', 1), ('punctured', 1), ('counterfiet', 1), ('participate', 1), ('inhuman', 1), ('treatment', 1), ('cats', 1), ('grains', 1), ('activated', 1), ('annoyed', 1), ('upc', 1), ('reader', 1), ('julian', 1), ('wraps', 1), ('pkg', 1), ('reformulated', 1), ('bugged', 1), ('unopened', 1), ('sites', 1), ('kinds', 1), ('aliens', 1), ('subset', 1), ('parasites', 1), ('invading', 1), ('critters', 1), ('amok', 1), ('globally', 1), ('practices', 1), ('channel', 1), ('andrew', 1), ('zimmern', 1), ('travels', 1), ('disclosure', 1), ('explained', 1), ('coworkers', 1), ('hazmat', 1), ('suit', 1), ('invaders', 1), ('cleanly', 1), ('bathroom', 1), ('hitchhikers', 1), ('granted', 1), ('dug', 1), ('expelled', 1), ('analyzed', 1), ('remotely', 1), ('concerning', 1), ('reactions', 1), ('microcreamery', 1), ('compensate', 1), ('upping', 1), ('sourced', 1), ('artisan', 1), ('pinecones', 1), ('hydrogen', 1), ('helium', 1), ('wigs', 1), ('rowboats', 1), ('steely', 1), ('dan', 1), ('letter', 1), ('f', 1), ('stages', 1), ('charged', 1), ('theory', 1), ('farthest', 1), ('dusty', 1), ('cobwebbed', 1), ('thirdledary', 1), ('meant', 1), ('secret', 1), ('armageddon', 1), ('rapture', 1), ('accessed', 1), ('inventoried', 1), ('unwittingly', 1), ('storehouses', 1), ('uneven', 1), ('crystallizes', 1), ('rocky', 1), ('diamonds', 1), ('sailed', 1), ('lack', 1), ('visit', 1), ('bode', 1), ('gained', 1), ('constipated', 1), ('pooped', 1), ('undrinkable', 1), ('granular', 1), ('keto', 1), ('dieters', 1), ('ketosis', 1), ('spikes', 1), ('okra', 1), ('peppery', 1), ('nutty', 1), ('particles', 1), ('straw', 1), ('randomly', 1), ('scattered', 1), ('gi', 1), ('headaches', 1), ('lasted', 1), ('dec', 1), ('guessing', 1), ('negates', 1), ('purpose', 1), ('crunchier', 1), ('retain', 1), ('properties', 1), ('treated', 1), ('champion', 1), ('dreadful', 1), ('memory', 1), ('sawdust', 1), ('stalwart', 1), ('choked', 1), ('bowlful', 1), ('plac', 1), ('unsweetened', 1), ('spoonfuls', 1), ('cried', 1), ('uncle', 1), ('dollop', 1), ('flowing', 1), ('faster', 1), ('dramatic', 1), ('apples', 1), ('granny', 1), ('smith', 1), ('anjou', 1), ('bosc', 1), ('cuties', 1), ('overripe', 1), ('bow', 1), ('twist', 1), ('tie', 1), ('persons', 1), ('pistacio', 1), ('olde', 1), ('calif', 1), ('element', 1), ('anteps', 1), ('lbs', 1), ('savor', 1), ('drooling', 1), ('delighted', 1), ('transported', 1), ('hmmm', 1), ('proudly', 1), ('shamefully', 1), ('wear', 1), ('lucious', 1), ('stays', 1), ('palate', 1), ('errr', 1), ('anticipate', 1), ('satisfaction', 1), ('nada', 1), ('credit', 1), ('card', 1), ('poorly', 1), ('skins', 1), ('sunset', 1), ('exchange', 1), ('lasts', 1), ('fortunately', 1), ('post', 1), ('sender', 1), ('sends', 1), ('disservice', 1), ('costo', 1), ('rejects', 1), ('beneath', 1), ('lifted', 1), ('leakage', 1), ('mis', 1), ('representation', 1), ('represented', 1), ('cloudy', 1), ('suggests', 1), ('adhered', 1), ('notified', 1), ('nibble', 1), ('equipment', 1), ('marshmallow', 1), ('grey', 1), ('yohoo', 1), ('brownish', 1), ('discoloration', 1), ('european', 1), ('pine', 1), ('korean', 1), ('characterize', 1), ('earthy', 1), ('mainly', 1), ('calming', 1), ('anti', 1), ('concoct', 1), ('smoothie', 1), ('capable', 1), ('masking', 1), ('root', 1), ('resorted', 1), ('gulping', 1), ('rigorous', 1), ('preferable', 1), ('noticeable', 1), ('powerful', 1), ('colon', 1), ('cleansing', 1), ('action', 1), ('ehhhh', 1), ('academy', 1), ('backpacking', 1), ('traveled', 1), ('crumb', 1), ('fresher', 1), ('shakes', 1), ('whey', 1), ('simple', 1), ('alright', 1), ('kinda', 1), ('according', 1), ('gripped', 1), ('advantage', 1), ('payed', 1), ('kat', 1), ('carefully', 1), ('rushed', 1), ('definately', 1), ('frost', 1), ('incorrect', 1), ('cute', 1), ('breaking', 1), ('glowing', 1), ('commercial', 1), ('repeating', 1), ('greasy', 1), ('clue', 1), ('wiping', 1), ('pat', 1), ('breaker', 1), ('identify', 1), ('dream', 1), ('killing', 1), ('nazis', 1), ('pan', 1), ('springs', 1), ('eternal', 1), ('german', 1), ('shepherd', 1), ('asked', 1), ('yard', 1), ('pets', 1), ('nate', 1), ('reorder', 1), ('holidays', 1), ('ironically', 1), ('profoundly', 1), ('featured', 1), ('inventory', 1), ('dissatisfied', 1), ('dulse', 1), ('doctors', 1), ('handy', 1), ('prescribed', 1), ('doses', 1), ('morphine', 1), ('oxicodone', 1), ('dropper', 1), ('damaging', 1), ('pharmaceutical', 1), ('drugs', 1), ('facility', 1), ('carries', 1), ('epipen', 1), ('taped', 1), ('pandan', 1), ('depends', 1), ('chalky', 1), ('uh', 1), ('rainbow', 1), ('falling', 1), ('gummis', 1), ('nails', 1), ('contemplated', 1), ('hygiene', 1), ('toddler', 1), ('story', 1), ('reality', 1), ('porch', 1), ('paste', 1), ('describes', 1), ('imho', 1), ('sweetest', 1), ('man', 1), ('complain', 1), ('fatty', 1), ('rare', 1), ('exception', 1), ('category', 1), ('lengthy', 1), ('earn', 1), ('chaos', 1), ('battle', 1), ('track', 1), ('biggest', 1), ('guilt', 1), ('irony', 1), ('dare', 1), ('taunting', 1), ('cashews', 1), ('spaghetti', 1), ('unappeasing', 1), ('fettuccine', 1), ('puked', 1), ('ks', 1), ('animal', 1), ('alfredo', 1), ('held', 1), ('semolina', 1), ('noodle', 1), ('closest', 1), ('licking', 1), ('boat', 1), ('spoiling', 1), ('crumbed', 1), ('pink', 1), ('passed', 1), ('school', 1), ('students', 1), ('comment', 1), ('successfully', 1), ('mixpresso', 1), ('pressurize', 1), ('spew', 1), ('contaminated', 1), ('internals', 1), ('pry', 1), ('deathly', 1), ('regardless', 1), ('acquired', 1), ('purchaser', 1), ('fairly', 1), ('thickly', 1), ('prevent', 1), ('reasonable', 1), ('averaging', 1), ('skyrocketed', 1), ('disappeared', 1), ('insulation', 1), ('stitch', 1), ('material', 1), ('doorstep', 1), ('melt', 1), ('unreasonable', 1), ('penalize', 1), ('offering', 1), ('members', 1), ('slap', 1), ('gouging', 1), ('decreased', 1), ('handling', 1), ('discount', 1), ('farther', 1), ('financially', 1), ('worry', 1), ('deceptive', 1)]\n"
          ],
          "name": "stdout"
        }
      ]
    },
    {
      "cell_type": "code",
      "metadata": {
        "id": "h4QrrNkd2GWf",
        "colab_type": "code",
        "colab": {
          "base_uri": "https://localhost:8080/",
          "height": 667
        },
        "outputId": "5e4f5d58-a4ed-4e7a-bae4-942aa8c7ab3a"
      },
      "source": [
        "train.head()"
      ],
      "execution_count": 68,
      "outputs": [
        {
          "output_type": "execute_result",
          "data": {
            "text/html": [
              "<div>\n",
              "<style scoped>\n",
              "    .dataframe tbody tr th:only-of-type {\n",
              "        vertical-align: middle;\n",
              "    }\n",
              "\n",
              "    .dataframe tbody tr th {\n",
              "        vertical-align: top;\n",
              "    }\n",
              "\n",
              "    .dataframe thead th {\n",
              "        text-align: right;\n",
              "    }\n",
              "</style>\n",
              "<table border=\"1\" class=\"dataframe\">\n",
              "  <thead>\n",
              "    <tr style=\"text-align: right;\">\n",
              "      <th></th>\n",
              "      <th>ID</th>\n",
              "      <th>Product ASIN</th>\n",
              "      <th>Review star rating</th>\n",
              "      <th>Food Safety Issue</th>\n",
              "      <th>Review Text</th>\n",
              "      <th>Review Title</th>\n",
              "      <th>@nlp.sentenceCount</th>\n",
              "      <th>@product.brand</th>\n",
              "      <th>@product.countryOfOrigin</th>\n",
              "      <th>Product Width</th>\n",
              "      <th>Product Length</th>\n",
              "      <th>Product Height</th>\n",
              "      <th>Timestamp</th>\n",
              "      <th>Product Title (Analyzed)</th>\n",
              "      <th>text token</th>\n",
              "      <th>title token</th>\n",
              "      <th>brand token</th>\n",
              "      <th>product title token</th>\n",
              "      <th>adj token</th>\n",
              "      <th>has stale</th>\n",
              "      <th>has not</th>\n",
              "      <th>has disappointed</th>\n",
              "      <th>has good</th>\n",
              "      <th>has great</th>\n",
              "      <th>pos</th>\n",
              "      <th>neg</th>\n",
              "      <th>neu</th>\n",
              "      <th>text string</th>\n",
              "    </tr>\n",
              "  </thead>\n",
              "  <tbody>\n",
              "    <tr>\n",
              "      <th>0</th>\n",
              "      <td>2959</td>\n",
              "      <td>B016YOCSIC</td>\n",
              "      <td>1</td>\n",
              "      <td>1</td>\n",
              "      <td>yes  best brownie i ever had    sugar or no bu...</td>\n",
              "      <td>diabetics beware</td>\n",
              "      <td>8</td>\n",
              "      <td>diabetic kitchen</td>\n",
              "      <td>NaN</td>\n",
              "      <td>4.1</td>\n",
              "      <td>4.1</td>\n",
              "      <td>4.7</td>\n",
              "      <td>2017-11-12 14:04:00</td>\n",
              "      <td>diabetic kitchen gourmet chocolate brownie mix...</td>\n",
              "      <td>[yes, best, brownie, ever, sugar, really, rais...</td>\n",
              "      <td>[diabetics, beware]</td>\n",
              "      <td>[diabetic, kitchen]</td>\n",
              "      <td>[diabetic, kitchen, gourmet, chocolate, browni...</td>\n",
              "      <td>[best, type, diabetic, diet, low, higher, fat,...</td>\n",
              "      <td>0</td>\n",
              "      <td>1</td>\n",
              "      <td>0</td>\n",
              "      <td>0</td>\n",
              "      <td>0</td>\n",
              "      <td>0.000</td>\n",
              "      <td>0.0</td>\n",
              "      <td>1.000</td>\n",
              "      <td>yes best brownie ever sugar really raised bloo...</td>\n",
              "    </tr>\n",
              "    <tr>\n",
              "      <th>1</th>\n",
              "      <td>2377</td>\n",
              "      <td>B019T1K5Z0</td>\n",
              "      <td>3</td>\n",
              "      <td>1</td>\n",
              "      <td>much smaller bag then  anticipated and were a ...</td>\n",
              "      <td>much smaller bag then anticipated and were a b...</td>\n",
              "      <td>2</td>\n",
              "      <td>necco</td>\n",
              "      <td>NaN</td>\n",
              "      <td>NaN</td>\n",
              "      <td>NaN</td>\n",
              "      <td>NaN</td>\n",
              "      <td>2017-11-10 21:31:00</td>\n",
              "      <td>necco original classic small conversation hear...</td>\n",
              "      <td>[much, smaller, bag, anticipated, bit, stale]</td>\n",
              "      <td>[much, smaller, bag, anticipated, bit, stale]</td>\n",
              "      <td>[necco]</td>\n",
              "      <td>[necco, original, classic, small, conversation...</td>\n",
              "      <td>[much, smaller, stale]</td>\n",
              "      <td>1</td>\n",
              "      <td>0</td>\n",
              "      <td>0</td>\n",
              "      <td>0</td>\n",
              "      <td>0</td>\n",
              "      <td>0.000</td>\n",
              "      <td>0.0</td>\n",
              "      <td>1.000</td>\n",
              "      <td>much smaller bag anticipated bit stale</td>\n",
              "    </tr>\n",
              "    <tr>\n",
              "      <th>2</th>\n",
              "      <td>2505</td>\n",
              "      <td>B018XVZQRE</td>\n",
              "      <td>1</td>\n",
              "      <td>1</td>\n",
              "      <td>both bags were staled when we got them</td>\n",
              "      <td>one star</td>\n",
              "      <td>2</td>\n",
              "      <td>pipcorn</td>\n",
              "      <td>NaN</td>\n",
              "      <td>NaN</td>\n",
              "      <td>NaN</td>\n",
              "      <td>NaN</td>\n",
              "      <td>2017-12-15 18:22:00</td>\n",
              "      <td>pipcorn truffle mini popcorn   oz</td>\n",
              "      <td>[bags, staled, got]</td>\n",
              "      <td>[one, star]</td>\n",
              "      <td>[pipcorn]</td>\n",
              "      <td>[pipcorn, truffle, mini, popcorn, oz]</td>\n",
              "      <td>[]</td>\n",
              "      <td>0</td>\n",
              "      <td>0</td>\n",
              "      <td>0</td>\n",
              "      <td>0</td>\n",
              "      <td>0</td>\n",
              "      <td>0.000</td>\n",
              "      <td>0.0</td>\n",
              "      <td>1.000</td>\n",
              "      <td>bags staled got</td>\n",
              "    </tr>\n",
              "    <tr>\n",
              "      <th>3</th>\n",
              "      <td>117</td>\n",
              "      <td>B00NZATP8K</td>\n",
              "      <td>1</td>\n",
              "      <td>1</td>\n",
              "      <td>worst candy corn ever  it was stale and gross ...</td>\n",
              "      <td>one star</td>\n",
              "      <td>4</td>\n",
              "      <td>hoosier hill farm</td>\n",
              "      <td>NaN</td>\n",
              "      <td>NaN</td>\n",
              "      <td>NaN</td>\n",
              "      <td>NaN</td>\n",
              "      <td>2017-11-03 03:58:00</td>\n",
              "      <td>hoosier hill farm premium candy corn      lbs</td>\n",
              "      <td>[worst, candy, corn, ever, stale, gross, total...</td>\n",
              "      <td>[one, star]</td>\n",
              "      <td>[hoosier, hill, farm]</td>\n",
              "      <td>[hoosier, hill, farm, premium, candy, corn, lbs]</td>\n",
              "      <td>[worst, stale, gross, total]</td>\n",
              "      <td>1</td>\n",
              "      <td>0</td>\n",
              "      <td>0</td>\n",
              "      <td>0</td>\n",
              "      <td>0</td>\n",
              "      <td>0.000</td>\n",
              "      <td>0.0</td>\n",
              "      <td>1.000</td>\n",
              "      <td>worst candy corn ever stale gross total waste ...</td>\n",
              "    </tr>\n",
              "    <tr>\n",
              "      <th>4</th>\n",
              "      <td>4378</td>\n",
              "      <td>B00NG6PWPS</td>\n",
              "      <td>3</td>\n",
              "      <td>0</td>\n",
              "      <td>when we can get a cup of this coffee to brew  ...</td>\n",
              "      <td>it is very good  out of   cups we have tried t...</td>\n",
              "      <td>6</td>\n",
              "      <td>crazy cups</td>\n",
              "      <td>US</td>\n",
              "      <td>4.5</td>\n",
              "      <td>8.0</td>\n",
              "      <td>6.0</td>\n",
              "      <td>2017-11-03 17:44:00</td>\n",
              "      <td>crazy cups coffee chocolate lovers single serv...</td>\n",
              "      <td>[get, cup, coffee, brew, good, cups, tried, br...</td>\n",
              "      <td>[good, cups, tried]</td>\n",
              "      <td>[crazy, cups]</td>\n",
              "      <td>[crazy, cups, coffee, chocolate, lovers, singl...</td>\n",
              "      <td>[good, recent, needle, other, same, least]</td>\n",
              "      <td>0</td>\n",
              "      <td>0</td>\n",
              "      <td>0</td>\n",
              "      <td>1</td>\n",
              "      <td>0</td>\n",
              "      <td>0.242</td>\n",
              "      <td>0.0</td>\n",
              "      <td>0.758</td>\n",
              "      <td>get cup coffee brew good cups tried brew recen...</td>\n",
              "    </tr>\n",
              "  </tbody>\n",
              "</table>\n",
              "</div>"
            ],
            "text/plain": [
              "     ID Product ASIN  Review star rating  Food Safety Issue  \\\n",
              "0  2959   B016YOCSIC                   1                  1   \n",
              "1  2377   B019T1K5Z0                   3                  1   \n",
              "2  2505   B018XVZQRE                   1                  1   \n",
              "3   117   B00NZATP8K                   1                  1   \n",
              "4  4378   B00NG6PWPS                   3                  0   \n",
              "\n",
              "                                         Review Text  \\\n",
              "0  yes  best brownie i ever had    sugar or no bu...   \n",
              "1  much smaller bag then  anticipated and were a ...   \n",
              "2            both bags were staled when we got them    \n",
              "3  worst candy corn ever  it was stale and gross ...   \n",
              "4  when we can get a cup of this coffee to brew  ...   \n",
              "\n",
              "                                        Review Title  @nlp.sentenceCount  \\\n",
              "0                                   diabetics beware                   8   \n",
              "1  much smaller bag then anticipated and were a b...                   2   \n",
              "2                                           one star                   2   \n",
              "3                                           one star                   4   \n",
              "4  it is very good  out of   cups we have tried t...                   6   \n",
              "\n",
              "      @product.brand @product.countryOfOrigin  Product Width  Product Length  \\\n",
              "0   diabetic kitchen                      NaN            4.1             4.1   \n",
              "1              necco                      NaN            NaN             NaN   \n",
              "2            pipcorn                      NaN            NaN             NaN   \n",
              "3  hoosier hill farm                      NaN            NaN             NaN   \n",
              "4         crazy cups                       US            4.5             8.0   \n",
              "\n",
              "   Product Height           Timestamp  \\\n",
              "0             4.7 2017-11-12 14:04:00   \n",
              "1             NaN 2017-11-10 21:31:00   \n",
              "2             NaN 2017-12-15 18:22:00   \n",
              "3             NaN 2017-11-03 03:58:00   \n",
              "4             6.0 2017-11-03 17:44:00   \n",
              "\n",
              "                            Product Title (Analyzed)  \\\n",
              "0  diabetic kitchen gourmet chocolate brownie mix...   \n",
              "1  necco original classic small conversation hear...   \n",
              "2                  pipcorn truffle mini popcorn   oz   \n",
              "3      hoosier hill farm premium candy corn      lbs   \n",
              "4  crazy cups coffee chocolate lovers single serv...   \n",
              "\n",
              "                                          text token  \\\n",
              "0  [yes, best, brownie, ever, sugar, really, rais...   \n",
              "1      [much, smaller, bag, anticipated, bit, stale]   \n",
              "2                                [bags, staled, got]   \n",
              "3  [worst, candy, corn, ever, stale, gross, total...   \n",
              "4  [get, cup, coffee, brew, good, cups, tried, br...   \n",
              "\n",
              "                                     title token            brand token  \\\n",
              "0                            [diabetics, beware]    [diabetic, kitchen]   \n",
              "1  [much, smaller, bag, anticipated, bit, stale]                [necco]   \n",
              "2                                    [one, star]              [pipcorn]   \n",
              "3                                    [one, star]  [hoosier, hill, farm]   \n",
              "4                            [good, cups, tried]          [crazy, cups]   \n",
              "\n",
              "                                 product title token  \\\n",
              "0  [diabetic, kitchen, gourmet, chocolate, browni...   \n",
              "1  [necco, original, classic, small, conversation...   \n",
              "2              [pipcorn, truffle, mini, popcorn, oz]   \n",
              "3   [hoosier, hill, farm, premium, candy, corn, lbs]   \n",
              "4  [crazy, cups, coffee, chocolate, lovers, singl...   \n",
              "\n",
              "                                           adj token  has stale  has not  \\\n",
              "0  [best, type, diabetic, diet, low, higher, fat,...          0        1   \n",
              "1                             [much, smaller, stale]          1        0   \n",
              "2                                                 []          0        0   \n",
              "3                       [worst, stale, gross, total]          1        0   \n",
              "4         [good, recent, needle, other, same, least]          0        0   \n",
              "\n",
              "   has disappointed  has good  has great    pos  neg    neu  \\\n",
              "0                 0         0          0  0.000  0.0  1.000   \n",
              "1                 0         0          0  0.000  0.0  1.000   \n",
              "2                 0         0          0  0.000  0.0  1.000   \n",
              "3                 0         0          0  0.000  0.0  1.000   \n",
              "4                 0         1          0  0.242  0.0  0.758   \n",
              "\n",
              "                                         text string  \n",
              "0  yes best brownie ever sugar really raised bloo...  \n",
              "1            much smaller bag anticipated bit stale   \n",
              "2                                   bags staled got   \n",
              "3  worst candy corn ever stale gross total waste ...  \n",
              "4  get cup coffee brew good cups tried brew recen...  "
            ]
          },
          "metadata": {
            "tags": []
          },
          "execution_count": 68
        }
      ]
    },
    {
      "cell_type": "code",
      "metadata": {
        "id": "eIyXMf9u2HLj",
        "colab_type": "code",
        "colab": {}
      },
      "source": [
        ""
      ],
      "execution_count": 0,
      "outputs": []
    }
  ]
}