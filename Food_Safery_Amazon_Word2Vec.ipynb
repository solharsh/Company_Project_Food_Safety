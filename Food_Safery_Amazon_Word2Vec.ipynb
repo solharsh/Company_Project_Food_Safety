{
  "nbformat": 4,
  "nbformat_minor": 0,
  "metadata": {
    "colab": {
      "name": "Food_Safery_Amazon_Word2Vec.ipynb\t",
      "provenance": [],
      "toc_visible": true,
      "mount_file_id": "1FoBa1rx-Kgy1mvYHahJjKXb1TjoS0Zql",
      "authorship_tag": "ABX9TyOeq9R/vfhOc0W4YrLCWKS1",
      "include_colab_link": true
    },
    "kernelspec": {
      "name": "python3",
      "display_name": "Python 3"
    }
  },
  "cells": [
    {
      "cell_type": "markdown",
      "metadata": {
        "id": "view-in-github",
        "colab_type": "text"
      },
      "source": [
        "<a href=\"https://colab.research.google.com/github/solharsh/Company_Project_Food_Safety/blob/master/Food_Safery_Amazon_Word2Vec.ipynb\" target=\"_parent\"><img src=\"https://colab.research.google.com/assets/colab-badge.svg\" alt=\"Open In Colab\"/></a>"
      ]
    },
    {
      "cell_type": "code",
      "metadata": {
        "id": "qFNwXMWfg7or",
        "colab_type": "code",
        "colab": {
          "base_uri": "https://localhost:8080/",
          "height": 67
        },
        "outputId": "1affbcbf-7cf5-4412-f2f5-e50672216c0a"
      },
      "source": [
        "! pip install xgboost"
      ],
      "execution_count": 1,
      "outputs": [
        {
          "output_type": "stream",
          "text": [
            "Requirement already satisfied: xgboost in /usr/local/lib/python3.6/dist-packages (0.90)\n",
            "Requirement already satisfied: numpy in /usr/local/lib/python3.6/dist-packages (from xgboost) (1.18.4)\n",
            "Requirement already satisfied: scipy in /usr/local/lib/python3.6/dist-packages (from xgboost) (1.4.1)\n"
          ],
          "name": "stdout"
        }
      ]
    },
    {
      "cell_type": "code",
      "metadata": {
        "id": "lZ7z1aV_g_9M",
        "colab_type": "code",
        "colab": {
          "base_uri": "https://localhost:8080/",
          "height": 337
        },
        "outputId": "64fd785f-dd65-4ba1-c9f7-d1f6acd95292"
      },
      "source": [
        "!pip install catboost"
      ],
      "execution_count": 3,
      "outputs": [
        {
          "output_type": "stream",
          "text": [
            "Collecting catboost\n",
            "\u001b[?25l  Downloading https://files.pythonhosted.org/packages/b2/aa/e61819d04ef2bbee778bf4b3a748db1f3ad23512377e43ecfdc3211437a0/catboost-0.23.2-cp36-none-manylinux1_x86_64.whl (64.8MB)\n",
            "\u001b[K     |████████████████████████████████| 64.8MB 108kB/s \n",
            "\u001b[?25hRequirement already satisfied: six in /usr/local/lib/python3.6/dist-packages (from catboost) (1.12.0)\n",
            "Requirement already satisfied: graphviz in /usr/local/lib/python3.6/dist-packages (from catboost) (0.10.1)\n",
            "Requirement already satisfied: plotly in /usr/local/lib/python3.6/dist-packages (from catboost) (4.4.1)\n",
            "Requirement already satisfied: scipy in /usr/local/lib/python3.6/dist-packages (from catboost) (1.4.1)\n",
            "Requirement already satisfied: matplotlib in /usr/local/lib/python3.6/dist-packages (from catboost) (3.2.1)\n",
            "Requirement already satisfied: pandas>=0.24.0 in /usr/local/lib/python3.6/dist-packages (from catboost) (1.0.3)\n",
            "Requirement already satisfied: numpy>=1.16.0 in /usr/local/lib/python3.6/dist-packages (from catboost) (1.18.4)\n",
            "Requirement already satisfied: retrying>=1.3.3 in /usr/local/lib/python3.6/dist-packages (from plotly->catboost) (1.3.3)\n",
            "Requirement already satisfied: pyparsing!=2.0.4,!=2.1.2,!=2.1.6,>=2.0.1 in /usr/local/lib/python3.6/dist-packages (from matplotlib->catboost) (2.4.7)\n",
            "Requirement already satisfied: python-dateutil>=2.1 in /usr/local/lib/python3.6/dist-packages (from matplotlib->catboost) (2.8.1)\n",
            "Requirement already satisfied: kiwisolver>=1.0.1 in /usr/local/lib/python3.6/dist-packages (from matplotlib->catboost) (1.2.0)\n",
            "Requirement already satisfied: cycler>=0.10 in /usr/local/lib/python3.6/dist-packages (from matplotlib->catboost) (0.10.0)\n",
            "Requirement already satisfied: pytz>=2017.2 in /usr/local/lib/python3.6/dist-packages (from pandas>=0.24.0->catboost) (2018.9)\n",
            "Installing collected packages: catboost\n",
            "Successfully installed catboost-0.23.2\n"
          ],
          "name": "stdout"
        }
      ]
    },
    {
      "cell_type": "code",
      "metadata": {
        "id": "4RPz-7oqhA1M",
        "colab_type": "code",
        "colab": {
          "base_uri": "https://localhost:8080/",
          "height": 117
        },
        "outputId": "0e6f2f60-8b02-45d9-d9a0-59340cc9b6a3"
      },
      "source": [
        "!pip install lightgbm"
      ],
      "execution_count": 4,
      "outputs": [
        {
          "output_type": "stream",
          "text": [
            "Requirement already satisfied: lightgbm in /usr/local/lib/python3.6/dist-packages (2.2.3)\n",
            "Requirement already satisfied: numpy in /usr/local/lib/python3.6/dist-packages (from lightgbm) (1.18.4)\n",
            "Requirement already satisfied: scipy in /usr/local/lib/python3.6/dist-packages (from lightgbm) (1.4.1)\n",
            "Requirement already satisfied: scikit-learn in /usr/local/lib/python3.6/dist-packages (from lightgbm) (0.23.1)\n",
            "Requirement already satisfied: joblib>=0.11 in /usr/local/lib/python3.6/dist-packages (from scikit-learn->lightgbm) (0.15.1)\n",
            "Requirement already satisfied: threadpoolctl>=2.0.0 in /usr/local/lib/python3.6/dist-packages (from scikit-learn->lightgbm) (2.1.0)\n"
          ],
          "name": "stdout"
        }
      ]
    },
    {
      "cell_type": "code",
      "metadata": {
        "id": "WNq_WR8OhB3q",
        "colab_type": "code",
        "colab": {
          "base_uri": "https://localhost:8080/",
          "height": 203
        },
        "outputId": "28f1180e-20ec-4eed-e6a0-444089f1c44d"
      },
      "source": [
        "!pip install vaderSentiment"
      ],
      "execution_count": 5,
      "outputs": [
        {
          "output_type": "stream",
          "text": [
            "Collecting vaderSentiment\n",
            "\u001b[?25l  Downloading https://files.pythonhosted.org/packages/76/fc/310e16254683c1ed35eeb97386986d6c00bc29df17ce280aed64d55537e9/vaderSentiment-3.3.2-py2.py3-none-any.whl (125kB)\n",
            "\r\u001b[K     |██▋                             | 10kB 9.0MB/s eta 0:00:01\r\u001b[K     |█████▏                          | 20kB 1.7MB/s eta 0:00:01\r\u001b[K     |███████▉                        | 30kB 2.2MB/s eta 0:00:01\r\u001b[K     |██████████▍                     | 40kB 2.5MB/s eta 0:00:01\r\u001b[K     |█████████████                   | 51kB 2.0MB/s eta 0:00:01\r\u001b[K     |███████████████▋                | 61kB 2.2MB/s eta 0:00:01\r\u001b[K     |██████████████████▏             | 71kB 2.5MB/s eta 0:00:01\r\u001b[K     |████████████████████▉           | 81kB 2.7MB/s eta 0:00:01\r\u001b[K     |███████████████████████▍        | 92kB 2.8MB/s eta 0:00:01\r\u001b[K     |██████████████████████████      | 102kB 2.8MB/s eta 0:00:01\r\u001b[K     |████████████████████████████▋   | 112kB 2.8MB/s eta 0:00:01\r\u001b[K     |███████████████████████████████▏| 122kB 2.8MB/s eta 0:00:01\r\u001b[K     |████████████████████████████████| 133kB 2.8MB/s \n",
            "\u001b[?25hRequirement already satisfied: requests in /usr/local/lib/python3.6/dist-packages (from vaderSentiment) (2.23.0)\n",
            "Requirement already satisfied: idna<3,>=2.5 in /usr/local/lib/python3.6/dist-packages (from requests->vaderSentiment) (2.9)\n",
            "Requirement already satisfied: chardet<4,>=3.0.2 in /usr/local/lib/python3.6/dist-packages (from requests->vaderSentiment) (3.0.4)\n",
            "Requirement already satisfied: certifi>=2017.4.17 in /usr/local/lib/python3.6/dist-packages (from requests->vaderSentiment) (2020.4.5.1)\n",
            "Requirement already satisfied: urllib3!=1.25.0,!=1.25.1,<1.26,>=1.21.1 in /usr/local/lib/python3.6/dist-packages (from requests->vaderSentiment) (1.24.3)\n",
            "Installing collected packages: vaderSentiment\n",
            "Successfully installed vaderSentiment-3.3.2\n"
          ],
          "name": "stdout"
        }
      ]
    },
    {
      "cell_type": "code",
      "metadata": {
        "id": "1JvxPDU7hCnv",
        "colab_type": "code",
        "colab": {}
      },
      "source": [
        "import xgboost as xgb\t\n",
        "import lightgbm as lgb\t\n",
        "import catboost\t\n",
        "import pandas as pd\t\n",
        "import numpy as np\t\n",
        "from sklearn.model_selection import train_test_split\t\n",
        "from sklearn.linear_model import LogisticRegression\n",
        "from sklearn.ensemble import RandomForestClassifier\n",
        "from sklearn.svm import SVC\n",
        "import re\n",
        "from vaderSentiment.vaderSentiment import SentimentIntensityAnalyzer\n",
        "import matplotlib.pyplot as plt"
      ],
      "execution_count": 0,
      "outputs": []
    },
    {
      "cell_type": "code",
      "metadata": {
        "id": "3aAt4bbjhIlH",
        "colab_type": "code",
        "colab": {
          "base_uri": "https://localhost:8080/",
          "height": 117
        },
        "outputId": "e745d75d-5eb8-4e12-ce07-f20f09038f6c"
      },
      "source": [
        "import nltk\n",
        "nltk.download('punkt')\n",
        "nltk.download('stopwords')\n",
        "nltk.download('wordnet')\t\n",
        "from nltk.tokenize import RegexpTokenizer\n",
        "from nltk.stem.wordnet import WordNetLemmatizer\n",
        "from nltk.corpus import stopwords"
      ],
      "execution_count": 3,
      "outputs": [
        {
          "output_type": "stream",
          "text": [
            "[nltk_data] Downloading package punkt to /root/nltk_data...\n",
            "[nltk_data]   Package punkt is already up-to-date!\n",
            "[nltk_data] Downloading package stopwords to /root/nltk_data...\n",
            "[nltk_data]   Package stopwords is already up-to-date!\n",
            "[nltk_data] Downloading package wordnet to /root/nltk_data...\n",
            "[nltk_data]   Package wordnet is already up-to-date!\n"
          ],
          "name": "stdout"
        }
      ]
    },
    {
      "cell_type": "code",
      "metadata": {
        "id": "lFpo05nuhOL1",
        "colab_type": "code",
        "colab": {}
      },
      "source": [
        "stop_words = set(stopwords.words('english'))\n",
        "stop_words.remove('off')\t\n",
        "stop_words.add('amazon')\t\n",
        "stop_words.add('product')\t\n",
        "stop_words.add('info')"
      ],
      "execution_count": 0,
      "outputs": []
    },
    {
      "cell_type": "code",
      "metadata": {
        "id": "ZjAHBgi4hR2W",
        "colab_type": "code",
        "colab": {}
      },
      "source": [
        "lmtzr = WordNetLemmatizer()\n",
        "tokenizer = RegexpTokenizer(r'\\w+')"
      ],
      "execution_count": 0,
      "outputs": []
    },
    {
      "cell_type": "markdown",
      "metadata": {
        "id": "irXnKPeHhU6x",
        "colab_type": "text"
      },
      "source": [
        "# Prepare training data"
      ]
    },
    {
      "cell_type": "code",
      "metadata": {
        "id": "U2hgk5r7hTY0",
        "colab_type": "code",
        "colab": {}
      },
      "source": [
        "df = pd.read_csv('/content/drive/My Drive/Food_Safety_Amazon/training.csv', sep=None, header=0, index_col=False, parse_dates=['Timestamp'],engine='python')"
      ],
      "execution_count": 0,
      "outputs": []
    },
    {
      "cell_type": "code",
      "metadata": {
        "id": "wxNOQAeNhdS3",
        "colab_type": "code",
        "colab": {
          "base_uri": "https://localhost:8080/",
          "height": 634
        },
        "outputId": "d8e34120-bc01-4899-f7c1-672f85ffeb66"
      },
      "source": [
        "df.head(5)"
      ],
      "execution_count": 7,
      "outputs": [
        {
          "output_type": "execute_result",
          "data": {
            "text/html": [
              "<div>\n",
              "<style scoped>\n",
              "    .dataframe tbody tr th:only-of-type {\n",
              "        vertical-align: middle;\n",
              "    }\n",
              "\n",
              "    .dataframe tbody tr th {\n",
              "        vertical-align: top;\n",
              "    }\n",
              "\n",
              "    .dataframe thead th {\n",
              "        text-align: right;\n",
              "    }\n",
              "</style>\n",
              "<table border=\"1\" class=\"dataframe\">\n",
              "  <thead>\n",
              "    <tr style=\"text-align: right;\">\n",
              "      <th></th>\n",
              "      <th>ID</th>\n",
              "      <th>Product ASIN</th>\n",
              "      <th>Review star rating</th>\n",
              "      <th>Food Safety Issue</th>\n",
              "      <th>Review Text</th>\n",
              "      <th>Review Title</th>\n",
              "      <th>@nlp.sentenceCount</th>\n",
              "      <th>@product.brand</th>\n",
              "      <th>@product.countryOfOrigin</th>\n",
              "      <th>Product Width</th>\n",
              "      <th>Product Length</th>\n",
              "      <th>Product Height</th>\n",
              "      <th>Timestamp</th>\n",
              "      <th>Product Title (Analyzed)</th>\n",
              "    </tr>\n",
              "  </thead>\n",
              "  <tbody>\n",
              "    <tr>\n",
              "      <th>0</th>\n",
              "      <td>2024</td>\n",
              "      <td>B004DSMGXE</td>\n",
              "      <td>1</td>\n",
              "      <td>1</td>\n",
              "      <td>Very stale!  Went into garbage....</td>\n",
              "      <td>Went into garbage..</td>\n",
              "      <td>3</td>\n",
              "      <td>Ferrara</td>\n",
              "      <td>MX</td>\n",
              "      <td>NaN</td>\n",
              "      <td>NaN</td>\n",
              "      <td>NaN</td>\n",
              "      <td>2017-10-29 09:43:00</td>\n",
              "      <td>Wrapped Vanilla Caramel Squares 2lb, 2 Pound</td>\n",
              "    </tr>\n",
              "    <tr>\n",
              "      <th>1</th>\n",
              "      <td>4208</td>\n",
              "      <td>B003XDM33I</td>\n",
              "      <td>1</td>\n",
              "      <td>1</td>\n",
              "      <td>I always use raw cashews in my smoothies and a...</td>\n",
              "      <td>... raw cashews in my smoothies and as these t...</td>\n",
              "      <td>2</td>\n",
              "      <td>Sunfood</td>\n",
              "      <td>NaN</td>\n",
              "      <td>2.9</td>\n",
              "      <td>7.8</td>\n",
              "      <td>2.6</td>\n",
              "      <td>2017-12-20 00:18:00</td>\n",
              "      <td>Sunfood Cashews, Whole, 1lb, Organic, Raw</td>\n",
              "    </tr>\n",
              "    <tr>\n",
              "      <th>2</th>\n",
              "      <td>3373</td>\n",
              "      <td>B01H4B1DB2</td>\n",
              "      <td>1</td>\n",
              "      <td>1</td>\n",
              "      <td>I am super pissed off. I can�t return this? Pr...</td>\n",
              "      <td>I am super pissed off</td>\n",
              "      <td>6</td>\n",
              "      <td>Forever Green</td>\n",
              "      <td>NaN</td>\n",
              "      <td>NaN</td>\n",
              "      <td>NaN</td>\n",
              "      <td>NaN</td>\n",
              "      <td>2018-01-15 03:21:00</td>\n",
              "      <td>Paradise Green Uncrystallized Dried Ginger Sli...</td>\n",
              "    </tr>\n",
              "    <tr>\n",
              "      <th>3</th>\n",
              "      <td>3388</td>\n",
              "      <td>B00JJY30R8</td>\n",
              "      <td>1</td>\n",
              "      <td>1</td>\n",
              "      <td>These are so hard and stale you can break a to...</td>\n",
              "      <td>Inedible Marpo Marshmallow Candy Cones</td>\n",
              "      <td>2</td>\n",
              "      <td>Marpro</td>\n",
              "      <td>NaN</td>\n",
              "      <td>NaN</td>\n",
              "      <td>NaN</td>\n",
              "      <td>NaN</td>\n",
              "      <td>2018-03-28 01:09:00</td>\n",
              "      <td>Marpro Yum Yum Marshmallow Candy Cones - 30 Ct...</td>\n",
              "    </tr>\n",
              "    <tr>\n",
              "      <th>4</th>\n",
              "      <td>5004</td>\n",
              "      <td>B003RLNOYS</td>\n",
              "      <td>1</td>\n",
              "      <td>1</td>\n",
              "      <td>I love larabars. What I don�t love, and what e...</td>\n",
              "      <td>Moldy, smelly, disgusting in the last 2 orders</td>\n",
              "      <td>5</td>\n",
              "      <td>L�RABAR</td>\n",
              "      <td>US</td>\n",
              "      <td>4.0</td>\n",
              "      <td>2.0</td>\n",
              "      <td>6.0</td>\n",
              "      <td>2017-11-30 18:40:00</td>\n",
              "      <td>Larabar Gluten Free Bar, Chocolate Chip Cookie...</td>\n",
              "    </tr>\n",
              "  </tbody>\n",
              "</table>\n",
              "</div>"
            ],
            "text/plain": [
              "     ID  ...                           Product Title (Analyzed)\n",
              "0  2024  ...       Wrapped Vanilla Caramel Squares 2lb, 2 Pound\n",
              "1  4208  ...          Sunfood Cashews, Whole, 1lb, Organic, Raw\n",
              "2  3373  ...  Paradise Green Uncrystallized Dried Ginger Sli...\n",
              "3  3388  ...  Marpro Yum Yum Marshmallow Candy Cones - 30 Ct...\n",
              "4  5004  ...  Larabar Gluten Free Bar, Chocolate Chip Cookie...\n",
              "\n",
              "[5 rows x 14 columns]"
            ]
          },
          "metadata": {
            "tags": []
          },
          "execution_count": 7
        }
      ]
    },
    {
      "cell_type": "code",
      "metadata": {
        "id": "ct_PytNChef2",
        "colab_type": "code",
        "colab": {
          "base_uri": "https://localhost:8080/",
          "height": 100
        },
        "outputId": "0e6c90eb-4c9d-44c5-b8fe-cffdf4e894a0"
      },
      "source": [
        "df.columns"
      ],
      "execution_count": 8,
      "outputs": [
        {
          "output_type": "execute_result",
          "data": {
            "text/plain": [
              "Index(['ID', 'Product ASIN', 'Review star rating', 'Food Safety Issue',\n",
              "       'Review Text', 'Review Title', '@nlp.sentenceCount', '@product.brand',\n",
              "       '@product.countryOfOrigin', 'Product Width', 'Product Length',\n",
              "       'Product Height', 'Timestamp', 'Product Title (Analyzed)'],\n",
              "      dtype='object')"
            ]
          },
          "metadata": {
            "tags": []
          },
          "execution_count": 8
        }
      ]
    },
    {
      "cell_type": "code",
      "metadata": {
        "id": "xAHOlXQDhfPg",
        "colab_type": "code",
        "colab": {
          "base_uri": "https://localhost:8080/",
          "height": 287
        },
        "outputId": "bf42bc6b-c434-412f-fc7a-1aa0a84151a9"
      },
      "source": [
        "df.describe()"
      ],
      "execution_count": 9,
      "outputs": [
        {
          "output_type": "execute_result",
          "data": {
            "text/html": [
              "<div>\n",
              "<style scoped>\n",
              "    .dataframe tbody tr th:only-of-type {\n",
              "        vertical-align: middle;\n",
              "    }\n",
              "\n",
              "    .dataframe tbody tr th {\n",
              "        vertical-align: top;\n",
              "    }\n",
              "\n",
              "    .dataframe thead th {\n",
              "        text-align: right;\n",
              "    }\n",
              "</style>\n",
              "<table border=\"1\" class=\"dataframe\">\n",
              "  <thead>\n",
              "    <tr style=\"text-align: right;\">\n",
              "      <th></th>\n",
              "      <th>ID</th>\n",
              "      <th>Review star rating</th>\n",
              "      <th>Food Safety Issue</th>\n",
              "      <th>@nlp.sentenceCount</th>\n",
              "      <th>Product Width</th>\n",
              "      <th>Product Length</th>\n",
              "      <th>Product Height</th>\n",
              "    </tr>\n",
              "  </thead>\n",
              "  <tbody>\n",
              "    <tr>\n",
              "      <th>count</th>\n",
              "      <td>3769.000000</td>\n",
              "      <td>3769.000000</td>\n",
              "      <td>3769.000000</td>\n",
              "      <td>3769.000000</td>\n",
              "      <td>1469.000000</td>\n",
              "      <td>1469.000000</td>\n",
              "      <td>1469.000000</td>\n",
              "    </tr>\n",
              "    <tr>\n",
              "      <th>mean</th>\n",
              "      <td>2691.956487</td>\n",
              "      <td>1.472008</td>\n",
              "      <td>0.864155</td>\n",
              "      <td>4.715309</td>\n",
              "      <td>4.973349</td>\n",
              "      <td>6.718455</td>\n",
              "      <td>5.675956</td>\n",
              "    </tr>\n",
              "    <tr>\n",
              "      <th>std</th>\n",
              "      <td>1554.811470</td>\n",
              "      <td>0.778782</td>\n",
              "      <td>0.342669</td>\n",
              "      <td>4.082598</td>\n",
              "      <td>3.001311</td>\n",
              "      <td>4.314668</td>\n",
              "      <td>3.741902</td>\n",
              "    </tr>\n",
              "    <tr>\n",
              "      <th>min</th>\n",
              "      <td>1.000000</td>\n",
              "      <td>1.000000</td>\n",
              "      <td>0.000000</td>\n",
              "      <td>1.000000</td>\n",
              "      <td>0.000000</td>\n",
              "      <td>0.000000</td>\n",
              "      <td>0.000000</td>\n",
              "    </tr>\n",
              "    <tr>\n",
              "      <th>25%</th>\n",
              "      <td>1340.000000</td>\n",
              "      <td>1.000000</td>\n",
              "      <td>1.000000</td>\n",
              "      <td>2.000000</td>\n",
              "      <td>2.900000</td>\n",
              "      <td>3.500000</td>\n",
              "      <td>3.000000</td>\n",
              "    </tr>\n",
              "    <tr>\n",
              "      <th>50%</th>\n",
              "      <td>2716.000000</td>\n",
              "      <td>1.000000</td>\n",
              "      <td>1.000000</td>\n",
              "      <td>4.000000</td>\n",
              "      <td>4.500000</td>\n",
              "      <td>6.000000</td>\n",
              "      <td>5.500000</td>\n",
              "    </tr>\n",
              "    <tr>\n",
              "      <th>75%</th>\n",
              "      <td>4024.000000</td>\n",
              "      <td>2.000000</td>\n",
              "      <td>1.000000</td>\n",
              "      <td>6.000000</td>\n",
              "      <td>6.500000</td>\n",
              "      <td>9.000000</td>\n",
              "      <td>7.870000</td>\n",
              "    </tr>\n",
              "    <tr>\n",
              "      <th>max</th>\n",
              "      <td>5384.000000</td>\n",
              "      <td>5.000000</td>\n",
              "      <td>1.000000</td>\n",
              "      <td>104.000000</td>\n",
              "      <td>32.000000</td>\n",
              "      <td>84.000000</td>\n",
              "      <td>84.000000</td>\n",
              "    </tr>\n",
              "  </tbody>\n",
              "</table>\n",
              "</div>"
            ],
            "text/plain": [
              "                ID  Review star rating  ...  Product Length  Product Height\n",
              "count  3769.000000         3769.000000  ...     1469.000000     1469.000000\n",
              "mean   2691.956487            1.472008  ...        6.718455        5.675956\n",
              "std    1554.811470            0.778782  ...        4.314668        3.741902\n",
              "min       1.000000            1.000000  ...        0.000000        0.000000\n",
              "25%    1340.000000            1.000000  ...        3.500000        3.000000\n",
              "50%    2716.000000            1.000000  ...        6.000000        5.500000\n",
              "75%    4024.000000            2.000000  ...        9.000000        7.870000\n",
              "max    5384.000000            5.000000  ...       84.000000       84.000000\n",
              "\n",
              "[8 rows x 7 columns]"
            ]
          },
          "metadata": {
            "tags": []
          },
          "execution_count": 9
        }
      ]
    },
    {
      "cell_type": "code",
      "metadata": {
        "id": "OR1B8r9Whgqx",
        "colab_type": "code",
        "colab": {
          "base_uri": "https://localhost:8080/",
          "height": 267
        },
        "outputId": "27b2ecbe-b93f-4160-da38-d59a644e8f39"
      },
      "source": [
        "df.isnull().sum(axis=0)"
      ],
      "execution_count": 10,
      "outputs": [
        {
          "output_type": "execute_result",
          "data": {
            "text/plain": [
              "ID                             0\n",
              "Product ASIN                   0\n",
              "Review star rating             0\n",
              "Food Safety Issue              0\n",
              "Review Text                    0\n",
              "Review Title                   0\n",
              "@nlp.sentenceCount             0\n",
              "@product.brand                79\n",
              "@product.countryOfOrigin    2801\n",
              "Product Width               2300\n",
              "Product Length              2300\n",
              "Product Height              2300\n",
              "Timestamp                      0\n",
              "Product Title (Analyzed)       0\n",
              "dtype: int64"
            ]
          },
          "metadata": {
            "tags": []
          },
          "execution_count": 10
        }
      ]
    },
    {
      "cell_type": "code",
      "metadata": {
        "id": "z9sSBUHAhhj7",
        "colab_type": "code",
        "colab": {
          "base_uri": "https://localhost:8080/",
          "height": 67
        },
        "outputId": "f364c4a5-1e09-4db4-97c2-9bc3af39737e"
      },
      "source": [
        "df['Food Safety Issue'].value_counts()"
      ],
      "execution_count": 11,
      "outputs": [
        {
          "output_type": "execute_result",
          "data": {
            "text/plain": [
              "1    3257\n",
              "0     512\n",
              "Name: Food Safety Issue, dtype: int64"
            ]
          },
          "metadata": {
            "tags": []
          },
          "execution_count": 11
        }
      ]
    },
    {
      "cell_type": "markdown",
      "metadata": {
        "id": "c7-SdVYIhkDL",
        "colab_type": "text"
      },
      "source": [
        "# Define feature engineering functions"
      ]
    },
    {
      "cell_type": "code",
      "metadata": {
        "id": "-GcvRYrchiXB",
        "colab_type": "code",
        "colab": {}
      },
      "source": [
        "def preprocess(s):\n",
        "    if isinstance(s, str):\n",
        "        s = re.sub(r'[^a-zA-Z\\s]', '', s, re.I|re.A)\n",
        "        s = str(s).lower()\n",
        "        word_list = tokenizer.tokenize(s)\n",
        "        word_list = [word for word in word_list if not word in stop_words]\n",
        "        word_list = [lmtzr.lemmatize(word) for word in word_list]\n",
        "        return word_list\n",
        "    return []\n",
        "\t\n",
        "def word_vector(s):\n",
        "\t  word_list = preprocess(s)\n",
        "\t  return np.mean([words[x].values for x in word_list if x in words],axis=0)\n",
        "\t\n",
        "\t\n",
        "def get_sentiment_scores_of_sentence(sentence):\n",
        "  word_list = preprocess(sentence)\n",
        "  sentimentAnalyser = SentimentIntensityAnalyzer()\n",
        "  sentimentScores = sentimentAnalyser.polarity_scores(' '.join(word_list))\n",
        "  return sentimentScores\n",
        "\t\n",
        "def get_sentiment_scores_of_column(df, columnName):\t\n",
        "    sentimentScoresHeader = [columnName+'_neg', columnName+'_neu', columnName+'_pos', columnName+'_compound']\n",
        "    sentimentScoresDf = pd.DataFrame(np.nan, index=[], columns=sentimentScoresHeader)\n",
        "    isOverallNeg = []\n",
        "    for i in range(df.shape[0]): #range(10, 21):\n",
        "        sentence = df.loc[i, columnName]\n",
        "        if isinstance(sentence, str):\n",
        "            curScores = get_sentiment_scores_of_sentence(sentence)\n",
        "            curScoresDf = pd.DataFrame.from_dict(dict([ [sentimentScoresHeader[0], [curScores.get('neg')]],\n",
        "                                                        [sentimentScoresHeader[1], [curScores.get('neu')]],\n",
        "                                                        [sentimentScoresHeader[2], [curScores.get('pos')]],\n",
        "                                                        [sentimentScoresHeader[3], [curScores.get('compound')]] ]), orient='columns')\n",
        "        else:\n",
        "            curScoresDf = pd.DataFrame.from_dict(dict([ [sentimentScoresHeader[0], [0.0]],\n",
        "                                                        [sentimentScoresHeader[1], [0.0]],\n",
        "                                                        [sentimentScoresHeader[2], [0.0]],\n",
        "                                                        [sentimentScoresHeader[3], [0.0]] ]), orient='columns')\n",
        "        sentimentScoresDf = sentimentScoresDf.append(curScoresDf, ignore_index=True)\n",
        "\t\n",
        "        if (curScores.get('neg') > curScores.get('pos')):\n",
        "            isOverallNeg.append(1)\n",
        "        else:\n",
        "            isOverallNeg.append(0)\n",
        "    return sentimentScoresDf, isOverallNeg"
      ],
      "execution_count": 0,
      "outputs": []
    },
    {
      "cell_type": "markdown",
      "metadata": {
        "id": "qMYmvQbhiNZX",
        "colab_type": "text"
      },
      "source": [
        "# Add sentiment score"
      ]
    },
    {
      "cell_type": "code",
      "metadata": {
        "id": "milLUtCkh9Rr",
        "colab_type": "code",
        "colab": {}
      },
      "source": [
        "TextSentimentScores, TextIsOverallNeg = get_sentiment_scores_of_column(df, 'Review Text')\n",
        "TitleSentimentScores, TitleIsOverallNeg = get_sentiment_scores_of_column(df, 'Review Title')"
      ],
      "execution_count": 0,
      "outputs": []
    },
    {
      "cell_type": "markdown",
      "metadata": {
        "id": "u1VoS6mliRci",
        "colab_type": "text"
      },
      "source": [
        "# Add missing value indicator"
      ]
    },
    {
      "cell_type": "code",
      "metadata": {
        "id": "v04ZaRV1iPus",
        "colab_type": "code",
        "colab": {}
      },
      "source": [
        "df['missingorigin'] = df['@product.countryOfOrigin'].apply(lambda x: 1 if pd.isnull(x) else 0)\n",
        "df['Product Width'].fillna(-1, inplace=True)\n",
        "df['Product Height'].fillna(-1, inplace=True)\n",
        "df['Product Length'].fillna(-1, inplace=True)\n",
        "df['missingwd'] = df.apply(lambda x: 1 if x['Product Width']+x['Product Length']+x['Product Height']==-1 else 0, axis=1)"
      ],
      "execution_count": 0,
      "outputs": []
    },
    {
      "cell_type": "markdown",
      "metadata": {
        "id": "ESwC9jw6iVo7",
        "colab_type": "text"
      },
      "source": [
        "# Add other features"
      ]
    },
    {
      "cell_type": "code",
      "metadata": {
        "id": "gvfW9OVbiUdU",
        "colab_type": "code",
        "colab": {}
      },
      "source": [
        "df['timezero'] = pd.Timestamp('20170101')\n",
        "df['timedif'] = (df['Timestamp'] - df['timezero']).apply(lambda x: x.days)\n",
        "#df['timedif'].head(5)\n",
        "df['volumn'] = df['Product Width'] * df['Product Length'] * df['Product Height']"
      ],
      "execution_count": 0,
      "outputs": []
    },
    {
      "cell_type": "markdown",
      "metadata": {
        "id": "QkMl24ZLiZwP",
        "colab_type": "text"
      },
      "source": [
        "# add review text word2vec\n"
      ]
    },
    {
      "cell_type": "code",
      "metadata": {
        "id": "6AlutRKyiYUt",
        "colab_type": "code",
        "colab": {
          "base_uri": "https://localhost:8080/",
          "height": 33
        },
        "outputId": "5b36922b-ce01-479e-ef4d-d1e404954066"
      },
      "source": [
        "#!git clone https://github.com/mmihaltz/word2vec-GoogleNews-vectors.git"
      ],
      "execution_count": 47,
      "outputs": [
        {
          "output_type": "stream",
          "text": [
            "fatal: destination path 'word2vec-GoogleNews-vectors' already exists and is not an empty directory.\n"
          ],
          "name": "stdout"
        }
      ]
    },
    {
      "cell_type": "code",
      "metadata": {
        "id": "lkdMEjq7j5rU",
        "colab_type": "code",
        "colab": {
          "base_uri": "https://localhost:8080/",
          "height": 87
        },
        "outputId": "4f2a5e9e-e5d5-4507-f6d8-074f031e2613"
      },
      "source": [
        "#import gensim.downloader as api\n",
        "#wv = api.load('word2vec-google-news-300')\n",
        "#vec_king = wv['king']"
      ],
      "execution_count": 32,
      "outputs": [
        {
          "output_type": "stream",
          "text": [
            "[=================================================-] 98.5% 1637.2/1662.8MB downloaded\n"
          ],
          "name": "stdout"
        },
        {
          "output_type": "stream",
          "text": [
            "/usr/local/lib/python3.6/dist-packages/smart_open/smart_open_lib.py:253: UserWarning: This function is deprecated, use smart_open.open instead. See the migration notes for details: https://github.com/RaRe-Technologies/smart_open/blob/master/README.rst#migrating-to-the-new-open-function\n",
            "  'See the migration notes for details: %s' % _MIGRATION_NOTES_URL\n"
          ],
          "name": "stderr"
        }
      ]
    },
    {
      "cell_type": "code",
      "metadata": {
        "id": "GxDR5-_xn8mP",
        "colab_type": "code",
        "colab": {}
      },
      "source": [
        "words = pd.read_table(\"https://www.dropbox.com/s/flh1fjynqvdsj4p/lexvec.commoncrawl.300d.W.pos.vectors.gz?dl=1\", compression=\"gzip\", encoding=\"utf-8\", sep=\" \", index_col=0, header=None, skiprows=[0]).transpose()\n",
        "#words = pd.read_table(\"/content/word2vec-GoogleNews-vectors/GoogleNews-vectors-negative300.bin.gz\", compression=\"gzip\", encoding=\"utf-8\", sep=\" \", index_col=0, header=None, skiprows=[0]).transpose()"
      ],
      "execution_count": 0,
      "outputs": []
    },
    {
      "cell_type": "code",
      "metadata": {
        "id": "uMtZS5ookVgM",
        "colab_type": "code",
        "colab": {}
      },
      "source": [
        "df['text2vec'] = df['Review Text'].apply(word_vector)"
      ],
      "execution_count": 0,
      "outputs": []
    },
    {
      "cell_type": "code",
      "metadata": {
        "id": "ccCVmatLlo0C",
        "colab_type": "code",
        "colab": {
          "base_uri": "https://localhost:8080/",
          "height": 33
        },
        "outputId": "8f244542-29b3-4729-a936-d7dfe7998a83"
      },
      "source": [
        "reviewarray = np.zeros((len(df), 300))\n",
        "for i in range(len(df)):\n",
        "    reviewarray[i, :] = df['text2vec'][i]\n",
        "reviewarray.shape"
      ],
      "execution_count": 19,
      "outputs": [
        {
          "output_type": "execute_result",
          "data": {
            "text/plain": [
              "(3769, 300)"
            ]
          },
          "metadata": {
            "tags": []
          },
          "execution_count": 19
        }
      ]
    },
    {
      "cell_type": "code",
      "metadata": {
        "id": "jcElUjJKlpxp",
        "colab_type": "code",
        "colab": {}
      },
      "source": [
        "from sklearn.metrics.pairwise import cosine_similarity\n",
        "from scipy.cluster.hierarchy import dendrogram, linkage\t\n",
        "similarity_matrix = cosine_similarity(reviewarray)\n",
        "Z = linkage(similarity_matrix, 'ward')"
      ],
      "execution_count": 0,
      "outputs": []
    },
    {
      "cell_type": "code",
      "metadata": {
        "id": "g9LJ60Zqlsfi",
        "colab_type": "code",
        "colab": {
          "base_uri": "https://localhost:8080/",
          "height": 261
        },
        "outputId": "4643c4f3-9a4b-4186-c954-79b98405ce85"
      },
      "source": [
        "plt.figure(figsize=(8, 3))\n",
        "plt.title('Hierarchical Clustering Dendrogram')\n",
        "plt.xlabel('Data point')\n",
        "plt.ylabel('Distance')\n",
        "dendrogram(Z)\n",
        "plt.axhline(y=1.0, c='k', ls='--', lw=0.5)"
      ],
      "execution_count": 21,
      "outputs": [
        {
          "output_type": "execute_result",
          "data": {
            "text/plain": [
              "<matplotlib.lines.Line2D at 0x7f4bf579ae48>"
            ]
          },
          "metadata": {
            "tags": []
          },
          "execution_count": 21
        },
        {
          "output_type": "display_data",
          "data": {
            "image/png": "[encoded data removed]",
            "text/plain": [
              "<Figure size 576x216 with 1 Axes>"
            ]
          },
          "metadata": {
            "tags": [],
            "needs_background": "light"
          }
        }
      ]
    },
    {
      "cell_type": "code",
      "metadata": {
        "id": "bSDjOIdvluu5",
        "colab_type": "code",
        "colab": {
          "base_uri": "https://localhost:8080/",
          "height": 83
        },
        "outputId": "efbb9237-c690-4ee1-b1df-3902d0d3c920"
      },
      "source": [
        "from scipy.cluster.hierarchy import fcluster\n",
        "max_dist = 250.\n",
        "cluster_labels = fcluster(Z, max_dist, criterion='distance')\n",
        "w2vlabels = pd.DataFrame(cluster_labels, columns=['clusterlabelw2v'])\n",
        "catdf = pd.concat([df, w2vlabels ], axis=1)\n",
        "print(len(catdf[(catdf['Food Safety Issue']==0) & (catdf.clusterlabelw2v==1)]))\n",
        "print(len(catdf[(catdf['Food Safety Issue']==0) & (catdf.clusterlabelw2v==2)]))\n",
        "print(len(catdf[(catdf['Food Safety Issue']==1) & (catdf.clusterlabelw2v==1)]))\n",
        "print(len(catdf[(catdf['Food Safety Issue']==1) & (catdf.clusterlabelw2v==2)]))"
      ],
      "execution_count": 22,
      "outputs": [
        {
          "output_type": "stream",
          "text": [
            "335\n",
            "177\n",
            "1715\n",
            "1542\n"
          ],
          "name": "stdout"
        }
      ]
    },
    {
      "cell_type": "code",
      "metadata": {
        "id": "nj8YnRNBlyN0",
        "colab_type": "code",
        "colab": {}
      },
      "source": [
        "text_split = df['text2vec'].apply(lambda x: pd.Series([x[i] for i in range(300)]))"
      ],
      "execution_count": 0,
      "outputs": []
    },
    {
      "cell_type": "code",
      "metadata": {
        "id": "OyeSc44zlzVq",
        "colab_type": "code",
        "colab": {}
      },
      "source": [
        "text_split.rename(columns={i:'text' + str(i+1) for i in range(300)},inplace=True)"
      ],
      "execution_count": 0,
      "outputs": []
    },
    {
      "cell_type": "code",
      "metadata": {
        "id": "YrT5ffoNl0Dp",
        "colab_type": "code",
        "colab": {}
      },
      "source": [
        "df1 = pd.concat([df, w2vlabels, text_split], axis=1)"
      ],
      "execution_count": 0,
      "outputs": []
    },
    {
      "cell_type": "markdown",
      "metadata": {
        "id": "WS-nV_All2LU",
        "colab_type": "text"
      },
      "source": [
        "# add review title word2vec"
      ]
    },
    {
      "cell_type": "code",
      "metadata": {
        "id": "wag_0l3Dl0uw",
        "colab_type": "code",
        "colab": {
          "base_uri": "https://localhost:8080/",
          "height": 50
        },
        "outputId": "260cfd00-0d37-49f1-d21f-a846f5d56719"
      },
      "source": [
        "df1['title2vec'] = df1['Review Title'].apply(word_vector)"
      ],
      "execution_count": 26,
      "outputs": [
        {
          "output_type": "stream",
          "text": [
            "/usr/local/lib/python3.6/dist-packages/numpy/core/fromnumeric.py:3335: RuntimeWarning: Mean of empty slice.\n",
            "  out=out, **kwargs)\n"
          ],
          "name": "stderr"
        }
      ]
    },
    {
      "cell_type": "code",
      "metadata": {
        "id": "y7fxZEm-l3da",
        "colab_type": "code",
        "colab": {}
      },
      "source": [
        "title_split = df1['title2vec'].apply(lambda x: pd.Series([x[i] if not isinstance(x,np.float64) else np.nan for i in range(300)]))"
      ],
      "execution_count": 0,
      "outputs": []
    },
    {
      "cell_type": "code",
      "metadata": {
        "id": "VRzrFo-hl4IJ",
        "colab_type": "code",
        "colab": {}
      },
      "source": [
        "title_split.rename(columns={i:'title' + str(i+1) for i in range(300)},inplace=True)"
      ],
      "execution_count": 0,
      "outputs": []
    },
    {
      "cell_type": "code",
      "metadata": {
        "id": "zEEYgjKel41c",
        "colab_type": "code",
        "colab": {}
      },
      "source": [
        "df2 = pd.concat([df1, title_split], axis=1)"
      ],
      "execution_count": 0,
      "outputs": []
    },
    {
      "cell_type": "code",
      "metadata": {
        "id": "wrE91O6Fl5iE",
        "colab_type": "code",
        "colab": {
          "base_uri": "https://localhost:8080/",
          "height": 83
        },
        "outputId": "eea0ca51-885d-4f0d-ff10-85bcb2a36cff"
      },
      "source": [
        "df['timedif'].groupby(df['Food Safety Issue']).median()"
      ],
      "execution_count": 30,
      "outputs": [
        {
          "output_type": "execute_result",
          "data": {
            "text/plain": [
              "Food Safety Issue\n",
              "0    326\n",
              "1    330\n",
              "Name: timedif, dtype: int64"
            ]
          },
          "metadata": {
            "tags": []
          },
          "execution_count": 30
        }
      ]
    },
    {
      "cell_type": "code",
      "metadata": {
        "id": "Xl1hTbwPl6S_",
        "colab_type": "code",
        "colab": {
          "base_uri": "https://localhost:8080/",
          "height": 83
        },
        "outputId": "925b848a-32dc-49bb-9010-6848af93a9a5"
      },
      "source": [
        "df['volumn'].groupby(df['Food Safety Issue']).median()"
      ],
      "execution_count": 31,
      "outputs": [
        {
          "output_type": "execute_result",
          "data": {
            "text/plain": [
              "Food Safety Issue\n",
              "0   -1.0\n",
              "1   -1.0\n",
              "Name: volumn, dtype: float64"
            ]
          },
          "metadata": {
            "tags": []
          },
          "execution_count": 31
        }
      ]
    },
    {
      "cell_type": "markdown",
      "metadata": {
        "id": "nM4Q5elul8Kj",
        "colab_type": "text"
      },
      "source": [
        "# add bag-of-words\n"
      ]
    },
    {
      "cell_type": "code",
      "metadata": {
        "id": "TUR75oa0l7Lg",
        "colab_type": "code",
        "colab": {}
      },
      "source": [
        "def clean(s):\n",
        "    s = re.sub(r'[^a-zA-Z\\s]', '', s, re.I|re.A)\n",
        "    s = str(s).lower()\n",
        "    word_list = tokenizer.tokenize(s)\n",
        "    word_list = [word for word in word_list if not word in stop_words]\n",
        "    word_list = [lmtzr.lemmatize(word) for word in word_list]\n",
        "    return ' '.join(word_list)"
      ],
      "execution_count": 0,
      "outputs": []
    },
    {
      "cell_type": "code",
      "metadata": {
        "id": "PVkXPg2hl_FL",
        "colab_type": "code",
        "colab": {
          "base_uri": "https://localhost:8080/",
          "height": 33
        },
        "outputId": "b1b31cdc-1d85-4873-f5a7-eb6d2f37233c"
      },
      "source": [
        "from sklearn.feature_extraction.text import CountVectorizer\n",
        "cv = CountVectorizer(min_df=0., max_df=1.)\n",
        "cv_matrix = cv.fit_transform(df2['Review Text'].apply(clean))\n",
        "cv_matrix = cv_matrix.toarray()\n",
        "cv_matrix.shape"
      ],
      "execution_count": 33,
      "outputs": [
        {
          "output_type": "execute_result",
          "data": {
            "text/plain": [
              "(3769, 8653)"
            ]
          },
          "metadata": {
            "tags": []
          },
          "execution_count": 33
        }
      ]
    },
    {
      "cell_type": "code",
      "metadata": {
        "id": "apj6_LNgmBSF",
        "colab_type": "code",
        "colab": {}
      },
      "source": [
        "vocab = cv.get_feature_names()\n",
        "bow = pd.DataFrame(cv_matrix, columns=vocab)"
      ],
      "execution_count": 0,
      "outputs": []
    },
    {
      "cell_type": "markdown",
      "metadata": {
        "id": "daJxhqOcmDuk",
        "colab_type": "text"
      },
      "source": [
        "# add n-gram"
      ]
    },
    {
      "cell_type": "code",
      "metadata": {
        "id": "LNKoAVdRmCjX",
        "colab_type": "code",
        "colab": {}
      },
      "source": [
        "bv = CountVectorizer(ngram_range=(2,2))\n",
        "bv_matrix = bv.fit_transform(df2['Review Text'].apply(clean))\n",
        "bv_matrix = bv_matrix.toarray()\n",
        "vocab = bv.get_feature_names()\n",
        "bigram = pd.DataFrame(bv_matrix, columns=vocab)"
      ],
      "execution_count": 0,
      "outputs": []
    },
    {
      "cell_type": "markdown",
      "metadata": {
        "id": "ADvXCG_ymG11",
        "colab_type": "text"
      },
      "source": [
        "# add tf-idf"
      ]
    },
    {
      "cell_type": "code",
      "metadata": {
        "id": "4_WTTLh9mF74",
        "colab_type": "code",
        "colab": {}
      },
      "source": [
        "from sklearn.feature_extraction.text import TfidfVectorizer\n",
        "tv = TfidfVectorizer(min_df=0., max_df=1., use_idf=True)\n",
        "tv_matrix = tv.fit_transform(df2['Review Text'].apply(clean))\n",
        "tv_matrix = tv_matrix.toarray()\n",
        "vocab = tv.get_feature_names()\n",
        "tfidf = pd.DataFrame(np.round(tv_matrix, 2), columns=vocab)"
      ],
      "execution_count": 0,
      "outputs": []
    },
    {
      "cell_type": "markdown",
      "metadata": {
        "id": "8sig7UhqmLmS",
        "colab_type": "text"
      },
      "source": [
        "#tf-idf cluster"
      ]
    },
    {
      "cell_type": "code",
      "metadata": {
        "id": "kixh20c7mKkI",
        "colab_type": "code",
        "colab": {
          "base_uri": "https://localhost:8080/",
          "height": 427
        },
        "outputId": "4bb6c60c-0d3a-4d0a-8695-2bd87ab9c7a3"
      },
      "source": [
        "similarity_matrix = cosine_similarity(tv_matrix)\n",
        "similarity_df = pd.DataFrame(similarity_matrix)\n",
        "similarity_df"
      ],
      "execution_count": 37,
      "outputs": [
        {
          "output_type": "execute_result",
          "data": {
            "text/html": [
              "<div>\n",
              "<style scoped>\n",
              "    .dataframe tbody tr th:only-of-type {\n",
              "        vertical-align: middle;\n",
              "    }\n",
              "\n",
              "    .dataframe tbody tr th {\n",
              "        vertical-align: top;\n",
              "    }\n",
              "\n",
              "    .dataframe thead th {\n",
              "        text-align: right;\n",
              "    }\n",
              "</style>\n",
              "<table border=\"1\" class=\"dataframe\">\n",
              "  <thead>\n",
              "    <tr style=\"text-align: right;\">\n",
              "      <th></th>\n",
              "      <th>0</th>\n",
              "      <th>1</th>\n",
              "      <th>2</th>\n",
              "      <th>3</th>\n",
              "      <th>4</th>\n",
              "      <th>5</th>\n",
              "      <th>6</th>\n",
              "      <th>7</th>\n",
              "      <th>8</th>\n",
              "      <th>9</th>\n",
              "      <th>10</th>\n",
              "      <th>11</th>\n",
              "      <th>12</th>\n",
              "      <th>13</th>\n",
              "      <th>14</th>\n",
              "      <th>15</th>\n",
              "      <th>16</th>\n",
              "      <th>17</th>\n",
              "      <th>18</th>\n",
              "      <th>19</th>\n",
              "      <th>20</th>\n",
              "      <th>21</th>\n",
              "      <th>22</th>\n",
              "      <th>23</th>\n",
              "      <th>24</th>\n",
              "      <th>25</th>\n",
              "      <th>26</th>\n",
              "      <th>27</th>\n",
              "      <th>28</th>\n",
              "      <th>29</th>\n",
              "      <th>30</th>\n",
              "      <th>31</th>\n",
              "      <th>32</th>\n",
              "      <th>33</th>\n",
              "      <th>34</th>\n",
              "      <th>35</th>\n",
              "      <th>36</th>\n",
              "      <th>37</th>\n",
              "      <th>38</th>\n",
              "      <th>39</th>\n",
              "      <th>...</th>\n",
              "      <th>3729</th>\n",
              "      <th>3730</th>\n",
              "      <th>3731</th>\n",
              "      <th>3732</th>\n",
              "      <th>3733</th>\n",
              "      <th>3734</th>\n",
              "      <th>3735</th>\n",
              "      <th>3736</th>\n",
              "      <th>3737</th>\n",
              "      <th>3738</th>\n",
              "      <th>3739</th>\n",
              "      <th>3740</th>\n",
              "      <th>3741</th>\n",
              "      <th>3742</th>\n",
              "      <th>3743</th>\n",
              "      <th>3744</th>\n",
              "      <th>3745</th>\n",
              "      <th>3746</th>\n",
              "      <th>3747</th>\n",
              "      <th>3748</th>\n",
              "      <th>3749</th>\n",
              "      <th>3750</th>\n",
              "      <th>3751</th>\n",
              "      <th>3752</th>\n",
              "      <th>3753</th>\n",
              "      <th>3754</th>\n",
              "      <th>3755</th>\n",
              "      <th>3756</th>\n",
              "      <th>3757</th>\n",
              "      <th>3758</th>\n",
              "      <th>3759</th>\n",
              "      <th>3760</th>\n",
              "      <th>3761</th>\n",
              "      <th>3762</th>\n",
              "      <th>3763</th>\n",
              "      <th>3764</th>\n",
              "      <th>3765</th>\n",
              "      <th>3766</th>\n",
              "      <th>3767</th>\n",
              "      <th>3768</th>\n",
              "    </tr>\n",
              "  </thead>\n",
              "  <tbody>\n",
              "    <tr>\n",
              "      <th>0</th>\n",
              "      <td>1.000000</td>\n",
              "      <td>0.000000</td>\n",
              "      <td>0.000000</td>\n",
              "      <td>0.025378</td>\n",
              "      <td>0.000000</td>\n",
              "      <td>0.000000</td>\n",
              "      <td>0.000000</td>\n",
              "      <td>0.000000</td>\n",
              "      <td>0.000000</td>\n",
              "      <td>0.080748</td>\n",
              "      <td>0.000000</td>\n",
              "      <td>0.000000</td>\n",
              "      <td>0.000000</td>\n",
              "      <td>0.000000</td>\n",
              "      <td>0.0</td>\n",
              "      <td>0.000000</td>\n",
              "      <td>0.036895</td>\n",
              "      <td>0.075386</td>\n",
              "      <td>0.000000</td>\n",
              "      <td>0.021700</td>\n",
              "      <td>0.000000</td>\n",
              "      <td>0.000000</td>\n",
              "      <td>0.0</td>\n",
              "      <td>0.000000</td>\n",
              "      <td>0.034085</td>\n",
              "      <td>0.000000</td>\n",
              "      <td>0.000000</td>\n",
              "      <td>0.000000</td>\n",
              "      <td>0.028618</td>\n",
              "      <td>0.020092</td>\n",
              "      <td>0.000000</td>\n",
              "      <td>0.030672</td>\n",
              "      <td>0.033027</td>\n",
              "      <td>0.000000</td>\n",
              "      <td>0.000000</td>\n",
              "      <td>0.024360</td>\n",
              "      <td>0.023824</td>\n",
              "      <td>0.036154</td>\n",
              "      <td>0.000000</td>\n",
              "      <td>0.133837</td>\n",
              "      <td>...</td>\n",
              "      <td>0.086361</td>\n",
              "      <td>0.036521</td>\n",
              "      <td>0.000000</td>\n",
              "      <td>0.038339</td>\n",
              "      <td>0.000000</td>\n",
              "      <td>0.0</td>\n",
              "      <td>0.044494</td>\n",
              "      <td>0.000000</td>\n",
              "      <td>0.000000</td>\n",
              "      <td>0.000000</td>\n",
              "      <td>0.000000</td>\n",
              "      <td>0.000000</td>\n",
              "      <td>0.013606</td>\n",
              "      <td>0.000000</td>\n",
              "      <td>0.034680</td>\n",
              "      <td>0.000000</td>\n",
              "      <td>0.029323</td>\n",
              "      <td>0.000000</td>\n",
              "      <td>0.000000</td>\n",
              "      <td>0.000000</td>\n",
              "      <td>0.000000</td>\n",
              "      <td>0.089879</td>\n",
              "      <td>0.000000</td>\n",
              "      <td>0.000000</td>\n",
              "      <td>0.000000</td>\n",
              "      <td>0.000000</td>\n",
              "      <td>0.000000</td>\n",
              "      <td>0.000000</td>\n",
              "      <td>0.0</td>\n",
              "      <td>0.271559</td>\n",
              "      <td>0.027907</td>\n",
              "      <td>0.027925</td>\n",
              "      <td>0.000000</td>\n",
              "      <td>0.066535</td>\n",
              "      <td>0.000000</td>\n",
              "      <td>0.046378</td>\n",
              "      <td>0.000000</td>\n",
              "      <td>0.000000</td>\n",
              "      <td>0.000000</td>\n",
              "      <td>0.016310</td>\n",
              "    </tr>\n",
              "    <tr>\n",
              "      <th>1</th>\n",
              "      <td>0.000000</td>\n",
              "      <td>1.000000</td>\n",
              "      <td>0.000000</td>\n",
              "      <td>0.025238</td>\n",
              "      <td>0.000000</td>\n",
              "      <td>0.000000</td>\n",
              "      <td>0.046995</td>\n",
              "      <td>0.013822</td>\n",
              "      <td>0.000000</td>\n",
              "      <td>0.000000</td>\n",
              "      <td>0.030268</td>\n",
              "      <td>0.014723</td>\n",
              "      <td>0.056258</td>\n",
              "      <td>0.000000</td>\n",
              "      <td>0.0</td>\n",
              "      <td>0.000000</td>\n",
              "      <td>0.000000</td>\n",
              "      <td>0.000000</td>\n",
              "      <td>0.017298</td>\n",
              "      <td>0.000000</td>\n",
              "      <td>0.000000</td>\n",
              "      <td>0.035697</td>\n",
              "      <td>0.0</td>\n",
              "      <td>0.029488</td>\n",
              "      <td>0.000000</td>\n",
              "      <td>0.019234</td>\n",
              "      <td>0.000000</td>\n",
              "      <td>0.041220</td>\n",
              "      <td>0.066877</td>\n",
              "      <td>0.009469</td>\n",
              "      <td>0.012225</td>\n",
              "      <td>0.065225</td>\n",
              "      <td>0.000000</td>\n",
              "      <td>0.000000</td>\n",
              "      <td>0.000000</td>\n",
              "      <td>0.021954</td>\n",
              "      <td>0.000000</td>\n",
              "      <td>0.000000</td>\n",
              "      <td>0.000000</td>\n",
              "      <td>0.000000</td>\n",
              "      <td>...</td>\n",
              "      <td>0.000000</td>\n",
              "      <td>0.032914</td>\n",
              "      <td>0.015177</td>\n",
              "      <td>0.000000</td>\n",
              "      <td>0.000000</td>\n",
              "      <td>0.0</td>\n",
              "      <td>0.055279</td>\n",
              "      <td>0.016215</td>\n",
              "      <td>0.063918</td>\n",
              "      <td>0.000000</td>\n",
              "      <td>0.012674</td>\n",
              "      <td>0.024753</td>\n",
              "      <td>0.010514</td>\n",
              "      <td>0.000000</td>\n",
              "      <td>0.051507</td>\n",
              "      <td>0.052469</td>\n",
              "      <td>0.000000</td>\n",
              "      <td>0.000000</td>\n",
              "      <td>0.000000</td>\n",
              "      <td>0.013992</td>\n",
              "      <td>0.058869</td>\n",
              "      <td>0.000000</td>\n",
              "      <td>0.000000</td>\n",
              "      <td>0.022663</td>\n",
              "      <td>0.087273</td>\n",
              "      <td>0.014740</td>\n",
              "      <td>0.053614</td>\n",
              "      <td>0.000000</td>\n",
              "      <td>0.0</td>\n",
              "      <td>0.000000</td>\n",
              "      <td>0.000000</td>\n",
              "      <td>0.013160</td>\n",
              "      <td>0.036163</td>\n",
              "      <td>0.000000</td>\n",
              "      <td>0.000000</td>\n",
              "      <td>0.000000</td>\n",
              "      <td>0.042744</td>\n",
              "      <td>0.000000</td>\n",
              "      <td>0.024345</td>\n",
              "      <td>0.056884</td>\n",
              "    </tr>\n",
              "    <tr>\n",
              "      <th>2</th>\n",
              "      <td>0.000000</td>\n",
              "      <td>0.000000</td>\n",
              "      <td>1.000000</td>\n",
              "      <td>0.114552</td>\n",
              "      <td>0.000000</td>\n",
              "      <td>0.000000</td>\n",
              "      <td>0.000000</td>\n",
              "      <td>0.032535</td>\n",
              "      <td>0.000000</td>\n",
              "      <td>0.000000</td>\n",
              "      <td>0.000000</td>\n",
              "      <td>0.024404</td>\n",
              "      <td>0.045650</td>\n",
              "      <td>0.032163</td>\n",
              "      <td>0.0</td>\n",
              "      <td>0.000000</td>\n",
              "      <td>0.000000</td>\n",
              "      <td>0.000000</td>\n",
              "      <td>0.018686</td>\n",
              "      <td>0.022094</td>\n",
              "      <td>0.038428</td>\n",
              "      <td>0.037889</td>\n",
              "      <td>0.0</td>\n",
              "      <td>0.010214</td>\n",
              "      <td>0.044447</td>\n",
              "      <td>0.000000</td>\n",
              "      <td>0.000000</td>\n",
              "      <td>0.000000</td>\n",
              "      <td>0.000000</td>\n",
              "      <td>0.000000</td>\n",
              "      <td>0.015233</td>\n",
              "      <td>0.034026</td>\n",
              "      <td>0.000000</td>\n",
              "      <td>0.039574</td>\n",
              "      <td>0.000000</td>\n",
              "      <td>0.000000</td>\n",
              "      <td>0.000000</td>\n",
              "      <td>0.000000</td>\n",
              "      <td>0.000000</td>\n",
              "      <td>0.000000</td>\n",
              "      <td>...</td>\n",
              "      <td>0.000000</td>\n",
              "      <td>0.000000</td>\n",
              "      <td>0.000000</td>\n",
              "      <td>0.000000</td>\n",
              "      <td>0.078712</td>\n",
              "      <td>0.0</td>\n",
              "      <td>0.000000</td>\n",
              "      <td>0.017876</td>\n",
              "      <td>0.000000</td>\n",
              "      <td>0.000000</td>\n",
              "      <td>0.000000</td>\n",
              "      <td>0.173475</td>\n",
              "      <td>0.017743</td>\n",
              "      <td>0.000000</td>\n",
              "      <td>0.044706</td>\n",
              "      <td>0.000000</td>\n",
              "      <td>0.038237</td>\n",
              "      <td>0.000000</td>\n",
              "      <td>0.045711</td>\n",
              "      <td>0.000000</td>\n",
              "      <td>0.000000</td>\n",
              "      <td>0.000000</td>\n",
              "      <td>0.042237</td>\n",
              "      <td>0.026988</td>\n",
              "      <td>0.000000</td>\n",
              "      <td>0.040113</td>\n",
              "      <td>0.000000</td>\n",
              "      <td>0.000000</td>\n",
              "      <td>0.0</td>\n",
              "      <td>0.000000</td>\n",
              "      <td>0.067350</td>\n",
              "      <td>0.000000</td>\n",
              "      <td>0.068122</td>\n",
              "      <td>0.000000</td>\n",
              "      <td>0.000000</td>\n",
              "      <td>0.000000</td>\n",
              "      <td>0.000000</td>\n",
              "      <td>0.000000</td>\n",
              "      <td>0.000000</td>\n",
              "      <td>0.000000</td>\n",
              "    </tr>\n",
              "    <tr>\n",
              "      <th>3</th>\n",
              "      <td>0.025378</td>\n",
              "      <td>0.025238</td>\n",
              "      <td>0.114552</td>\n",
              "      <td>1.000000</td>\n",
              "      <td>0.000000</td>\n",
              "      <td>0.000000</td>\n",
              "      <td>0.000000</td>\n",
              "      <td>0.031776</td>\n",
              "      <td>0.000000</td>\n",
              "      <td>0.027788</td>\n",
              "      <td>0.057636</td>\n",
              "      <td>0.044986</td>\n",
              "      <td>0.011375</td>\n",
              "      <td>0.000000</td>\n",
              "      <td>0.0</td>\n",
              "      <td>0.000000</td>\n",
              "      <td>0.012697</td>\n",
              "      <td>0.025943</td>\n",
              "      <td>0.000000</td>\n",
              "      <td>0.007468</td>\n",
              "      <td>0.000000</td>\n",
              "      <td>0.017010</td>\n",
              "      <td>0.0</td>\n",
              "      <td>0.000000</td>\n",
              "      <td>0.011730</td>\n",
              "      <td>0.000000</td>\n",
              "      <td>0.000000</td>\n",
              "      <td>0.000000</td>\n",
              "      <td>0.009849</td>\n",
              "      <td>0.006914</td>\n",
              "      <td>0.000000</td>\n",
              "      <td>0.043787</td>\n",
              "      <td>0.011366</td>\n",
              "      <td>0.038650</td>\n",
              "      <td>0.000000</td>\n",
              "      <td>0.008383</td>\n",
              "      <td>0.008199</td>\n",
              "      <td>0.055790</td>\n",
              "      <td>0.000000</td>\n",
              "      <td>0.046059</td>\n",
              "      <td>...</td>\n",
              "      <td>0.029720</td>\n",
              "      <td>0.056355</td>\n",
              "      <td>0.000000</td>\n",
              "      <td>0.013194</td>\n",
              "      <td>0.000000</td>\n",
              "      <td>0.0</td>\n",
              "      <td>0.015312</td>\n",
              "      <td>0.017459</td>\n",
              "      <td>0.000000</td>\n",
              "      <td>0.000000</td>\n",
              "      <td>0.000000</td>\n",
              "      <td>0.026651</td>\n",
              "      <td>0.004682</td>\n",
              "      <td>0.000000</td>\n",
              "      <td>0.011935</td>\n",
              "      <td>0.000000</td>\n",
              "      <td>0.010091</td>\n",
              "      <td>0.000000</td>\n",
              "      <td>0.000000</td>\n",
              "      <td>0.000000</td>\n",
              "      <td>0.000000</td>\n",
              "      <td>0.030931</td>\n",
              "      <td>0.041251</td>\n",
              "      <td>0.000000</td>\n",
              "      <td>0.000000</td>\n",
              "      <td>0.056284</td>\n",
              "      <td>0.036715</td>\n",
              "      <td>0.000000</td>\n",
              "      <td>0.0</td>\n",
              "      <td>0.093454</td>\n",
              "      <td>0.039840</td>\n",
              "      <td>0.009610</td>\n",
              "      <td>0.030583</td>\n",
              "      <td>0.022897</td>\n",
              "      <td>0.000000</td>\n",
              "      <td>0.071567</td>\n",
              "      <td>0.000000</td>\n",
              "      <td>0.000000</td>\n",
              "      <td>0.000000</td>\n",
              "      <td>0.005613</td>\n",
              "    </tr>\n",
              "    <tr>\n",
              "      <th>4</th>\n",
              "      <td>0.000000</td>\n",
              "      <td>0.000000</td>\n",
              "      <td>0.000000</td>\n",
              "      <td>0.000000</td>\n",
              "      <td>1.000000</td>\n",
              "      <td>0.156748</td>\n",
              "      <td>0.000000</td>\n",
              "      <td>0.000000</td>\n",
              "      <td>0.034516</td>\n",
              "      <td>0.050764</td>\n",
              "      <td>0.000000</td>\n",
              "      <td>0.010538</td>\n",
              "      <td>0.112708</td>\n",
              "      <td>0.015507</td>\n",
              "      <td>0.0</td>\n",
              "      <td>0.000000</td>\n",
              "      <td>0.074308</td>\n",
              "      <td>0.000000</td>\n",
              "      <td>0.140053</td>\n",
              "      <td>0.027943</td>\n",
              "      <td>0.025875</td>\n",
              "      <td>0.126389</td>\n",
              "      <td>0.0</td>\n",
              "      <td>0.058458</td>\n",
              "      <td>0.026087</td>\n",
              "      <td>0.018882</td>\n",
              "      <td>0.011934</td>\n",
              "      <td>0.014783</td>\n",
              "      <td>0.000000</td>\n",
              "      <td>0.000000</td>\n",
              "      <td>0.016962</td>\n",
              "      <td>0.040310</td>\n",
              "      <td>0.000000</td>\n",
              "      <td>0.056524</td>\n",
              "      <td>0.029596</td>\n",
              "      <td>0.050096</td>\n",
              "      <td>0.010958</td>\n",
              "      <td>0.000000</td>\n",
              "      <td>0.000000</td>\n",
              "      <td>0.000000</td>\n",
              "      <td>...</td>\n",
              "      <td>0.000000</td>\n",
              "      <td>0.000000</td>\n",
              "      <td>0.013445</td>\n",
              "      <td>0.000000</td>\n",
              "      <td>0.040599</td>\n",
              "      <td>0.0</td>\n",
              "      <td>0.119648</td>\n",
              "      <td>0.010130</td>\n",
              "      <td>0.018710</td>\n",
              "      <td>0.042519</td>\n",
              "      <td>0.008931</td>\n",
              "      <td>0.000000</td>\n",
              "      <td>0.045455</td>\n",
              "      <td>0.009166</td>\n",
              "      <td>0.027102</td>\n",
              "      <td>0.000000</td>\n",
              "      <td>0.000000</td>\n",
              "      <td>0.114169</td>\n",
              "      <td>0.019236</td>\n",
              "      <td>0.027221</td>\n",
              "      <td>0.042531</td>\n",
              "      <td>0.000000</td>\n",
              "      <td>0.072962</td>\n",
              "      <td>0.008171</td>\n",
              "      <td>0.000000</td>\n",
              "      <td>0.045699</td>\n",
              "      <td>0.000000</td>\n",
              "      <td>0.017417</td>\n",
              "      <td>0.0</td>\n",
              "      <td>0.000000</td>\n",
              "      <td>0.021359</td>\n",
              "      <td>0.022291</td>\n",
              "      <td>0.017926</td>\n",
              "      <td>0.000000</td>\n",
              "      <td>0.000000</td>\n",
              "      <td>0.000000</td>\n",
              "      <td>0.052962</td>\n",
              "      <td>0.051536</td>\n",
              "      <td>0.000000</td>\n",
              "      <td>0.018612</td>\n",
              "    </tr>\n",
              "    <tr>\n",
              "      <th>...</th>\n",
              "      <td>...</td>\n",
              "      <td>...</td>\n",
              "      <td>...</td>\n",
              "      <td>...</td>\n",
              "      <td>...</td>\n",
              "      <td>...</td>\n",
              "      <td>...</td>\n",
              "      <td>...</td>\n",
              "      <td>...</td>\n",
              "      <td>...</td>\n",
              "      <td>...</td>\n",
              "      <td>...</td>\n",
              "      <td>...</td>\n",
              "      <td>...</td>\n",
              "      <td>...</td>\n",
              "      <td>...</td>\n",
              "      <td>...</td>\n",
              "      <td>...</td>\n",
              "      <td>...</td>\n",
              "      <td>...</td>\n",
              "      <td>...</td>\n",
              "      <td>...</td>\n",
              "      <td>...</td>\n",
              "      <td>...</td>\n",
              "      <td>...</td>\n",
              "      <td>...</td>\n",
              "      <td>...</td>\n",
              "      <td>...</td>\n",
              "      <td>...</td>\n",
              "      <td>...</td>\n",
              "      <td>...</td>\n",
              "      <td>...</td>\n",
              "      <td>...</td>\n",
              "      <td>...</td>\n",
              "      <td>...</td>\n",
              "      <td>...</td>\n",
              "      <td>...</td>\n",
              "      <td>...</td>\n",
              "      <td>...</td>\n",
              "      <td>...</td>\n",
              "      <td>...</td>\n",
              "      <td>...</td>\n",
              "      <td>...</td>\n",
              "      <td>...</td>\n",
              "      <td>...</td>\n",
              "      <td>...</td>\n",
              "      <td>...</td>\n",
              "      <td>...</td>\n",
              "      <td>...</td>\n",
              "      <td>...</td>\n",
              "      <td>...</td>\n",
              "      <td>...</td>\n",
              "      <td>...</td>\n",
              "      <td>...</td>\n",
              "      <td>...</td>\n",
              "      <td>...</td>\n",
              "      <td>...</td>\n",
              "      <td>...</td>\n",
              "      <td>...</td>\n",
              "      <td>...</td>\n",
              "      <td>...</td>\n",
              "      <td>...</td>\n",
              "      <td>...</td>\n",
              "      <td>...</td>\n",
              "      <td>...</td>\n",
              "      <td>...</td>\n",
              "      <td>...</td>\n",
              "      <td>...</td>\n",
              "      <td>...</td>\n",
              "      <td>...</td>\n",
              "      <td>...</td>\n",
              "      <td>...</td>\n",
              "      <td>...</td>\n",
              "      <td>...</td>\n",
              "      <td>...</td>\n",
              "      <td>...</td>\n",
              "      <td>...</td>\n",
              "      <td>...</td>\n",
              "      <td>...</td>\n",
              "      <td>...</td>\n",
              "      <td>...</td>\n",
              "    </tr>\n",
              "    <tr>\n",
              "      <th>3764</th>\n",
              "      <td>0.046378</td>\n",
              "      <td>0.000000</td>\n",
              "      <td>0.000000</td>\n",
              "      <td>0.071567</td>\n",
              "      <td>0.000000</td>\n",
              "      <td>0.000000</td>\n",
              "      <td>0.000000</td>\n",
              "      <td>0.000000</td>\n",
              "      <td>0.000000</td>\n",
              "      <td>0.050782</td>\n",
              "      <td>0.000000</td>\n",
              "      <td>0.000000</td>\n",
              "      <td>0.000000</td>\n",
              "      <td>0.000000</td>\n",
              "      <td>0.0</td>\n",
              "      <td>0.000000</td>\n",
              "      <td>0.023203</td>\n",
              "      <td>0.047410</td>\n",
              "      <td>0.000000</td>\n",
              "      <td>0.013647</td>\n",
              "      <td>0.000000</td>\n",
              "      <td>0.000000</td>\n",
              "      <td>0.0</td>\n",
              "      <td>0.000000</td>\n",
              "      <td>0.021436</td>\n",
              "      <td>0.000000</td>\n",
              "      <td>0.000000</td>\n",
              "      <td>0.000000</td>\n",
              "      <td>0.017998</td>\n",
              "      <td>0.012636</td>\n",
              "      <td>0.000000</td>\n",
              "      <td>0.019289</td>\n",
              "      <td>0.020771</td>\n",
              "      <td>0.000000</td>\n",
              "      <td>0.000000</td>\n",
              "      <td>0.015320</td>\n",
              "      <td>0.014983</td>\n",
              "      <td>0.101954</td>\n",
              "      <td>0.000000</td>\n",
              "      <td>0.084170</td>\n",
              "      <td>...</td>\n",
              "      <td>0.054312</td>\n",
              "      <td>0.102987</td>\n",
              "      <td>0.000000</td>\n",
              "      <td>0.024111</td>\n",
              "      <td>0.000000</td>\n",
              "      <td>0.0</td>\n",
              "      <td>0.027982</td>\n",
              "      <td>0.000000</td>\n",
              "      <td>0.000000</td>\n",
              "      <td>0.000000</td>\n",
              "      <td>0.000000</td>\n",
              "      <td>0.000000</td>\n",
              "      <td>0.008557</td>\n",
              "      <td>0.000000</td>\n",
              "      <td>0.021810</td>\n",
              "      <td>0.000000</td>\n",
              "      <td>0.018441</td>\n",
              "      <td>0.000000</td>\n",
              "      <td>0.000000</td>\n",
              "      <td>0.000000</td>\n",
              "      <td>0.000000</td>\n",
              "      <td>0.056525</td>\n",
              "      <td>0.000000</td>\n",
              "      <td>0.000000</td>\n",
              "      <td>0.000000</td>\n",
              "      <td>0.000000</td>\n",
              "      <td>0.000000</td>\n",
              "      <td>0.000000</td>\n",
              "      <td>0.0</td>\n",
              "      <td>0.170784</td>\n",
              "      <td>0.017551</td>\n",
              "      <td>0.017562</td>\n",
              "      <td>0.000000</td>\n",
              "      <td>0.041844</td>\n",
              "      <td>0.000000</td>\n",
              "      <td>1.000000</td>\n",
              "      <td>0.000000</td>\n",
              "      <td>0.000000</td>\n",
              "      <td>0.000000</td>\n",
              "      <td>0.010257</td>\n",
              "    </tr>\n",
              "    <tr>\n",
              "      <th>3765</th>\n",
              "      <td>0.000000</td>\n",
              "      <td>0.042744</td>\n",
              "      <td>0.000000</td>\n",
              "      <td>0.000000</td>\n",
              "      <td>0.052962</td>\n",
              "      <td>0.000000</td>\n",
              "      <td>0.000000</td>\n",
              "      <td>0.000000</td>\n",
              "      <td>0.000000</td>\n",
              "      <td>0.000000</td>\n",
              "      <td>0.000000</td>\n",
              "      <td>0.031401</td>\n",
              "      <td>0.106941</td>\n",
              "      <td>0.029991</td>\n",
              "      <td>0.0</td>\n",
              "      <td>0.000000</td>\n",
              "      <td>0.032078</td>\n",
              "      <td>0.000000</td>\n",
              "      <td>0.000000</td>\n",
              "      <td>0.037635</td>\n",
              "      <td>0.000000</td>\n",
              "      <td>0.075944</td>\n",
              "      <td>0.0</td>\n",
              "      <td>0.020430</td>\n",
              "      <td>0.000000</td>\n",
              "      <td>0.000000</td>\n",
              "      <td>0.000000</td>\n",
              "      <td>0.000000</td>\n",
              "      <td>0.000000</td>\n",
              "      <td>0.000000</td>\n",
              "      <td>0.056143</td>\n",
              "      <td>0.053195</td>\n",
              "      <td>0.000000</td>\n",
              "      <td>0.000000</td>\n",
              "      <td>0.000000</td>\n",
              "      <td>0.042248</td>\n",
              "      <td>0.000000</td>\n",
              "      <td>0.000000</td>\n",
              "      <td>0.000000</td>\n",
              "      <td>0.000000</td>\n",
              "      <td>...</td>\n",
              "      <td>0.000000</td>\n",
              "      <td>0.000000</td>\n",
              "      <td>0.028000</td>\n",
              "      <td>0.000000</td>\n",
              "      <td>0.000000</td>\n",
              "      <td>0.0</td>\n",
              "      <td>0.103524</td>\n",
              "      <td>0.000000</td>\n",
              "      <td>0.033605</td>\n",
              "      <td>0.046345</td>\n",
              "      <td>0.041488</td>\n",
              "      <td>0.000000</td>\n",
              "      <td>0.000000</td>\n",
              "      <td>0.000000</td>\n",
              "      <td>0.036160</td>\n",
              "      <td>0.000000</td>\n",
              "      <td>0.000000</td>\n",
              "      <td>0.000000</td>\n",
              "      <td>0.036829</td>\n",
              "      <td>0.036101</td>\n",
              "      <td>0.013205</td>\n",
              "      <td>0.000000</td>\n",
              "      <td>0.000000</td>\n",
              "      <td>0.000000</td>\n",
              "      <td>0.151956</td>\n",
              "      <td>0.000000</td>\n",
              "      <td>0.036889</td>\n",
              "      <td>0.000000</td>\n",
              "      <td>0.0</td>\n",
              "      <td>0.000000</td>\n",
              "      <td>0.000000</td>\n",
              "      <td>0.000000</td>\n",
              "      <td>0.000000</td>\n",
              "      <td>0.000000</td>\n",
              "      <td>0.000000</td>\n",
              "      <td>0.000000</td>\n",
              "      <td>1.000000</td>\n",
              "      <td>0.000000</td>\n",
              "      <td>0.030331</td>\n",
              "      <td>0.033429</td>\n",
              "    </tr>\n",
              "    <tr>\n",
              "      <th>3766</th>\n",
              "      <td>0.000000</td>\n",
              "      <td>0.000000</td>\n",
              "      <td>0.000000</td>\n",
              "      <td>0.000000</td>\n",
              "      <td>0.051536</td>\n",
              "      <td>0.000000</td>\n",
              "      <td>0.000000</td>\n",
              "      <td>0.062722</td>\n",
              "      <td>0.000000</td>\n",
              "      <td>0.000000</td>\n",
              "      <td>0.000000</td>\n",
              "      <td>0.005743</td>\n",
              "      <td>0.015846</td>\n",
              "      <td>0.000000</td>\n",
              "      <td>0.0</td>\n",
              "      <td>0.000000</td>\n",
              "      <td>0.041409</td>\n",
              "      <td>0.170250</td>\n",
              "      <td>0.000000</td>\n",
              "      <td>0.000000</td>\n",
              "      <td>0.000000</td>\n",
              "      <td>0.063926</td>\n",
              "      <td>0.0</td>\n",
              "      <td>0.020510</td>\n",
              "      <td>0.028730</td>\n",
              "      <td>0.000000</td>\n",
              "      <td>0.031816</td>\n",
              "      <td>0.064480</td>\n",
              "      <td>0.000000</td>\n",
              "      <td>0.022550</td>\n",
              "      <td>0.077379</td>\n",
              "      <td>0.000000</td>\n",
              "      <td>0.000000</td>\n",
              "      <td>0.000000</td>\n",
              "      <td>0.000000</td>\n",
              "      <td>0.000000</td>\n",
              "      <td>0.000000</td>\n",
              "      <td>0.000000</td>\n",
              "      <td>0.020314</td>\n",
              "      <td>0.000000</td>\n",
              "      <td>...</td>\n",
              "      <td>0.000000</td>\n",
              "      <td>0.000000</td>\n",
              "      <td>0.000000</td>\n",
              "      <td>0.086584</td>\n",
              "      <td>0.020958</td>\n",
              "      <td>0.0</td>\n",
              "      <td>0.000000</td>\n",
              "      <td>0.019760</td>\n",
              "      <td>0.000000</td>\n",
              "      <td>0.065326</td>\n",
              "      <td>0.136042</td>\n",
              "      <td>0.000000</td>\n",
              "      <td>0.000000</td>\n",
              "      <td>0.066007</td>\n",
              "      <td>0.160302</td>\n",
              "      <td>0.000000</td>\n",
              "      <td>0.000000</td>\n",
              "      <td>0.027296</td>\n",
              "      <td>0.024266</td>\n",
              "      <td>0.073322</td>\n",
              "      <td>0.012168</td>\n",
              "      <td>0.000000</td>\n",
              "      <td>0.000000</td>\n",
              "      <td>0.024224</td>\n",
              "      <td>0.000000</td>\n",
              "      <td>0.036465</td>\n",
              "      <td>0.000000</td>\n",
              "      <td>0.034745</td>\n",
              "      <td>0.0</td>\n",
              "      <td>0.000000</td>\n",
              "      <td>0.000000</td>\n",
              "      <td>0.014190</td>\n",
              "      <td>0.022614</td>\n",
              "      <td>0.056081</td>\n",
              "      <td>0.000000</td>\n",
              "      <td>0.000000</td>\n",
              "      <td>0.000000</td>\n",
              "      <td>1.000000</td>\n",
              "      <td>0.000000</td>\n",
              "      <td>0.036834</td>\n",
              "    </tr>\n",
              "    <tr>\n",
              "      <th>3767</th>\n",
              "      <td>0.000000</td>\n",
              "      <td>0.024345</td>\n",
              "      <td>0.000000</td>\n",
              "      <td>0.000000</td>\n",
              "      <td>0.000000</td>\n",
              "      <td>0.084667</td>\n",
              "      <td>0.011772</td>\n",
              "      <td>0.008266</td>\n",
              "      <td>0.000000</td>\n",
              "      <td>0.000000</td>\n",
              "      <td>0.000000</td>\n",
              "      <td>0.006184</td>\n",
              "      <td>0.061776</td>\n",
              "      <td>0.021066</td>\n",
              "      <td>0.0</td>\n",
              "      <td>0.000000</td>\n",
              "      <td>0.000000</td>\n",
              "      <td>0.000000</td>\n",
              "      <td>0.010345</td>\n",
              "      <td>0.000000</td>\n",
              "      <td>0.000000</td>\n",
              "      <td>0.021835</td>\n",
              "      <td>0.0</td>\n",
              "      <td>0.006936</td>\n",
              "      <td>0.000000</td>\n",
              "      <td>0.012768</td>\n",
              "      <td>0.000000</td>\n",
              "      <td>0.000000</td>\n",
              "      <td>0.016374</td>\n",
              "      <td>0.005663</td>\n",
              "      <td>0.042279</td>\n",
              "      <td>0.000000</td>\n",
              "      <td>0.000000</td>\n",
              "      <td>0.000000</td>\n",
              "      <td>0.000000</td>\n",
              "      <td>0.024159</td>\n",
              "      <td>0.000000</td>\n",
              "      <td>0.000000</td>\n",
              "      <td>0.118952</td>\n",
              "      <td>0.000000</td>\n",
              "      <td>...</td>\n",
              "      <td>0.000000</td>\n",
              "      <td>0.000000</td>\n",
              "      <td>0.009077</td>\n",
              "      <td>0.000000</td>\n",
              "      <td>0.026557</td>\n",
              "      <td>0.0</td>\n",
              "      <td>0.000000</td>\n",
              "      <td>0.000000</td>\n",
              "      <td>0.000000</td>\n",
              "      <td>0.032553</td>\n",
              "      <td>0.027108</td>\n",
              "      <td>0.000000</td>\n",
              "      <td>0.000000</td>\n",
              "      <td>0.000000</td>\n",
              "      <td>0.014809</td>\n",
              "      <td>0.031379</td>\n",
              "      <td>0.000000</td>\n",
              "      <td>0.000000</td>\n",
              "      <td>0.025869</td>\n",
              "      <td>0.071758</td>\n",
              "      <td>0.013449</td>\n",
              "      <td>0.048247</td>\n",
              "      <td>0.000000</td>\n",
              "      <td>0.092766</td>\n",
              "      <td>0.057892</td>\n",
              "      <td>0.000000</td>\n",
              "      <td>0.025911</td>\n",
              "      <td>0.032207</td>\n",
              "      <td>0.0</td>\n",
              "      <td>0.000000</td>\n",
              "      <td>0.030947</td>\n",
              "      <td>0.007871</td>\n",
              "      <td>0.000000</td>\n",
              "      <td>0.000000</td>\n",
              "      <td>0.000000</td>\n",
              "      <td>0.000000</td>\n",
              "      <td>0.030331</td>\n",
              "      <td>0.000000</td>\n",
              "      <td>1.000000</td>\n",
              "      <td>0.000000</td>\n",
              "    </tr>\n",
              "    <tr>\n",
              "      <th>3768</th>\n",
              "      <td>0.016310</td>\n",
              "      <td>0.056884</td>\n",
              "      <td>0.000000</td>\n",
              "      <td>0.005613</td>\n",
              "      <td>0.018612</td>\n",
              "      <td>0.000000</td>\n",
              "      <td>0.054796</td>\n",
              "      <td>0.000000</td>\n",
              "      <td>0.000000</td>\n",
              "      <td>0.017859</td>\n",
              "      <td>0.000000</td>\n",
              "      <td>0.041697</td>\n",
              "      <td>0.010604</td>\n",
              "      <td>0.000000</td>\n",
              "      <td>0.0</td>\n",
              "      <td>0.077003</td>\n",
              "      <td>0.008160</td>\n",
              "      <td>0.059700</td>\n",
              "      <td>0.000000</td>\n",
              "      <td>0.004799</td>\n",
              "      <td>0.000000</td>\n",
              "      <td>0.076041</td>\n",
              "      <td>0.0</td>\n",
              "      <td>0.050715</td>\n",
              "      <td>0.007539</td>\n",
              "      <td>0.000000</td>\n",
              "      <td>0.000000</td>\n",
              "      <td>0.000000</td>\n",
              "      <td>0.046737</td>\n",
              "      <td>0.004444</td>\n",
              "      <td>0.071489</td>\n",
              "      <td>0.006784</td>\n",
              "      <td>0.007305</td>\n",
              "      <td>0.062564</td>\n",
              "      <td>0.000000</td>\n",
              "      <td>0.005388</td>\n",
              "      <td>0.005269</td>\n",
              "      <td>0.007996</td>\n",
              "      <td>0.000000</td>\n",
              "      <td>0.029601</td>\n",
              "      <td>...</td>\n",
              "      <td>0.019100</td>\n",
              "      <td>0.008077</td>\n",
              "      <td>0.000000</td>\n",
              "      <td>0.079310</td>\n",
              "      <td>0.000000</td>\n",
              "      <td>0.0</td>\n",
              "      <td>0.089973</td>\n",
              "      <td>0.000000</td>\n",
              "      <td>0.033328</td>\n",
              "      <td>0.000000</td>\n",
              "      <td>0.120887</td>\n",
              "      <td>0.000000</td>\n",
              "      <td>0.003009</td>\n",
              "      <td>0.000000</td>\n",
              "      <td>0.037361</td>\n",
              "      <td>0.000000</td>\n",
              "      <td>0.006485</td>\n",
              "      <td>0.000000</td>\n",
              "      <td>0.000000</td>\n",
              "      <td>0.000000</td>\n",
              "      <td>0.000000</td>\n",
              "      <td>0.019878</td>\n",
              "      <td>0.000000</td>\n",
              "      <td>0.013167</td>\n",
              "      <td>0.019725</td>\n",
              "      <td>0.000000</td>\n",
              "      <td>0.000000</td>\n",
              "      <td>0.008781</td>\n",
              "      <td>0.0</td>\n",
              "      <td>0.060060</td>\n",
              "      <td>0.154671</td>\n",
              "      <td>0.024002</td>\n",
              "      <td>0.000000</td>\n",
              "      <td>0.014715</td>\n",
              "      <td>0.115588</td>\n",
              "      <td>0.010257</td>\n",
              "      <td>0.033429</td>\n",
              "      <td>0.036834</td>\n",
              "      <td>0.000000</td>\n",
              "      <td>1.000000</td>\n",
              "    </tr>\n",
              "  </tbody>\n",
              "</table>\n",
              "<p>3769 rows × 3769 columns</p>\n",
              "</div>"
            ],
            "text/plain": [
              "          0         1         2     ...      3766      3767      3768\n",
              "0     1.000000  0.000000  0.000000  ...  0.000000  0.000000  0.016310\n",
              "1     0.000000  1.000000  0.000000  ...  0.000000  0.024345  0.056884\n",
              "2     0.000000  0.000000  1.000000  ...  0.000000  0.000000  0.000000\n",
              "3     0.025378  0.025238  0.114552  ...  0.000000  0.000000  0.005613\n",
              "4     0.000000  0.000000  0.000000  ...  0.051536  0.000000  0.018612\n",
              "...        ...       ...       ...  ...       ...       ...       ...\n",
              "3764  0.046378  0.000000  0.000000  ...  0.000000  0.000000  0.010257\n",
              "3765  0.000000  0.042744  0.000000  ...  0.000000  0.030331  0.033429\n",
              "3766  0.000000  0.000000  0.000000  ...  1.000000  0.000000  0.036834\n",
              "3767  0.000000  0.024345  0.000000  ...  0.000000  1.000000  0.000000\n",
              "3768  0.016310  0.056884  0.000000  ...  0.036834  0.000000  1.000000\n",
              "\n",
              "[3769 rows x 3769 columns]"
            ]
          },
          "metadata": {
            "tags": []
          },
          "execution_count": 37
        }
      ]
    },
    {
      "cell_type": "code",
      "metadata": {
        "id": "q6cTEA_MmNqj",
        "colab_type": "code",
        "colab": {
          "base_uri": "https://localhost:8080/",
          "height": 407
        },
        "outputId": "62df106d-59a7-412d-876d-0800a1008289"
      },
      "source": [
        "Z = linkage(similarity_matrix, 'ward')\n",
        "pd.DataFrame(Z, columns=['Document\\Cluster 1', 'Document\\Cluster 2', 'Distance', 'Cluster Size'], dtype='object')"
      ],
      "execution_count": 38,
      "outputs": [
        {
          "output_type": "execute_result",
          "data": {
            "text/html": [
              "<div>\n",
              "<style scoped>\n",
              "    .dataframe tbody tr th:only-of-type {\n",
              "        vertical-align: middle;\n",
              "    }\n",
              "\n",
              "    .dataframe tbody tr th {\n",
              "        vertical-align: top;\n",
              "    }\n",
              "\n",
              "    .dataframe thead th {\n",
              "        text-align: right;\n",
              "    }\n",
              "</style>\n",
              "<table border=\"1\" class=\"dataframe\">\n",
              "  <thead>\n",
              "    <tr style=\"text-align: right;\">\n",
              "      <th></th>\n",
              "      <th>Document\\Cluster 1</th>\n",
              "      <th>Document\\Cluster 2</th>\n",
              "      <th>Distance</th>\n",
              "      <th>Cluster Size</th>\n",
              "    </tr>\n",
              "  </thead>\n",
              "  <tbody>\n",
              "    <tr>\n",
              "      <th>0</th>\n",
              "      <td>810</td>\n",
              "      <td>2091</td>\n",
              "      <td>0</td>\n",
              "      <td>2</td>\n",
              "    </tr>\n",
              "    <tr>\n",
              "      <th>1</th>\n",
              "      <td>490</td>\n",
              "      <td>2584</td>\n",
              "      <td>0</td>\n",
              "      <td>2</td>\n",
              "    </tr>\n",
              "    <tr>\n",
              "      <th>2</th>\n",
              "      <td>68</td>\n",
              "      <td>2496</td>\n",
              "      <td>0</td>\n",
              "      <td>2</td>\n",
              "    </tr>\n",
              "    <tr>\n",
              "      <th>3</th>\n",
              "      <td>2344</td>\n",
              "      <td>2564</td>\n",
              "      <td>0</td>\n",
              "      <td>2</td>\n",
              "    </tr>\n",
              "    <tr>\n",
              "      <th>4</th>\n",
              "      <td>39</td>\n",
              "      <td>1162</td>\n",
              "      <td>0</td>\n",
              "      <td>2</td>\n",
              "    </tr>\n",
              "    <tr>\n",
              "      <th>...</th>\n",
              "      <td>...</td>\n",
              "      <td>...</td>\n",
              "      <td>...</td>\n",
              "      <td>...</td>\n",
              "    </tr>\n",
              "    <tr>\n",
              "      <th>3763</th>\n",
              "      <td>7527</td>\n",
              "      <td>7531</td>\n",
              "      <td>23.1005</td>\n",
              "      <td>2450</td>\n",
              "    </tr>\n",
              "    <tr>\n",
              "      <th>3764</th>\n",
              "      <td>7498</td>\n",
              "      <td>7532</td>\n",
              "      <td>30.0156</td>\n",
              "      <td>2586</td>\n",
              "    </tr>\n",
              "    <tr>\n",
              "      <th>3765</th>\n",
              "      <td>7524</td>\n",
              "      <td>7530</td>\n",
              "      <td>47.6067</td>\n",
              "      <td>1130</td>\n",
              "    </tr>\n",
              "    <tr>\n",
              "      <th>3766</th>\n",
              "      <td>7533</td>\n",
              "      <td>7534</td>\n",
              "      <td>70.6721</td>\n",
              "      <td>3716</td>\n",
              "    </tr>\n",
              "    <tr>\n",
              "      <th>3767</th>\n",
              "      <td>3898</td>\n",
              "      <td>7535</td>\n",
              "      <td>95.4491</td>\n",
              "      <td>3769</td>\n",
              "    </tr>\n",
              "  </tbody>\n",
              "</table>\n",
              "<p>3768 rows × 4 columns</p>\n",
              "</div>"
            ],
            "text/plain": [
              "     Document\\Cluster 1 Document\\Cluster 2 Distance Cluster Size\n",
              "0                   810               2091        0            2\n",
              "1                   490               2584        0            2\n",
              "2                    68               2496        0            2\n",
              "3                  2344               2564        0            2\n",
              "4                    39               1162        0            2\n",
              "...                 ...                ...      ...          ...\n",
              "3763               7527               7531  23.1005         2450\n",
              "3764               7498               7532  30.0156         2586\n",
              "3765               7524               7530  47.6067         1130\n",
              "3766               7533               7534  70.6721         3716\n",
              "3767               3898               7535  95.4491         3769\n",
              "\n",
              "[3768 rows x 4 columns]"
            ]
          },
          "metadata": {
            "tags": []
          },
          "execution_count": 38
        }
      ]
    },
    {
      "cell_type": "code",
      "metadata": {
        "id": "mbL4cdFjmQs_",
        "colab_type": "code",
        "colab": {
          "base_uri": "https://localhost:8080/",
          "height": 261
        },
        "outputId": "0868d92a-37c3-4dd9-c7b1-87036a8c044f"
      },
      "source": [
        "plt.figure(figsize=(8, 3))\n",
        "plt.title('Hierarchical Clustering Dendrogram')\n",
        "plt.xlabel('Data point')\n",
        "plt.ylabel('Distance')\n",
        "dendrogram(Z)\n",
        "plt.axhline(y=1.0, c='k', ls='--', lw=0.5)"
      ],
      "execution_count": 39,
      "outputs": [
        {
          "output_type": "execute_result",
          "data": {
            "text/plain": [
              "<matplotlib.lines.Line2D at 0x7f495fea3ac8>"
            ]
          },
          "metadata": {
            "tags": []
          },
          "execution_count": 39
        },
        {
          "output_type": "display_data",
          "data": {
            "image/png": "[encoded data removed]",
            "text/plain": [
              "<Figure size 576x216 with 1 Axes>"
            ]
          },
          "metadata": {
            "tags": [],
            "needs_background": "light"
          }
        }
      ]
    },
    {
      "cell_type": "code",
      "metadata": {
        "id": "j6SuhArN3GJG",
        "colab_type": "code",
        "colab": {}
      },
      "source": [
        "max_dist = 80.\n",
        "cluster_labels = fcluster(Z, max_dist, criterion='distance')\n",
        "tfidflabels = pd.DataFrame(cluster_labels, columns=['clusterlabeltfidf'])\n",
        "#pd.concat([corpus_df, cluster_labels], axis=1)"
      ],
      "execution_count": 0,
      "outputs": []
    },
    {
      "cell_type": "code",
      "metadata": {
        "id": "RPdEq-uQ3IvN",
        "colab_type": "code",
        "colab": {
          "base_uri": "https://localhost:8080/",
          "height": 83
        },
        "outputId": "0ae1a533-d578-46e2-b659-1320cc2154af"
      },
      "source": [
        "catdf = pd.concat([df, tfidflabels], axis=1)\n",
        "print(len(catdf[(catdf['Food Safety Issue']==0) & (catdf.clusterlabeltfidf==1)]))\n",
        "print(len(catdf[(catdf['Food Safety Issue']==0) & (catdf.clusterlabeltfidf==2)]))\n",
        "print(len(catdf[(catdf['Food Safety Issue']==1) & (catdf.clusterlabeltfidf==1)]))\n",
        "print(len(catdf[(catdf['Food Safety Issue']==1) & (catdf.clusterlabeltfidf==2)]))"
      ],
      "execution_count": 42,
      "outputs": [
        {
          "output_type": "stream",
          "text": [
            "2\n",
            "510\n",
            "51\n",
            "3206\n"
          ],
          "name": "stdout"
        }
      ]
    },
    {
      "cell_type": "markdown",
      "metadata": {
        "id": "7ClYZik33MBN",
        "colab_type": "text"
      },
      "source": [
        "#add LDA (too slow)"
      ]
    },
    {
      "cell_type": "code",
      "metadata": {
        "id": "YtCBDcQZ3KgQ",
        "colab_type": "code",
        "colab": {}
      },
      "source": [
        "#from sklearn.decomposition import LatentDirichletAllocation\n",
        "#lda = LatentDirichletAllocation(n_topics=2, max_iter=10000, random_state=0) \n",
        "#dt_matrix = lda.fit_transform(cv_matrix) \n",
        "#features = pd.DataFrame(dt_matrix, columns=['T1', 'T2']) \n",
        "#catdf_lda = pd.concat([df, features], axis=1) \n",
        "#rint(catdf_lda['T1'].groupby('Food Safety Issue').mean()) \n",
        "#print(catdf_lda['T2'].groupby('Food Safety Issue').mean())"
      ],
      "execution_count": 0,
      "outputs": []
    },
    {
      "cell_type": "markdown",
      "metadata": {
        "id": "vsms0p083XAy",
        "colab_type": "text"
      },
      "source": [
        "#training, test split"
      ]
    },
    {
      "cell_type": "code",
      "metadata": {
        "id": "ouH0ymTJ3UzA",
        "colab_type": "code",
        "colab": {}
      },
      "source": [
        "y = df2['Food Safety Issue']\n",
        "X = df2.drop(['ID','Product ASIN','Food Safety Issue','Review Text', 'Review Title', '@product.brand','@product.countryOfOrigin', 'Timestamp', 'Product Title (Analyzed)','text2vec','title2vec','timezero'], axis=1)"
      ],
      "execution_count": 0,
      "outputs": []
    },
    {
      "cell_type": "code",
      "metadata": {
        "id": "5cuQ99Jh3ZaA",
        "colab_type": "code",
        "colab": {}
      },
      "source": [
        "text2vec_fts = ['text' + str(i+1) for i in range(300)]\n",
        "title2vec_fts = ['title' + str(i+1) for i in range(300)]\n",
        "prod2vec_fts = ['e' + str(i+1) for i in range(128)]"
      ],
      "execution_count": 0,
      "outputs": []
    },
    {
      "cell_type": "code",
      "metadata": {
        "id": "r9NPooFe3cqI",
        "colab_type": "code",
        "colab": {}
      },
      "source": [
        "X = pd.concat([X, tfidflabels], axis=1)"
      ],
      "execution_count": 0,
      "outputs": []
    },
    {
      "cell_type": "code",
      "metadata": {
        "id": "Ln4WF8Eg3di_",
        "colab_type": "code",
        "colab": {
          "base_uri": "https://localhost:8080/",
          "height": 133
        },
        "outputId": "e18e8590-1a97-4d53-80c3-5d6a0c551a24"
      },
      "source": [
        "X.columns"
      ],
      "execution_count": 47,
      "outputs": [
        {
          "output_type": "execute_result",
          "data": {
            "text/plain": [
              "Index(['Review star rating', '@nlp.sentenceCount', 'Product Width',\n",
              "       'Product Length', 'Product Height', 'missingorigin', 'missingwd',\n",
              "       'timedif', 'volumn', 'clusterlabelw2v',\n",
              "       ...\n",
              "       'title292', 'title293', 'title294', 'title295', 'title296', 'title297',\n",
              "       'title298', 'title299', 'title300', 'clusterlabeltfidf'],\n",
              "      dtype='object', length=611)"
            ]
          },
          "metadata": {
            "tags": []
          },
          "execution_count": 47
        }
      ]
    },
    {
      "cell_type": "code",
      "metadata": {
        "id": "SlDBbXSA3eSh",
        "colab_type": "code",
        "colab": {}
      },
      "source": [
        "X['clusterlabelw2v'] = X['clusterlabelw2v'].apply(lambda x: 1 if x ==1 else 0)\n",
        "X['clusterlabeltfidf'] = X['clusterlabeltfidf'].apply(lambda x: 1 if x ==1 else 0)"
      ],
      "execution_count": 0,
      "outputs": []
    },
    {
      "cell_type": "code",
      "metadata": {
        "id": "2pVGwDr83fV8",
        "colab_type": "code",
        "colab": {}
      },
      "source": [
        "X1= pd.concat([X, bow], axis=1)\n",
        "X2= X.drop(title2vec_fts, axis=1)\n",
        "X3= X2.drop(text2vec_fts, axis=1)"
      ],
      "execution_count": 0,
      "outputs": []
    },
    {
      "cell_type": "code",
      "metadata": {
        "id": "XZSMw6kM3g4L",
        "colab_type": "code",
        "colab": {}
      },
      "source": [
        "X_train, X_test, y_train, y_test = train_test_split(X, y,  stratify=y, test_size=0.33, random_state=42)\n",
        "X1_train, X1_test, y1_train, y1_test = train_test_split(X1, y, stratify=y, test_size=0.33, random_state=42)\n",
        "X2_train, X2_test, y2_train, y2_test = train_test_split(X2, y, stratify=y, test_size=0.33, random_state=42)\n",
        "X3_train, X3_test, y3_train, y3_test = train_test_split(X3, y, stratify=y, test_size=0.33, random_state=42)"
      ],
      "execution_count": 0,
      "outputs": []
    },
    {
      "cell_type": "code",
      "metadata": {
        "id": "fLu5K4tu3ic4",
        "colab_type": "code",
        "colab": {}
      },
      "source": [
        "from sklearn.impute import SimpleImputer\n",
        "#imputer = SimpleImputer(missing_values=np.nan, strategy='mean')\n",
        "\n",
        "#from sklearn.preprocessing import Imputer\n",
        "\t\n",
        "im = SimpleImputer(strategy = 'median')\n",
        "X_train = im.fit_transform(X_train)\n",
        "X_test = im.transform(X_test)\n",
        "im1 = SimpleImputer(strategy = 'median')\n",
        "X1_train = im1.fit_transform(X1_train)\n",
        "X1_test = im1.transform(X1_test)\n",
        "im2 = SimpleImputer(strategy = 'median')\n",
        "X2_train = im2.fit_transform(X2_train)\n",
        "X2_test = im2.transform(X2_test)\n",
        "im3 = SimpleImputer(strategy = 'median')\n",
        "X3_train = im3.fit_transform(X3_train)\n",
        "X3_test = im3.transform(X3_test)"
      ],
      "execution_count": 0,
      "outputs": []
    },
    {
      "cell_type": "markdown",
      "metadata": {
        "id": "wFhd-PAq3o-O",
        "colab_type": "text"
      },
      "source": [
        "# logistic regression"
      ]
    },
    {
      "cell_type": "code",
      "metadata": {
        "id": "7N7Qd5NE3loJ",
        "colab_type": "code",
        "colab": {}
      },
      "source": [
        "from sklearn.metrics import roc_auc_score"
      ],
      "execution_count": 0,
      "outputs": []
    },
    {
      "cell_type": "code",
      "metadata": {
        "id": "y6sf2V7z3p8M",
        "colab_type": "code",
        "colab": {
          "base_uri": "https://localhost:8080/",
          "height": 183
        },
        "outputId": "8d2f5059-e556-489a-f185-586bdd159453"
      },
      "source": [
        "lr = LogisticRegression(penalty='l2')\n",
        "lr.fit(X_train,y_train)\n",
        "print('training auc with set set 0 features:{}'.format(roc_auc_score(y_train, lr.predict_proba(X_train)[:,1])))\n",
        "print('test auc with set set 0 features:{}'.format(roc_auc_score(y_test, lr.predict_proba(X_test)[:,1])))"
      ],
      "execution_count": 58,
      "outputs": [
        {
          "output_type": "stream",
          "text": [
            "training auc with set set 0 features:0.66977296352612\n",
            "test auc with set set 0 features:0.6961166918948672\n"
          ],
          "name": "stdout"
        },
        {
          "output_type": "stream",
          "text": [
            "/usr/local/lib/python3.6/dist-packages/sklearn/linear_model/_logistic.py:764: ConvergenceWarning: lbfgs failed to converge (status=1):\n",
            "STOP: TOTAL NO. of ITERATIONS REACHED LIMIT.\n",
            "\n",
            "Increase the number of iterations (max_iter) or scale the data as shown in:\n",
            "    https://scikit-learn.org/stable/modules/preprocessing.html\n",
            "Please also refer to the documentation for alternative solver options:\n",
            "    https://scikit-learn.org/stable/modules/linear_model.html#logistic-regression\n",
            "  extra_warning_msg=_LOGISTIC_SOLVER_CONVERGENCE_MSG)\n"
          ],
          "name": "stderr"
        }
      ]
    },
    {
      "cell_type": "code",
      "metadata": {
        "id": "AZKNMVve3rp1",
        "colab_type": "code",
        "colab": {
          "base_uri": "https://localhost:8080/",
          "height": 183
        },
        "outputId": "48a1e1c2-1e65-4142-9579-af9cc2fd1d7e"
      },
      "source": [
        "lr1 = LogisticRegression(penalty='l2')\n",
        "lr1.fit(X1_train,y1_train)\n",
        "print('training auc with set set 1 features:{}'.format(roc_auc_score(y1_train, lr1.predict_proba(X1_train)[:,1])))\n",
        "print('test auc with set set 1 features:{}'.format(roc_auc_score(y1_test, lr1.predict_proba(X1_test)[:,1])))"
      ],
      "execution_count": 60,
      "outputs": [
        {
          "output_type": "stream",
          "text": [
            "training auc with set set 1 features:0.7918919171701677\n",
            "test auc with set set 1 features:0.675024081464153\n"
          ],
          "name": "stdout"
        },
        {
          "output_type": "stream",
          "text": [
            "/usr/local/lib/python3.6/dist-packages/sklearn/linear_model/_logistic.py:764: ConvergenceWarning: lbfgs failed to converge (status=1):\n",
            "STOP: TOTAL NO. of ITERATIONS REACHED LIMIT.\n",
            "\n",
            "Increase the number of iterations (max_iter) or scale the data as shown in:\n",
            "    https://scikit-learn.org/stable/modules/preprocessing.html\n",
            "Please also refer to the documentation for alternative solver options:\n",
            "    https://scikit-learn.org/stable/modules/linear_model.html#logistic-regression\n",
            "  extra_warning_msg=_LOGISTIC_SOLVER_CONVERGENCE_MSG)\n"
          ],
          "name": "stderr"
        }
      ]
    },
    {
      "cell_type": "code",
      "metadata": {
        "id": "Pp7Vjhl-3tb7",
        "colab_type": "code",
        "colab": {
          "base_uri": "https://localhost:8080/",
          "height": 183
        },
        "outputId": "d146a3de-69c0-4571-f6fb-bce76e4a0f22"
      },
      "source": [
        "lr2 = LogisticRegression(penalty='l2')\n",
        "lr2.fit(X2_train,y2_train)\n",
        "print('training auc with set set 2 features:{}'.format(roc_auc_score(y2_train, lr2.predict_proba(X2_train)[:,1])))\n",
        "print('test auc with set set 2 features:{}'.format(roc_auc_score(y2_test, lr2.predict_proba(X2_test)[:,1])))"
      ],
      "execution_count": 61,
      "outputs": [
        {
          "output_type": "stream",
          "text": [
            "training auc with set set 2 features:0.6338869841507377\n",
            "test auc with set set 2 features:0.6821356818494565\n"
          ],
          "name": "stdout"
        },
        {
          "output_type": "stream",
          "text": [
            "/usr/local/lib/python3.6/dist-packages/sklearn/linear_model/_logistic.py:764: ConvergenceWarning: lbfgs failed to converge (status=1):\n",
            "STOP: TOTAL NO. of ITERATIONS REACHED LIMIT.\n",
            "\n",
            "Increase the number of iterations (max_iter) or scale the data as shown in:\n",
            "    https://scikit-learn.org/stable/modules/preprocessing.html\n",
            "Please also refer to the documentation for alternative solver options:\n",
            "    https://scikit-learn.org/stable/modules/linear_model.html#logistic-regression\n",
            "  extra_warning_msg=_LOGISTIC_SOLVER_CONVERGENCE_MSG)\n"
          ],
          "name": "stderr"
        }
      ]
    },
    {
      "cell_type": "code",
      "metadata": {
        "id": "PDkZG45g3vEe",
        "colab_type": "code",
        "colab": {
          "base_uri": "https://localhost:8080/",
          "height": 183
        },
        "outputId": "b1c45eec-77bd-4f26-9eda-4d8a7f183956"
      },
      "source": [
        "lr3 = LogisticRegression(penalty='l2')\n",
        "lr3.fit(X3_train,y3_train)\n",
        "print('training auc with set set 3 features:{}'.format(roc_auc_score(y3_train, lr3.predict_proba(X3_train)[:,1])))\n",
        "print('test auc with set set 3 features:{}'.format(roc_auc_score(y3_test, lr3.predict_proba(X3_test)[:,1])))"
      ],
      "execution_count": 62,
      "outputs": [
        {
          "output_type": "stream",
          "text": [
            "training auc with set set 3 features:0.6034537816697978\n",
            "test auc with set set 3 features:0.6497591853584699\n"
          ],
          "name": "stdout"
        },
        {
          "output_type": "stream",
          "text": [
            "/usr/local/lib/python3.6/dist-packages/sklearn/linear_model/_logistic.py:764: ConvergenceWarning: lbfgs failed to converge (status=1):\n",
            "STOP: TOTAL NO. of ITERATIONS REACHED LIMIT.\n",
            "\n",
            "Increase the number of iterations (max_iter) or scale the data as shown in:\n",
            "    https://scikit-learn.org/stable/modules/preprocessing.html\n",
            "Please also refer to the documentation for alternative solver options:\n",
            "    https://scikit-learn.org/stable/modules/linear_model.html#logistic-regression\n",
            "  extra_warning_msg=_LOGISTIC_SOLVER_CONVERGENCE_MSG)\n"
          ],
          "name": "stderr"
        }
      ]
    },
    {
      "cell_type": "markdown",
      "metadata": {
        "id": "gn5Fel9g3yNt",
        "colab_type": "text"
      },
      "source": [
        "#SVC (too slow)"
      ]
    },
    {
      "cell_type": "code",
      "metadata": {
        "id": "9_ko0ZAZ3w3A",
        "colab_type": "code",
        "colab": {
          "base_uri": "https://localhost:8080/",
          "height": 128
        },
        "outputId": "c266462b-f6f9-481a-954a-87198c08838e"
      },
      "source": [
        "svc = SVC(probability=True, kernel='linear') \n",
        "svc.fit(X_train,y_train) \n",
        "print('training auc with set set 0 features:{}'.format(roc_auc_score(y_train, svc.predict_proba(X_train)[:,1]))) \n",
        "print('test auc with set set 0 features:{}'.format(roc_auc_score(y_test, svc.predict_proba(X_test)[:,1])))\n",
        "\n",
        "svc1 = SVC() svc1.fit(X1_train,y1_train) \n",
        "print('training auc with set set 1 features:{}'.format(roc_auc_score(y1_train, svc1.predict_proba(X1_train)[:,1]))) \n",
        "print('test auc with set set 1 features:{}'.format(roc_auc_score(y1_test, svc1.predict_proba(X1_test)[:,1])))\n",
        "\n",
        "svc2 = SVC() svc2.fit(X2_train,y2_train) \n",
        "print('training auc with set set 2 features:{}'.format(roc_auc_score(y2_train, svc2.predict_proba(X2_train)[:,1]))) \n",
        "print('test auc with set set 2 features:{}'.format(roc_auc_score(y2_test, svc2.predict_proba(X2_test)[:,1])))\n",
        "\n",
        "svc3 = SVC() svc3.fit(X3_train,y3_train) \n",
        "print('training auc with set set 3 features:{}'.format(roc_auc_score(y3_train, svc3.predict_proba(X3_train)[:,1]))) \n",
        "print('test auc with set set 3 features:{}'.format(roc_auc_score(y3_test, svc3.predict_proba(X3_test)[:,1])))"
      ],
      "execution_count": 83,
      "outputs": [
        {
          "output_type": "error",
          "ename": "SyntaxError",
          "evalue": "ignored",
          "traceback": [
            "\u001b[0;36m  File \u001b[0;32m\"<ipython-input-83-526de08a64ff>\"\u001b[0;36m, line \u001b[0;32m6\u001b[0m\n\u001b[0;31m    svc1 = SVC() svc1.fit(X1_train,y1_train)\u001b[0m\n\u001b[0m                    ^\u001b[0m\n\u001b[0;31mSyntaxError\u001b[0m\u001b[0;31m:\u001b[0m invalid syntax\n"
          ]
        }
      ]
    },
    {
      "cell_type": "markdown",
      "metadata": {
        "id": "ftUDVKtP35X9",
        "colab_type": "text"
      },
      "source": [
        "#Random Forest\n"
      ]
    },
    {
      "cell_type": "code",
      "metadata": {
        "id": "1nbX2HuA337k",
        "colab_type": "code",
        "colab": {
          "base_uri": "https://localhost:8080/",
          "height": 50
        },
        "outputId": "78f21999-ff44-4042-a61c-ed33bfef3e01"
      },
      "source": [
        "rf = RandomForestClassifier(max_depth=2, n_estimators=100)\n",
        "rf.fit(X_train,y_train)\n",
        "print('training auc with set set 0 features:{}'.format(roc_auc_score(y_train, rf.predict_proba(X_train)[:,1])))\n",
        "print('test auc with set set 0 features:{}'.format(roc_auc_score(y_test, rf.predict_proba(X_test)[:, 1])))"
      ],
      "execution_count": 64,
      "outputs": [
        {
          "output_type": "stream",
          "text": [
            "training auc with set set 0 features:0.7901789889715215\n",
            "test auc with set set 0 features:0.6741103619100042\n"
          ],
          "name": "stdout"
        }
      ]
    },
    {
      "cell_type": "code",
      "metadata": {
        "id": "f5RpM5j037lY",
        "colab_type": "code",
        "colab": {
          "base_uri": "https://localhost:8080/",
          "height": 50
        },
        "outputId": "74d9ed12-23a9-40fe-8e60-7d449f21c3e7"
      },
      "source": [
        "rf1 = RandomForestClassifier(max_depth=2, n_estimators=100)\n",
        "rf1.fit(X1_train,y1_train)\n",
        "print('training auc with set set 0 features:{}'.format(roc_auc_score(y1_train, rf1.predict_proba(X1_train)[:,1])))\n",
        "print('test auc with set set 0 features:{}'.format(roc_auc_score(y1_test, rf1.predict_proba(X1_test)[:,1])))"
      ],
      "execution_count": 65,
      "outputs": [
        {
          "output_type": "stream",
          "text": [
            "training auc with set set 0 features:0.799173866220575\n",
            "test auc with set set 0 features:0.6620476124948397\n"
          ],
          "name": "stdout"
        }
      ]
    },
    {
      "cell_type": "code",
      "metadata": {
        "id": "P6_Dvsgz39IY",
        "colab_type": "code",
        "colab": {
          "base_uri": "https://localhost:8080/",
          "height": 50
        },
        "outputId": "8a9dbcf0-1a43-4189-c41f-459ccff3f69e"
      },
      "source": [
        "rf2 = RandomForestClassifier(max_depth=2, n_estimators=100)\n",
        "rf2.fit(X2_train,y2_train)\n",
        "print('training auc with set set 0 features:{}'.format(roc_auc_score(y2_train, rf2.predict_proba(X2_train)[:, 1])))\n",
        "print('test auc with set set 0 features:{}'.format(roc_auc_score(y2_test, rf2.predict_proba(X2_test)[:, 1])))"
      ],
      "execution_count": 66,
      "outputs": [
        {
          "output_type": "stream",
          "text": [
            "training auc with set set 0 features:0.7746604206695117\n",
            "test auc with set set 0 features:0.6857245080500893\n"
          ],
          "name": "stdout"
        }
      ]
    },
    {
      "cell_type": "code",
      "metadata": {
        "id": "BJem6qOC3-v-",
        "colab_type": "code",
        "colab": {
          "base_uri": "https://localhost:8080/",
          "height": 50
        },
        "outputId": "dacfae98-b859-45a8-a19f-f95399d6e69d"
      },
      "source": [
        "rf3 = RandomForestClassifier(max_depth=2, n_estimators=100)\n",
        "rf3.fit(X3_train,y3_train)\n",
        "print('training auc with set set 0 features:{}'.format(roc_auc_score(y3_train, rf3.predict_proba(X3_train)[:, 1])))\n",
        "print('test auc with set set 0 features:{}'.format(roc_auc_score(y3_test, rf3.predict_proba(X3_test)[:, 1])))"
      ],
      "execution_count": 67,
      "outputs": [
        {
          "output_type": "stream",
          "text": [
            "training auc with set set 0 features:0.6719749180279679\n",
            "test auc with set set 0 features:0.6782743910829778\n"
          ],
          "name": "stdout"
        }
      ]
    },
    {
      "cell_type": "markdown",
      "metadata": {
        "id": "kUvkUFQf4BvW",
        "colab_type": "text"
      },
      "source": [
        "# GBT"
      ]
    },
    {
      "cell_type": "code",
      "metadata": {
        "id": "NANhpe4q4AoV",
        "colab_type": "code",
        "colab": {}
      },
      "source": [
        "from sklearn.ensemble import GradientBoostingClassifier"
      ],
      "execution_count": 0,
      "outputs": []
    },
    {
      "cell_type": "code",
      "metadata": {
        "id": "Os3Gkv3w4DGL",
        "colab_type": "code",
        "colab": {
          "base_uri": "https://localhost:8080/",
          "height": 50
        },
        "outputId": "4249f823-e0e4-4ea8-ab57-6897e78c9996"
      },
      "source": [
        "gbt = GradientBoostingClassifier(max_depth=2, random_state=0)\n",
        "gbt.fit(X_train,y_train)\n",
        "print('training auc with set set 0 features:{}'.format(roc_auc_score(y_train, gbt.predict_proba(X_train)[:,1])))\n",
        "print('test auc with set set 0 features:{}'.format(roc_auc_score(y_test, gbt.predict_proba(X_test)[:, 1])))"
      ],
      "execution_count": 69,
      "outputs": [
        {
          "output_type": "stream",
          "text": [
            "training auc with set set 0 features:0.9505275070614864\n",
            "test auc with set set 0 features:0.657591853584698\n"
          ],
          "name": "stdout"
        }
      ]
    },
    {
      "cell_type": "code",
      "metadata": {
        "id": "cNapTvwV4EvE",
        "colab_type": "code",
        "colab": {
          "base_uri": "https://localhost:8080/",
          "height": 50
        },
        "outputId": "e48529d4-48ca-485f-8c97-1e00893b124b"
      },
      "source": [
        "gbt1 = GradientBoostingClassifier(max_depth=2, random_state=0)\n",
        "gbt1.fit(X1_train,y1_train)\n",
        "print('training auc with set set 0 features:{}'.format(roc_auc_score(y1_train, gbt1.predict_proba(X1_train)[:,1])))\n",
        "print('test auc with set set 0 features:{}'.format(roc_auc_score(y1_test, gbt1.predict_proba(X1_test)[:,1])))"
      ],
      "execution_count": 70,
      "outputs": [
        {
          "output_type": "stream",
          "text": [
            "training auc with set set 0 features:0.9272232658940228\n",
            "test auc with set set 0 features:0.6752359983486996\n"
          ],
          "name": "stdout"
        }
      ]
    },
    {
      "cell_type": "code",
      "metadata": {
        "id": "obVdAheo4GP0",
        "colab_type": "code",
        "colab": {
          "base_uri": "https://localhost:8080/",
          "height": 50
        },
        "outputId": "dd147b59-d678-45ff-e145-89f86fd187e6"
      },
      "source": [
        "gbt2 = GradientBoostingClassifier(max_depth=2, random_state=0)\n",
        "gbt2.fit(X2_train,y2_train)\n",
        "print('training auc with set set 0 features:{}'.format(roc_auc_score(y2_train, gbt2.predict_proba(X2_train)[:, 1])))\n",
        "print('test auc with set set 0 features:{}'.format(roc_auc_score(y2_test, gbt2.predict_proba(X2_test)[:, 1])))"
      ],
      "execution_count": 71,
      "outputs": [
        {
          "output_type": "stream",
          "text": [
            "training auc with set set 0 features:0.9366209885813694\n",
            "test auc with set set 0 features:0.6711765515343332\n"
          ],
          "name": "stdout"
        }
      ]
    },
    {
      "cell_type": "code",
      "metadata": {
        "id": "Ioc3noG84H23",
        "colab_type": "code",
        "colab": {
          "base_uri": "https://localhost:8080/",
          "height": 50
        },
        "outputId": "fe1e06c2-8c9b-4fc7-ea42-8f81a79fd010"
      },
      "source": [
        "gbt3 = GradientBoostingClassifier(max_depth=2, random_state=0)\n",
        "gbt3.fit(X3_train,y3_train)\n",
        "print('training auc with set set 0 features:{}'.format(roc_auc_score(y3_train, gbt3.predict_proba(X3_train)[:, 1])))\n",
        "print('test auc with set set 0 features:{}'.format(roc_auc_score(y3_test, gbt3.predict_proba(X3_test)[:, 1])))"
      ],
      "execution_count": 72,
      "outputs": [
        {
          "output_type": "stream",
          "text": [
            "training auc with set set 0 features:0.750381467239246\n",
            "test auc with set set 0 features:0.6385826338241365\n"
          ],
          "name": "stdout"
        }
      ]
    },
    {
      "cell_type": "markdown",
      "metadata": {
        "id": "Orbetp754Ky2",
        "colab_type": "text"
      },
      "source": [
        "# Predict"
      ]
    },
    {
      "cell_type": "code",
      "metadata": {
        "id": "S69Tu8lW4Js9",
        "colab_type": "code",
        "colab": {}
      },
      "source": [
        "tstdf = pd.read_csv('/content/drive/My Drive/Food_Safety_Amazon/public_test_features.csv', sep=None, header=0, index_col=False, parse_dates=['Timestamp'],engine='python')"
      ],
      "execution_count": 0,
      "outputs": []
    },
    {
      "cell_type": "code",
      "metadata": {
        "id": "vjPU-ThU4Vzf",
        "colab_type": "code",
        "colab": {}
      },
      "source": [
        "TextSentimentScores, TextIsOverallNeg = get_sentiment_scores_of_column(tstdf, 'Review Text')\n",
        "TitleSentimentScores, TitleIsOverallNeg = get_sentiment_scores_of_column(tstdf , 'Review Title')"
      ],
      "execution_count": 0,
      "outputs": []
    },
    {
      "cell_type": "code",
      "metadata": {
        "id": "IJTWBdWP4XCz",
        "colab_type": "code",
        "colab": {}
      },
      "source": [
        "tstdf['missingorigin'] = tstdf['@product.countryOfOrigin'].apply(lambda x: 1 if pd.isnull(x) else 0)\n",
        "tstdf['Product Width'].fillna(-1, inplace=True)\n",
        "tstdf['Product Height'].fillna(-1, inplace=True)\n",
        "tstdf['Product Length'].fillna(-1, inplace=True)\n",
        "tstdf['missingwd'] = tstdf.apply(lambda x: 1 if x['Product Width']+x['Product Length']+x['Product Height']==-1 else 0, axis=1)\n",
        "tstdf['timezero'] = pd.Timestamp('20170101')\n",
        "tstdf['timedif'] = (tstdf['Timestamp'] - tstdf['timezero']).apply(lambda x: x.days)\n",
        "#df['timedif'].head(5)\n",
        "tstdf['volumn'] = tstdf['Product Width'] * tstdf['Product Length'] * tstdf['Product Height']"
      ],
      "execution_count": 0,
      "outputs": []
    },
    {
      "cell_type": "code",
      "metadata": {
        "id": "D3-nXtP34Z9x",
        "colab_type": "code",
        "colab": {
          "base_uri": "https://localhost:8080/",
          "height": 50
        },
        "outputId": "6b2cab56-18dc-469f-9eca-742ec0af803e"
      },
      "source": [
        "tstdf['text2vec'] = tstdf['Review Text'].apply(word_vector)"
      ],
      "execution_count": 76,
      "outputs": [
        {
          "output_type": "stream",
          "text": [
            "/usr/local/lib/python3.6/dist-packages/numpy/core/fromnumeric.py:3335: RuntimeWarning: Mean of empty slice.\n",
            "  out=out, **kwargs)\n"
          ],
          "name": "stderr"
        }
      ]
    },
    {
      "cell_type": "code",
      "metadata": {
        "id": "-MxpIDK54bFI",
        "colab_type": "code",
        "colab": {}
      },
      "source": [
        "cluster1=np.mean(df2['text2vec'].loc[X['clusterlabelw2v']==1],axis=0)\n",
        "cluster0=np.mean(df2['text2vec'].loc[X['clusterlabelw2v']==0],axis=0)\n",
        "def w2vcluster(v):\n",
        "    #print(v)\n",
        "    if isinstance(v, np.ndarray):\n",
        "        sim1 = cosine_similarity(np.reshape(cluster1,(1,-1)), np.reshape(v,(1, -1)))\n",
        "        sim0 = cosine_similarity(np.reshape(cluster0,(1,-1)), np.reshape(v,(1, -1)))\n",
        "        return 1 if sim1 > sim0 else 0\n",
        "    return 1\n",
        "tstdf['clusterlabelw2v'] = tstdf['text2vec'].apply(w2vcluster)"
      ],
      "execution_count": 0,
      "outputs": []
    },
    {
      "cell_type": "code",
      "metadata": {
        "id": "aqUx_OFs4ebm",
        "colab_type": "code",
        "colab": {
          "base_uri": "https://localhost:8080/",
          "height": 50
        },
        "outputId": "a394aed6-f240-456f-8253-4df092a31f77"
      },
      "source": [
        "text_split = tstdf['text2vec'].apply(lambda x: pd.Series([x[i] if not isinstance(x,np.float64) else np.nan for i in range(300)]))\n",
        "text_split.rename(columns={i:'text' + str(i+1) for i in range(300)},inplace=True)\n",
        "tstdf1 = pd.concat([tstdf, text_split], axis=1)\n",
        "tstdf1['title2vec'] = tstdf1['Review Title'].apply(word_vector)\n",
        "title_split = tstdf1['title2vec'].apply(lambda x: pd.Series([x[i] if not isinstance(x,np.float64) else np.nan for i in range(300)]))\n",
        "title_split.rename(columns={i:'title' + str(i+1) for i in range(300)},inplace=True)\n",
        "tstdf2 = pd.concat([tstdf1, title_split], axis=1)"
      ],
      "execution_count": 78,
      "outputs": [
        {
          "output_type": "stream",
          "text": [
            "/usr/local/lib/python3.6/dist-packages/numpy/core/fromnumeric.py:3335: RuntimeWarning: Mean of empty slice.\n",
            "  out=out, **kwargs)\n"
          ],
          "name": "stderr"
        }
      ]
    },
    {
      "cell_type": "code",
      "metadata": {
        "id": "VosNFCUP4gve",
        "colab_type": "code",
        "colab": {}
      },
      "source": [
        "tfcluster1=np.mean(df2['text2vec'].loc[X['clusterlabeltfidf']==1],axis=0)\n",
        "tfcluster0=np.mean(df2['text2vec'].loc[X['clusterlabeltfidf']==0],axis=0)\n",
        "def tfidfcluster(v):\n",
        "    #print(v)\n",
        "    if isinstance(v, np.ndarray):\n",
        "        sim1 = cosine_similarity(np.reshape(tfcluster1,(1,-1)), np.reshape(v,(1, -1)))\n",
        "        sim0 = cosine_similarity(np.reshape(tfcluster0,(1,-1)), np.reshape(v,(1, -1)))\n",
        "        return 1 if sim1 > sim0 else 0\n",
        "    return 1\n",
        "tstdf2['clusterlabeltfidf'] = tstdf2['text2vec'].apply(tfidfcluster)"
      ],
      "execution_count": 0,
      "outputs": []
    },
    {
      "cell_type": "code",
      "metadata": {
        "id": "BH4p5Lte4j7r",
        "colab_type": "code",
        "colab": {}
      },
      "source": [
        "tstID = tstdf2['ID']\t\n",
        "tstX = tstdf2.drop(['ID','Product ASIN','Review Text', 'Review Title', '@product.brand','@product.countryOfOrigin', 'Timestamp', 'Product Title (Analyzed)','text2vec','title2vec','timezero'], axis=1)\n",
        "\n",
        "#tstX1= tstX.drop(prod2vec_fts, axis=1)\n",
        "tstX2= tstX.drop(title2vec_fts, axis=1)\n",
        "tstX3= tstX2.drop(text2vec_fts, axis=1)"
      ],
      "execution_count": 0,
      "outputs": []
    },
    {
      "cell_type": "code",
      "metadata": {
        "id": "BR0o1-Qd4mPn",
        "colab_type": "code",
        "colab": {}
      },
      "source": [
        "tstX = im.transform(tstX)\n",
        "tstX2 = im2.transform(tstX2)\n",
        "tstX3 = im3.transform(tstX3)"
      ],
      "execution_count": 0,
      "outputs": []
    },
    {
      "cell_type": "code",
      "metadata": {
        "id": "MUOLy3mq4ngo",
        "colab_type": "code",
        "colab": {}
      },
      "source": [
        "tstPred= gbt2.predict_proba(tstX2)[:, 1]\n",
        "results = ['ID,Food Safety Issue']\n",
        "for i in range(len(tstID)):\n",
        "    results.append(str(tstID[i]) + ',' + str(tstPred[i]))\n",
        "with open('test_scores_gbt2', 'w') as f:\n",
        "    for row in results:\n",
        "        f.write(\"%s\\n\" % row)"
      ],
      "execution_count": 0,
      "outputs": []
    },
    {
      "cell_type": "code",
      "metadata": {
        "id": "tGzKs6zY4qAV",
        "colab_type": "code",
        "colab": {}
      },
      "source": [
        ""
      ],
      "execution_count": 0,
      "outputs": []
    }
  ]
}